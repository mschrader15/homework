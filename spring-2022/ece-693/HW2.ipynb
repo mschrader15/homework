{
 "cells": [
  {
   "cell_type": "markdown",
   "metadata": {
    "colab_type": "text",
    "id": "view-in-github"
   },
   "source": [
    "<a href=\"https://colab.research.google.com/github/mschrader15/homework/blob/main/spring-2022/ece-693/HW2.ipynb\" target=\"_parent\"><img src=\"https://colab.research.google.com/assets/colab-badge.svg\" alt=\"Open In Colab\"/></a>"
   ]
  },
  {
   "cell_type": "markdown",
   "metadata": {
    "id": "ULMpD1zqAYP5"
   },
   "source": [
    "# Training Neural Networks with Keras\n",
    "\n",
    "### Goals: \n",
    "- Intro: train a neural network with `tensorflow` and the Keras layers\n",
    "\n",
    "### Dataset:\n",
    "- Digits: 10 class handwritten digits\n",
    "- http://scikit-learn.org/stable/modules/generated/sklearn.datasets.load_digits.html#sklearn.datasets.load_digits"
   ]
  },
  {
   "cell_type": "code",
   "execution_count": 1,
   "metadata": {
    "id": "acWKz6oLAYQP"
   },
   "outputs": [],
   "source": [
    "import matplotlib.pyplot as plt\n",
    "import numpy as np\n",
    "from sklearn.datasets import load_digits\n",
    "\n",
    "digits = load_digits()"
   ]
  },
  {
   "cell_type": "code",
   "execution_count": 2,
   "metadata": {
    "colab": {
     "base_uri": "https://localhost:8080/"
    },
    "id": "ibimwuh-AYQa",
    "outputId": "dbb06aa7-348c-4385-b454-08b34f0c6075"
   },
   "outputs": [
    {
     "data": {
      "text/plain": [
       "(1797, 8, 8)"
      ]
     },
     "execution_count": 2,
     "metadata": {},
     "output_type": "execute_result"
    }
   ],
   "source": [
    "digits.images.shape"
   ]
  },
  {
   "cell_type": "code",
   "execution_count": 3,
   "metadata": {
    "colab": {
     "base_uri": "https://localhost:8080/"
    },
    "id": "tyfpRIubAYQd",
    "outputId": "744ea973-d88b-4734-e1f6-bf69dbca1ca0"
   },
   "outputs": [
    {
     "data": {
      "text/plain": [
       "(1797, 64)"
      ]
     },
     "execution_count": 3,
     "metadata": {},
     "output_type": "execute_result"
    }
   ],
   "source": [
    "digits.data.shape"
   ]
  },
  {
   "cell_type": "code",
   "execution_count": 4,
   "metadata": {
    "colab": {
     "base_uri": "https://localhost:8080/"
    },
    "id": "pDGJOefSAYQg",
    "outputId": "ca48cd67-82a6-49c1-c90b-5b64b96d4e12"
   },
   "outputs": [
    {
     "data": {
      "text/plain": [
       "(1797,)"
      ]
     },
     "execution_count": 4,
     "metadata": {},
     "output_type": "execute_result"
    }
   ],
   "source": [
    "digits.target.shape"
   ]
  },
  {
   "cell_type": "code",
   "execution_count": 5,
   "metadata": {
    "colab": {
     "base_uri": "https://localhost:8080/",
     "height": 227
    },
    "id": "hix-Btp5AYQk",
    "outputId": "708bc21d-524b-4442-cbd9-c9d4267d7977"
   },
   "outputs": [
    {
     "data": {
      "image/png": "[encoded data removed]",
      "text/plain": [
       "<Figure size 216x216 with 1 Axes>"
      ]
     },
     "metadata": {
      "needs_background": "light"
     },
     "output_type": "display_data"
    }
   ],
   "source": [
    "sample_index = 45\n",
    "plt.figure(figsize=(3, 3))\n",
    "plt.imshow(digits.images[sample_index], cmap=plt.cm.gray_r,\n",
    "           interpolation='nearest')\n",
    "plt.title(\"image label: %d\" % digits.target[sample_index]);"
   ]
  },
  {
   "cell_type": "markdown",
   "metadata": {
    "id": "lKqmT4FcAYQo"
   },
   "source": [
    "## Train / Test Split\n",
    "\n",
    "Let's keep some held-out data to be able to measure the generalization performance of our model."
   ]
  },
  {
   "cell_type": "code",
   "execution_count": 6,
   "metadata": {
    "id": "2P7jP-3SAYQt"
   },
   "outputs": [],
   "source": [
    "from sklearn.model_selection import train_test_split\n",
    "\n",
    "\n",
    "data = np.asarray(digits.data, dtype='float32')\n",
    "target = np.asarray(digits.target, dtype='int32')\n",
    "\n",
    "X_train, X_test, y_train, y_test = train_test_split(\n",
    "    data, target, test_size=0.15, random_state=37)"
   ]
  },
  {
   "cell_type": "code",
   "execution_count": 7,
   "metadata": {
    "colab": {
     "base_uri": "https://localhost:8080/"
    },
    "id": "Ox-obLgBAYQ2",
    "outputId": "6bd84dc1-9a82-4e8a-f7ce-a73b2b98b320"
   },
   "outputs": [
    {
     "data": {
      "text/plain": [
       "(1527, 64)"
      ]
     },
     "execution_count": 7,
     "metadata": {},
     "output_type": "execute_result"
    }
   ],
   "source": [
    "X_train.shape"
   ]
  },
  {
   "cell_type": "code",
   "execution_count": 8,
   "metadata": {
    "colab": {
     "base_uri": "https://localhost:8080/"
    },
    "id": "4nJsOUJsAYQ7",
    "outputId": "ee9c0f40-f11b-4130-b458-6d233bc5ff20"
   },
   "outputs": [
    {
     "data": {
      "text/plain": [
       "(270, 64)"
      ]
     },
     "execution_count": 8,
     "metadata": {},
     "output_type": "execute_result"
    }
   ],
   "source": [
    "X_test.shape"
   ]
  },
  {
   "cell_type": "code",
   "execution_count": 9,
   "metadata": {
    "colab": {
     "base_uri": "https://localhost:8080/"
    },
    "id": "z8Al9FNVAYQ-",
    "outputId": "b95ec0fb-c612-4e96-fd57-b4259c75c326"
   },
   "outputs": [
    {
     "data": {
      "text/plain": [
       "(1527,)"
      ]
     },
     "execution_count": 9,
     "metadata": {},
     "output_type": "execute_result"
    }
   ],
   "source": [
    "y_train.shape"
   ]
  },
  {
   "cell_type": "code",
   "execution_count": 10,
   "metadata": {
    "colab": {
     "base_uri": "https://localhost:8080/"
    },
    "id": "0lfV2NQSAYRB",
    "outputId": "fc6ef56c-fc4b-4636-98fe-b6051404eff3"
   },
   "outputs": [
    {
     "data": {
      "text/plain": [
       "(270,)"
      ]
     },
     "execution_count": 10,
     "metadata": {},
     "output_type": "execute_result"
    }
   ],
   "source": [
    "y_test.shape"
   ]
  },
  {
   "cell_type": "markdown",
   "metadata": {
    "id": "lchIBvCMAYRG"
   },
   "source": [
    "## Preprocessing of the Input Data\n",
    "\n",
    "\n",
    "Make sure that all input variables are approximately on the same scale via input normalization:"
   ]
  },
  {
   "cell_type": "code",
   "execution_count": 11,
   "metadata": {
    "id": "wK3lyfypAYRJ"
   },
   "outputs": [],
   "source": [
    "from sklearn import preprocessing\n",
    "\n",
    "\n",
    "# mean = 0 ; standard deviation = 1.0\n",
    "scaler = preprocessing.StandardScaler()\n",
    "X_train = scaler.fit_transform(X_train)\n",
    "X_test = scaler.transform(X_test)\n",
    "\n",
    "# print(scaler.mean_)\n",
    "# print(scaler.scale_)"
   ]
  },
  {
   "cell_type": "code",
   "execution_count": 12,
   "metadata": {
    "colab": {
     "base_uri": "https://localhost:8080/"
    },
    "id": "zpOORGXTAYRN",
    "outputId": "a9a2c77b-bb34-49db-980a-eb0d933eed46"
   },
   "outputs": [
    {
     "data": {
      "text/plain": [
       "(1527, 64)"
      ]
     },
     "execution_count": 12,
     "metadata": {},
     "output_type": "execute_result"
    }
   ],
   "source": [
    "X_train.shape"
   ]
  },
  {
   "cell_type": "code",
   "execution_count": 13,
   "metadata": {
    "colab": {
     "base_uri": "https://localhost:8080/"
    },
    "id": "45lnOWa8AYRR",
    "outputId": "d71526bf-715f-48a2-b38e-b224b50978b7"
   },
   "outputs": [
    {
     "data": {
      "text/plain": [
       "array([ 0.00000000e+00,  1.82717315e-07,  1.44815475e-08, -3.13441575e-08,\n",
       "       -7.49449391e-09, -9.50473567e-09, -7.10805850e-08,  6.18783673e-08,\n",
       "       -3.06025143e-08,  1.31056055e-07,  3.27103429e-08, -3.59111163e-09,\n",
       "       -4.29372049e-09, -1.07733342e-08, -1.92827070e-08, -7.90239696e-08,\n",
       "        1.56408518e-07, -2.18589391e-09,  2.89630950e-08, -1.74090840e-08,\n",
       "        6.71381741e-08,  5.87068669e-08, -9.85213617e-08, -4.79598782e-07,\n",
       "       -2.98413561e-08, -4.19223234e-08, -1.82522143e-07,  1.79555570e-08,\n",
       "       -3.11294706e-08,  2.08440607e-08, -6.83091841e-08,  9.33420665e-07,\n",
       "        0.00000000e+00,  1.78774897e-08,  1.50670544e-07, -3.45839659e-08,\n",
       "       -1.02463780e-08, -3.66137236e-08, -5.67551766e-08,  0.00000000e+00,\n",
       "       -2.17120757e-07, -6.30981702e-08, -1.81116935e-08, -2.62307278e-08,\n",
       "       -7.95509294e-08, -1.95169103e-09, -8.23613622e-09,  4.77871538e-08,\n",
       "       -1.66303593e-07, -1.25688899e-07, -2.30299548e-08, -1.13198082e-08,\n",
       "        2.51387576e-07, -9.99265826e-09,  3.74724678e-08, -1.85410653e-09,\n",
       "        2.62295089e-07, -8.66550849e-08,  1.06952669e-08,  1.99462828e-08,\n",
       "        4.32494751e-08,  1.00551127e-07, -1.32480793e-07, -7.56280301e-08],\n",
       "      dtype=float32)"
      ]
     },
     "execution_count": 13,
     "metadata": {},
     "output_type": "execute_result"
    }
   ],
   "source": [
    "X_train.mean(axis=0)"
   ]
  },
  {
   "cell_type": "code",
   "execution_count": 14,
   "metadata": {
    "colab": {
     "base_uri": "https://localhost:8080/"
    },
    "id": "PDH8NcRjAYRT",
    "outputId": "b248eb37-efb9-4c4b-84b1-efe156d9b6de"
   },
   "outputs": [
    {
     "data": {
      "text/plain": [
       "array([0.        , 0.99999774, 0.9999994 , 1.0000005 , 0.9999989 ,\n",
       "       0.9999988 , 1.0000077 , 0.9999965 , 1.0000098 , 0.9999947 ,\n",
       "       1.0000007 , 0.9999992 , 0.9999999 , 0.99999684, 0.9999984 ,\n",
       "       0.99999887, 0.9999969 , 1.000001  , 1.0000002 , 1.0000025 ,\n",
       "       0.99999905, 1.000004  , 1.0000008 , 0.9999972 , 0.9999967 ,\n",
       "       0.99999726, 1.        , 1.0000007 , 1.0000029 , 0.9999996 ,\n",
       "       0.99999696, 1.0000001 , 0.        , 1.0000007 , 1.0000023 ,\n",
       "       0.9999993 , 0.9999994 , 0.9999997 , 0.9999955 , 0.        ,\n",
       "       0.9999891 , 0.99999785, 1.0000032 , 0.9999999 , 0.99999756,\n",
       "       1.000001  , 0.999996  , 0.9999987 , 1.0000006 , 0.9999936 ,\n",
       "       1.0000038 , 1.0000004 , 1.0000012 , 0.999997  , 0.99999785,\n",
       "       0.9999988 , 0.9999857 , 1.0000073 , 0.9999967 , 1.0000031 ,\n",
       "       0.9999993 , 1.        , 0.999996  , 0.9999977 ], dtype=float32)"
      ]
     },
     "execution_count": 14,
     "metadata": {},
     "output_type": "execute_result"
    }
   ],
   "source": [
    "X_train.std(axis=0)"
   ]
  },
  {
   "cell_type": "markdown",
   "metadata": {
    "id": "C-6lb1RTAYRV"
   },
   "source": [
    "Let's display the one of the transformed sample (after feature standardization):"
   ]
  },
  {
   "cell_type": "code",
   "execution_count": 15,
   "metadata": {
    "colab": {
     "base_uri": "https://localhost:8080/",
     "height": 242
    },
    "id": "i8c9FKKzAYRX",
    "outputId": "8a799e0b-6cf0-4211-a36e-f077e1e68164"
   },
   "outputs": [
    {
     "data": {
      "image/png": "[encoded data removed]",
      "text/plain": [
       "<Figure size 216x216 with 1 Axes>"
      ]
     },
     "metadata": {
      "needs_background": "light"
     },
     "output_type": "display_data"
    }
   ],
   "source": [
    "sample_index = 45\n",
    "plt.figure(figsize=(3, 3))\n",
    "plt.imshow(X_train[sample_index].reshape(8, 8),\n",
    "           cmap=plt.cm.gray_r, interpolation='nearest')\n",
    "plt.title(\"transformed sample\\n(standardization)\");"
   ]
  },
  {
   "cell_type": "markdown",
   "metadata": {
    "id": "-bhMFxCoAYRu"
   },
   "source": [
    "## Preprocessing of the Target Data\n",
    "\n",
    "\n",
    "To train a first neural network we also need to turn the target variable into a vector \"one-hot-encoding\" representation. Here are the labels of the first samples in the training set encoded as integers:"
   ]
  },
  {
   "cell_type": "code",
   "execution_count": 16,
   "metadata": {
    "colab": {
     "base_uri": "https://localhost:8080/"
    },
    "id": "eUX4nPfjAYRv",
    "outputId": "74a16b3d-c33f-414c-e3ed-252b552ef442"
   },
   "outputs": [
    {
     "data": {
      "text/plain": [
       "array([2, 9, 5], dtype=int32)"
      ]
     },
     "execution_count": 16,
     "metadata": {},
     "output_type": "execute_result"
    }
   ],
   "source": [
    "y_train[:3]"
   ]
  },
  {
   "cell_type": "markdown",
   "metadata": {
    "id": "dFgfcIDTAYRx"
   },
   "source": [
    "Keras provides a utility function to convert integer-encoded categorical variables as one-hot encoded values:"
   ]
  },
  {
   "cell_type": "code",
   "execution_count": 17,
   "metadata": {
    "colab": {
     "base_uri": "https://localhost:8080/"
    },
    "id": "AsltdKsoAYR0",
    "outputId": "f8d5253c-705d-4f2a-bc0a-e596f4b2b19f"
   },
   "outputs": [
    {
     "data": {
      "text/plain": [
       "array([[0., 0., 1., 0., 0., 0., 0., 0., 0., 0.],\n",
       "       [0., 0., 0., 0., 0., 0., 0., 0., 0., 1.],\n",
       "       [0., 0., 0., 0., 0., 1., 0., 0., 0., 0.]], dtype=float32)"
      ]
     },
     "execution_count": 17,
     "metadata": {},
     "output_type": "execute_result"
    }
   ],
   "source": [
    "from tensorflow.keras.utils import to_categorical\n",
    "\n",
    "Y_train = to_categorical(y_train)\n",
    "Y_train[:3]"
   ]
  },
  {
   "cell_type": "code",
   "execution_count": 18,
   "metadata": {
    "colab": {
     "base_uri": "https://localhost:8080/"
    },
    "id": "hR9Ny_oMAYR2",
    "outputId": "9019a8b3-a5ef-4ce1-d363-e1fde03e1a58"
   },
   "outputs": [
    {
     "data": {
      "text/plain": [
       "(1527, 10)"
      ]
     },
     "execution_count": 18,
     "metadata": {},
     "output_type": "execute_result"
    }
   ],
   "source": [
    "Y_train.shape"
   ]
  },
  {
   "cell_type": "markdown",
   "metadata": {
    "id": "w974T5dBAYR4"
   },
   "source": [
    "## Feed Forward Neural Networks with Keras\n",
    "\n",
    "Objectives of this section:\n",
    "\n",
    "- Build and train a first feedforward network using `Keras`\n",
    "    - https://www.tensorflow.org/guide/keras/overview\n",
    "- Experiment with different optimizers, activations, size of layers, initializations\n",
    "\n",
    "### A First Keras Model"
   ]
  },
  {
   "cell_type": "markdown",
   "metadata": {
    "id": "Opms8MyEAYR6"
   },
   "source": [
    "We can now build an train a our first feed forward neural network using the high level API from keras:\n",
    "\n",
    "- first we define the model by stacking layers with the right dimensions\n",
    "- then we define a loss function and plug the SGD optimizer\n",
    "- then we feed the model the training data for fixed number of epochs"
   ]
  },
  {
   "cell_type": "code",
   "execution_count": 19,
   "metadata": {
    "colab": {
     "base_uri": "https://localhost:8080/"
    },
    "id": "wIQscfyYAYR8",
    "outputId": "b32aa871-18fa-4bc8-8656-34ab7d5e673a"
   },
   "outputs": [
    {
     "name": "stderr",
     "output_type": "stream",
     "text": [
      "2022-02-14 11:33:53.438655: W tensorflow/stream_executor/platform/default/dso_loader.cc:64] Could not load dynamic library 'libcufft.so.10'; dlerror: libcufft.so.10: cannot open shared object file: No such file or directory; LD_LIBRARY_PATH: /usr/local/cuda-11.0/targets/x86_64-linux/lib:/usr/lib/cuda/include:/usr/lib/cuda/lib64:/usr/share/lib\n",
      "2022-02-14 11:33:53.438727: W tensorflow/stream_executor/platform/default/dso_loader.cc:64] Could not load dynamic library 'libcurand.so.10'; dlerror: libcurand.so.10: cannot open shared object file: No such file or directory; LD_LIBRARY_PATH: /usr/local/cuda-11.0/targets/x86_64-linux/lib:/usr/lib/cuda/include:/usr/lib/cuda/lib64:/usr/share/lib\n",
      "2022-02-14 11:33:53.438794: W tensorflow/stream_executor/platform/default/dso_loader.cc:64] Could not load dynamic library 'libcusolver.so.11'; dlerror: libcusolver.so.11: cannot open shared object file: No such file or directory; LD_LIBRARY_PATH: /usr/local/cuda-11.0/targets/x86_64-linux/lib:/usr/lib/cuda/include:/usr/lib/cuda/lib64:/usr/share/lib\n",
      "2022-02-14 11:33:53.438848: W tensorflow/stream_executor/platform/default/dso_loader.cc:64] Could not load dynamic library 'libcusparse.so.11'; dlerror: libcusparse.so.11: cannot open shared object file: No such file or directory; LD_LIBRARY_PATH: /usr/local/cuda-11.0/targets/x86_64-linux/lib:/usr/lib/cuda/include:/usr/lib/cuda/lib64:/usr/share/lib\n",
      "2022-02-14 11:33:53.438958: W tensorflow/core/common_runtime/gpu/gpu_device.cc:1850] Cannot dlopen some GPU libraries. Please make sure the missing libraries mentioned above are installed properly if you would like to use GPU. Follow the guide at https://www.tensorflow.org/install/gpu for how to download and setup the required libraries for your platform.\n",
      "Skipping registering GPU devices...\n",
      "2022-02-14 11:33:53.439442: I tensorflow/core/platform/cpu_feature_guard.cc:151] This TensorFlow binary is optimized with oneAPI Deep Neural Network Library (oneDNN) to use the following CPU instructions in performance-critical operations:  AVX2 FMA\n",
      "To enable them in other operations, rebuild TensorFlow with the appropriate compiler flags.\n"
     ]
    },
    {
     "name": "stdout",
     "output_type": "stream",
     "text": [
      "Epoch 1/15\n",
      "39/39 [==============================] - 1s 8ms/step - loss: 0.9842 - accuracy: 0.7346 - val_loss: 0.4233 - val_accuracy: 0.9085\n",
      "Epoch 2/15\n",
      "39/39 [==============================] - 0s 2ms/step - loss: 0.3302 - accuracy: 0.9410 - val_loss: 0.2734 - val_accuracy: 0.9379\n",
      "Epoch 3/15\n",
      "39/39 [==============================] - 0s 1ms/step - loss: 0.2226 - accuracy: 0.9558 - val_loss: 0.2229 - val_accuracy: 0.9477\n",
      "Epoch 4/15\n",
      "39/39 [==============================] - 0s 1ms/step - loss: 0.1728 - accuracy: 0.9648 - val_loss: 0.1888 - val_accuracy: 0.9608\n",
      "Epoch 5/15\n",
      "39/39 [==============================] - 0s 2ms/step - loss: 0.1425 - accuracy: 0.9779 - val_loss: 0.1706 - val_accuracy: 0.9608\n",
      "Epoch 6/15\n",
      "39/39 [==============================] - 0s 1ms/step - loss: 0.1232 - accuracy: 0.9795 - val_loss: 0.1563 - val_accuracy: 0.9608\n",
      "Epoch 7/15\n",
      "39/39 [==============================] - 0s 1ms/step - loss: 0.1074 - accuracy: 0.9828 - val_loss: 0.1462 - val_accuracy: 0.9608\n",
      "Epoch 8/15\n",
      "39/39 [==============================] - 0s 2ms/step - loss: 0.0962 - accuracy: 0.9844 - val_loss: 0.1395 - val_accuracy: 0.9673\n",
      "Epoch 9/15\n",
      "39/39 [==============================] - 0s 1ms/step - loss: 0.0865 - accuracy: 0.9861 - val_loss: 0.1323 - val_accuracy: 0.9673\n",
      "Epoch 10/15\n",
      "39/39 [==============================] - 0s 2ms/step - loss: 0.0785 - accuracy: 0.9877 - val_loss: 0.1245 - val_accuracy: 0.9706\n",
      "Epoch 11/15\n",
      "39/39 [==============================] - 0s 2ms/step - loss: 0.0722 - accuracy: 0.9894 - val_loss: 0.1216 - val_accuracy: 0.9706\n",
      "Epoch 12/15\n",
      "39/39 [==============================] - 0s 2ms/step - loss: 0.0659 - accuracy: 0.9918 - val_loss: 0.1181 - val_accuracy: 0.9706\n",
      "Epoch 13/15\n",
      "39/39 [==============================] - 0s 2ms/step - loss: 0.0611 - accuracy: 0.9918 - val_loss: 0.1161 - val_accuracy: 0.9771\n",
      "Epoch 14/15\n",
      "39/39 [==============================] - 0s 2ms/step - loss: 0.0569 - accuracy: 0.9918 - val_loss: 0.1147 - val_accuracy: 0.9739\n",
      "Epoch 15/15\n",
      "39/39 [==============================] - 0s 2ms/step - loss: 0.0530 - accuracy: 0.9934 - val_loss: 0.1106 - val_accuracy: 0.9804\n"
     ]
    }
   ],
   "source": [
    "from tensorflow.keras.models import Sequential\n",
    "from tensorflow.keras.layers import Dense\n",
    "from tensorflow.keras import optimizers\n",
    "\n",
    "input_dim = X_train.shape[1]\n",
    "hidden_dim = 100\n",
    "output_dim = Y_train.shape[1]\n",
    "\n",
    "model = Sequential()\n",
    "model.add(Dense(hidden_dim, input_dim=input_dim, activation=\"tanh\"))\n",
    "model.add(Dense(output_dim, activation=\"softmax\"))\n",
    "\n",
    "model.compile(optimizer=optimizers.SGD(learning_rate=0.1),\n",
    "              loss='categorical_crossentropy', metrics=['accuracy'])\n",
    "\n",
    "history = model.fit(X_train, Y_train, validation_split=0.2, epochs=15, batch_size=32)"
   ]
  },
  {
   "cell_type": "markdown",
   "metadata": {
    "id": "_JN1RXL1AYTV"
   },
   "source": [
    "### Visualizing the Convergence\n",
    "\n",
    "Let's wrap the keras history info into a pandas dataframe for easier plotting:"
   ]
  },
  {
   "cell_type": "code",
   "execution_count": 20,
   "metadata": {
    "id": "Y6tsV1otAYTW"
   },
   "outputs": [],
   "source": [
    "import pandas as pd\n",
    "\n",
    "history_df = pd.DataFrame(history.history)\n",
    "history_df[\"epoch\"] = history.epoch"
   ]
  },
  {
   "cell_type": "code",
   "execution_count": 21,
   "metadata": {
    "colab": {
     "base_uri": "https://localhost:8080/",
     "height": 388
    },
    "id": "aSmurkPWAYTX",
    "outputId": "596718ff-f910-46c4-ec7f-34f4a418619f"
   },
   "outputs": [
    {
     "data": {
      "image/png": "[encoded data removed]",
      "text/plain": [
       "<Figure size 864x432 with 2 Axes>"
      ]
     },
     "metadata": {
      "needs_background": "light"
     },
     "output_type": "display_data"
    }
   ],
   "source": [
    "fig, (ax0, ax1) = plt.subplots(nrows=2, sharex=True, figsize=(12, 6))\n",
    "history_df.plot(x=\"epoch\", y=[\"loss\", \"val_loss\"], ax=ax0)\n",
    "history_df.plot(x=\"epoch\", y=[\"accuracy\", \"val_accuracy\"], ax=ax1);"
   ]
  },
  {
   "cell_type": "markdown",
   "metadata": {
    "id": "06OPJH-IAYTZ"
   },
   "source": [
    "### Monitoring Convergence with Tensorboard\n",
    "\n",
    "Tensorboard is a built-in neural network monitoring tool. "
   ]
  },
  {
   "cell_type": "code",
   "execution_count": 23,
   "metadata": {},
   "outputs": [],
   "source": [
    "import datetime\n",
    "timestamp =  datetime.datetime.now().strftime(\"%Y%m%d-%H%M%S\")\n",
    "log_dir = \"tensorboard_logs/\" + timestamp"
   ]
  },
  {
   "cell_type": "code",
   "execution_count": 24,
   "metadata": {
    "id": "fT8uevUlAYTa"
   },
   "outputs": [],
   "source": [
    "%load_ext tensorboard"
   ]
  },
  {
   "cell_type": "code",
   "execution_count": 25,
   "metadata": {
    "id": "sJ69CS_1AYTb"
   },
   "outputs": [],
   "source": [
    "!rm -rf log_dir"
   ]
  },
  {
   "cell_type": "code",
   "execution_count": 26,
   "metadata": {
    "colab": {
     "base_uri": "https://localhost:8080/"
    },
    "id": "8Qsm973LAYTd",
    "outputId": "acbd9078-7ee0-404f-c1f4-77ad97f02334"
   },
   "outputs": [
    {
     "name": "stdout",
     "output_type": "stream",
     "text": [
      "Epoch 1/15\n",
      "39/39 [==============================] - 0s 5ms/step - loss: 0.9455 - accuracy: 0.7420 - val_loss: 0.4064 - val_accuracy: 0.9216\n",
      "Epoch 2/15\n",
      "39/39 [==============================] - 0s 2ms/step - loss: 0.3332 - accuracy: 0.9296 - val_loss: 0.2594 - val_accuracy: 0.9477\n",
      "Epoch 3/15\n",
      "39/39 [==============================] - 0s 2ms/step - loss: 0.2272 - accuracy: 0.9550 - val_loss: 0.2089 - val_accuracy: 0.9477\n",
      "Epoch 4/15\n",
      "39/39 [==============================] - 0s 2ms/step - loss: 0.1762 - accuracy: 0.9681 - val_loss: 0.1775 - val_accuracy: 0.9608\n",
      "Epoch 5/15\n",
      "39/39 [==============================] - 0s 2ms/step - loss: 0.1483 - accuracy: 0.9746 - val_loss: 0.1590 - val_accuracy: 0.9575\n",
      "Epoch 6/15\n",
      "39/39 [==============================] - 0s 2ms/step - loss: 0.1260 - accuracy: 0.9746 - val_loss: 0.1442 - val_accuracy: 0.9641\n",
      "Epoch 7/15\n",
      "39/39 [==============================] - 0s 2ms/step - loss: 0.1105 - accuracy: 0.9762 - val_loss: 0.1320 - val_accuracy: 0.9706\n",
      "Epoch 8/15\n",
      "39/39 [==============================] - 0s 2ms/step - loss: 0.0988 - accuracy: 0.9812 - val_loss: 0.1250 - val_accuracy: 0.9706\n",
      "Epoch 9/15\n",
      "39/39 [==============================] - 0s 2ms/step - loss: 0.0884 - accuracy: 0.9836 - val_loss: 0.1199 - val_accuracy: 0.9739\n",
      "Epoch 10/15\n",
      "39/39 [==============================] - 0s 2ms/step - loss: 0.0810 - accuracy: 0.9869 - val_loss: 0.1154 - val_accuracy: 0.9739\n",
      "Epoch 11/15\n",
      "39/39 [==============================] - 0s 2ms/step - loss: 0.0733 - accuracy: 0.9869 - val_loss: 0.1105 - val_accuracy: 0.9706\n",
      "Epoch 12/15\n",
      "39/39 [==============================] - 0s 2ms/step - loss: 0.0677 - accuracy: 0.9885 - val_loss: 0.1082 - val_accuracy: 0.9706\n",
      "Epoch 13/15\n",
      "39/39 [==============================] - 0s 2ms/step - loss: 0.0624 - accuracy: 0.9885 - val_loss: 0.1058 - val_accuracy: 0.9706\n",
      "Epoch 14/15\n",
      "39/39 [==============================] - 0s 2ms/step - loss: 0.0578 - accuracy: 0.9902 - val_loss: 0.1024 - val_accuracy: 0.9739\n",
      "Epoch 15/15\n",
      "39/39 [==============================] - 0s 2ms/step - loss: 0.0539 - accuracy: 0.9926 - val_loss: 0.1003 - val_accuracy: 0.9706\n"
     ]
    }
   ],
   "source": [
    "from tensorflow.keras.callbacks import TensorBoard\n",
    "\n",
    "model = Sequential()\n",
    "model.add(Dense(hidden_dim, input_dim=input_dim, activation=\"tanh\"))\n",
    "model.add(Dense(output_dim, activation=\"softmax\"))\n",
    "\n",
    "model.compile(optimizer=optimizers.SGD(learning_rate=0.1),\n",
    "              loss='categorical_crossentropy', metrics=['accuracy'])\n",
    "\n",
    "\n",
    "tensorboard_callback = TensorBoard(log_dir=log_dir, histogram_freq=1)\n",
    "\n",
    "model.fit(x=X_train, y=Y_train, validation_split=0.2, epochs=15,\n",
    "          callbacks=[tensorboard_callback]);"
   ]
  },
  {
   "cell_type": "code",
   "execution_count": 32,
   "metadata": {
    "colab": {
     "base_uri": "https://localhost:8080/",
     "height": 822
    },
    "id": "h27ZSF1XAYTf",
    "outputId": "5e065e33-f2b3-4e42-bd3d-78f9c21caf1b"
   },
   "outputs": [
    {
     "data": {
      "text/plain": [
       "Reusing TensorBoard on port 6007 (pid 24385), started 0:32:35 ago. (Use '!kill 24385' to kill it.)"
      ]
     },
     "metadata": {},
     "output_type": "display_data"
    },
    {
     "data": {
      "text/html": [
       "\n",
       "      <iframe id=\"tensorboard-frame-8f223ed4988c87a1\" width=\"100%\" height=\"800\" frameborder=\"0\">\n",
       "      </iframe>\n",
       "      <script>\n",
       "        (function() {\n",
       "          const frame = document.getElementById(\"tensorboard-frame-8f223ed4988c87a1\");\n",
       "          const url = new URL(\"/\", window.location);\n",
       "          const port = 6007;\n",
       "          if (port) {\n",
       "            url.port = port;\n",
       "          }\n",
       "          frame.src = url;\n",
       "        })();\n",
       "      </script>\n",
       "    "
      ],
      "text/plain": [
       "<IPython.core.display.HTML object>"
      ]
     },
     "metadata": {},
     "output_type": "display_data"
    }
   ],
   "source": [
    "%tensorboard --logdir log_dir\n",
    "# notebook.display(port=6007, height=1000)"
   ]
  },
  {
   "cell_type": "code",
   "execution_count": null,
   "metadata": {},
   "outputs": [],
   "source": [
    "%{log_dir}"
   ]
  },
  {
   "cell_type": "code",
   "execution_count": null,
   "metadata": {},
   "outputs": [],
   "source": [
    "from tensorboard import notebook\n",
    "notebook.list() # View open TensorBoard instances"
   ]
  },
  {
   "cell_type": "code",
   "execution_count": null,
   "metadata": {},
   "outputs": [],
   "source": [
    "notebook.display(port=6010, height=1000)"
   ]
  },
  {
   "cell_type": "markdown",
   "metadata": {
    "id": "3RgFJFaxAYTh"
   },
   "source": [
    "### Questions: Impact of the Optimizer\n",
    "\n",
    "- Try to decrease the learning rate value by 10 or 100. What do you observe?\n",
    "\n",
    "- Try to increase the learning rate value to make the optimization diverge.\n",
    "\n",
    "- Configure the SGD optimizer to enable a Nesterov momentum of 0.9\n",
    "  \n",
    "**Notes**: \n",
    "\n",
    "The keras API documentation is available at:\n",
    "\n",
    "https://www.tensorflow.org/api_docs/python/tf/keras\n",
    "\n",
    "It is also possible to learn more about the parameters of a class by using the question mark: type and evaluate:\n",
    "\n",
    "```python\n",
    "optimizers.SGD?\n",
    "```\n",
    "\n",
    "in a jupyter notebook cell.\n",
    "\n",
    "It is also possible to type the beginning of a function call / constructor and type \"shift-tab\" after the opening paren:\n",
    "\n",
    "```python\n",
    "optimizers.SGD(<shiff-tab>\n",
    "```"
   ]
  },
  {
   "cell_type": "code",
   "execution_count": null,
   "metadata": {
    "id": "PB522_X_AYTj"
   },
   "outputs": [],
   "source": [
    "optimizers.SGD?"
   ]
  },
  {
   "cell_type": "code",
   "execution_count": null,
   "metadata": {
    "id": "l2OQ7L7jAYTk"
   },
   "outputs": [],
   "source": [
    "#your code here"
   ]
  },
  {
   "cell_type": "markdown",
   "metadata": {
    "id": "ACG75B9YAYTm"
   },
   "source": [
    "- Replace the SGD optimizer by the Adam optimizer from keras and run it\n",
    "  with the default parameters.\n",
    "\n",
    "  Hint: use `optimizers.<TAB>` to tab-complete the list of implemented optimizers in Keras.\n",
    "\n",
    "- Add another hidden layer and use the \"Rectified Linear Unit\" for each\n",
    "  hidden layer. Can you still train the model with Adam with its default global\n",
    "  learning rate?\n",
    "\n",
    "- Investigate training convergence by varying the number of hidden layers (1-10) and number of units in hidden layers (10 -100). Provide the analysis and your conclusions."
   ]
  },
  {
   "cell_type": "code",
   "execution_count": null,
   "metadata": {
    "id": "CxhNSY33AYTo"
   },
   "outputs": [],
   "source": [
    "#your code here"
   ]
  },
  {
   "cell_type": "markdown",
   "metadata": {
    "id": "-4-NeJEVAYTq"
   },
   "source": [
    "### Questions: Forward Pass and Generalization\n",
    "\n",
    "- Compute predictions on test set using `model.predict(...)`\n",
    "- Compute average accuracy of the model on the test set: the fraction of test samples for which the model makes a prediction that matches the true label."
   ]
  },
  {
   "cell_type": "code",
   "execution_count": null,
   "metadata": {
    "id": "zlOPbrc1AYTr"
   },
   "outputs": [],
   "source": [
    "# your code here"
   ]
  },
  {
   "cell_type": "markdown",
   "metadata": {
    "id": "hYyxj2ITAYTt"
   },
   "source": [
    "Let us decompose how we got the predictions. First, we call the model on the data to get the laster layer (softmax) outputs directly as a tensorflow Tensor:"
   ]
  },
  {
   "cell_type": "code",
   "execution_count": null,
   "metadata": {
    "id": "eicJljrJAYTv"
   },
   "outputs": [],
   "source": [
    "predictions_tf = model(X_test)\n",
    "predictions_tf[:5]"
   ]
  },
  {
   "cell_type": "code",
   "execution_count": null,
   "metadata": {
    "id": "k6EAAFXJAYTw"
   },
   "outputs": [],
   "source": [
    "type(predictions_tf), predictions_tf.shape"
   ]
  },
  {
   "cell_type": "markdown",
   "metadata": {
    "id": "cMVygjKHAYTy"
   },
   "source": [
    "We can use the tensorflow API to check that for each row, the probabilities sum to 1:"
   ]
  },
  {
   "cell_type": "code",
   "execution_count": null,
   "metadata": {
    "id": "Z-CQjT0wAYTz"
   },
   "outputs": [],
   "source": [
    "import tensorflow as tf\n",
    "\n",
    "tf.reduce_sum(predictions_tf, axis=1)[:5]"
   ]
  },
  {
   "cell_type": "markdown",
   "metadata": {
    "id": "KHK-kDXtAYT0"
   },
   "source": [
    "We can also extract the label with the highest probability using the tensorflow API:"
   ]
  },
  {
   "cell_type": "code",
   "execution_count": null,
   "metadata": {
    "id": "lpp-rep1AYT1"
   },
   "outputs": [],
   "source": [
    "predicted_labels_tf = tf.argmax(predictions_tf, axis=1)\n",
    "predicted_labels_tf[:5]"
   ]
  },
  {
   "cell_type": "markdown",
   "metadata": {
    "id": "OP_cANcuAYT3"
   },
   "source": [
    "We can compare those labels to the expected labels to compute the accuracy with the Tensorflow API. Note however that we need an explicit cast from boolean to floating point values to be able to compute the mean accuracy when using the tensorflow tensors:"
   ]
  },
  {
   "cell_type": "code",
   "execution_count": null,
   "metadata": {
    "id": "CW4BIteXAYT4"
   },
   "outputs": [],
   "source": [
    "accuracy_tf = tf.reduce_mean(tf.cast(predicted_labels_tf == y_test, tf.float64))\n",
    "accuracy_tf"
   ]
  },
  {
   "cell_type": "markdown",
   "metadata": {
    "id": "1p5Pe7dqAYT5"
   },
   "source": [
    "Also note that it is possible to convert tensors to numpy array if one prefer to use numpy:"
   ]
  },
  {
   "cell_type": "code",
   "execution_count": null,
   "metadata": {
    "id": "vCgobQQPAYT6"
   },
   "outputs": [],
   "source": [
    "accuracy_tf.numpy()"
   ]
  },
  {
   "cell_type": "code",
   "execution_count": null,
   "metadata": {
    "id": "HHD1CaoYAYT8"
   },
   "outputs": [],
   "source": [
    "predicted_labels_tf[:5]"
   ]
  },
  {
   "cell_type": "code",
   "execution_count": null,
   "metadata": {
    "id": "uI7eTCALAYT-"
   },
   "outputs": [],
   "source": [
    "predicted_labels_tf.numpy()[:5]"
   ]
  },
  {
   "cell_type": "code",
   "execution_count": null,
   "metadata": {
    "id": "cyWEOXSoAYUA"
   },
   "outputs": [],
   "source": [
    "(predicted_labels_tf.numpy() == y_test).mean()"
   ]
  },
  {
   "cell_type": "code",
   "execution_count": null,
   "metadata": {
    "id": "pANEMSTrt8vd"
   },
   "outputs": [],
   "source": []
  },
  {
   "cell_type": "markdown",
   "metadata": {
    "id": "bpNIUzW-AYUC"
   },
   "source": [
    "## Questions: Impact of Initialization\n",
    "\n",
    "Let us now study the impact of a bad initialization when training\n",
    "a deep feed forward network.\n",
    "\n",
    "By default Keras dense layers use the \"Glorot Uniform\" initialization\n",
    "strategy to initialize the weight matrices:\n",
    "\n",
    "- each weight coefficient is randomly sampled from [-scale, scale]\n",
    "- scale is proportional to $\\frac{1}{\\sqrt{n_{in} + n_{out}}}$\n",
    "\n",
    "This strategy is known to work well to initialize deep neural networks\n",
    "with \"tanh\" or \"relu\" activation functions and then trained with\n",
    "standard SGD.\n",
    "\n",
    "To assess the impact of initialization let us plug an alternative init\n",
    "scheme into a 2 hidden layers networks with \"tanh\" activations.\n",
    "For the sake of the example let's use normal distributed weights\n",
    "with a manually adjustable scale (standard deviation) and see the\n",
    "impact the scale value:"
   ]
  },
  {
   "cell_type": "code",
   "execution_count": null,
   "metadata": {
    "id": "FWZK8m31AYUD"
   },
   "outputs": [],
   "source": [
    "from tensorflow.keras import initializers\n",
    "\n",
    "normal_init = initializers.TruncatedNormal(stddev=0.01)\n",
    "\n",
    "\n",
    "model = Sequential()\n",
    "model.add(Dense(hidden_dim, input_dim=input_dim, activation=\"tanh\",\n",
    "                kernel_initializer=normal_init))\n",
    "model.add(Dense(hidden_dim, activation=\"tanh\",\n",
    "                kernel_initializer=normal_init))\n",
    "model.add(Dense(output_dim, activation=\"softmax\",\n",
    "                kernel_initializer=normal_init))\n",
    "\n",
    "model.compile(optimizer=optimizers.SGD(learning_rate=0.1),\n",
    "              loss='categorical_crossentropy', metrics=['accuracy'])"
   ]
  },
  {
   "cell_type": "code",
   "execution_count": null,
   "metadata": {
    "id": "B2jDua-LAYUF"
   },
   "outputs": [],
   "source": [
    "model.layers"
   ]
  },
  {
   "cell_type": "markdown",
   "metadata": {
    "id": "I29HtHKKAYUG"
   },
   "source": [
    "Let's have a look at the parameters of the first layer after initialization but before any training has happened:"
   ]
  },
  {
   "cell_type": "code",
   "execution_count": null,
   "metadata": {
    "id": "aT4LBLz5AYUH"
   },
   "outputs": [],
   "source": [
    "model.layers[0].weights"
   ]
  },
  {
   "cell_type": "code",
   "execution_count": null,
   "metadata": {
    "id": "jHGgDLSOAYUI"
   },
   "outputs": [],
   "source": [
    "w = model.layers[0].weights[0].numpy()\n",
    "w"
   ]
  },
  {
   "cell_type": "code",
   "execution_count": null,
   "metadata": {
    "id": "ec1d35DFAYUJ"
   },
   "outputs": [],
   "source": [
    "w.std()"
   ]
  },
  {
   "cell_type": "code",
   "execution_count": null,
   "metadata": {
    "id": "qaDS4ygHAYUK"
   },
   "outputs": [],
   "source": [
    "b = model.layers[0].weights[1].numpy()\n",
    "b"
   ]
  },
  {
   "cell_type": "code",
   "execution_count": null,
   "metadata": {
    "id": "rQpfxR6aAYUL"
   },
   "outputs": [],
   "source": [
    "history = model.fit(X_train, Y_train, epochs=15, batch_size=32)\n",
    "\n",
    "plt.figure(figsize=(12, 4))\n",
    "plt.plot(history.history['loss'], label=\"Truncated Normal init\")\n",
    "plt.legend();"
   ]
  },
  {
   "cell_type": "markdown",
   "metadata": {
    "id": "tXU7SlrDAYUM"
   },
   "source": [
    "Once the model has been fit, the weights have been updated and notably the biases are no longer 0:"
   ]
  },
  {
   "cell_type": "code",
   "execution_count": null,
   "metadata": {
    "id": "NLsniTziAYUN"
   },
   "outputs": [],
   "source": [
    "model.layers[0].weights"
   ]
  },
  {
   "cell_type": "markdown",
   "metadata": {
    "id": "O0rY-r39AYUT"
   },
   "source": [
    "#### Questions:\n",
    "\n",
    "- Try the following initialization schemes and see whether\n",
    "  the SGD algorithm can successfully train the network or\n",
    "  not:\n",
    "  \n",
    "  - a very small e.g. `stddev=1e-3`\n",
    "  - a larger scale e.g. `stddev=1` or `10`\n",
    "  - initialize all weights to 0 (constant initialization)\n",
    "  \n",
    "- What do you observe? Can you find an explanation for those\n",
    "  outcomes?\n",
    "\n",
    "- Are more advanced solvers such as SGD with momentum or Adam able\n",
    "  to deal better with such bad initializations?\n",
    "\n",
    "- Can you vary initialization and hyperparameters to demonstrate:\n",
    "  1. Exploding gradients?\n",
    "  2. Vanishing gradients?"
   ]
  },
  {
   "cell_type": "code",
   "execution_count": null,
   "metadata": {
    "id": "B0U_J8fEAYUV"
   },
   "outputs": [],
   "source": [
    "# your code here"
   ]
  },
  {
   "cell_type": "markdown",
   "metadata": {
    "id": "sGvEC8iXuDax"
   },
   "source": [
    "### Questions: K-fold validation\n",
    "\n",
    "- Implement training of the best architecture you found in the exercises above using K-fold validation. Provide graphs of the loss / accuracy metrics over training epochs. Estimate the number of epochs needed to train the model.\n",
    "- Demonstrate overfitting of the model during training. Compare the accuracy of the overfitted models with true accuracy."
   ]
  }
 ],
 "metadata": {
  "colab": {
   "collapsed_sections": [],
   "include_colab_link": true,
   "name": "HW2.ipynb",
   "provenance": []
  },
  "file_extension": ".py",
  "kernelspec": {
   "display_name": "max-homework",
   "language": "python",
   "name": "max-homework"
  },
  "language_info": {
   "codemirror_mode": {
    "name": "ipython",
    "version": 3
   },
   "file_extension": ".py",
   "mimetype": "text/x-python",
   "name": "python",
   "nbconvert_exporter": "python",
   "pygments_lexer": "ipython3",
   "version": "3.9.7"
  },
  "mimetype": "text/x-python",
  "name": "python",
  "npconvert_exporter": "python",
  "pygments_lexer": "ipython3",
  "toc": {
   "base_numbering": 1,
   "nav_menu": {},
   "number_sections": true,
   "sideBar": true,
   "skip_h1_title": false,
   "title_cell": "Table of Contents",
   "title_sidebar": "Contents",
   "toc_cell": false,
   "toc_position": {},
   "toc_section_display": true,
   "toc_window_display": false
  },
  "version": 3
 },
 "nbformat": 4,
 "nbformat_minor": 4
}
