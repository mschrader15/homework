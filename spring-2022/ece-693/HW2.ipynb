{
  "cells": [
    {
      "cell_type": "markdown",
      "metadata": {
        "id": "view-in-github",
        "colab_type": "text"
      },
      "source": [
        "<a href=\"https://colab.research.google.com/github/mschrader15/homework/blob/main/spring-2022/ece-693/HW2.ipynb\" target=\"_parent\"><img src=\"https://colab.research.google.com/assets/colab-badge.svg\" alt=\"Open In Colab\"/></a>"
      ]
    },
    {
      "cell_type": "markdown",
      "metadata": {
        "id": "ULMpD1zqAYP5"
      },
      "source": [
        "# Training Neural Networks with Keras\n",
        "\n",
        "### Goals: \n",
        "- Intro: train a neural network with `tensorflow` and the Keras layers\n",
        "\n",
        "### Dataset:\n",
        "- Digits: 10 class handwritten digits\n",
        "- http://scikit-learn.org/stable/modules/generated/sklearn.datasets.load_digits.html#sklearn.datasets.load_digits"
      ]
    },
    {
      "cell_type": "code",
      "execution_count": 1,
      "metadata": {
        "id": "acWKz6oLAYQP"
      },
      "outputs": [],
      "source": [
        "import matplotlib.pyplot as plt\n",
        "import numpy as np\n",
        "from sklearn.datasets import load_digits\n",
        "\n",
        "digits = load_digits()"
      ]
    },
    {
      "cell_type": "code",
      "execution_count": 2,
      "metadata": {
        "id": "ibimwuh-AYQa",
        "outputId": "dbb06aa7-348c-4385-b454-08b34f0c6075",
        "colab": {
          "base_uri": "https://localhost:8080/"
        }
      },
      "outputs": [
        {
          "output_type": "execute_result",
          "data": {
            "text/plain": [
              "(1797, 8, 8)"
            ]
          },
          "metadata": {},
          "execution_count": 2
        }
      ],
      "source": [
        "digits.images.shape"
      ]
    },
    {
      "cell_type": "code",
      "execution_count": 3,
      "metadata": {
        "id": "tyfpRIubAYQd",
        "outputId": "744ea973-d88b-4734-e1f6-bf69dbca1ca0",
        "colab": {
          "base_uri": "https://localhost:8080/"
        }
      },
      "outputs": [
        {
          "output_type": "execute_result",
          "data": {
            "text/plain": [
              "(1797, 64)"
            ]
          },
          "metadata": {},
          "execution_count": 3
        }
      ],
      "source": [
        "digits.data.shape"
      ]
    },
    {
      "cell_type": "code",
      "execution_count": 4,
      "metadata": {
        "id": "pDGJOefSAYQg",
        "outputId": "ca48cd67-82a6-49c1-c90b-5b64b96d4e12",
        "colab": {
          "base_uri": "https://localhost:8080/"
        }
      },
      "outputs": [
        {
          "output_type": "execute_result",
          "data": {
            "text/plain": [
              "(1797,)"
            ]
          },
          "metadata": {},
          "execution_count": 4
        }
      ],
      "source": [
        "digits.target.shape"
      ]
    },
    {
      "cell_type": "code",
      "execution_count": 5,
      "metadata": {
        "id": "hix-Btp5AYQk",
        "outputId": "708bc21d-524b-4442-cbd9-c9d4267d7977",
        "colab": {
          "base_uri": "https://localhost:8080/",
          "height": 227
        }
      },
      "outputs": [
        {
          "output_type": "display_data",
          "data": {
            "image/png": "[encoded data removed]",
            "text/plain": [
              "<Figure size 216x216 with 1 Axes>"
            ]
          },
          "metadata": {
            "needs_background": "light"
          }
        }
      ],
      "source": [
        "sample_index = 45\n",
        "plt.figure(figsize=(3, 3))\n",
        "plt.imshow(digits.images[sample_index], cmap=plt.cm.gray_r,\n",
        "           interpolation='nearest')\n",
        "plt.title(\"image label: %d\" % digits.target[sample_index]);"
      ]
    },
    {
      "cell_type": "markdown",
      "metadata": {
        "id": "lKqmT4FcAYQo"
      },
      "source": [
        "## Train / Test Split\n",
        "\n",
        "Let's keep some held-out data to be able to measure the generalization performance of our model."
      ]
    },
    {
      "cell_type": "code",
      "execution_count": 6,
      "metadata": {
        "id": "2P7jP-3SAYQt"
      },
      "outputs": [],
      "source": [
        "from sklearn.model_selection import train_test_split\n",
        "\n",
        "\n",
        "data = np.asarray(digits.data, dtype='float32')\n",
        "target = np.asarray(digits.target, dtype='int32')\n",
        "\n",
        "X_train, X_test, y_train, y_test = train_test_split(\n",
        "    data, target, test_size=0.15, random_state=37)"
      ]
    },
    {
      "cell_type": "code",
      "execution_count": 7,
      "metadata": {
        "id": "Ox-obLgBAYQ2",
        "outputId": "6bd84dc1-9a82-4e8a-f7ce-a73b2b98b320",
        "colab": {
          "base_uri": "https://localhost:8080/"
        }
      },
      "outputs": [
        {
          "output_type": "execute_result",
          "data": {
            "text/plain": [
              "(1527, 64)"
            ]
          },
          "metadata": {},
          "execution_count": 7
        }
      ],
      "source": [
        "X_train.shape"
      ]
    },
    {
      "cell_type": "code",
      "execution_count": 8,
      "metadata": {
        "id": "4nJsOUJsAYQ7",
        "outputId": "ee9c0f40-f11b-4130-b458-6d233bc5ff20",
        "colab": {
          "base_uri": "https://localhost:8080/"
        }
      },
      "outputs": [
        {
          "output_type": "execute_result",
          "data": {
            "text/plain": [
              "(270, 64)"
            ]
          },
          "metadata": {},
          "execution_count": 8
        }
      ],
      "source": [
        "X_test.shape"
      ]
    },
    {
      "cell_type": "code",
      "execution_count": 9,
      "metadata": {
        "id": "z8Al9FNVAYQ-",
        "outputId": "b95ec0fb-c612-4e96-fd57-b4259c75c326",
        "colab": {
          "base_uri": "https://localhost:8080/"
        }
      },
      "outputs": [
        {
          "output_type": "execute_result",
          "data": {
            "text/plain": [
              "(1527,)"
            ]
          },
          "metadata": {},
          "execution_count": 9
        }
      ],
      "source": [
        "y_train.shape"
      ]
    },
    {
      "cell_type": "code",
      "execution_count": 10,
      "metadata": {
        "id": "0lfV2NQSAYRB",
        "outputId": "fc6ef56c-fc4b-4636-98fe-b6051404eff3",
        "colab": {
          "base_uri": "https://localhost:8080/"
        }
      },
      "outputs": [
        {
          "output_type": "execute_result",
          "data": {
            "text/plain": [
              "(270,)"
            ]
          },
          "metadata": {},
          "execution_count": 10
        }
      ],
      "source": [
        "y_test.shape"
      ]
    },
    {
      "cell_type": "markdown",
      "metadata": {
        "id": "lchIBvCMAYRG"
      },
      "source": [
        "## Preprocessing of the Input Data\n",
        "\n",
        "\n",
        "Make sure that all input variables are approximately on the same scale via input normalization:"
      ]
    },
    {
      "cell_type": "code",
      "execution_count": 11,
      "metadata": {
        "id": "wK3lyfypAYRJ"
      },
      "outputs": [],
      "source": [
        "from sklearn import preprocessing\n",
        "\n",
        "\n",
        "# mean = 0 ; standard deviation = 1.0\n",
        "scaler = preprocessing.StandardScaler()\n",
        "X_train = scaler.fit_transform(X_train)\n",
        "X_test = scaler.transform(X_test)\n",
        "\n",
        "# print(scaler.mean_)\n",
        "# print(scaler.scale_)"
      ]
    },
    {
      "cell_type": "code",
      "execution_count": 12,
      "metadata": {
        "id": "zpOORGXTAYRN",
        "outputId": "a9a2c77b-bb34-49db-980a-eb0d933eed46",
        "colab": {
          "base_uri": "https://localhost:8080/"
        }
      },
      "outputs": [
        {
          "output_type": "execute_result",
          "data": {
            "text/plain": [
              "(1527, 64)"
            ]
          },
          "metadata": {},
          "execution_count": 12
        }
      ],
      "source": [
        "X_train.shape"
      ]
    },
    {
      "cell_type": "code",
      "execution_count": 13,
      "metadata": {
        "id": "45lnOWa8AYRR",
        "outputId": "d71526bf-715f-48a2-b38e-b224b50978b7",
        "colab": {
          "base_uri": "https://localhost:8080/"
        }
      },
      "outputs": [
        {
          "output_type": "execute_result",
          "data": {
            "text/plain": [
              "array([ 0.00000000e+00,  1.82717315e-07,  1.44815475e-08, -3.13441575e-08,\n",
              "       -7.49449391e-09, -9.50473567e-09, -7.10805850e-08,  6.18783673e-08,\n",
              "       -3.06025143e-08,  1.31056055e-07,  3.27103429e-08, -3.59111163e-09,\n",
              "       -4.29372049e-09, -1.07733342e-08, -1.92827070e-08, -7.90239696e-08,\n",
              "        1.56408518e-07, -2.18589391e-09,  2.89630950e-08, -1.74090840e-08,\n",
              "        6.71381741e-08,  5.87068669e-08, -9.85213617e-08, -4.79598782e-07,\n",
              "       -2.98413561e-08, -4.19223234e-08, -1.82522143e-07,  1.79555570e-08,\n",
              "       -3.11294706e-08,  2.08440607e-08, -6.83091841e-08,  9.33420665e-07,\n",
              "        0.00000000e+00,  1.78774897e-08,  1.50670544e-07, -3.45839659e-08,\n",
              "       -1.02463780e-08, -3.66137236e-08, -5.67551766e-08,  0.00000000e+00,\n",
              "       -2.17120757e-07, -6.30981702e-08, -1.81116935e-08, -2.62307278e-08,\n",
              "       -7.95509294e-08, -1.95169103e-09, -8.23613622e-09,  4.77871538e-08,\n",
              "       -1.66303593e-07, -1.25688899e-07, -2.30299548e-08, -1.13198082e-08,\n",
              "        2.51387576e-07, -9.99265826e-09,  3.74724678e-08, -1.85410653e-09,\n",
              "        2.62295089e-07, -8.66550849e-08,  1.06952669e-08,  1.99462828e-08,\n",
              "        4.32494751e-08,  1.00551127e-07, -1.32480793e-07, -7.56280301e-08],\n",
              "      dtype=float32)"
            ]
          },
          "metadata": {},
          "execution_count": 13
        }
      ],
      "source": [
        "X_train.mean(axis=0)"
      ]
    },
    {
      "cell_type": "code",
      "execution_count": 14,
      "metadata": {
        "id": "PDH8NcRjAYRT",
        "outputId": "b248eb37-efb9-4c4b-84b1-efe156d9b6de",
        "colab": {
          "base_uri": "https://localhost:8080/"
        }
      },
      "outputs": [
        {
          "output_type": "execute_result",
          "data": {
            "text/plain": [
              "array([0.        , 0.99999774, 0.9999994 , 1.0000005 , 0.9999989 ,\n",
              "       0.9999988 , 1.0000077 , 0.9999965 , 1.0000098 , 0.9999947 ,\n",
              "       1.0000007 , 0.9999992 , 0.9999999 , 0.99999684, 0.9999984 ,\n",
              "       0.99999887, 0.9999969 , 1.000001  , 1.0000002 , 1.0000025 ,\n",
              "       0.99999905, 1.000004  , 1.0000008 , 0.9999972 , 0.9999967 ,\n",
              "       0.99999726, 1.        , 1.0000007 , 1.0000029 , 0.9999996 ,\n",
              "       0.99999696, 1.0000001 , 0.        , 1.0000007 , 1.0000023 ,\n",
              "       0.9999993 , 0.9999994 , 0.9999997 , 0.9999955 , 0.        ,\n",
              "       0.9999891 , 0.99999785, 1.0000032 , 0.9999999 , 0.99999756,\n",
              "       1.000001  , 0.999996  , 0.9999987 , 1.0000006 , 0.9999936 ,\n",
              "       1.0000038 , 1.0000004 , 1.0000012 , 0.999997  , 0.99999785,\n",
              "       0.9999988 , 0.9999857 , 1.0000073 , 0.9999967 , 1.0000031 ,\n",
              "       0.9999993 , 1.        , 0.999996  , 0.9999977 ], dtype=float32)"
            ]
          },
          "metadata": {},
          "execution_count": 14
        }
      ],
      "source": [
        "X_train.std(axis=0)"
      ]
    },
    {
      "cell_type": "markdown",
      "metadata": {
        "id": "C-6lb1RTAYRV"
      },
      "source": [
        "Let's display the one of the transformed sample (after feature standardization):"
      ]
    },
    {
      "cell_type": "code",
      "execution_count": 15,
      "metadata": {
        "id": "i8c9FKKzAYRX",
        "outputId": "8a799e0b-6cf0-4211-a36e-f077e1e68164",
        "colab": {
          "base_uri": "https://localhost:8080/",
          "height": 242
        }
      },
      "outputs": [
        {
          "output_type": "display_data",
          "data": {
            "image/png": "[encoded data removed]",
            "text/plain": [
              "<Figure size 216x216 with 1 Axes>"
            ]
          },
          "metadata": {
            "needs_background": "light"
          }
        }
      ],
      "source": [
        "sample_index = 45\n",
        "plt.figure(figsize=(3, 3))\n",
        "plt.imshow(X_train[sample_index].reshape(8, 8),\n",
        "           cmap=plt.cm.gray_r, interpolation='nearest')\n",
        "plt.title(\"transformed sample\\n(standardization)\");"
      ]
    },
    {
      "cell_type": "markdown",
      "metadata": {
        "id": "-bhMFxCoAYRu"
      },
      "source": [
        "## Preprocessing of the Target Data\n",
        "\n",
        "\n",
        "To train a first neural network we also need to turn the target variable into a vector \"one-hot-encoding\" representation. Here are the labels of the first samples in the training set encoded as integers:"
      ]
    },
    {
      "cell_type": "code",
      "execution_count": 16,
      "metadata": {
        "id": "eUX4nPfjAYRv",
        "outputId": "74a16b3d-c33f-414c-e3ed-252b552ef442",
        "colab": {
          "base_uri": "https://localhost:8080/"
        }
      },
      "outputs": [
        {
          "output_type": "execute_result",
          "data": {
            "text/plain": [
              "array([2, 9, 5], dtype=int32)"
            ]
          },
          "metadata": {},
          "execution_count": 16
        }
      ],
      "source": [
        "y_train[:3]"
      ]
    },
    {
      "cell_type": "markdown",
      "metadata": {
        "id": "dFgfcIDTAYRx"
      },
      "source": [
        "Keras provides a utility function to convert integer-encoded categorical variables as one-hot encoded values:"
      ]
    },
    {
      "cell_type": "code",
      "execution_count": 17,
      "metadata": {
        "id": "AsltdKsoAYR0",
        "outputId": "f8d5253c-705d-4f2a-bc0a-e596f4b2b19f",
        "colab": {
          "base_uri": "https://localhost:8080/"
        }
      },
      "outputs": [
        {
          "output_type": "execute_result",
          "data": {
            "text/plain": [
              "array([[0., 0., 1., 0., 0., 0., 0., 0., 0., 0.],\n",
              "       [0., 0., 0., 0., 0., 0., 0., 0., 0., 1.],\n",
              "       [0., 0., 0., 0., 0., 1., 0., 0., 0., 0.]], dtype=float32)"
            ]
          },
          "metadata": {},
          "execution_count": 17
        }
      ],
      "source": [
        "from tensorflow.keras.utils import to_categorical\n",
        "\n",
        "Y_train = to_categorical(y_train)\n",
        "Y_train[:3]"
      ]
    },
    {
      "cell_type": "code",
      "execution_count": 18,
      "metadata": {
        "id": "hR9Ny_oMAYR2",
        "outputId": "9019a8b3-a5ef-4ce1-d363-e1fde03e1a58",
        "colab": {
          "base_uri": "https://localhost:8080/"
        }
      },
      "outputs": [
        {
          "output_type": "execute_result",
          "data": {
            "text/plain": [
              "(1527, 10)"
            ]
          },
          "metadata": {},
          "execution_count": 18
        }
      ],
      "source": [
        "Y_train.shape"
      ]
    },
    {
      "cell_type": "markdown",
      "metadata": {
        "id": "w974T5dBAYR4"
      },
      "source": [
        "## Feed Forward Neural Networks with Keras\n",
        "\n",
        "Objectives of this section:\n",
        "\n",
        "- Build and train a first feedforward network using `Keras`\n",
        "    - https://www.tensorflow.org/guide/keras/overview\n",
        "- Experiment with different optimizers, activations, size of layers, initializations\n",
        "\n",
        "### A First Keras Model"
      ]
    },
    {
      "cell_type": "markdown",
      "metadata": {
        "id": "Opms8MyEAYR6"
      },
      "source": [
        "We can now build an train a our first feed forward neural network using the high level API from keras:\n",
        "\n",
        "- first we define the model by stacking layers with the right dimensions\n",
        "- then we define a loss function and plug the SGD optimizer\n",
        "- then we feed the model the training data for fixed number of epochs"
      ]
    },
    {
      "cell_type": "code",
      "execution_count": 19,
      "metadata": {
        "scrolled": false,
        "id": "wIQscfyYAYR8",
        "outputId": "b32aa871-18fa-4bc8-8656-34ab7d5e673a",
        "colab": {
          "base_uri": "https://localhost:8080/"
        }
      },
      "outputs": [
        {
          "output_type": "stream",
          "name": "stdout",
          "text": [
            "Epoch 1/15\n",
            "39/39 [==============================] - 1s 8ms/step - loss: 0.9801 - accuracy: 0.7559 - val_loss: 0.4198 - val_accuracy: 0.9183\n",
            "Epoch 2/15\n",
            "39/39 [==============================] - 0s 2ms/step - loss: 0.3379 - accuracy: 0.9320 - val_loss: 0.2877 - val_accuracy: 0.9314\n",
            "Epoch 3/15\n",
            "39/39 [==============================] - 0s 3ms/step - loss: 0.2273 - accuracy: 0.9574 - val_loss: 0.2343 - val_accuracy: 0.9444\n",
            "Epoch 4/15\n",
            "39/39 [==============================] - 0s 3ms/step - loss: 0.1767 - accuracy: 0.9656 - val_loss: 0.2039 - val_accuracy: 0.9477\n",
            "Epoch 5/15\n",
            "39/39 [==============================] - 0s 3ms/step - loss: 0.1455 - accuracy: 0.9730 - val_loss: 0.1852 - val_accuracy: 0.9477\n",
            "Epoch 6/15\n",
            "39/39 [==============================] - 0s 3ms/step - loss: 0.1251 - accuracy: 0.9762 - val_loss: 0.1691 - val_accuracy: 0.9542\n",
            "Epoch 7/15\n",
            "39/39 [==============================] - 0s 3ms/step - loss: 0.1095 - accuracy: 0.9803 - val_loss: 0.1572 - val_accuracy: 0.9575\n",
            "Epoch 8/15\n",
            "39/39 [==============================] - 0s 3ms/step - loss: 0.0975 - accuracy: 0.9853 - val_loss: 0.1516 - val_accuracy: 0.9608\n",
            "Epoch 9/15\n",
            "39/39 [==============================] - 0s 3ms/step - loss: 0.0879 - accuracy: 0.9869 - val_loss: 0.1443 - val_accuracy: 0.9608\n",
            "Epoch 10/15\n",
            "39/39 [==============================] - 0s 3ms/step - loss: 0.0800 - accuracy: 0.9877 - val_loss: 0.1361 - val_accuracy: 0.9575\n",
            "Epoch 11/15\n",
            "39/39 [==============================] - 0s 3ms/step - loss: 0.0741 - accuracy: 0.9869 - val_loss: 0.1339 - val_accuracy: 0.9608\n",
            "Epoch 12/15\n",
            "39/39 [==============================] - 0s 3ms/step - loss: 0.0675 - accuracy: 0.9894 - val_loss: 0.1301 - val_accuracy: 0.9608\n",
            "Epoch 13/15\n",
            "39/39 [==============================] - 0s 3ms/step - loss: 0.0620 - accuracy: 0.9910 - val_loss: 0.1263 - val_accuracy: 0.9641\n",
            "Epoch 14/15\n",
            "39/39 [==============================] - 0s 3ms/step - loss: 0.0579 - accuracy: 0.9910 - val_loss: 0.1231 - val_accuracy: 0.9641\n",
            "Epoch 15/15\n",
            "39/39 [==============================] - 0s 3ms/step - loss: 0.0536 - accuracy: 0.9926 - val_loss: 0.1209 - val_accuracy: 0.9641\n"
          ]
        }
      ],
      "source": [
        "from tensorflow.keras.models import Sequential\n",
        "from tensorflow.keras.layers import Dense\n",
        "from tensorflow.keras import optimizers\n",
        "\n",
        "input_dim = X_train.shape[1]\n",
        "hidden_dim = 100\n",
        "output_dim = Y_train.shape[1]\n",
        "\n",
        "model = Sequential()\n",
        "model.add(Dense(hidden_dim, input_dim=input_dim, activation=\"tanh\"))\n",
        "model.add(Dense(output_dim, activation=\"softmax\"))\n",
        "\n",
        "model.compile(optimizer=optimizers.SGD(learning_rate=0.1),\n",
        "              loss='categorical_crossentropy', metrics=['accuracy'])\n",
        "\n",
        "history = model.fit(X_train, Y_train, validation_split=0.2, epochs=15, batch_size=32)"
      ]
    },
    {
      "cell_type": "markdown",
      "metadata": {
        "id": "_JN1RXL1AYTV"
      },
      "source": [
        "### Visualizing the Convergence\n",
        "\n",
        "Let's wrap the keras history info into a pandas dataframe for easier plotting:"
      ]
    },
    {
      "cell_type": "code",
      "execution_count": 20,
      "metadata": {
        "id": "Y6tsV1otAYTW"
      },
      "outputs": [],
      "source": [
        "import pandas as pd\n",
        "\n",
        "history_df = pd.DataFrame(history.history)\n",
        "history_df[\"epoch\"] = history.epoch"
      ]
    },
    {
      "cell_type": "code",
      "execution_count": 21,
      "metadata": {
        "id": "aSmurkPWAYTX",
        "outputId": "596718ff-f910-46c4-ec7f-34f4a418619f",
        "colab": {
          "base_uri": "https://localhost:8080/",
          "height": 388
        }
      },
      "outputs": [
        {
          "output_type": "display_data",
          "data": {
            "image/png": "[encoded data removed]",
            "text/plain": [
              "<Figure size 864x432 with 2 Axes>"
            ]
          },
          "metadata": {
            "needs_background": "light"
          }
        }
      ],
      "source": [
        "fig, (ax0, ax1) = plt.subplots(nrows=2, sharex=True, figsize=(12, 6))\n",
        "history_df.plot(x=\"epoch\", y=[\"loss\", \"val_loss\"], ax=ax0)\n",
        "history_df.plot(x=\"epoch\", y=[\"accuracy\", \"val_accuracy\"], ax=ax1);"
      ]
    },
    {
      "cell_type": "markdown",
      "metadata": {
        "id": "06OPJH-IAYTZ"
      },
      "source": [
        "### Monitoring Convergence with Tensorboard\n",
        "\n",
        "Tensorboard is a built-in neural network monitoring tool. "
      ]
    },
    {
      "cell_type": "code",
      "execution_count": 22,
      "metadata": {
        "id": "fT8uevUlAYTa"
      },
      "outputs": [],
      "source": [
        "%load_ext tensorboard"
      ]
    },
    {
      "cell_type": "code",
      "execution_count": 23,
      "metadata": {
        "id": "sJ69CS_1AYTb"
      },
      "outputs": [],
      "source": [
        "!rm -rf tensorboard_logs"
      ]
    },
    {
      "cell_type": "code",
      "execution_count": 24,
      "metadata": {
        "id": "8Qsm973LAYTd",
        "outputId": "acbd9078-7ee0-404f-c1f4-77ad97f02334",
        "colab": {
          "base_uri": "https://localhost:8080/"
        }
      },
      "outputs": [
        {
          "output_type": "stream",
          "name": "stdout",
          "text": [
            "Epoch 1/15\n",
            "39/39 [==============================] - 1s 10ms/step - loss: 0.9400 - accuracy: 0.7723 - val_loss: 0.4240 - val_accuracy: 0.9281\n",
            "Epoch 2/15\n",
            "39/39 [==============================] - 0s 3ms/step - loss: 0.3197 - accuracy: 0.9337 - val_loss: 0.2845 - val_accuracy: 0.9379\n",
            "Epoch 3/15\n",
            "39/39 [==============================] - 0s 3ms/step - loss: 0.2201 - accuracy: 0.9599 - val_loss: 0.2303 - val_accuracy: 0.9477\n",
            "Epoch 4/15\n",
            "39/39 [==============================] - 0s 4ms/step - loss: 0.1724 - accuracy: 0.9672 - val_loss: 0.2008 - val_accuracy: 0.9510\n",
            "Epoch 5/15\n",
            "39/39 [==============================] - 0s 4ms/step - loss: 0.1433 - accuracy: 0.9738 - val_loss: 0.1784 - val_accuracy: 0.9542\n",
            "Epoch 6/15\n",
            "39/39 [==============================] - 0s 3ms/step - loss: 0.1227 - accuracy: 0.9771 - val_loss: 0.1680 - val_accuracy: 0.9641\n",
            "Epoch 7/15\n",
            "39/39 [==============================] - 0s 4ms/step - loss: 0.1071 - accuracy: 0.9803 - val_loss: 0.1585 - val_accuracy: 0.9608\n",
            "Epoch 8/15\n",
            "39/39 [==============================] - 0s 4ms/step - loss: 0.0954 - accuracy: 0.9836 - val_loss: 0.1504 - val_accuracy: 0.9641\n",
            "Epoch 9/15\n",
            "39/39 [==============================] - 0s 4ms/step - loss: 0.0858 - accuracy: 0.9853 - val_loss: 0.1456 - val_accuracy: 0.9706\n",
            "Epoch 10/15\n",
            "39/39 [==============================] - 0s 3ms/step - loss: 0.0778 - accuracy: 0.9877 - val_loss: 0.1377 - val_accuracy: 0.9706\n",
            "Epoch 11/15\n",
            "39/39 [==============================] - 0s 3ms/step - loss: 0.0709 - accuracy: 0.9902 - val_loss: 0.1340 - val_accuracy: 0.9706\n",
            "Epoch 12/15\n",
            "39/39 [==============================] - 0s 4ms/step - loss: 0.0651 - accuracy: 0.9910 - val_loss: 0.1306 - val_accuracy: 0.9706\n",
            "Epoch 13/15\n",
            "39/39 [==============================] - 0s 3ms/step - loss: 0.0602 - accuracy: 0.9918 - val_loss: 0.1306 - val_accuracy: 0.9706\n",
            "Epoch 14/15\n",
            "39/39 [==============================] - 0s 3ms/step - loss: 0.0558 - accuracy: 0.9926 - val_loss: 0.1246 - val_accuracy: 0.9739\n",
            "Epoch 15/15\n",
            "39/39 [==============================] - 0s 4ms/step - loss: 0.0518 - accuracy: 0.9951 - val_loss: 0.1223 - val_accuracy: 0.9739\n"
          ]
        }
      ],
      "source": [
        "import datetime\n",
        "from tensorflow.keras.callbacks import TensorBoard\n",
        "\n",
        "model = Sequential()\n",
        "model.add(Dense(hidden_dim, input_dim=input_dim, activation=\"tanh\"))\n",
        "model.add(Dense(output_dim, activation=\"softmax\"))\n",
        "\n",
        "model.compile(optimizer=optimizers.SGD(learning_rate=0.1),\n",
        "              loss='categorical_crossentropy', metrics=['accuracy'])\n",
        "\n",
        "timestamp =  datetime.datetime.now().strftime(\"%Y%m%d-%H%M%S\")\n",
        "log_dir = \"tensorboard_logs/\" + timestamp\n",
        "tensorboard_callback = TensorBoard(log_dir=log_dir, histogram_freq=1)\n",
        "\n",
        "model.fit(x=X_train, y=Y_train, validation_split=0.2, epochs=15,\n",
        "          callbacks=[tensorboard_callback]);"
      ]
    },
    {
      "cell_type": "code",
      "execution_count": 25,
      "metadata": {
        "id": "h27ZSF1XAYTf",
        "outputId": "5e065e33-f2b3-4e42-bd3d-78f9c21caf1b",
        "colab": {
          "base_uri": "https://localhost:8080/",
          "height": 822
        }
      },
      "outputs": [
        {
          "output_type": "display_data",
          "data": {
            "application/javascript": [
              "\n",
              "        (async () => {\n",
              "            const url = new URL(await google.colab.kernel.proxyPort(6006, {'cache': true}));\n",
              "            url.searchParams.set('tensorboardColab', 'true');\n",
              "            const iframe = document.createElement('iframe');\n",
              "            iframe.src = url;\n",
              "            iframe.setAttribute('width', '100%');\n",
              "            iframe.setAttribute('height', '800');\n",
              "            iframe.setAttribute('frameborder', 0);\n",
              "            document.body.appendChild(iframe);\n",
              "        })();\n",
              "    "
            ],
            "text/plain": [
              "<IPython.core.display.Javascript object>"
            ]
          },
          "metadata": {}
        }
      ],
      "source": [
        "%tensorboard --logdir tensorboard_logs"
      ]
    },
    {
      "cell_type": "markdown",
      "metadata": {
        "id": "3RgFJFaxAYTh"
      },
      "source": [
        "### Questions: Impact of the Optimizer\n",
        "\n",
        "- Try to decrease the learning rate value by 10 or 100. What do you observe?\n",
        "\n",
        "- Try to increase the learning rate value to make the optimization diverge.\n",
        "\n",
        "- Configure the SGD optimizer to enable a Nesterov momentum of 0.9\n",
        "  \n",
        "**Notes**: \n",
        "\n",
        "The keras API documentation is available at:\n",
        "\n",
        "https://www.tensorflow.org/api_docs/python/tf/keras\n",
        "\n",
        "It is also possible to learn more about the parameters of a class by using the question mark: type and evaluate:\n",
        "\n",
        "```python\n",
        "optimizers.SGD?\n",
        "```\n",
        "\n",
        "in a jupyter notebook cell.\n",
        "\n",
        "It is also possible to type the beginning of a function call / constructor and type \"shift-tab\" after the opening paren:\n",
        "\n",
        "```python\n",
        "optimizers.SGD(<shiff-tab>\n",
        "```"
      ]
    },
    {
      "cell_type": "code",
      "execution_count": null,
      "metadata": {
        "id": "PB522_X_AYTj"
      },
      "outputs": [],
      "source": [
        "optimizers.SGD?"
      ]
    },
    {
      "cell_type": "code",
      "execution_count": null,
      "metadata": {
        "id": "l2OQ7L7jAYTk"
      },
      "outputs": [],
      "source": [
        "#your code here"
      ]
    },
    {
      "cell_type": "markdown",
      "metadata": {
        "id": "ACG75B9YAYTm"
      },
      "source": [
        "- Replace the SGD optimizer by the Adam optimizer from keras and run it\n",
        "  with the default parameters.\n",
        "\n",
        "  Hint: use `optimizers.<TAB>` to tab-complete the list of implemented optimizers in Keras.\n",
        "\n",
        "- Add another hidden layer and use the \"Rectified Linear Unit\" for each\n",
        "  hidden layer. Can you still train the model with Adam with its default global\n",
        "  learning rate?\n",
        "\n",
        "- Investigate training convergence by varying the number of hidden layers (1-10) and number of units in hidden layers (10 -100). Provide the analysis and your conclusions."
      ]
    },
    {
      "cell_type": "code",
      "execution_count": null,
      "metadata": {
        "id": "CxhNSY33AYTo"
      },
      "outputs": [],
      "source": [
        "#your code here"
      ]
    },
    {
      "cell_type": "markdown",
      "metadata": {
        "id": "-4-NeJEVAYTq"
      },
      "source": [
        "### Questions: Forward Pass and Generalization\n",
        "\n",
        "- Compute predictions on test set using `model.predict(...)`\n",
        "- Compute average accuracy of the model on the test set: the fraction of test samples for which the model makes a prediction that matches the true label."
      ]
    },
    {
      "cell_type": "code",
      "execution_count": null,
      "metadata": {
        "id": "zlOPbrc1AYTr"
      },
      "outputs": [],
      "source": [
        "# your code here"
      ]
    },
    {
      "cell_type": "markdown",
      "metadata": {
        "id": "hYyxj2ITAYTt"
      },
      "source": [
        "Let us decompose how we got the predictions. First, we call the model on the data to get the laster layer (softmax) outputs directly as a tensorflow Tensor:"
      ]
    },
    {
      "cell_type": "code",
      "execution_count": null,
      "metadata": {
        "id": "eicJljrJAYTv"
      },
      "outputs": [],
      "source": [
        "predictions_tf = model(X_test)\n",
        "predictions_tf[:5]"
      ]
    },
    {
      "cell_type": "code",
      "execution_count": null,
      "metadata": {
        "id": "k6EAAFXJAYTw"
      },
      "outputs": [],
      "source": [
        "type(predictions_tf), predictions_tf.shape"
      ]
    },
    {
      "cell_type": "markdown",
      "metadata": {
        "id": "cMVygjKHAYTy"
      },
      "source": [
        "We can use the tensorflow API to check that for each row, the probabilities sum to 1:"
      ]
    },
    {
      "cell_type": "code",
      "execution_count": null,
      "metadata": {
        "id": "Z-CQjT0wAYTz"
      },
      "outputs": [],
      "source": [
        "import tensorflow as tf\n",
        "\n",
        "tf.reduce_sum(predictions_tf, axis=1)[:5]"
      ]
    },
    {
      "cell_type": "markdown",
      "metadata": {
        "id": "KHK-kDXtAYT0"
      },
      "source": [
        "We can also extract the label with the highest probability using the tensorflow API:"
      ]
    },
    {
      "cell_type": "code",
      "execution_count": null,
      "metadata": {
        "id": "lpp-rep1AYT1"
      },
      "outputs": [],
      "source": [
        "predicted_labels_tf = tf.argmax(predictions_tf, axis=1)\n",
        "predicted_labels_tf[:5]"
      ]
    },
    {
      "cell_type": "markdown",
      "metadata": {
        "id": "OP_cANcuAYT3"
      },
      "source": [
        "We can compare those labels to the expected labels to compute the accuracy with the Tensorflow API. Note however that we need an explicit cast from boolean to floating point values to be able to compute the mean accuracy when using the tensorflow tensors:"
      ]
    },
    {
      "cell_type": "code",
      "execution_count": null,
      "metadata": {
        "id": "CW4BIteXAYT4"
      },
      "outputs": [],
      "source": [
        "accuracy_tf = tf.reduce_mean(tf.cast(predicted_labels_tf == y_test, tf.float64))\n",
        "accuracy_tf"
      ]
    },
    {
      "cell_type": "markdown",
      "metadata": {
        "id": "1p5Pe7dqAYT5"
      },
      "source": [
        "Also note that it is possible to convert tensors to numpy array if one prefer to use numpy:"
      ]
    },
    {
      "cell_type": "code",
      "execution_count": null,
      "metadata": {
        "id": "vCgobQQPAYT6"
      },
      "outputs": [],
      "source": [
        "accuracy_tf.numpy()"
      ]
    },
    {
      "cell_type": "code",
      "execution_count": null,
      "metadata": {
        "id": "HHD1CaoYAYT8"
      },
      "outputs": [],
      "source": [
        "predicted_labels_tf[:5]"
      ]
    },
    {
      "cell_type": "code",
      "execution_count": null,
      "metadata": {
        "id": "uI7eTCALAYT-"
      },
      "outputs": [],
      "source": [
        "predicted_labels_tf.numpy()[:5]"
      ]
    },
    {
      "cell_type": "code",
      "execution_count": null,
      "metadata": {
        "id": "cyWEOXSoAYUA"
      },
      "outputs": [],
      "source": [
        "(predicted_labels_tf.numpy() == y_test).mean()"
      ]
    },
    {
      "cell_type": "code",
      "source": [
        ""
      ],
      "metadata": {
        "id": "pANEMSTrt8vd"
      },
      "execution_count": null,
      "outputs": []
    },
    {
      "cell_type": "markdown",
      "metadata": {
        "id": "bpNIUzW-AYUC"
      },
      "source": [
        "## Questions: Impact of Initialization\n",
        "\n",
        "Let us now study the impact of a bad initialization when training\n",
        "a deep feed forward network.\n",
        "\n",
        "By default Keras dense layers use the \"Glorot Uniform\" initialization\n",
        "strategy to initialize the weight matrices:\n",
        "\n",
        "- each weight coefficient is randomly sampled from [-scale, scale]\n",
        "- scale is proportional to $\\frac{1}{\\sqrt{n_{in} + n_{out}}}$\n",
        "\n",
        "This strategy is known to work well to initialize deep neural networks\n",
        "with \"tanh\" or \"relu\" activation functions and then trained with\n",
        "standard SGD.\n",
        "\n",
        "To assess the impact of initialization let us plug an alternative init\n",
        "scheme into a 2 hidden layers networks with \"tanh\" activations.\n",
        "For the sake of the example let's use normal distributed weights\n",
        "with a manually adjustable scale (standard deviation) and see the\n",
        "impact the scale value:"
      ]
    },
    {
      "cell_type": "code",
      "execution_count": null,
      "metadata": {
        "id": "FWZK8m31AYUD"
      },
      "outputs": [],
      "source": [
        "from tensorflow.keras import initializers\n",
        "\n",
        "normal_init = initializers.TruncatedNormal(stddev=0.01)\n",
        "\n",
        "\n",
        "model = Sequential()\n",
        "model.add(Dense(hidden_dim, input_dim=input_dim, activation=\"tanh\",\n",
        "                kernel_initializer=normal_init))\n",
        "model.add(Dense(hidden_dim, activation=\"tanh\",\n",
        "                kernel_initializer=normal_init))\n",
        "model.add(Dense(output_dim, activation=\"softmax\",\n",
        "                kernel_initializer=normal_init))\n",
        "\n",
        "model.compile(optimizer=optimizers.SGD(learning_rate=0.1),\n",
        "              loss='categorical_crossentropy', metrics=['accuracy'])"
      ]
    },
    {
      "cell_type": "code",
      "execution_count": null,
      "metadata": {
        "id": "B2jDua-LAYUF"
      },
      "outputs": [],
      "source": [
        "model.layers"
      ]
    },
    {
      "cell_type": "markdown",
      "metadata": {
        "id": "I29HtHKKAYUG"
      },
      "source": [
        "Let's have a look at the parameters of the first layer after initialization but before any training has happened:"
      ]
    },
    {
      "cell_type": "code",
      "execution_count": null,
      "metadata": {
        "id": "aT4LBLz5AYUH"
      },
      "outputs": [],
      "source": [
        "model.layers[0].weights"
      ]
    },
    {
      "cell_type": "code",
      "execution_count": null,
      "metadata": {
        "id": "jHGgDLSOAYUI"
      },
      "outputs": [],
      "source": [
        "w = model.layers[0].weights[0].numpy()\n",
        "w"
      ]
    },
    {
      "cell_type": "code",
      "execution_count": null,
      "metadata": {
        "id": "ec1d35DFAYUJ"
      },
      "outputs": [],
      "source": [
        "w.std()"
      ]
    },
    {
      "cell_type": "code",
      "execution_count": null,
      "metadata": {
        "id": "qaDS4ygHAYUK"
      },
      "outputs": [],
      "source": [
        "b = model.layers[0].weights[1].numpy()\n",
        "b"
      ]
    },
    {
      "cell_type": "code",
      "execution_count": null,
      "metadata": {
        "id": "rQpfxR6aAYUL"
      },
      "outputs": [],
      "source": [
        "history = model.fit(X_train, Y_train, epochs=15, batch_size=32)\n",
        "\n",
        "plt.figure(figsize=(12, 4))\n",
        "plt.plot(history.history['loss'], label=\"Truncated Normal init\")\n",
        "plt.legend();"
      ]
    },
    {
      "cell_type": "markdown",
      "metadata": {
        "id": "tXU7SlrDAYUM"
      },
      "source": [
        "Once the model has been fit, the weights have been updated and notably the biases are no longer 0:"
      ]
    },
    {
      "cell_type": "code",
      "execution_count": null,
      "metadata": {
        "id": "NLsniTziAYUN"
      },
      "outputs": [],
      "source": [
        "model.layers[0].weights"
      ]
    },
    {
      "cell_type": "markdown",
      "metadata": {
        "id": "O0rY-r39AYUT"
      },
      "source": [
        "#### Questions:\n",
        "\n",
        "- Try the following initialization schemes and see whether\n",
        "  the SGD algorithm can successfully train the network or\n",
        "  not:\n",
        "  \n",
        "  - a very small e.g. `stddev=1e-3`\n",
        "  - a larger scale e.g. `stddev=1` or `10`\n",
        "  - initialize all weights to 0 (constant initialization)\n",
        "  \n",
        "- What do you observe? Can you find an explanation for those\n",
        "  outcomes?\n",
        "\n",
        "- Are more advanced solvers such as SGD with momentum or Adam able\n",
        "  to deal better with such bad initializations?\n",
        "\n",
        "- Can you vary initialization and hyperparameters to demonstrate:\n",
        "  1. Exploding gradients?\n",
        "  2. Vanishing gradients?"
      ]
    },
    {
      "cell_type": "code",
      "execution_count": null,
      "metadata": {
        "id": "B0U_J8fEAYUV"
      },
      "outputs": [],
      "source": [
        "# your code here"
      ]
    },
    {
      "cell_type": "markdown",
      "source": [
        "### Questions: K-fold validation\n",
        "\n",
        "- Implement training of the best architecture you found in the exercises above using K-fold validation. Provide graphs of the loss / accuracy metrics over training epochs. Estimate the number of epochs needed to train the model.\n",
        "- Demonstrate overfitting of the model during training. Compare the accuracy of the overfitted models with true accuracy."
      ],
      "metadata": {
        "id": "sGvEC8iXuDax"
      }
    }
  ],
  "metadata": {
    "file_extension": ".py",
    "kernelspec": {
      "display_name": "Python 3",
      "language": "python",
      "name": "python3"
    },
    "language_info": {
      "codemirror_mode": {
        "name": "ipython",
        "version": 3
      },
      "file_extension": ".py",
      "mimetype": "text/x-python",
      "name": "python",
      "nbconvert_exporter": "python",
      "pygments_lexer": "ipython3",
      "version": "3.7.6"
    },
    "mimetype": "text/x-python",
    "name": "python",
    "npconvert_exporter": "python",
    "pygments_lexer": "ipython3",
    "toc": {
      "base_numbering": 1,
      "nav_menu": {},
      "number_sections": true,
      "sideBar": true,
      "skip_h1_title": false,
      "title_cell": "Table of Contents",
      "title_sidebar": "Contents",
      "toc_cell": false,
      "toc_position": {},
      "toc_section_display": true,
      "toc_window_display": false
    },
    "version": 3,
    "colab": {
      "name": "HW2.ipynb",
      "provenance": [],
      "collapsed_sections": [],
      "include_colab_link": true
    }
  },
  "nbformat": 4,
  "nbformat_minor": 0
}