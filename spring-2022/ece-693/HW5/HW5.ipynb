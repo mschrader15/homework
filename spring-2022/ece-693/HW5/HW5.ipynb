{
  "cells": [
    {
      "cell_type": "markdown",
      "metadata": {
        "colab_type": "text",
        "id": "view-in-github"
      },
      "source": [
        "<a href=\"https://colab.research.google.com/github/mschrader15/homework/blob/main/spring-2022/ece-693/HW5.ipynb\" target=\"_parent\"><img src=\"https://colab.research.google.com/assets/colab-badge.svg\" alt=\"Open In Colab\"/></a>"
      ]
    },
    {
      "cell_type": "markdown",
      "metadata": {
        "id": "7jqWmNN8FJ9u"
      },
      "source": [
        "## **Introduction to homework**\n",
        "This homework explores conditional GAN that produces images conditioned on class labels. This homework is based on the example by Sayak Paul available at https://keras.io/examples/generative/conditional_gan/"
      ]
    },
    {
      "cell_type": "markdown",
      "metadata": {
        "id": "i7fgpbTUFJ90"
      },
      "source": [
        "\"Generative Adversarial Networks (GANs) let us generate novel image data, video data,\n",
        "or audio data from a random input. Typically, the random input is sampled\n",
        "from a normal distribution, before going through a series of transformations that turn\n",
        "it into something plausible (image, video, audio, etc.).\n",
        "\n",
        "However, a simple [DCGAN](https://arxiv.org/abs/1511.06434) doesn't let us control\n",
        "the appearance (e.g. class) of the samples we're generating. For instance,\n",
        "with a GAN that generates MNIST handwritten digits, a simple DCGAN wouldn't let us\n",
        "choose the class of digits we're generating.\n",
        "To be able to control what we generate, we need to _condition_ the GAN output\n",
        "on a semantic input, such as the class of an image.\"\n",
        "\n",
        "In this homework, you'll train a **Conditional GAN** that can generate food images of a given class.\n",
        "\n",
        "The original MNIST example is based on these references:\n",
        "\n",
        "* [Conditional Generative Adversarial Nets](https://arxiv.org/abs/1411.1784)\n",
        "* [Lecture on Conditional Generation from Coursera](https://www.coursera.org/lecture/build-basic-generative-adversarial-networks-gans/conditional-generation-inputs-2OPrG)\n",
        "\n",
        "For a description of GANs, you can refer to the \"Generative adversarial networks\"\n",
        "section of\n",
        "[this resource](https://livebook.manning.com/book/deep-learning-with-python-second-edition/chapter-12/r-3/232).\n",
        "\n",
        "This homework requires TensorFlow 2.5 or higher, as well as TensorFlow Docs, which can be\n",
        "installed using the following command:"
      ]
    },
    {
      "cell_type": "code",
      "execution_count": null,
      "metadata": {
        "colab": {
          "base_uri": "https://localhost:8080/"
        },
        "id": "zWlstPH9FJ92",
        "outputId": "ccc530ff-5db9-4e8b-8a68-e886104ba917"
      },
      "outputs": [],
      "source": [
        "%pip install -q git+https://github.com/tensorflow/docs\n",
        "%pip install imageio\n",
        "%pip install scikit-image\n",
        "%pip install joblib"
      ]
    },
    {
      "cell_type": "markdown",
      "metadata": {
        "id": "JOPFz5o4FJ94"
      },
      "source": [
        "## Imports"
      ]
    },
    {
      "cell_type": "code",
      "execution_count": 1,
      "metadata": {
        "id": "vf08-nW3FJ95"
      },
      "outputs": [],
      "source": [
        "import os\n",
        "import shutil\n",
        "import glob\n",
        "from PIL import Image\n",
        "\n",
        "from tensorflow import keras\n",
        "from tensorflow.keras import layers\n",
        "from tensorflow.keras.utils import image_dataset_from_directory\n",
        "\n",
        "from tensorflow_docs.vis import embed\n",
        "import matplotlib.pyplot as plt\n",
        "import tensorflow as tf\n",
        "import numpy as np\n",
        "import imageio\n",
        "from skimage.transform import resize\n",
        "from joblib import Parallel, delayed\n"
      ]
    },
    {
      "cell_type": "markdown",
      "metadata": {
        "id": "5taiI4gTFJ96"
      },
      "source": [
        "## Constants and hyperparameters"
      ]
    },
    {
      "cell_type": "code",
      "execution_count": 2,
      "metadata": {
        "id": "d3ZAcVl9FJ97"
      },
      "outputs": [],
      "source": [
        "batch_size = 64\n",
        "\n",
        "# RGB\n",
        "num_channels = 3\n",
        "\n",
        "# cats and dogs\n",
        "num_classes = 2\n",
        "\n",
        "image_size = 64\n",
        "latent_dim = 128\n",
        "\n",
        "IMG_SIZE = (image_size, image_size)\n"
      ]
    },
    {
      "cell_type": "markdown",
      "metadata": {
        "id": "KmWLIOVZFJ98"
      },
      "source": [
        "## Loading the dataset and preprocessing it\n",
        "\n"
      ]
    },
    {
      "cell_type": "markdown",
      "metadata": {},
      "source": [
        "\n",
        "### **Assignment dataset**\n",
        "\n",
        "Note that below is the original code for loading the MNIST dataset. In this homework you could use **one** of the following:\n",
        "1. CIFAR10 dataset. This dataset is included with Keras, See https://keras.io/api/datasets/cifar10/\n",
        "2. Cats and Dogs dataset. This dataset is available from Kaggle. The textbook has examples of working with this dataset in the image classification section. https://www.kaggle.com/competitions/dogs-vs-cats/data\n",
        "3. Food101 dataset, also available from Kaggle. https://www.kaggle.com/datasets/kmader/food41\n",
        "\n",
        "Regardless of the dataset you choose, a couple of important considerations:\n",
        "- Unlike the MNIST example, these are color images and the GAN should be able to produce color images.\n",
        "- Keep the image resolution and number of classes manageable, otherwise the network will take too long or will not properly train.\n",
        "\n",
        "**Modify the code below to load the dataset of your choice**\n",
        "\n",
        "Please either use wget links or include the data in the same directory as your code.\n",
        "Note that I'll not be able to access files mounted on your Google drive, so the data should be local to the runtime instance!!! You could use wget or gdown to download required files."
      ]
    },
    {
      "cell_type": "code",
      "execution_count": 9,
      "metadata": {},
      "outputs": [
        {
          "name": "stdout",
          "output_type": "stream",
          "text": [
            "Requirement already satisfied: kaggle in /home/max/.pyenv/versions/3.9.12/envs/homework/lib/python3.9/site-packages (1.5.12)\n",
            "Requirement already satisfied: urllib3 in /home/max/.pyenv/versions/3.9.12/envs/homework/lib/python3.9/site-packages (from kaggle) (1.26.9)\n",
            "Requirement already satisfied: python-slugify in /home/max/.pyenv/versions/3.9.12/envs/homework/lib/python3.9/site-packages (from kaggle) (6.1.2)\n",
            "Requirement already satisfied: certifi in /home/max/.pyenv/versions/3.9.12/envs/homework/lib/python3.9/site-packages (from kaggle) (2021.10.8)\n",
            "Requirement already satisfied: requests in /home/max/.pyenv/versions/3.9.12/envs/homework/lib/python3.9/site-packages (from kaggle) (2.27.1)\n",
            "Requirement already satisfied: six>=1.10 in /home/max/.pyenv/versions/3.9.12/envs/homework/lib/python3.9/site-packages (from kaggle) (1.16.0)\n",
            "Requirement already satisfied: tqdm in /home/max/.pyenv/versions/3.9.12/envs/homework/lib/python3.9/site-packages (from kaggle) (4.64.0)\n",
            "Requirement already satisfied: python-dateutil in /home/max/.pyenv/versions/3.9.12/envs/homework/lib/python3.9/site-packages (from kaggle) (2.8.2)\n",
            "Requirement already satisfied: text-unidecode>=1.3 in /home/max/.pyenv/versions/3.9.12/envs/homework/lib/python3.9/site-packages (from python-slugify->kaggle) (1.3)\n",
            "Requirement already satisfied: idna<4,>=2.5 in /home/max/.pyenv/versions/3.9.12/envs/homework/lib/python3.9/site-packages (from requests->kaggle) (3.3)\n",
            "Requirement already satisfied: charset-normalizer~=2.0.0 in /home/max/.pyenv/versions/3.9.12/envs/homework/lib/python3.9/site-packages (from requests->kaggle) (2.0.12)\n",
            "Note: you may need to restart the kernel to use updated packages.\n",
            "mkdir: cannot create directory ‘./data’: File exists\n",
            "Downloading dogs-vs-cats.zip to /home/max/tmp/homework/spring-2022/ece-693/HW5\n",
            "100%|████████████████████████████████████████▉| 810M/812M [00:08<00:00, 102MB/s]\n",
            "100%|█████████████████████████████████████████| 812M/812M [00:08<00:00, 102MB/s]\n"
          ]
        }
      ],
      "source": [
        "# install the kaggle library\n",
        "%pip install kaggle\n",
        "# download the data\n",
        "!mkdir ./data\n",
        "!kaggle competitions download -c dogs-vs-cats\n",
        "!mv dogs-vs-cats.zip ./data"
      ]
    },
    {
      "cell_type": "markdown",
      "metadata": {},
      "source": [
        "### Unzip and Unpack the Data"
      ]
    },
    {
      "cell_type": "code",
      "execution_count": 3,
      "metadata": {},
      "outputs": [
        {
          "name": "stdout",
          "output_type": "stream",
          "text": [
            "unzip:  cannot find or open ./data/dogs-vs-cats.zip, ./data/dogs-vs-cats.zip.zip or ./data/dogs-vs-cats.zip.ZIP.\n"
          ]
        }
      ],
      "source": [
        "!unzip \"./data/dogs-vs-cats.zip\" -d \"./data/\"\n",
        "!rm -r -f \"./data/sampleSubmission.csv\" \"./data/dogs-vs-cats.zip\"\n"
      ]
    },
    {
      "cell_type": "code",
      "execution_count": 11,
      "metadata": {},
      "outputs": [],
      "source": [
        "\n",
        "!unzip -qq -o \"./data/test1.zip\" -d \"./data/\"\n",
        "!unzip -qq -o \"./data/train.zip\" -d \"./data/\"\n",
        "!rm -r -f \"./data/**.zip\""
      ]
    },
    {
      "cell_type": "markdown",
      "metadata": {},
      "source": [
        "### Store the File Paths"
      ]
    },
    {
      "cell_type": "code",
      "execution_count": 3,
      "metadata": {},
      "outputs": [],
      "source": [
        "ROOT = os.path.abspath(\"\")\n",
        "TEST_DATA = os.path.join(ROOT, \"data\", \"test1\")\n",
        "TRAIN_DATA = os.path.join(ROOT, \"data\", \"train\")\n"
      ]
    },
    {
      "cell_type": "markdown",
      "metadata": {},
      "source": [
        "### Split the Data into Test, Train and Validate"
      ]
    },
    {
      "cell_type": "code",
      "execution_count": 4,
      "metadata": {},
      "outputs": [],
      "source": [
        "def make_subset(data_dir, subset_name, start_index, end_index) -> str:\n",
        "    for category in (\"cat\", \"dog\"):\n",
        "        new_dir = os.path.join(data_dir, subset_name, category)\n",
        "        try:\n",
        "            os.makedirs(new_dir)\n",
        "            fnames = [\n",
        "                (f\"{category}.{i}.jpg\", f\"{i}-{category}.jpg\")\n",
        "                for i in range(start_index, end_index)\n",
        "            ]\n",
        "            for fname in fnames:\n",
        "                shutil.copyfile(\n",
        "                    src=os.path.join(data_dir, fname[0]),\n",
        "                    dst=os.path.join(new_dir, fname[1]),\n",
        "                )\n",
        "        except FileExistsError:\n",
        "            break\n",
        "    return os.path.join(data_dir, subset_name)\n"
      ]
    },
    {
      "cell_type": "code",
      "execution_count": 5,
      "metadata": {},
      "outputs": [
        {
          "name": "stdout",
          "output_type": "stream",
          "text": [
            "25000\n"
          ]
        }
      ],
      "source": [
        "_, _, files = next(os.walk(TRAIN_DATA))\n",
        "print(num_images := len(files))\n"
      ]
    },
    {
      "cell_type": "markdown",
      "metadata": {},
      "source": [
        "#### Loading the Datasets"
      ]
    },
    {
      "cell_type": "code",
      "execution_count": 6,
      "metadata": {},
      "outputs": [],
      "source": [
        "DATA_PERCENTAGE = 100 / 100\n"
      ]
    },
    {
      "cell_type": "code",
      "execution_count": 6,
      "metadata": {},
      "outputs": [
        {
          "name": "stdout",
          "output_type": "stream",
          "text": [
            "12500\n"
          ]
        }
      ],
      "source": [
        "file_list = glob.glob(os.path.join(TRAIN_DATA, \"dog.*.jpg\"))\n",
        "print(len(file_list))\n"
      ]
    },
    {
      "cell_type": "code",
      "execution_count": 8,
      "metadata": {},
      "outputs": [
        {
          "ename": "ValueError",
          "evalue": "Cannot take a larger sample than population when 'replace=False'",
          "output_type": "error",
          "traceback": [
            "\u001b[0;31m---------------------------------------------------------------------------\u001b[0m",
            "\u001b[0;31mValueError\u001b[0m                                Traceback (most recent call last)",
            "\u001b[1;32m/home/max/tmp/homework/spring-2022/ece-693/HW5/HW5.ipynb Cell 23'\u001b[0m in \u001b[0;36m<cell line: 1>\u001b[0;34m()\u001b[0m\n\u001b[0;32m----> <a href='vscode-notebook-cell://ssh-remote%2B64core/home/max/tmp/homework/spring-2022/ece-693/HW5/HW5.ipynb#ch0000022vscode-remote?line=0'>1</a>\u001b[0m file_list \u001b[39m=\u001b[39m np\u001b[39m.\u001b[39;49mrandom\u001b[39m.\u001b[39;49mchoice(\n\u001b[1;32m      <a href='vscode-notebook-cell://ssh-remote%2B64core/home/max/tmp/homework/spring-2022/ece-693/HW5/HW5.ipynb#ch0000022vscode-remote?line=1'>2</a>\u001b[0m     file_list, \u001b[39mint\u001b[39;49m(num_images \u001b[39m*\u001b[39;49m DATA_PERCENTAGE), replace\u001b[39m=\u001b[39;49m\u001b[39mFalse\u001b[39;49;00m\n\u001b[1;32m      <a href='vscode-notebook-cell://ssh-remote%2B64core/home/max/tmp/homework/spring-2022/ece-693/HW5/HW5.ipynb#ch0000022vscode-remote?line=2'>3</a>\u001b[0m )\n",
            "File \u001b[0;32mmtrand.pyx:965\u001b[0m, in \u001b[0;36mnumpy.random.mtrand.RandomState.choice\u001b[0;34m()\u001b[0m\n",
            "\u001b[0;31mValueError\u001b[0m: Cannot take a larger sample than population when 'replace=False'"
          ]
        }
      ],
      "source": [
        "file_list = np.random.choice(\n",
        "    file_list, int(num_images * DATA_PERCENTAGE), replace=False\n",
        ")\n"
      ]
    },
    {
      "cell_type": "code",
      "execution_count": 7,
      "metadata": {},
      "outputs": [],
      "source": [
        "def process_img(fname: str) -> np.array:\n",
        "    return resize(np.array(Image.open(fname)), IMG_SIZE)\n",
        "\n",
        "\n",
        "img_data = Parallel(n_jobs=60)(delayed(process_img)(fname) for fname in file_list)\n",
        "img_data = np.array(img_data)\n"
      ]
    },
    {
      "cell_type": "code",
      "execution_count": 8,
      "metadata": {},
      "outputs": [
        {
          "data": {
            "text/plain": [
              "(12500, 64, 64, 3)"
            ]
          },
          "execution_count": 8,
          "metadata": {},
          "output_type": "execute_result"
        }
      ],
      "source": [
        "img_data.shape\n"
      ]
    },
    {
      "cell_type": "code",
      "execution_count": 9,
      "metadata": {},
      "outputs": [
        {
          "data": {
            "text/plain": [
              "array([1, 1, 1, ..., 1, 1, 1])"
            ]
          },
          "execution_count": 9,
          "metadata": {},
          "output_type": "execute_result"
        }
      ],
      "source": [
        "labels = np.array([1 * (\"dog\" in fname) for fname in file_list])\n",
        "labels\n"
      ]
    },
    {
      "cell_type": "code",
      "execution_count": 10,
      "metadata": {},
      "outputs": [
        {
          "name": "stderr",
          "output_type": "stream",
          "text": [
            "2022-05-05 11:14:58.835626: I tensorflow/core/platform/cpu_feature_guard.cc:151] This TensorFlow binary is optimized with oneAPI Deep Neural Network Library (oneDNN) to use the following CPU instructions in performance-critical operations:  AVX2 FMA\n",
            "To enable them in other operations, rebuild TensorFlow with the appropriate compiler flags.\n",
            "2022-05-05 11:14:59.240130: I tensorflow/core/common_runtime/gpu/gpu_device.cc:1525] Created device /job:localhost/replica:0/task:0/device:GPU:0 with 9537 MB memory:  -> device: 0, name: NVIDIA GeForce RTX 2080 Ti, pci bus id: 0000:01:00.0, compute capability: 7.5\n"
          ]
        }
      ],
      "source": [
        "preprocessing_layer = keras.Sequential(\n",
        "        [\n",
        "            tf.keras.layers.RandomTranslation(0.1, 0.1),\n",
        "            tf.keras.layers.RandomFlip(\"horizontal\"),\n",
        "            tf.keras.layers.RandomRotation(0.3),\n",
        "            tf.keras.layers.RandomZoom(0.1),\n",
        "        ]\n",
        "    )\n"
      ]
    },
    {
      "cell_type": "code",
      "execution_count": 11,
      "metadata": {},
      "outputs": [
        {
          "name": "stdout",
          "output_type": "stream",
          "text": [
            "Shape of training images: (12500, 64, 64, 3)\n",
            "Shape of training labels: (12500,)\n"
          ]
        }
      ],
      "source": [
        "# Scale the pixel values to [0, 1] range, add a channel dimension to\n",
        "# the images, and one-hot encode the labels.\n",
        "# img_data = np.reshape(img_data, (-1, *IMG_SIZE, 3))\n",
        "# labels = keras.utils.to_categorical(labels, 1)\n",
        "\n",
        "# Create tf.data.Dataset.\n",
        "# dataset = tf.data.Dataset.from_tensor_slices((img_data, labels))\n",
        "dataset = tf.data.Dataset.from_tensor_slices((img_data))\n",
        "dataset = dataset.shuffle(buffer_size=1024).batch(batch_size)\n",
        "dataset = dataset.map(lambda x: (preprocessing_layer(x)))\n",
        "dataset = dataset.prefetch(tf.data.AUTOTUNE)\n",
        "\n",
        "print(f\"Shape of training images: {img_data.shape}\")\n",
        "print(f\"Shape of training labels: {labels.shape}\")\n"
      ]
    },
    {
      "cell_type": "markdown",
      "metadata": {},
      "source": [
        "### Plotting Image to Ensure Everything OK"
      ]
    },
    {
      "cell_type": "code",
      "execution_count": 12,
      "metadata": {},
      "outputs": [
        {
          "data": {
            "image/png": "[encoded data removed]",
            "text/plain": [
              "<Figure size 432x288 with 1 Axes>"
            ]
          },
          "metadata": {
            "needs_background": "light"
          },
          "output_type": "display_data"
        }
      ],
      "source": [
        "import matplotlib.pyplot as plt\n",
        "\n",
        "# plotting the data augmentation and the color distortion\n",
        "# plt.figure(figsize=(10, 10))\n",
        "plt.figure()\n",
        "for images in dataset.take(1):\n",
        "    # augmented_images = data_augementation()(images)\n",
        "    # ax = plt.subplot(3, 3, i + 1)\n",
        "    plt.imshow(images[0].numpy())\n",
        "    plt.axis(\"off\")\n"
      ]
    },
    {
      "cell_type": "markdown",
      "metadata": {
        "id": "ZdDhk26-FJ9_"
      },
      "source": [
        "## Calculating the number of input channel for the generator and discriminator\n",
        "\n",
        "In a regular (unconditional) GAN, we start by sampling noise (of some fixed\n",
        "dimension) from a normal distribution. In our case, we also need to account\n",
        "for the class labels. We will have to add the number of classes to\n",
        "the input channels of the generator (noise input) as well as the discriminator\n",
        "(generated image input)."
      ]
    },
    {
      "cell_type": "code",
      "execution_count": 13,
      "metadata": {
        "colab": {
          "base_uri": "https://localhost:8080/"
        },
        "id": "j4u_tre2FJ9_",
        "outputId": "5997aaa5-8b41-4b0f-c2cf-bf1d9bb05ab5"
      },
      "outputs": [
        {
          "name": "stdout",
          "output_type": "stream",
          "text": [
            "128 3\n"
          ]
        }
      ],
      "source": [
        "generator_in_channels = latent_dim  # num_classes\n",
        "discriminator_in_channels = num_channels  # + 1 # num_classes\n",
        "print(generator_in_channels, discriminator_in_channels)\n"
      ]
    },
    {
      "cell_type": "markdown",
      "metadata": {
        "id": "tYUprUc6FJ-A"
      },
      "source": [
        "## Creating the discriminator and generator\n",
        "\n",
        "The model definitions (`discriminator`, `generator`, and `ConditionalGAN`) have been\n",
        "adapted from [this example](https://keras.io/guides/customizing_what_happens_in_fit/).\n",
        "\n",
        "Note that you need to adjust these models for work with color images."
      ]
    },
    {
      "cell_type": "code",
      "execution_count": 14,
      "metadata": {
        "id": "7EhTQ-jsFJ-B"
      },
      "outputs": [],
      "source": [
        "# Create the discriminator.\n",
        "discriminator = keras.Sequential(\n",
        "    [\n",
        "        # keras.layers.InputLayer((*IMG_SIZE, discriminator_in_channels)),\n",
        "        # tf.keras.layers.RandomTranslation(0.05, 0.05),\n",
        "        # tf.keras.layers.RandomFlip(\"horizontal\"),\n",
        "        # tf.keras.layers.RandomRotation(0.05),\n",
        "        # tf.keras.layers.RandomZoom(0.05),\n",
        "        # layers.Conv2D(64, kernel_size=4, strides=2, padding=\"same\"),\n",
        "        # layers.BatchNormalization(),\n",
        "        # layers.LeakyReLU(alpha=0.2),\n",
        "        # layers.Conv2D(128, kernel_size=4, strides=2, padding=\"same\"),\n",
        "        # layers.BatchNormalization(),\n",
        "        # layers.LeakyReLU(alpha=0.2),\n",
        "        # layers.Conv2D(256, kernel_size=4, strides=2, padding=\"same\"),\n",
        "        # layers.BatchNormalization(),\n",
        "        # layers.LeakyReLU(alpha=0.2),\n",
        "        # layers.Conv2D(256 * 2, kernel_size=4, strides=2, padding=\"same\"),\n",
        "        # # layers.BatchNormalization(),\n",
        "        # # layers.LeakyReLU(alpha=0.2),\n",
        "        # # layers.Conv2D(1, kernel_size=4, strides=1, padding=\"valid\"),\n",
        "        # layers.Flatten(),\n",
        "        # layers.Dropout(0.2),\n",
        "        # layers.Dense(1, activation=\"sigmoid\"),\n",
        "        keras.Input(shape=(*IMG_SIZE, 3)),\n",
        "        layers.Conv2D(64, kernel_size=4, strides=2, padding=\"same\"),\n",
        "        layers.LeakyReLU(alpha=0.2),\n",
        "        layers.Conv2D(128, kernel_size=4, strides=2, padding=\"same\"),\n",
        "        layers.LeakyReLU(alpha=0.2),\n",
        "        layers.Conv2D(128, kernel_size=4, strides=2, padding=\"same\"),\n",
        "        layers.LeakyReLU(alpha=0.2),\n",
        "        layers.Flatten(),\n",
        "        layers.Dropout(0.2),\n",
        "        layers.Dense(1, activation=\"sigmoid\"),\n",
        "    ],\n",
        "    name=\"discriminator\",\n",
        ")\n",
        "\n",
        "# Create the generator.\n",
        "# generator = keras.Sequential(\n",
        "#     [\n",
        "#         keras.Input(shape=(generator_in_channels,)),\n",
        "#         # layers.Reshape()\n",
        "#         layers.Dense(8 * 8 * 128),\n",
        "#         layers.Reshape((8, 8, 128)),\n",
        "#         layers.Conv2DTranspose(128, kernel_size=4, strides=2, padding=\"same\"),\n",
        "#         # layers.Conv2DTranspose(\n",
        "#         #     IMG_SIZE[0] * 2, kernel_size=4, strides=2, padding=\"same\"\n",
        "#         # ),\n",
        "#         # layers.BatchNormalization(),\n",
        "#         layers.Dropout(0.1),\n",
        "#         layers.LeakyReLU(alpha=0.2),\n",
        "        \n",
        "#         layers.Conv2DTranspose(\n",
        "#             IMG_SIZE[0] * 4, kernel_size=4, strides=2, padding=\"same\"\n",
        "#         ),\n",
        "#         # layers.BatchNormalization(),\n",
        "#         layers.LeakyReLU(alpha=0.2),\n",
        "        \n",
        "#         layers.Conv2DTranspose(\n",
        "#             IMG_SIZE[0] * 8, kernel_size=4, strides=2, padding=\"same\"\n",
        "#         ),\n",
        "#         # layers.BatchNormalization(),\n",
        "#         layers.Dropout(0.1),\n",
        "#         layers.LeakyReLU(alpha=0.2),\n",
        "#         # ayers.LeakyReLU(alpha=0.2),\n",
        "#         layers.Conv2D(3, kernel_size=5, padding=\"same\", activation=\"sigmoid\"),        \n",
        "#         # layers.Conv2DTranspose(\n",
        "#         #     # input_shape=(IMG_SIZE[0], 32, 32),\n",
        "#         #     filters=3,\n",
        "#         #     kernel_size=5,\n",
        "#         #     strides=2,\n",
        "#         #     padding=\"same\",\n",
        "#         # ),\n",
        "#         # layers.Activation(\"tanh\"),\n",
        "#     ],\n",
        "#     name=\"generator\",\n",
        "# )\n",
        "\n"
      ]
    },
    {
      "cell_type": "code",
      "execution_count": 15,
      "metadata": {
        "colab": {
          "base_uri": "https://localhost:8080/",
          "height": 754
        },
        "id": "FQEPGNwsjqKf",
        "outputId": "d214eb5c-68fd-4c92-c8f8-8258a95d9c56"
      },
      "outputs": [],
      "source": [
        "generator = keras.Sequential(\n",
        "    [\n",
        "        keras.Input(shape=(generator_in_channels,)),\n",
        "        layers.Dense(8 * 8 * 128),\n",
        "        layers.Reshape((8, 8, 128)),\n",
        "        layers.Conv2DTranspose(128, kernel_size=4, strides=2, padding=\"same\"),\n",
        "        layers.Dropout(0.1),\n",
        "        layers.LeakyReLU(alpha=0.2),\n",
        "        layers.Conv2DTranspose(256, kernel_size=4, strides=2, padding=\"same\"),\n",
        "        layers.LeakyReLU(alpha=0.2),\n",
        "        layers.Conv2DTranspose(512, kernel_size=4, strides=2, padding=\"same\"),\n",
        "        layers.Dropout(0.1),\n",
        "        layers.LeakyReLU(alpha=0.2),\n",
        "        layers.Conv2D(3, kernel_size=5, padding=\"same\", activation=\"sigmoid\"),\n",
        "    ],\n",
        "    name=\"generator\",\n",
        ")"
      ]
    },
    {
      "cell_type": "code",
      "execution_count": 18,
      "metadata": {},
      "outputs": [],
      "source": [
        "# tf.keras.utils.plot_model(generator2, show_shapes=True)"
      ]
    },
    {
      "cell_type": "code",
      "execution_count": 20,
      "metadata": {
        "colab": {
          "base_uri": "https://localhost:8080/",
          "height": 976
        },
        "id": "WJ9gS38_j9i6",
        "outputId": "2e552ffc-5264-4344-b74b-aab019b1e568"
      },
      "outputs": [
        {
          "data": {
            "image/png": "[encoded data removed]",
            "text/plain": [
              "<IPython.core.display.Image object>"
            ]
          },
          "execution_count": 20,
          "metadata": {},
          "output_type": "execute_result"
        }
      ],
      "source": [
        "tf.keras.utils.plot_model(generator, show_shapes=True)\n"
      ]
    },
    {
      "cell_type": "markdown",
      "metadata": {
        "id": "hRGWpfBRFJ-C"
      },
      "source": [
        "## Creating a `ConditionalGAN` model"
      ]
    },
    {
      "cell_type": "code",
      "execution_count": null,
      "metadata": {},
      "outputs": [
        {
          "ename": "NameError",
          "evalue": "name 'keras' is not defined",
          "output_type": "error",
          "traceback": [
            "\u001b[0;31m---------------------------------------------------------------------------\u001b[0m",
            "\u001b[0;31mNameError\u001b[0m                                 Traceback (most recent call last)",
            "\u001b[1;32m/home/max/tmp/homework/spring-2022/ece-693/HW5/HW5.ipynb Cell 36'\u001b[0m in \u001b[0;36m<cell line: 1>\u001b[0;34m()\u001b[0m\n\u001b[0;32m----> <a href='vscode-notebook-cell://ssh-remote%2B64core/home/max/tmp/homework/spring-2022/ece-693/HW5/HW5.ipynb#ch0000047vscode-remote?line=0'>1</a>\u001b[0m \u001b[39mclass\u001b[39;00m \u001b[39mConditionalGAN\u001b[39;00m(keras\u001b[39m.\u001b[39mModel):\n\u001b[1;32m      <a href='vscode-notebook-cell://ssh-remote%2B64core/home/max/tmp/homework/spring-2022/ece-693/HW5/HW5.ipynb#ch0000047vscode-remote?line=1'>2</a>\u001b[0m     \u001b[39mdef\u001b[39;00m \u001b[39m__init__\u001b[39m(\u001b[39mself\u001b[39m, discriminator, generator, latent_dim):\n\u001b[1;32m      <a href='vscode-notebook-cell://ssh-remote%2B64core/home/max/tmp/homework/spring-2022/ece-693/HW5/HW5.ipynb#ch0000047vscode-remote?line=2'>3</a>\u001b[0m         \u001b[39msuper\u001b[39m(ConditionalGAN, \u001b[39mself\u001b[39m)\u001b[39m.\u001b[39m\u001b[39m__init__\u001b[39m()\n",
            "\u001b[0;31mNameError\u001b[0m: name 'keras' is not defined"
          ]
        }
      ],
      "source": [
        "# class ConditionalGAN(keras.Model):\n",
        "#     def __init__(self, discriminator, generator, latent_dim):\n",
        "#         super(ConditionalGAN, self).__init__()\n",
        "#         self.discriminator = discriminator\n",
        "#         self.generator = generator\n",
        "#         self.latent_dim = latent_dim\n",
        "#         self.gen_loss_tracker = keras.metrics.Mean(name=\"generator_loss\")\n",
        "#         self.disc_loss_tracker = keras.metrics.Mean(name=\"discriminator_loss\")\n",
        "\n",
        "#     @property\n",
        "#     def metrics(self):\n",
        "#         return [self.gen_loss_tracker, self.disc_loss_tracker]\n",
        "\n",
        "#     def compile(self, d_optimizer, g_optimizer, loss_fn):\n",
        "#         super(ConditionalGAN, self).compile()\n",
        "#         self.d_optimizer = d_optimizer\n",
        "#         self.g_optimizer = g_optimizer\n",
        "#         self.loss_fn = loss_fn\n",
        "\n",
        "#     def train_step(self, data):\n",
        "#         # Unpack the data.\n",
        "#         real_images, one_hot_labels = data\n",
        "\n",
        "#         # Add dummy dimensions to the labels so that they can be concatenated with\n",
        "#         # the images. This is for the discriminator.\n",
        "#         image_one_hot_labels = one_hot_labels[:, :, None, None]\n",
        "#         image_one_hot_labels = tf.repeat(\n",
        "#             image_one_hot_labels, repeats=[image_size * image_size]\n",
        "#         )\n",
        "#         image_one_hot_labels = tf.reshape(\n",
        "#             image_one_hot_labels, (-1, image_size, image_size, num_classes)\n",
        "#         )\n",
        "\n",
        "#         # Sample random points in the latent space and concatenate the labels.\n",
        "#         # This is for the generator.\n",
        "#         batch_size = tf.shape(real_images)[0]\n",
        "#         random_latent_vectors = tf.random.normal(shape=(batch_size, self.latent_dim))\n",
        "#         random_vector_labels = tf.concat(\n",
        "#             [random_latent_vectors, one_hot_labels], axis=1\n",
        "#         )\n",
        "\n",
        "#         # Decode the noise (guided by labels) to fake images.\n",
        "#         generated_images = self.generator(random_vector_labels)\n",
        "\n",
        "#         # Combine them with real images. Note that we are concatenating the labels\n",
        "#         # with these images here.\n",
        "#         fake_image_and_labels = tf.concat([generated_images, image_one_hot_labels], -1)\n",
        "#         real_image_and_labels = tf.concat([real_images, image_one_hot_labels], -1)\n",
        "#         combined_images = tf.concat(\n",
        "#             [fake_image_and_labels, real_image_and_labels], axis=0\n",
        "#         )\n",
        "\n",
        "#         # Assemble labels discriminating real from fake images.\n",
        "#         labels = tf.concat(\n",
        "#             [tf.ones((batch_size, 1)), tf.zeros((batch_size, 1))], axis=0\n",
        "#         )\n",
        "\n",
        "#         # Train the discriminator.\n",
        "#         with tf.GradientTape() as tape:\n",
        "#             predictions = self.discriminator(combined_images)\n",
        "#             d_loss = self.loss_fn(labels, predictions)\n",
        "#         grads = tape.gradient(d_loss, self.discriminator.trainable_weights)\n",
        "#         self.d_optimizer.apply_gradients(\n",
        "#             zip(grads, self.discriminator.trainable_weights)\n",
        "#         )\n",
        "\n",
        "#         # Sample random points in the latent space.\n",
        "#         random_latent_vectors = tf.random.normal(shape=(batch_size, self.latent_dim))\n",
        "#         random_vector_labels = tf.concat(\n",
        "#             [random_latent_vectors, one_hot_labels], axis=1\n",
        "#         )\n",
        "\n",
        "#         # Assemble labels that say \"all real images\".\n",
        "#         misleading_labels = tf.zeros((batch_size, 1))\n",
        "\n",
        "#         # Train the generator (note that we should *not* update the weights\n",
        "#         # of the discriminator)!\n",
        "#         with tf.GradientTape() as tape:\n",
        "#             fake_images = self.generator(random_vector_labels)\n",
        "#             fake_image_and_labels = tf.concat([fake_images, image_one_hot_labels], -1)\n",
        "#             predictions = self.discriminator(fake_image_and_labels)\n",
        "#             g_loss = self.loss_fn(misleading_labels, predictions)\n",
        "#         grads = tape.gradient(g_loss, self.generator.trainable_weights)\n",
        "#         self.g_optimizer.apply_gradients(zip(grads, self.generator.trainable_weights))\n",
        "\n",
        "#         # Monitor loss.\n",
        "#         self.gen_loss_tracker.update_state(g_loss)\n",
        "#         self.disc_loss_tracker.update_state(d_loss)\n",
        "#         return {\n",
        "#             \"g_loss\": self.gen_loss_tracker.result(),\n",
        "#             \"d_loss\": self.disc_loss_tracker.result(),\n",
        "#         }\n"
      ]
    },
    {
      "cell_type": "code",
      "execution_count": 16,
      "metadata": {},
      "outputs": [],
      "source": [
        "class GAN(keras.Model):\n",
        "    def __init__(self, discriminator, generator, latent_dim):\n",
        "        super().__init__()\n",
        "        self.discriminator = discriminator\n",
        "        self.generator = generator\n",
        "        self.latent_dim = latent_dim\n",
        "        self.d_loss_metric = keras.metrics.Mean(name=\"d_loss\")\n",
        "        self.g_loss_metric = keras.metrics.Mean(name=\"g_loss\")\n",
        "\n",
        "    def compile(self, d_optimizer, g_optimizer, loss_fn):\n",
        "        super(GAN, self).compile()\n",
        "        self.d_optimizer = d_optimizer\n",
        "        self.g_optimizer = g_optimizer\n",
        "        self.loss_fn = loss_fn\n",
        "\n",
        "    @property\n",
        "    def metrics(self):\n",
        "        return [self.d_loss_metric, self.g_loss_metric]\n",
        "\n",
        "    def train_step(self, real_images):\n",
        "        batch_size = tf.shape(real_images)[0]\n",
        "        random_latent_vectors = tf.random.normal(shape=(batch_size, self.latent_dim))\n",
        "        generated_images = self.generator(random_latent_vectors)\n",
        "        combined_images = tf.concat([generated_images, real_images], axis=0)\n",
        "        labels = tf.concat(\n",
        "            [tf.ones((batch_size, 1)), tf.zeros((batch_size, 1))], axis=0\n",
        "        )\n",
        "        labels += 0.05 * tf.random.uniform(tf.shape(labels))\n",
        "\n",
        "        with tf.GradientTape() as tape:\n",
        "            predictions = self.discriminator(combined_images)\n",
        "            d_loss = self.loss_fn(labels, predictions)\n",
        "        grads = tape.gradient(d_loss, self.discriminator.trainable_weights)\n",
        "        self.d_optimizer.apply_gradients(\n",
        "            zip(grads, self.discriminator.trainable_weights)\n",
        "        )\n",
        "\n",
        "        random_latent_vectors = tf.random.normal(shape=(batch_size, self.latent_dim))\n",
        "\n",
        "        misleading_labels = tf.zeros((batch_size, 1))\n",
        "\n",
        "        with tf.GradientTape() as tape:\n",
        "            predictions = self.discriminator(self.generator(random_latent_vectors))\n",
        "            g_loss = self.loss_fn(misleading_labels, predictions)\n",
        "        grads = tape.gradient(g_loss, self.generator.trainable_weights)\n",
        "        self.g_optimizer.apply_gradients(zip(grads, self.generator.trainable_weights))\n",
        "\n",
        "        self.d_loss_metric.update_state(d_loss)\n",
        "        self.g_loss_metric.update_state(g_loss)\n",
        "        return {\n",
        "            \"d_loss\": self.d_loss_metric.result(),\n",
        "            \"g_loss\": self.g_loss_metric.result(),\n",
        "        }\n"
      ]
    },
    {
      "cell_type": "markdown",
      "metadata": {
        "id": "NjMKirV2FJ-E"
      },
      "source": [
        "## Training the Conditional GAN\n",
        "\n",
        "**Do not forget to save the model after training and include the model with the submission**"
      ]
    },
    {
      "cell_type": "code",
      "execution_count": 17,
      "metadata": {},
      "outputs": [],
      "source": [
        "class GANMonitor(keras.callbacks.Callback):\n",
        "    def __init__(self, num_img=3, latent_dim=128):\n",
        "        self.num_img = num_img\n",
        "        self.latent_dim = latent_dim\n",
        "\n",
        "    def on_epoch_end(self, epoch, logs=None):\n",
        "        random_latent_vectors = tf.random.normal(shape=(self.num_img, self.latent_dim))\n",
        "        generated_images = self.model.generator(random_latent_vectors)\n",
        "        # generated_images *= 255\n",
        "        generated_images = generated_images.numpy()\n",
        "\n",
        "        for i in range(self.num_img):\n",
        "            img = keras.utils.array_to_img(generated_images[i])\n",
        "            img.save(os.path.join(ROOT, \"data\", f\"generated_img_{epoch:03d}_{i}.png\"))\n"
      ]
    },
    {
      "cell_type": "code",
      "execution_count": 25,
      "metadata": {},
      "outputs": [],
      "source": [
        "cond_gan = GAN(discriminator=discriminator, generator=generator, latent_dim=latent_dim)\n",
        "\n",
        "cond_gan.compile(\n",
        "    d_optimizer=keras.optimizers.Adam(\n",
        "        learning_rate=0.0001,\n",
        "        beta_1=0.5\n",
        "    ),\n",
        "    g_optimizer=keras.optimizers.Adam(\n",
        "        learning_rate=0.0001,\n",
        "        beta_1=0.5\n",
        "    ),\n",
        "    loss_fn=keras.losses.BinaryCrossentropy(),\n",
        ")\n",
        "\n",
        "# cond_gan.load_weights('test.keras')\n"
      ]
    },
    {
      "cell_type": "code",
      "execution_count": 30,
      "metadata": {
        "colab": {
          "base_uri": "https://localhost:8080/"
        },
        "id": "HAG55cSAFJ-F",
        "outputId": "edeb9c7d-8f94-40a7-c4fe-67384e6d3b9a"
      },
      "outputs": [
        {
          "name": "stdout",
          "output_type": "stream",
          "text": [
            "Epoch 1/500\n",
            "196/196 [==============================] - 42s 216ms/step - d_loss: 0.6922 - g_loss: 0.7449\n",
            "Epoch 2/500\n",
            "196/196 [==============================] - 43s 220ms/step - d_loss: 0.6922 - g_loss: 0.7453\n",
            "Epoch 3/500\n",
            "196/196 [==============================] - 44s 222ms/step - d_loss: 0.6921 - g_loss: 0.7441\n",
            "Epoch 4/500\n",
            "196/196 [==============================] - 44s 223ms/step - d_loss: 0.6922 - g_loss: 0.7452\n",
            "Epoch 5/500\n",
            "196/196 [==============================] - 44s 223ms/step - d_loss: 0.6921 - g_loss: 0.7448\n",
            "Epoch 6/500\n",
            "196/196 [==============================] - 44s 224ms/step - d_loss: 0.6920 - g_loss: 0.7446\n",
            "Epoch 7/500\n",
            "196/196 [==============================] - 44s 224ms/step - d_loss: 0.6923 - g_loss: 0.7453\n",
            "Epoch 8/500\n",
            "196/196 [==============================] - 44s 223ms/step - d_loss: 0.6922 - g_loss: 0.7451\n",
            "Epoch 9/500\n",
            "196/196 [==============================] - 44s 226ms/step - d_loss: 0.6922 - g_loss: 0.7446\n",
            "Epoch 10/500\n",
            "196/196 [==============================] - 44s 223ms/step - d_loss: 0.6921 - g_loss: 0.7451\n",
            "Epoch 11/500\n",
            "196/196 [==============================] - 44s 224ms/step - d_loss: 0.6921 - g_loss: 0.7440\n",
            "Epoch 12/500\n",
            "196/196 [==============================] - 44s 222ms/step - d_loss: 0.6922 - g_loss: 0.7459\n",
            "Epoch 13/500\n",
            "196/196 [==============================] - 44s 224ms/step - d_loss: 0.6921 - g_loss: 0.7454\n",
            "Epoch 14/500\n",
            "196/196 [==============================] - 44s 224ms/step - d_loss: 0.6921 - g_loss: 0.7438\n",
            "Epoch 15/500\n",
            "196/196 [==============================] - 44s 224ms/step - d_loss: 0.6922 - g_loss: 0.7454\n",
            "Epoch 16/500\n",
            "196/196 [==============================] - 44s 224ms/step - d_loss: 0.6920 - g_loss: 0.7445\n",
            "Epoch 17/500\n",
            "196/196 [==============================] - 44s 223ms/step - d_loss: 0.6920 - g_loss: 0.7449\n",
            "Epoch 18/500\n",
            "196/196 [==============================] - 44s 224ms/step - d_loss: 0.6921 - g_loss: 0.7449\n",
            "Epoch 19/500\n",
            "196/196 [==============================] - 44s 226ms/step - d_loss: 0.6921 - g_loss: 0.7449\n",
            "Epoch 20/500\n",
            "196/196 [==============================] - 44s 224ms/step - d_loss: 0.6920 - g_loss: 0.7453\n",
            "Epoch 21/500\n",
            "196/196 [==============================] - 44s 225ms/step - d_loss: 0.6921 - g_loss: 0.7446\n",
            "Epoch 22/500\n",
            "196/196 [==============================] - 44s 224ms/step - d_loss: 0.6922 - g_loss: 0.7454\n",
            "Epoch 23/500\n",
            "196/196 [==============================] - 44s 225ms/step - d_loss: 0.6924 - g_loss: 0.7465\n",
            "Epoch 24/500\n",
            "196/196 [==============================] - 44s 223ms/step - d_loss: 0.6924 - g_loss: 0.7452\n",
            "Epoch 25/500\n",
            "196/196 [==============================] - 44s 223ms/step - d_loss: 0.6922 - g_loss: 0.7451\n",
            "Epoch 26/500\n",
            "196/196 [==============================] - 44s 224ms/step - d_loss: 0.6921 - g_loss: 0.7445\n",
            "Epoch 27/500\n",
            "196/196 [==============================] - 44s 224ms/step - d_loss: 0.6921 - g_loss: 0.7454\n",
            "Epoch 28/500\n",
            "196/196 [==============================] - 44s 223ms/step - d_loss: 0.6920 - g_loss: 0.7443\n",
            "Epoch 29/500\n",
            "196/196 [==============================] - 44s 224ms/step - d_loss: 0.6920 - g_loss: 0.7442\n",
            "Epoch 30/500\n",
            "196/196 [==============================] - 44s 224ms/step - d_loss: 0.6924 - g_loss: 0.7458\n",
            "Epoch 31/500\n",
            "196/196 [==============================] - 44s 223ms/step - d_loss: 0.6921 - g_loss: 0.7453\n",
            "Epoch 32/500\n",
            "196/196 [==============================] - 44s 226ms/step - d_loss: 0.6921 - g_loss: 0.7451\n",
            "Epoch 33/500\n",
            "196/196 [==============================] - 44s 225ms/step - d_loss: 0.6923 - g_loss: 0.7445\n",
            "Epoch 34/500\n",
            "196/196 [==============================] - 44s 224ms/step - d_loss: 0.6921 - g_loss: 0.7447\n",
            "Epoch 35/500\n",
            "196/196 [==============================] - 44s 225ms/step - d_loss: 0.6920 - g_loss: 0.7445\n",
            "Epoch 36/500\n",
            "196/196 [==============================] - 44s 224ms/step - d_loss: 0.6921 - g_loss: 0.7454\n",
            "Epoch 37/500\n",
            "196/196 [==============================] - 44s 224ms/step - d_loss: 0.6921 - g_loss: 0.7454\n",
            "Epoch 38/500\n",
            "196/196 [==============================] - 44s 225ms/step - d_loss: 0.6921 - g_loss: 0.7449\n",
            "Epoch 39/500\n",
            "196/196 [==============================] - 44s 224ms/step - d_loss: 0.6924 - g_loss: 0.7456\n",
            "Epoch 40/500\n",
            "196/196 [==============================] - 44s 223ms/step - d_loss: 0.6921 - g_loss: 0.7450\n",
            "Epoch 41/500\n",
            "196/196 [==============================] - 44s 225ms/step - d_loss: 0.6921 - g_loss: 0.7447\n",
            "Epoch 42/500\n",
            "196/196 [==============================] - 44s 226ms/step - d_loss: 0.6922 - g_loss: 0.7444\n",
            "Epoch 43/500\n",
            "196/196 [==============================] - 44s 226ms/step - d_loss: 0.6921 - g_loss: 0.7450\n",
            "Epoch 44/500\n",
            "196/196 [==============================] - 44s 223ms/step - d_loss: 0.6922 - g_loss: 0.7451\n",
            "Epoch 45/500\n",
            "196/196 [==============================] - 44s 225ms/step - d_loss: 0.6922 - g_loss: 0.7445\n",
            "Epoch 46/500\n",
            "196/196 [==============================] - 44s 223ms/step - d_loss: 0.6923 - g_loss: 0.7461\n",
            "Epoch 47/500\n",
            "196/196 [==============================] - 44s 224ms/step - d_loss: 0.6922 - g_loss: 0.7461\n",
            "Epoch 48/500\n",
            "196/196 [==============================] - 44s 224ms/step - d_loss: 0.6923 - g_loss: 0.7448\n",
            "Epoch 49/500\n",
            "196/196 [==============================] - 44s 226ms/step - d_loss: 0.6920 - g_loss: 0.7455\n",
            "Epoch 50/500\n",
            "196/196 [==============================] - 44s 224ms/step - d_loss: 0.6921 - g_loss: 0.7444\n",
            "Epoch 51/500\n",
            "196/196 [==============================] - 44s 224ms/step - d_loss: 0.6921 - g_loss: 0.7442\n",
            "Epoch 52/500\n",
            "196/196 [==============================] - 44s 224ms/step - d_loss: 0.6921 - g_loss: 0.7448\n",
            "Epoch 53/500\n",
            "196/196 [==============================] - 44s 225ms/step - d_loss: 0.6921 - g_loss: 0.7448\n",
            "Epoch 54/500\n",
            "196/196 [==============================] - 44s 223ms/step - d_loss: 0.6920 - g_loss: 0.7447\n",
            "Epoch 55/500\n",
            "196/196 [==============================] - 44s 224ms/step - d_loss: 0.6921 - g_loss: 0.7448\n",
            "Epoch 56/500\n",
            "196/196 [==============================] - 44s 224ms/step - d_loss: 0.6921 - g_loss: 0.7449\n",
            "Epoch 57/500\n",
            "196/196 [==============================] - 44s 224ms/step - d_loss: 0.6920 - g_loss: 0.7452\n",
            "Epoch 58/500\n",
            "196/196 [==============================] - 44s 224ms/step - d_loss: 0.6922 - g_loss: 0.7449\n",
            "Epoch 59/500\n",
            "196/196 [==============================] - 44s 224ms/step - d_loss: 0.6923 - g_loss: 0.7446\n",
            "Epoch 60/500\n",
            "196/196 [==============================] - 44s 225ms/step - d_loss: 0.6923 - g_loss: 0.7465\n",
            "Epoch 61/500\n",
            "196/196 [==============================] - 44s 224ms/step - d_loss: 0.6926 - g_loss: 0.7454\n",
            "Epoch 62/500\n",
            "196/196 [==============================] - 44s 224ms/step - d_loss: 0.6921 - g_loss: 0.7444\n",
            "Epoch 63/500\n",
            "196/196 [==============================] - 44s 223ms/step - d_loss: 0.6922 - g_loss: 0.7458\n",
            "Epoch 64/500\n",
            "196/196 [==============================] - 44s 225ms/step - d_loss: 0.6922 - g_loss: 0.7445\n",
            "Epoch 65/500\n",
            "196/196 [==============================] - 44s 224ms/step - d_loss: 0.6922 - g_loss: 0.7456\n",
            "Epoch 66/500\n",
            "196/196 [==============================] - 44s 223ms/step - d_loss: 0.6921 - g_loss: 0.7449\n",
            "Epoch 67/500\n",
            "196/196 [==============================] - 44s 224ms/step - d_loss: 0.6921 - g_loss: 0.7444\n",
            "Epoch 68/500\n",
            "196/196 [==============================] - 44s 224ms/step - d_loss: 0.6921 - g_loss: 0.7445\n",
            "Epoch 69/500\n",
            "196/196 [==============================] - 44s 224ms/step - d_loss: 0.6922 - g_loss: 0.7446\n",
            "Epoch 70/500\n",
            "196/196 [==============================] - 44s 223ms/step - d_loss: 0.6920 - g_loss: 0.7443\n",
            "Epoch 71/500\n",
            "196/196 [==============================] - 44s 225ms/step - d_loss: 0.6922 - g_loss: 0.7447\n",
            "Epoch 72/500\n",
            "196/196 [==============================] - 44s 224ms/step - d_loss: 0.6922 - g_loss: 0.7446\n",
            "Epoch 73/500\n",
            "196/196 [==============================] - 44s 224ms/step - d_loss: 0.6923 - g_loss: 0.7451\n",
            "Epoch 74/500\n",
            "176/196 [=========================>....] - ETA: 4s - d_loss: 0.6921 - g_loss: 0.7455"
          ]
        }
      ],
      "source": [
        "checkpoint_filepath = os.path.join(ROOT, \"model_checkpoint\")\n",
        "\n",
        "model_checkpoint_callback = tf.keras.callbacks.ModelCheckpoint(\n",
        "    \"gan.h5\",\n",
        "    save_weights_only=True,\n",
        "    monitor=\"g_loss\",\n",
        "    mode=\"min\",\n",
        "    save_best_only=True,\n",
        ")\n",
        "\n",
        "# cond_gan = GAN(discriminator=discriminator, generator=generator, latent_dim=latent_dim)\n",
        "\n",
        "\n",
        "cond_gan.fit(\n",
        "    dataset,\n",
        "    epochs=500,\n",
        "    callbacks=[GANMonitor(num_img=1, latent_dim=generator_in_channels), model_checkpoint_callback],\n",
        ")\n"
      ]
    },
    {
      "cell_type": "code",
      "execution_count": null,
      "metadata": {},
      "outputs": [],
      "source": []
    },
    {
      "cell_type": "code",
      "execution_count": null,
      "metadata": {},
      "outputs": [],
      "source": [
        "cond_gan.generator.save_weights(\"generator_test_weights.keras\")\n",
        "cond_gan.discriminator.save_weights(\"discriminator_test_weights.keras\")"
      ]
    },
    {
      "cell_type": "code",
      "execution_count": null,
      "metadata": {},
      "outputs": [
        {
          "name": "stdout",
          "output_type": "stream",
          "text": [
            "WARNING:tensorflow:Compiled the loaded model, but the compiled metrics have yet to be built. `model.compile_metrics` will be empty until you train or evaluate the model.\n",
            "WARNING:tensorflow:Compiled the loaded model, but the compiled metrics have yet to be built. `model.compile_metrics` will be empty until you train or evaluate the model.\n"
          ]
        }
      ],
      "source": [
        "cond_gan.generator.save(\"generator_test.h5\")\n",
        "cond_gan.discriminator.save(\"discriminator_test.h5\")"
      ]
    },
    {
      "cell_type": "markdown",
      "metadata": {
        "id": "ZkfA2owhFJ-F"
      },
      "source": [
        "## Interpolating between classes with the trained generator\n",
        "\n",
        "**Load the model from the file, generate images**\n",
        "\n",
        "Note that the class choice may be set the same for start_class and end_class. In this case generate 1 image of the target class."
      ]
    },
    {
      "cell_type": "code",
      "execution_count": null,
      "metadata": {
        "colab": {
          "base_uri": "https://localhost:8080/",
          "height": 236
        },
        "id": "qFgBHr3cFJ-F",
        "outputId": "8da63c89-2e52-431c-81e7-a4a79ea76284"
      },
      "outputs": [
        {
          "ename": "NameError",
          "evalue": "ignored",
          "output_type": "error",
          "traceback": [
            "\u001b[0;31m---------------------------------------------------------------------------\u001b[0m",
            "\u001b[0;31mNameError\u001b[0m                                 Traceback (most recent call last)",
            "\u001b[0;32m<ipython-input-16-61ecf5885f6a>\u001b[0m in \u001b[0;36m<module>\u001b[0;34m()\u001b[0m\n\u001b[1;32m      1\u001b[0m \u001b[0;31m# We first extract the trained generator from our Conditiona GAN.\u001b[0m\u001b[0;34m\u001b[0m\u001b[0;34m\u001b[0m\u001b[0;34m\u001b[0m\u001b[0m\n\u001b[0;32m----> 2\u001b[0;31m \u001b[0mtrained_gen\u001b[0m \u001b[0;34m=\u001b[0m \u001b[0mcond_gan\u001b[0m\u001b[0;34m.\u001b[0m\u001b[0mgenerator\u001b[0m\u001b[0;34m\u001b[0m\u001b[0;34m\u001b[0m\u001b[0m\n\u001b[0m\u001b[1;32m      3\u001b[0m \u001b[0;34m\u001b[0m\u001b[0m\n\u001b[1;32m      4\u001b[0m \u001b[0;31m# Choose the number of intermediate images that would be generated in\u001b[0m\u001b[0;34m\u001b[0m\u001b[0;34m\u001b[0m\u001b[0;34m\u001b[0m\u001b[0m\n\u001b[1;32m      5\u001b[0m \u001b[0;31m# between the interpolation + 2 (start and last images).\u001b[0m\u001b[0;34m\u001b[0m\u001b[0;34m\u001b[0m\u001b[0;34m\u001b[0m\u001b[0m\n",
            "\u001b[0;31mNameError\u001b[0m: name 'cond_gan' is not defined"
          ]
        }
      ],
      "source": [
        "# We first extract the trained generator from our Conditiona GAN.\n",
        "trained_gen = cond_gan.generator\n",
        "\n",
        "# Choose the number of intermediate images that would be generated in\n",
        "# between the interpolation + 2 (start and last images).\n",
        "num_interpolation = 9  # @param {type:\"integer\"}\n",
        "\n",
        "# Sample noise for the interpolation.\n",
        "interpolation_noise = tf.random.normal(shape=(1, latent_dim))\n",
        "interpolation_noise = tf.repeat(interpolation_noise, repeats=num_interpolation)\n",
        "interpolation_noise = tf.reshape(interpolation_noise, (num_interpolation, latent_dim))\n",
        "\n",
        "\n",
        "def interpolate_class(first_number, second_number):\n",
        "    # Convert the start and end labels to one-hot encoded vectors.\n",
        "    first_label = keras.utils.to_categorical([first_number], num_classes)\n",
        "    second_label = keras.utils.to_categorical([second_number], num_classes)\n",
        "    first_label = tf.cast(first_label, tf.float32)\n",
        "    second_label = tf.cast(second_label, tf.float32)\n",
        "\n",
        "    # Calculate the interpolation vector between the two labels.\n",
        "    percent_second_label = tf.linspace(0, 1, num_interpolation)[:, None]\n",
        "    percent_second_label = tf.cast(percent_second_label, tf.float32)\n",
        "    interpolation_labels = (\n",
        "        first_label * (1 - percent_second_label) + second_label * percent_second_label\n",
        "    )\n",
        "\n",
        "    # Combine the noise and the labels and run inference with the generator.\n",
        "    noise_and_labels = tf.concat([interpolation_noise, interpolation_labels], 1)\n",
        "    return trained_gen.predict(noise_and_labels)\n",
        "\n",
        "\n",
        "start_class = 1  # @param {type:\"slider\", min:0, max:9, step:1}\n",
        "end_class = 7  # @param {type:\"slider\", min:0, max:9, step:1}\n",
        "\n",
        "fake_images = interpolate_class(start_class, end_class)\n"
      ]
    },
    {
      "cell_type": "markdown",
      "metadata": {
        "id": "t0cq5kAiFJ-G"
      },
      "source": [
        "Here, we first sample noise from a normal distribution and then we repeat that for\n",
        "`num_interpolation` times and reshape the result accordingly.\n",
        "We then distribute it uniformly for `num_interpolation`\n",
        "with the label indentities being present in some proportion."
      ]
    },
    {
      "cell_type": "code",
      "execution_count": null,
      "metadata": {
        "colab": {
          "base_uri": "https://localhost:8080/",
          "height": 117
        },
        "id": "93-WvxP3FJ-G",
        "outputId": "f27bd098-0acf-430a-e307-c46e48297e54"
      },
      "outputs": [
        {
          "data": {
            "text/html": [
              "<img src=\"data:image/gif;base64,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\"/>"
            ],
            "text/plain": [
              "<IPython.core.display.HTML object>"
            ]
          },
          "execution_count": 10,
          "metadata": {},
          "output_type": "execute_result"
        }
      ],
      "source": [
        "fake_images *= 255.0\n",
        "converted_images = fake_images.astype(np.uint8)\n",
        "converted_images = tf.image.resize(converted_images, (96, 96)).numpy().astype(np.uint8)\n",
        "imageio.mimsave(\"animation.gif\", converted_images, fps=1)\n",
        "embed.embed_file(\"animation.gif\")\n"
      ]
    },
    {
      "cell_type": "markdown",
      "metadata": {
        "id": "HKmXXQaMFJ-H"
      },
      "source": [
        "We can further improve the performance of this model with recipes like\n",
        "[WGAN-GP](https://keras.io/examples/generative/wgan_gp).\n",
        "Conditional generation is also widely used in many modern image generation architectures like\n",
        "[VQ-GANs](https://arxiv.org/abs/2012.09841), [DALL-E](https://openai.com/blog/dall-e/),\n",
        "etc.\n",
        "\n",
        "You can use the trained model hosted on [Hugging Face Hub](https://huggingface.co/keras-io/conditional-gan) and try the demo on [Hugging Face Spaces](https://huggingface.co/spaces/keras-io/conditional-GAN)."
      ]
    },
    {
      "cell_type": "markdown",
      "metadata": {
        "id": "zxDSwbbbwCVy"
      },
      "source": [
        "# **Grading**\n",
        "\n",
        "*   (10 pts) Report quality / submission requirement followed (see class policy)\n",
        "*   (90 pts) Correctness of the implementation. The basis is ability of the network to generate coherent shapes that may remotely resemble instances of the target class (as opposed to random noise).\n",
        "*   (10 pts bonus) Explore how **one** of the following affects the realism of image generattion: 1) number of classes; 2) size of the latent dimension; 3) image resolution; 4) increasing the depth / layer type (e.g. implementing residual connections) of the discriminator\n",
        "\n"
      ]
    },
    {
      "cell_type": "markdown",
      "metadata": {
        "id": "bLd0TOeKxyH5"
      },
      "source": [
        "# **Submission**\n",
        "Using Blackboard, submit the .ipynb file, the dataset files, saved models and the report in a compressed folder as defined by the class policy.\n",
        "\n",
        "Note that I will not have access to your Google drive. All files must be local or downloadable by wget/gdown. "
      ]
    }
  ],
  "metadata": {
    "accelerator": "GPU",
    "colab": {
      "collapsed_sections": [],
      "include_colab_link": true,
      "name": "HW5.ipynb",
      "provenance": []
    },
    "kernelspec": {
      "display_name": "Python 3",
      "language": "python",
      "name": "python3"
    },
    "language_info": {
      "codemirror_mode": {
        "name": "ipython",
        "version": 3
      },
      "file_extension": ".py",
      "mimetype": "text/x-python",
      "name": "python",
      "nbconvert_exporter": "python",
      "pygments_lexer": "ipython3",
      "version": "3.9.12"
    }
  },
  "nbformat": 4,
  "nbformat_minor": 0
}
