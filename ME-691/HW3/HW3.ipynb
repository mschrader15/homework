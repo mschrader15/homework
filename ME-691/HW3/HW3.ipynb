{
 "cells": [
  {
   "cell_type": "markdown",
   "metadata": {},
   "source": [
    "# HW 3\n",
    "\n",
    "Max Schrader"
   ]
  },
  {
   "cell_type": "code",
   "execution_count": 1,
   "metadata": {},
   "outputs": [],
   "source": [
    "import numpy as np"
   ]
  },
  {
   "cell_type": "markdown",
   "metadata": {},
   "source": [
    "## Problem 1\n",
    "\n",
    "Program in Python to calculate the value functions in slides 16-18 (three cases for $\\gamma = 0, 0.9, 1$. Compare the results with those in the slides"
   ]
  },
  {
   "cell_type": "code",
   "execution_count": 2,
   "metadata": {},
   "outputs": [],
   "source": [
    "MOVEMENTS = {\"FACEBOOK\": {\"R\": -1, \"P\": {\"FACEBOOK\": 0.9, \"CLASS_1\": 0.1}},\n",
    "             \"CLASS_1\": {\"R\": -2, \"P\": {\"FACEBOOK\": 0.5, \"CLASS_2\": 0.5}},\n",
    "             \"CLASS_2\": {\"R\": -2, \"P\": {\"CLASS_3\": 0.8, \"SLEEP\": 0.2}},\n",
    "             \"CLASS_3\": {\"R\": -2, \"P\": {\"PASS\": 0.6, \"PUB\": 0.4}},\n",
    "             \"PASS\": {\"R\": 10, \"P\": {\"SLEEP\": 1}},\n",
    "             \"SLEEP\": {\"R\": 0, \"P\": {}},\n",
    "             \"PUB\": {\"R\": 1, \"P\": {\"CLASS_1\": 0.2, \"CLASS_2\": 0.4, \"CLASS_3\": 0.4}},\n",
    "             }\n",
    "NUM_STATES = 7"
   ]
  },
  {
   "cell_type": "markdown",
   "metadata": {},
   "source": [
    "### Composing the R and P Matrices"
   ]
  },
  {
   "cell_type": "code",
   "execution_count": 3,
   "metadata": {},
   "outputs": [],
   "source": [
    "P = []\n",
    "R = []\n",
    "ORDER = {key: i for i, key in enumerate(MOVEMENTS.keys())}\n",
    "for state, state_info in MOVEMENTS.items():\n",
    "    R.append(state_info['R'])\n",
    "    P.append([0 for _ in enumerate(ORDER.values())])\n",
    "    for to_state, prob in state_info['P'].items():\n",
    "        P[-1][ORDER[to_state]] = prob\n",
    "P = np.array(P)\n",
    "R = np.array(R)"
   ]
  },
  {
   "cell_type": "markdown",
   "metadata": {},
   "source": [
    "### Calculating the State-Value Function "
   ]
  },
  {
   "cell_type": "code",
   "execution_count": 4,
   "metadata": {},
   "outputs": [],
   "source": [
    "def state_value(discount_factor):\n",
    "    I = np.eye(len(P))\n",
    "    values = np.matmul(np.linalg.inv(I - discount_factor * P), R) \n",
    "    for key, state in ORDER.items():\n",
    "        print(f\"{key}: \", round(values[state], 2))"
   ]
  },
  {
   "cell_type": "markdown",
   "metadata": {},
   "source": [
    "### Discount of 0"
   ]
  },
  {
   "cell_type": "code",
   "execution_count": 5,
   "metadata": {},
   "outputs": [
    {
     "name": "stdout",
     "output_type": "stream",
     "text": [
      "FACEBOOK:  -1.0\n",
      "CLASS_1:  -2.0\n",
      "CLASS_2:  -2.0\n",
      "CLASS_3:  -2.0\n",
      "PASS:  10.0\n",
      "SLEEP:  0.0\n",
      "PUB:  1.0\n"
     ]
    }
   ],
   "source": [
    "state_value(0)"
   ]
  },
  {
   "cell_type": "markdown",
   "metadata": {},
   "source": [
    "### Discount of 0.9"
   ]
  },
  {
   "cell_type": "code",
   "execution_count": 6,
   "metadata": {},
   "outputs": [
    {
     "name": "stdout",
     "output_type": "stream",
     "text": [
      "FACEBOOK:  -7.64\n",
      "CLASS_1:  -5.01\n",
      "CLASS_2:  0.94\n",
      "CLASS_3:  4.09\n",
      "PASS:  10.0\n",
      "SLEEP:  0.0\n",
      "PUB:  1.91\n"
     ]
    }
   ],
   "source": [
    "state_value(0.9)"
   ]
  },
  {
   "cell_type": "markdown",
   "metadata": {},
   "source": [
    "### Discount of 1"
   ]
  },
  {
   "cell_type": "code",
   "execution_count": 7,
   "metadata": {},
   "outputs": [
    {
     "name": "stdout",
     "output_type": "stream",
     "text": [
      "FACEBOOK:  -22.54\n",
      "CLASS_1:  -12.54\n",
      "CLASS_2:  1.46\n",
      "CLASS_3:  4.32\n",
      "PASS:  10.0\n",
      "SLEEP:  0.0\n",
      "PUB:  0.8\n"
     ]
    }
   ],
   "source": [
    "state_value(1)"
   ]
  },
  {
   "cell_type": "markdown",
   "metadata": {},
   "source": [
    "### Compare the results with those in the slides\n",
    "\n",
    "The results are the same as those in the slides, the differences just coming from rounding"
   ]
  },
  {
   "cell_type": "markdown",
   "metadata": {},
   "source": [
    "## Question 2\n",
    "\n",
    "Solve the Bellman equation in either Python or MATLAB using the equation shown in slide 23 and compare the solution with the values shown in slide 21."
   ]
  },
  {
   "cell_type": "code",
   "execution_count": 8,
   "metadata": {},
   "outputs": [],
   "source": [
    "def bellman(p: np.array, r: np.array, gamma: float) -> np.array:\n",
    "    return np.matmul(np.linalg.inv(np.eye(len(p)) - gamma * p), r)"
   ]
  },
  {
   "cell_type": "code",
   "execution_count": 9,
   "metadata": {},
   "outputs": [
    {
     "data": {
      "text/plain": [
       "[-22.54, -12.54, 1.46, 4.32, 10.0, 0.0, 0.8]"
      ]
     },
     "execution_count": 9,
     "metadata": {},
     "output_type": "execute_result"
    }
   ],
   "source": [
    "[round(v, 2) for v in bellman(P, R, 1)]"
   ]
  },
  {
   "cell_type": "markdown",
   "metadata": {},
   "source": [
    "The solution above is the exact same as slide 21, save for the rounding"
   ]
  },
  {
   "cell_type": "markdown",
   "metadata": {},
   "source": [
    "## Question 3\n",
    "\n",
    "Verify all state values in slide 29 by solving the Bellman equations by hand"
   ]
  },
  {
   "cell_type": "code",
   "execution_count": 10,
   "metadata": {},
   "outputs": [
    {
     "name": "stdout",
     "output_type": "stream",
     "text": [
      "Sleep: 0.0\n",
      "Study: 7.39\n",
      "Class 2: 3 2\n",
      "Class 1: -1.3\n",
      "Facebook: -2 2\n"
     ]
    }
   ],
   "source": [
    "gamma = 1\n",
    "policy = 0.5\n",
    "# Sleep:\n",
    "print(\"Sleep:\", policy * (0))\n",
    "# Study:\n",
    "print(\"Study:\", round(policy * (10) + policy * (1 + 0.2*-1.3 + 0.4*2.7 + 0.4*7.4), 2))\n",
    "# Class 2:\n",
    "print(\"Class 2:\", round(policy * (-2 + 7.4) + policy * 0), 2)\n",
    "# Class 1\n",
    "print(\"Class 1:\", round(policy * (-2 + 2.7) + policy* (-1 + -2.3), 2))\n",
    "# Class 1\n",
    "print(\"Facebook:\", round(policy * (-1 + -2.3) + policy * (0 + -1.3)), 2)"
   ]
  },
  {
   "cell_type": "markdown",
   "metadata": {},
   "source": [
    "## Question 4"
   ]
  },
  {
   "cell_type": "markdown",
   "metadata": {},
   "source": [
    "Verify all values of the optimal value function and optimal action-value function in slides 38-39 by solving Bellman equations by hand. Are all values correct"
   ]
  },
  {
   "cell_type": "markdown",
   "metadata": {},
   "source": [
    "### Optimal Value Function"
   ]
  },
  {
   "cell_type": "code",
   "execution_count": 11,
   "metadata": {},
   "outputs": [
    {
     "name": "stdout",
     "output_type": "stream",
     "text": [
      "Facebook: 6\n",
      "Class 1: 6\n",
      "Class 2: 8\n",
      "Class 1: 10\n",
      "Sleep: 0\n"
     ]
    }
   ],
   "source": [
    "# Facebook\n",
    "print(\"Facebook:\", 0 + -2 + -2 + 10)\n",
    "\n",
    "# Class 1\n",
    "print(\"Class 1:\", -2 + -2 + 10)\n",
    "\n",
    "# Class 2\n",
    "print(\"Class 2:\", -2 + 10)\n",
    "\n",
    "# Study\n",
    "print(\"Class 1:\", 10)\n",
    "\n",
    "# Slep\n",
    "print(\"Sleep:\", 0)"
   ]
  },
  {
   "cell_type": "markdown",
   "metadata": {},
   "source": [
    "#### Optimal Action-Value Function"
   ]
  },
  {
   "cell_type": "code",
   "execution_count": 12,
   "metadata": {},
   "outputs": [
    {
     "name": "stdout",
     "output_type": "stream",
     "text": [
      "Facebook -> Facebook: 5\n",
      "Facebook -> Class 1: 6\n",
      "Class 1 -> Facebook: 5\n",
      "Class 1 -> Class 2: 6\n",
      "Class 2 -> Sleep: 0\n",
      "Class 2 -> Study: 8\n",
      "Study -> Sleep: 10\n",
      "Study -> Pub: 9.4\n",
      "Sleep -> Sleep: 0\n"
     ]
    }
   ],
   "source": [
    "# Facebook to Facebook\n",
    "print(\"Facebook -> Facebook:\", -1 + 6)\n",
    "\n",
    "# Facebook to Class 1\n",
    "print(\"Facebook -> Class 1:\", 6 - 0)\n",
    "\n",
    "# Class 1 to Facebook\n",
    "print(\"Class 1 -> Facebook:\", -1 + 6)\n",
    "\n",
    "# Class 1 to Class 2\n",
    "print(\"Class 1 -> Class 2:\", -2 + 8)\n",
    "\n",
    "# Class 2 to Sleep\n",
    "print(\"Class 2 -> Sleep:\", 0 + 0)\n",
    "\n",
    "# Class 2 to Study\n",
    "print(\"Class 2 -> Study:\", -2 + 10)\n",
    "\n",
    "# Study -> Sleep\n",
    "print(\"Study -> Sleep:\", 10)\n",
    "\n",
    "# Study -> Pub\n",
    "print(\"Study -> Pub:\", 1 + 0.2 * 6 + 0.4 * 8 + 0.4 *10)\n",
    "\n",
    "# Study -> Sleep\n",
    "print(\"Sleep -> Sleep:\", 0)"
   ]
  },
  {
   "cell_type": "markdown",
   "metadata": {},
   "source": [
    "Slide 39 has an incorrect $q^*$ from Study to Pub. It should be $q^* = 9.4$"
   ]
  }
 ],
 "metadata": {
  "kernelspec": {
   "display_name": "Python 3",
   "language": "python",
   "name": "python3"
  },
  "language_info": {
   "codemirror_mode": {
    "name": "ipython",
    "version": 3
   },
   "file_extension": ".py",
   "mimetype": "text/x-python",
   "name": "python",
   "nbconvert_exporter": "python",
   "pygments_lexer": "ipython3",
   "version": "3.8.5"
  }
 },
 "nbformat": 4,
 "nbformat_minor": 4
}
