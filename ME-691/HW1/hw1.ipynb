{
 "metadata": {
  "language_info": {
   "codemirror_mode": {
    "name": "ipython",
    "version": 3
   },
   "file_extension": ".py",
   "mimetype": "text/x-python",
   "name": "python",
   "nbconvert_exporter": "python",
   "pygments_lexer": "ipython3",
   "version": "3.8.5-final"
  },
  "orig_nbformat": 2,
  "kernelspec": {
   "name": "python36964bit728650d43afa415e99d952d8adae10e7",
   "display_name": "Python 3.6.9 64-bit",
   "language": "python"
  }
 },
 "nbformat": 4,
 "nbformat_minor": 2,
 "cells": [
  {
   "source": [
    "# HW 1\n",
    "Max Schrader\n",
    "1/23/2021"
   ],
   "cell_type": "markdown",
   "metadata": {}
  },
  {
   "cell_type": "code",
   "execution_count": 29,
   "metadata": {},
   "outputs": [],
   "source": [
    "import os\n",
    "import sys\n",
    "import csv\n",
    "import numpy as np\n",
    "import random\n",
    "PATH = !pwd  # a bit of Jupyter Magic to get the working path\n",
    "PATH = os.path.join(*os.path.split(PATH[0])[:-1])\n",
    "if PATH not in sys.path:\n",
    "    print(f\"adding {PATH} to path\")\n",
    "    sys.path.append(PATH)   "
   ]
  },
  {
   "source": [
    "## Enter the Givens"
   ],
   "cell_type": "markdown",
   "metadata": {}
  },
  {
   "cell_type": "code",
   "execution_count": 30,
   "metadata": {},
   "outputs": [],
   "source": [
    "NUM_STATES = 3\n",
    "INITIAL_PROB = [0.5, 0.2, 0.3]\n",
    "TRANSITION_MATRIX = [[0.4, 0.3, 0.3], \n",
    "                     [0.2, 0.6, 0.2],\n",
    "                     [0.1, 0.1, 0.8]]\n",
    "SEQUENCE_NUM = 100\n",
    "STATES = 1000\n",
    "FILE_PATH = os.path.join(PATH, 'HW1', 'states.csv')"
   ]
  },
  {
   "source": [
    "## Generating 100 sequences of 1000 states "
   ],
   "cell_type": "markdown",
   "metadata": {}
  },
  {
   "cell_type": "code",
   "execution_count": 49,
   "metadata": {},
   "outputs": [],
   "source": [
    "def random_weighted(weights):\n",
    "    return random.choice([num for num, weight in enumerate(weights) for _ in range(int(weight * 100))])\n",
    "\n",
    "def prob_generator(prob_dist, data=[], count=0, last=None):\n",
    "    count += 1\n",
    "    data.append(random_weighted(prob_dist))\n",
    "    if count < 1000:\n",
    "        return prob_generator(prob_dist=TRANSITION_MATRIX[data[-1]] ,count=count, last=data[-1])\n",
    "    return data"
   ]
  },
  {
   "cell_type": "code",
   "execution_count": 50,
   "metadata": {},
   "outputs": [],
   "source": [
    "states = [prob_generator(prob_dist=INITIAL_PROB) for _ in range(SEQUENCE_NUM)]"
   ]
  },
  {
   "source": [
    "## Save to CSV"
   ],
   "cell_type": "markdown",
   "metadata": {}
  },
  {
   "cell_type": "code",
   "execution_count": 51,
   "metadata": {},
   "outputs": [],
   "source": [
    "with open(FILE_PATH, 'w') as f:\n",
    "    writer = csv.writer(f, )\n",
    "    writer.writerows([prob_generator(prob_dist=INITIAL_PROB) for _ in range(SEQUENCE_NUM)])"
   ]
  }
 ]
}