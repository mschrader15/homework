{
 "cells": [
  {
   "cell_type": "markdown",
   "metadata": {},
   "source": [
    "# HW 1\n",
    "Max Schrader\n",
    "1/23/2021"
   ]
  },
  {
   "cell_type": "markdown",
   "metadata": {},
   "source": [
    "## HW 1a. Part 1"
   ]
  },
  {
   "cell_type": "code",
   "execution_count": 1,
   "metadata": {
    "ExecuteTime": {
     "end_time": "2021-01-26T16:07:19.386609Z",
     "start_time": "2021-01-26T16:07:19.348155Z"
    }
   },
   "outputs": [
    {
     "name": "stdout",
     "output_type": "stream",
     "text": [
      "adding /home/max/Documents/Homework/homework/ME-691 to path\n"
     ]
    }
   ],
   "source": [
    "import os\n",
    "import sys\n",
    "import csv\n",
    "import random\n",
    "PATH = !pwd  # a bit of Jupyter Magic to get the working path\n",
    "PATH = os.path.join(*os.path.split(PATH[0])[:-1])\n",
    "if PATH not in sys.path:\n",
    "    print(f\"adding {PATH} to path\")\n",
    "    sys.path.append(PATH)   "
   ]
  },
  {
   "cell_type": "markdown",
   "metadata": {},
   "source": [
    "### Enter the Givens"
   ]
  },
  {
   "cell_type": "code",
   "execution_count": 2,
   "metadata": {
    "ExecuteTime": {
     "end_time": "2021-01-26T16:07:19.454336Z",
     "start_time": "2021-01-26T16:07:19.423579Z"
    }
   },
   "outputs": [],
   "source": [
    "NUM_STATES = 3\n",
    "INITIAL_PROB = [0.5, 0.2, 0.3]\n",
    "TRANSITION_MATRIX = [[0.4, 0.3, 0.3], \n",
    "                     [0.2, 0.6, 0.2],\n",
    "                     [0.1, 0.1, 0.8]]\n",
    "SEQUENCE_NUM = 100\n",
    "STATES = 1000\n",
    "FILE_PATH = os.path.join(PATH, 'HW1', 'states.csv')"
   ]
  },
  {
   "cell_type": "markdown",
   "metadata": {},
   "source": [
    "### Generating 100 sequences of 1000 states "
   ]
  },
  {
   "cell_type": "markdown",
   "metadata": {},
   "source": [
    "#### Creating the functions & local variables"
   ]
  },
  {
   "cell_type": "code",
   "execution_count": 3,
   "metadata": {
    "ExecuteTime": {
     "end_time": "2021-01-26T16:07:19.567337Z",
     "start_time": "2021-01-26T16:07:19.558309Z"
    }
   },
   "outputs": [],
   "source": [
    "def random_weighted(weights: list) -> list:\n",
    "    return [num for num, weight in enumerate(weights) for _ in range(int(weight * 100))]\n",
    "\n",
    "transition_matrix = [random_weighted(weights) for weights in TRANSITION_MATRIX]\n",
    "initial_prob = random_weighted(INITIAL_PROB)\n",
    "\n",
    "def prob_generator(choice_list: list, data: list=[], count: int=0) -> list:\n",
    "    if count < STATES:\n",
    "        data.append(random.choice(choice_list))\n",
    "        return prob_generator(choice_list=transition_matrix[data[-1]], data=data, count=count+1)\n",
    "    return data"
   ]
  },
  {
   "cell_type": "markdown",
   "metadata": {},
   "source": [
    "#### Generating the states"
   ]
  },
  {
   "cell_type": "code",
   "execution_count": 4,
   "metadata": {
    "ExecuteTime": {
     "end_time": "2021-01-26T16:07:19.904607Z",
     "start_time": "2021-01-26T16:07:19.627288Z"
    }
   },
   "outputs": [],
   "source": [
    "states = [prob_generator(choice_list=initial_prob, data=[], count=0) for _ in range(SEQUENCE_NUM)]"
   ]
  },
  {
   "cell_type": "markdown",
   "metadata": {},
   "source": [
    "### Save to CSV"
   ]
  },
  {
   "cell_type": "code",
   "execution_count": 5,
   "metadata": {
    "ExecuteTime": {
     "end_time": "2021-01-26T16:07:19.945290Z",
     "start_time": "2021-01-26T16:07:19.908936Z"
    }
   },
   "outputs": [],
   "source": [
    "with open(FILE_PATH, 'w') as f:\n",
    "    writer = csv.writer(f, )\n",
    "    writer.writerows(states)"
   ]
  },
  {
   "cell_type": "markdown",
   "metadata": {},
   "source": [
    "## HW 1a. Part 2"
   ]
  },
  {
   "cell_type": "markdown",
   "metadata": {},
   "source": [
    "### Read in the states"
   ]
  },
  {
   "cell_type": "code",
   "execution_count": 6,
   "metadata": {
    "ExecuteTime": {
     "end_time": "2021-01-26T16:16:14.641894Z",
     "start_time": "2021-01-26T16:16:14.569689Z"
    }
   },
   "outputs": [],
   "source": [
    "# could also skip the i/o and just use \"states\" variable directly\n",
    "states_2 = []\n",
    "with open(FILE_PATH, 'r') as f:\n",
    "    reader = csv.reader(f, )\n",
    "    for row in reader:\n",
    "        states_2.append([int(item) for item in row])"
   ]
  },
  {
   "cell_type": "markdown",
   "metadata": {
    "ExecuteTime": {
     "end_time": "2021-01-26T16:06:44.223185Z",
     "start_time": "2021-01-26T16:06:44.219362Z"
    }
   },
   "source": [
    "### Initializing the Parameters"
   ]
  },
  {
   "cell_type": "code",
   "execution_count": 7,
   "metadata": {
    "ExecuteTime": {
     "end_time": "2021-01-26T16:54:43.971859Z",
     "start_time": "2021-01-26T16:54:43.964809Z"
    }
   },
   "outputs": [],
   "source": [
    "A = [[0] * NUM_STATES for _ in range(NUM_STATES)] \n",
    "count_A = [0] * NUM_STATES\n",
    "PI = [0] * NUM_STATES"
   ]
  },
  {
   "cell_type": "markdown",
   "metadata": {},
   "source": [
    "### Calculating the Actual Probabilities"
   ]
  },
  {
   "cell_type": "code",
   "execution_count": 8,
   "metadata": {
    "ExecuteTime": {
     "end_time": "2021-01-26T16:54:44.908863Z",
     "start_time": "2021-01-26T16:54:44.872033Z"
    }
   },
   "outputs": [],
   "source": [
    "for sequence in states_2:\n",
    "    PI[sequence[0]] += 1\n",
    "    for state, state_2 in zip(sequence[:-1], sequence[1:]):\n",
    "        A[state][state_2] += 1\n",
    "        count_A[state] += 1\n",
    "final_A = list(zip(*[[round(value/divisor, 3) for value, divisor in zip(row, count_A)] for row in A]))\n",
    "final_pi = [round(pi/SEQUENCE_NUM, 3) for pi in PI]"
   ]
  },
  {
   "cell_type": "code",
   "execution_count": 9,
   "metadata": {
    "ExecuteTime": {
     "end_time": "2021-01-26T16:54:47.206956Z",
     "start_time": "2021-01-26T16:54:47.201705Z"
    }
   },
   "outputs": [
    {
     "name": "stdout",
     "output_type": "stream",
     "text": [
      "Calculated A:  [(0.394, 0.305, 0.3), (0.199, 0.605, 0.196), (0.1, 0.1, 0.801)]\n",
      "Calculated PI:  [0.51, 0.14, 0.35]\n"
     ]
    }
   ],
   "source": [
    "print(\"Calculated A: \", final_A)\n",
    "print(\"Calculated PI: \", final_pi)"
   ]
  },
  {
   "cell_type": "markdown",
   "metadata": {},
   "source": [
    "### Calculating the Error"
   ]
  },
  {
   "cell_type": "code",
   "execution_count": 10,
   "metadata": {
    "ExecuteTime": {
     "end_time": "2021-01-26T16:56:05.233090Z",
     "start_time": "2021-01-26T16:56:05.228071Z"
    }
   },
   "outputs": [
    {
     "name": "stdout",
     "output_type": "stream",
     "text": [
      "Error A:  [[-0.006, 0.005, 0.0], [-0.001, 0.005, -0.004], [0.0, 0.0, 0.001]]\n",
      "Error PI:  [0.01, -0.06, 0.05]\n"
     ]
    }
   ],
   "source": [
    "error_A = [[round(calc - actual, 3) for calc, actual in zip(row_c, row_a)] for row_c, row_a in zip(final_A, TRANSITION_MATRIX)]\n",
    "error_pi = [round(calc - actual, 3) for calc, actual in zip(final_pi, INITIAL_PROB)]\n",
    "\n",
    "print(\"Error A: \", error_A)\n",
    "print(\"Error PI: \", error_pi)"
   ]
  },
  {
   "cell_type": "markdown",
   "metadata": {},
   "source": [
    "## HW 1b. Part 1"
   ]
  },
  {
   "cell_type": "code",
   "execution_count": 11,
   "metadata": {},
   "outputs": [],
   "source": [
    "STATE_NUM = range(3)\n",
    "OBSERVATIONS = 2\n",
    "A = [[0.4, 0.3, 0.3],\n",
    "     [0.2, 0.6, 0.2],\n",
    "     [0.1, 0.1, 0.8]]\n",
    "B = [[0.1, 0.9],\n",
    "     [0.5, 0.5],\n",
    "     [0.8, 0.2]]\n",
    "PI = [0.5, 0.2, 0.3]\n",
    "\n",
    "O = [0, 0, 1, 0, 1]"
   ]
  },
  {
   "cell_type": "code",
   "execution_count": 12,
   "metadata": {},
   "outputs": [],
   "source": [
    "def forward_algo(o: list, a: list, count: int) -> list:\n",
    "    if count < len(o):\n",
    "        a_ = [PI[i] * B[i][o[count]] for i in STATE_NUM] if count < 1 else [sum([a[i] * A[i][j] for i in STATE_NUM]) * B[j][o[count]] for j in STATE_NUM]\n",
    "        return forward_algo(o=o, a=a_, count=count+1)\n",
    "    return sum(a)\n",
    "\n",
    "def backward_algo(o: list, b: list, count: int) -> list:\n",
    "    if count < len(o) - 1:\n",
    "        b_ = [1] * len(STATE_NUM) if count < 1 else [sum([A[i][j] * B[j][o[-1 * count]] * b[j] for j in STATE_NUM]) for i in STATE_NUM]\n",
    "        return backward_algo(o=o, b=b_, count=count+1)\n",
    "    return b\n",
    "\n",
    "def viterbi_algo(o: list, delta: list, psi: list, count: int) -> tuple:\n",
    "    if count < len(o):\n",
    "        if count < 1:\n",
    "            delta.append([PI[i] * B[i][o[count]] for i in STATE_NUM]) \n",
    "            psi.append([0] * len(STATE_NUM))\n",
    "        else:\n",
    "            delta.append([max([delta[-1][i] * A[i][j] * B[j][o[count]] for i in STATE_NUM]) for j in STATE_NUM])\n",
    "            psi_max = [max([delta[-1][i] * A[i][j] for i in STATE_NUM]) for j in STATE_NUM]\n",
    "            psi.append([[delta[-1][i] * A[i][j] for i in STATE_NUM].index(psi_max[j]) for j in STATE_NUM])\n",
    "        return viterbi_algo(o, delta=delta, psi=psi, count = count + 1)\n",
    "    return delta, psi, [[psi[-1 * t][i] for i, val in enumerate(delta[-1* t]) if val == max(delta[-1 * t])] for t in range(len(psi))]"
   ]
  },
  {
   "cell_type": "code",
   "execution_count": 13,
   "metadata": {},
   "outputs": [
    {
     "name": "stdout",
     "output_type": "stream",
     "text": [
      "Probability Forward: 0.017151982400000005\n",
      "Probability Backward: [0.10794000000000002, 0.10467200000000002, 0.06211400000000002]\n"
     ]
    }
   ],
   "source": [
    "P_forward = forward_algo(o=O, a=[], count=0)\n",
    "P_backward = backward_algo(o=O, b=[], count=0)\n",
    "\n",
    "print(f\"Probability Forward: {P_forward}\")\n",
    "print(f\"Probability Backward: {P_backward}\")"
   ]
  },
  {
   "cell_type": "code",
   "execution_count": 14,
   "metadata": {},
   "outputs": [
    {
     "name": "stdout",
     "output_type": "stream",
     "text": [
      "The most probable path is: [1, 3, 3, 3, 3]\n"
     ]
    }
   ],
   "source": [
    "delta, psi, path = viterbi_algo(o=O, delta=[], psi=[], count=0)\n",
    "\n",
    "print(f\"The most probable path is: {[p[0] + 1 for p in path]}\")"
   ]
  }
 ],
 "metadata": {
  "kernelspec": {
   "display_name": "Python 3.6.9 64-bit",
   "language": "python",
   "name": "python36964bit728650d43afa415e99d952d8adae10e7"
  },
  "language_info": {
   "codemirror_mode": {
    "name": "ipython",
    "version": 3
   },
   "file_extension": ".py",
   "mimetype": "text/x-python",
   "name": "python",
   "nbconvert_exporter": "python",
   "pygments_lexer": "ipython3",
   "version": "3.8.5"
  },
  "toc": {
   "base_numbering": 1,
   "nav_menu": {},
   "number_sections": true,
   "sideBar": true,
   "skip_h1_title": false,
   "title_cell": "Table of Contents",
   "title_sidebar": "Contents",
   "toc_cell": false,
   "toc_position": {},
   "toc_section_display": true,
   "toc_window_display": false
  },
  "varInspector": {
   "cols": {
    "lenName": 16,
    "lenType": 16,
    "lenVar": 40
   },
   "kernels_config": {
    "python": {
     "delete_cmd_postfix": "",
     "delete_cmd_prefix": "del ",
     "library": "var_list.py",
     "varRefreshCmd": "print(var_dic_list())"
    },
    "r": {
     "delete_cmd_postfix": ") ",
     "delete_cmd_prefix": "rm(",
     "library": "var_list.r",
     "varRefreshCmd": "cat(var_dic_list()) "
    }
   },
   "types_to_exclude": [
    "module",
    "function",
    "builtin_function_or_method",
    "instance",
    "_Feature"
   ],
   "window_display": false
  }
 },
 "nbformat": 4,
 "nbformat_minor": 4
}
