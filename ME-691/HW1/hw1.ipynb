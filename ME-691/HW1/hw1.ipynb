{
 "cells": [
  {
   "cell_type": "markdown",
   "metadata": {},
   "source": [
    "# HW 1\n",
    "Max Schrader\n",
    "1/23/2021"
   ]
  },
  {
   "cell_type": "code",
   "execution_count": 1,
   "metadata": {
    "ExecuteTime": {
     "end_time": "2021-01-23T18:43:00.132080Z",
     "start_time": "2021-01-23T18:43:00.094953Z"
    }
   },
   "outputs": [
    {
     "name": "stdout",
     "output_type": "stream",
     "text": [
      "adding /home/max/Documents/Homework/homework/ME-691 to path\n"
     ]
    }
   ],
   "source": [
    "import os\n",
    "import sys\n",
    "import csv\n",
    "import random\n",
    "PATH = !pwd  # a bit of Jupyter Magic to get the working path\n",
    "PATH = os.path.join(*os.path.split(PATH[0])[:-1])\n",
    "if PATH not in sys.path:\n",
    "    print(f\"adding {PATH} to path\")\n",
    "    sys.path.append(PATH)   "
   ]
  },
  {
   "cell_type": "markdown",
   "metadata": {},
   "source": [
    "## Enter the Givens"
   ]
  },
  {
   "cell_type": "code",
   "execution_count": 10,
   "metadata": {
    "ExecuteTime": {
     "end_time": "2021-01-23T19:26:46.979408Z",
     "start_time": "2021-01-23T19:26:46.974450Z"
    }
   },
   "outputs": [],
   "source": [
    "NUM_STATES = 3\n",
    "INITIAL_PROB = [0.5, 0.2, 0.3]\n",
    "TRANSITION_MATRIX = [[0.4, 0.3, 0.3], \n",
    "                     [0.2, 0.6, 0.2],\n",
    "                     [0.1, 0.1, 0.8]]\n",
    "SEQUENCE_NUM = 100\n",
    "STATES = 1000\n",
    "FILE_PATH = os.path.join(PATH, 'HW1', 'states.csv')"
   ]
  },
  {
   "cell_type": "markdown",
   "metadata": {},
   "source": [
    "## Generating 100 sequences of 1000 states "
   ]
  },
  {
   "cell_type": "markdown",
   "metadata": {},
   "source": [
    "### Creating the functions & local variables"
   ]
  },
  {
   "cell_type": "code",
   "execution_count": 47,
   "metadata": {
    "ExecuteTime": {
     "end_time": "2021-01-23T19:33:56.881694Z",
     "start_time": "2021-01-23T19:33:56.874070Z"
    }
   },
   "outputs": [],
   "source": [
    "def random_weighted(weights):\n",
    "    return [num for num, weight in enumerate(weights) for _ in range(int(weight * 100))]\n",
    "\n",
    "transition_matrix = [random_weighted(weights) for weights in TRANSITION_MATRIX]\n",
    "initial_prob = random_weighted(INITIAL_PROB)\n",
    "\n",
    "def prob_generator(choice_list, data=[], count=0):\n",
    "    if count < STATES:\n",
    "        data.append(random.choice(choice_list))\n",
    "        return prob_generator(choice_list=transition_matrix[data[-1]], data=data, count=count+1)\n",
    "    return data"
   ]
  },
  {
   "cell_type": "markdown",
   "metadata": {},
   "source": [
    "### Generating the states"
   ]
  },
  {
   "cell_type": "code",
   "execution_count": 48,
   "metadata": {
    "ExecuteTime": {
     "end_time": "2021-01-23T19:33:58.569804Z",
     "start_time": "2021-01-23T19:33:58.475669Z"
    }
   },
   "outputs": [],
   "source": [
    "states = [prob_generator(choice_list=initial_prob, data=[], count=0) for _ in range(SEQUENCE_NUM)]"
   ]
  },
  {
   "cell_type": "markdown",
   "metadata": {},
   "source": [
    "## Save to CSV"
   ]
  },
  {
   "cell_type": "code",
   "execution_count": 49,
   "metadata": {
    "ExecuteTime": {
     "end_time": "2021-01-23T19:35:20.034921Z",
     "start_time": "2021-01-23T19:35:20.019583Z"
    }
   },
   "outputs": [],
   "source": [
    "with open(FILE_PATH, 'w') as f:\n",
    "    writer = csv.writer(f, )\n",
    "    writer.writerows(states)"
   ]
  }
 ],
 "metadata": {
  "kernelspec": {
   "display_name": "Python 3.6.9 64-bit",
   "language": "python",
   "name": "python36964bit728650d43afa415e99d952d8adae10e7"
  },
  "language_info": {
   "codemirror_mode": {
    "name": "ipython",
    "version": 3
   },
   "file_extension": ".py",
   "mimetype": "text/x-python",
   "name": "python",
   "nbconvert_exporter": "python",
   "pygments_lexer": "ipython3",
   "version": "3.8.5"
  },
  "toc": {
   "base_numbering": 1,
   "nav_menu": {},
   "number_sections": true,
   "sideBar": true,
   "skip_h1_title": false,
   "title_cell": "Table of Contents",
   "title_sidebar": "Contents",
   "toc_cell": false,
   "toc_position": {},
   "toc_section_display": true,
   "toc_window_display": false
  },
  "varInspector": {
   "cols": {
    "lenName": 16,
    "lenType": 16,
    "lenVar": 40
   },
   "kernels_config": {
    "python": {
     "delete_cmd_postfix": "",
     "delete_cmd_prefix": "del ",
     "library": "var_list.py",
     "varRefreshCmd": "print(var_dic_list())"
    },
    "r": {
     "delete_cmd_postfix": ") ",
     "delete_cmd_prefix": "rm(",
     "library": "var_list.r",
     "varRefreshCmd": "cat(var_dic_list()) "
    }
   },
   "types_to_exclude": [
    "module",
    "function",
    "builtin_function_or_method",
    "instance",
    "_Feature"
   ],
   "window_display": false
  }
 },
 "nbformat": 4,
 "nbformat_minor": 2
}
