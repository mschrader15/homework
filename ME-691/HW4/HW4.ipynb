{
 "cells": [
  {
   "cell_type": "markdown",
   "metadata": {},
   "source": [
    "Max Schrader\n",
    "\n",
    "03/01/2020"
   ]
  },
  {
   "cell_type": "code",
   "execution_count": 1,
   "metadata": {},
   "outputs": [],
   "source": [
    "states = [j for j in range(16)]\n",
    "v_k_master = [0. for _ in range(16)]\n",
    "terminal_states = (0, 15)\n",
    "# rewards = [0 if i in terminal_states else 0 for i in range(16)]\n",
    "action_reward = -1\n",
    "discount_factor = 1\n",
    "possible_actions = [-1, 1, -4, 4]\n",
    "possible_action_master = [possible_actions.copy() if i not in terminal_states else [] for i in range(16)]\n",
    "best_actions_master = [possible_actions.copy() if i not in terminal_states else [] for i in range(16)]\n",
    "action_probabilty = 0.25"
   ]
  },
  {
   "cell_type": "code",
   "execution_count": 2,
   "metadata": {},
   "outputs": [],
   "source": [
    "def pretty_print_table(table):\n",
    "    for i in range(16):\n",
    "        if (i + 4) % 4 == 0:\n",
    "            print([round(val, 1) for val in table[i:i+4]])"
   ]
  },
  {
   "cell_type": "code",
   "execution_count": 3,
   "metadata": {},
   "outputs": [],
   "source": [
    "def get_potential_actions(current_state, action_list):\n",
    "    # this is terible programming. Should be a way to do this without all these if else statements\n",
    "    if action_list:\n",
    "        for i, action in enumerate(action_list):\n",
    "            if (current_state == 1) and (action == -1):\n",
    "                yield current_state - 1\n",
    "            elif (current_state % 4 == 0) and (action == -4):\n",
    "                yield current_state - 4\n",
    "            elif (current_state % 4 == 0) and (action == -1):\n",
    "                yield current_state\n",
    "            elif (current_state + action) % 4 == 0:\n",
    "                # this is a wrap around, not allowed!\n",
    "                yield current_state\n",
    "            elif ((current_state in [0, 1, 2, 3]) and (action == -4)) or \\\n",
    "            ((current_state in [12, 13, 14, 15]) and (action == 4)):\n",
    "                yield current_state\n",
    "            else:\n",
    "                yield current_state + action\n"
   ]
  },
  {
   "cell_type": "code",
   "execution_count": 4,
   "metadata": {},
   "outputs": [],
   "source": [
    "def greedy(k, action_reward, v_k, terminal_states, actions, action_probabilty, best_actions):\n",
    "    for _ in range(k):\n",
    "        v_k_last = v_k.copy()\n",
    "        for i, (current_reward, action_space) in enumerate(zip(v_k, actions)):\n",
    "            if i not in terminal_states:\n",
    "                policy_reward = action_probabilty * len(action_space) * action_reward\n",
    "                reward = [action_probabilty * v_k_last[new_state] for new_state in get_potential_actions(i, action_space)]\n",
    "#                 print(i, list(get_potential_actions(i, action_space)), reward)\n",
    "                v_k[i] = sum(reward) + policy_reward\n",
    "    return v_k\n",
    "            "
   ]
  },
  {
   "cell_type": "markdown",
   "metadata": {},
   "source": [
    "## K = 0"
   ]
  },
  {
   "cell_type": "code",
   "execution_count": 5,
   "metadata": {},
   "outputs": [
    {
     "name": "stdout",
     "output_type": "stream",
     "text": [
      "[0.0, 0.0, 0.0, 0.0]\n",
      "[0.0, 0.0, 0.0, 0.0]\n",
      "[0.0, 0.0, 0.0, 0.0]\n",
      "[0.0, 0.0, 0.0, 0.0]\n"
     ]
    }
   ],
   "source": [
    "k = 0\n",
    "v_k = greedy(k, action_reward, v_k_master.copy(), terminal_states, possible_action_master.copy(), action_probabilty, best_actions_master.copy())\n",
    "pretty_print_table(v_k)"
   ]
  },
  {
   "cell_type": "markdown",
   "metadata": {},
   "source": [
    "## K = 1"
   ]
  },
  {
   "cell_type": "code",
   "execution_count": 6,
   "metadata": {},
   "outputs": [
    {
     "name": "stdout",
     "output_type": "stream",
     "text": [
      "[0.0, -1.0, -1.0, -1.0]\n",
      "[-1.0, -1.0, -1.0, -1.0]\n",
      "[-1.0, -1.0, -1.0, -1.0]\n",
      "[-1.0, -1.0, -1.0, 0.0]\n"
     ]
    }
   ],
   "source": [
    "k = 1\n",
    "v_k = greedy(k, action_reward, v_k_master.copy(), terminal_states, possible_action_master.copy(), action_probabilty, best_actions_master.copy())\n",
    "pretty_print_table(v_k)"
   ]
  },
  {
   "cell_type": "markdown",
   "metadata": {},
   "source": [
    "## K = 2"
   ]
  },
  {
   "cell_type": "code",
   "execution_count": 7,
   "metadata": {},
   "outputs": [
    {
     "name": "stdout",
     "output_type": "stream",
     "text": [
      "[0.0, -1.8, -2.0, -2.0]\n",
      "[-1.8, -2.0, -2.0, -2.0]\n",
      "[-2.0, -2.0, -2.0, -1.8]\n",
      "[-2.0, -2.0, -1.8, 0.0]\n"
     ]
    }
   ],
   "source": [
    "k = 2\n",
    "v_k = greedy(k, action_reward, v_k_master.copy(), terminal_states, possible_action_master.copy(), action_probabilty, best_actions_master.copy())\n",
    "pretty_print_table(v_k)"
   ]
  },
  {
   "cell_type": "markdown",
   "metadata": {},
   "source": [
    "## K = 3"
   ]
  },
  {
   "cell_type": "code",
   "execution_count": 8,
   "metadata": {},
   "outputs": [
    {
     "name": "stdout",
     "output_type": "stream",
     "text": [
      "[0.0, -2.4, -2.9, -3.0]\n",
      "[-2.4, -2.9, -3.0, -2.9]\n",
      "[-2.9, -3.0, -2.9, -2.4]\n",
      "[-3.0, -2.9, -2.4, 0.0]\n"
     ]
    }
   ],
   "source": [
    "k = 3\n",
    "v_k = greedy(k, action_reward, v_k_master.copy(), terminal_states, possible_action_master.copy(), action_probabilty, best_actions_master.copy())\n",
    "pretty_print_table(v_k)"
   ]
  },
  {
   "cell_type": "markdown",
   "metadata": {},
   "source": [
    "## K = 5"
   ]
  },
  {
   "cell_type": "code",
   "execution_count": 9,
   "metadata": {},
   "outputs": [
    {
     "name": "stdout",
     "output_type": "stream",
     "text": [
      "[0.0, -3.7, -4.7, -4.9]\n",
      "[-3.4, -4.7, -4.8, -4.7]\n",
      "[-4.6, -4.8, -4.5, -3.7]\n",
      "[-4.9, -4.7, -3.7, 0.0]\n"
     ]
    }
   ],
   "source": [
    "k = 5\n",
    "v_k = greedy(k, action_reward, v_k_master.copy(), terminal_states, possible_action_master.copy(), action_probabilty, best_actions_master.copy())\n",
    "pretty_print_table(v_k)"
   ]
  },
  {
   "cell_type": "markdown",
   "metadata": {},
   "source": [
    "## K = 10"
   ]
  },
  {
   "cell_type": "code",
   "execution_count": 10,
   "metadata": {},
   "outputs": [
    {
     "name": "stdout",
     "output_type": "stream",
     "text": [
      "[0.0, -6.3, -8.5, -9.0]\n",
      "[-5.5, -8.4, -8.6, -8.4]\n",
      "[-7.9, -8.6, -7.8, -6.2]\n",
      "[-8.8, -8.2, -6.1, 0.0]\n"
     ]
    }
   ],
   "source": [
    "k = 10\n",
    "v_k = greedy(k, action_reward, v_k_master.copy(), terminal_states, possible_action_master.copy(), action_probabilty, best_actions_master.copy())\n",
    "pretty_print_table(v_k)"
   ]
  },
  {
   "cell_type": "markdown",
   "metadata": {},
   "source": [
    "## K = 20"
   ]
  },
  {
   "cell_type": "code",
   "execution_count": 11,
   "metadata": {},
   "outputs": [
    {
     "name": "stdout",
     "output_type": "stream",
     "text": [
      "[0.0, -10.0, -13.7, -14.7]\n",
      "[-8.2, -13.3, -13.8, -13.5]\n",
      "[-12.3, -13.6, -12.3, -9.6]\n",
      "[-13.8, -12.8, -9.4, 0.0]\n"
     ]
    }
   ],
   "source": [
    "k = 20\n",
    "v_k = greedy(k, action_reward, v_k_master.copy(), terminal_states, possible_action_master.copy(), action_probabilty, best_actions_master.copy())\n",
    "pretty_print_table(v_k)"
   ]
  },
  {
   "cell_type": "markdown",
   "metadata": {},
   "source": [
    "## K = $\\infty$"
   ]
  },
  {
   "cell_type": "code",
   "execution_count": 12,
   "metadata": {},
   "outputs": [
    {
     "name": "stdout",
     "output_type": "stream",
     "text": [
      "[0.0, -15.3, -21.3, -23.2]\n",
      "[-12.3, -20.6, -21.4, -21.1]\n",
      "[-18.6, -21.0, -18.8, -14.6]\n",
      "[-21.1, -19.5, -14.1, 0.0]\n"
     ]
    }
   ],
   "source": [
    "k = 100000\n",
    "v_k = greedy(k, action_reward, v_k_master.copy(), terminal_states, possible_action_master.copy(), action_probabilty, best_actions_master.copy())\n",
    "pretty_print_table(v_k)"
   ]
  }
 ],
 "metadata": {
  "kernelspec": {
   "display_name": "Python 3",
   "language": "python",
   "name": "python3"
  },
  "language_info": {
   "codemirror_mode": {
    "name": "ipython",
    "version": 3
   },
   "file_extension": ".py",
   "mimetype": "text/x-python",
   "name": "python",
   "nbconvert_exporter": "python",
   "pygments_lexer": "ipython3",
   "version": "3.8.5"
  }
 },
 "nbformat": 4,
 "nbformat_minor": 4
}
