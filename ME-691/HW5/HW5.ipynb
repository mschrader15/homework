{
 "cells": [
  {
   "cell_type": "markdown",
   "metadata": {},
   "source": [
    "# Easy21 Task #1\n",
    "\n",
    "Max Schrader"
   ]
  },
  {
   "cell_type": "code",
   "execution_count": 7,
   "metadata": {},
   "outputs": [],
   "source": [
    "import numpy as np\n",
    "from enum import Enum\n",
    "from random import uniform, randint"
   ]
  },
  {
   "cell_type": "markdown",
   "metadata": {},
   "source": [
    "## Creating the Objects"
   ]
  },
  {
   "cell_type": "code",
   "execution_count": 149,
   "metadata": {},
   "outputs": [],
   "source": [
    "def check_bust(score):\n",
    "    if (score < 1) or (score > 21):\n",
    "        return True\n",
    "    return False"
   ]
  },
  {
   "cell_type": "markdown",
   "metadata": {},
   "source": [
    "### Cards"
   ]
  },
  {
   "cell_type": "code",
   "execution_count": 88,
   "metadata": {},
   "outputs": [],
   "source": [
    "class Cards:\n",
    "    def __init__(self):\n",
    "        self.distribution_range = (1, 10)\n",
    "    \n",
    "    def get_card(self, first=False):\n",
    "        return randint(*self.distribution_range) * 1 if (uniform(0, 1) < 2/3) or first else -1 "
   ]
  },
  {
   "cell_type": "markdown",
   "metadata": {},
   "source": [
    "### The Player"
   ]
  },
  {
   "cell_type": "code",
   "execution_count": 154,
   "metadata": {},
   "outputs": [],
   "source": [
    "class Player:\n",
    "    \n",
    "    def __init__(self):\n",
    "        self._initialize()\n",
    "        \n",
    "    def _initialize(self):\n",
    "        self._cards = []\n",
    "    \n",
    "    def set_first(self, card):\n",
    "        self._initialize()\n",
    "        self._cards.append(card)\n",
    "        \n",
    "    def _add_to_hand(self, card):\n",
    "        self._cards.append(card)\n",
    "        \n",
    "    def _sum(self, ):\n",
    "        return sum(self._cards)\n",
    "    \n",
    "    def play_hand(self, card):\n",
    "        self._add_to_hand(card)\n",
    "        return self._my_game_plan()\n",
    "    \n",
    "    def _my_game_plan(self, ):\n",
    "        if not check_bust(self._sum()):\n",
    "            Action.HIT\n",
    "        return Action.STICK\n",
    "    \n",
    "    def get_sum(self):\n",
    "        return self._sum()"
   ]
  },
  {
   "cell_type": "markdown",
   "metadata": {},
   "source": [
    "### The Dealer"
   ]
  },
  {
   "cell_type": "code",
   "execution_count": 155,
   "metadata": {},
   "outputs": [],
   "source": [
    "class Dealer(Player):\n",
    "    \n",
    "    STICK_THRESHOLD = 17\n",
    "    \n",
    "    def __init__(self, card_obj):\n",
    "        super().__init__()\n",
    "        self._card_deck = card_obj\n",
    "\n",
    "    def draw_card(self, first=False):\n",
    "        return self._card_deck.get_card()\n",
    "    \n",
    "    def _my_gameplan(self, ):\n",
    "        current_sum = self._get_sum()\n",
    "        if (current_sum < 1) or (current_sum > 21):\n",
    "            return False\n",
    "        if current_sum < Dealer.STICK_THRESHOLD:\n",
    "            return True\n",
    "        return False\n",
    "    \n",
    "    def take_turns(self, ):\n",
    "        while self._my_gameplan():\n",
    "            self._add_to_hand(self.draw_card())\n",
    "#         return self._sum()"
   ]
  },
  {
   "cell_type": "markdown",
   "metadata": {},
   "source": [
    "### The Observed State"
   ]
  },
  {
   "cell_type": "code",
   "execution_count": 146,
   "metadata": {},
   "outputs": [],
   "source": [
    "class State:\n",
    "    def __init__(self, dealer_first_card, ):\n",
    "        self.dealer_card = dealer_first_card\n",
    "        self.player_sum = 0\n",
    "        self.dealer_action = None\n",
    "    \n",
    "    def update_sum(self, player_sum):\n",
    "        self.player_sum += player_sum\n",
    "        \n",
    "    def update_action(dealer_action):\n",
    "        self.dealer_action = dealer_action\n",
    "        \n",
    "        \n",
    "class Action(Enum):\n",
    "    STICK = 0\n",
    "    HIT = 1"
   ]
  },
  {
   "cell_type": "markdown",
   "metadata": {},
   "source": [
    "### The Game"
   ]
  },
  {
   "cell_type": "code",
   "execution_count": 158,
   "metadata": {},
   "outputs": [],
   "source": [
    "class Easy21:\n",
    "    \n",
    "    REWARD = {'bust': -1, 'win': 1, 'draw': 0}\n",
    "    \n",
    "    def __init__(self):\n",
    "        self.dealer = Dealer(Cards())\n",
    "        self.player = Player()\n",
    "        self.state = None\n",
    "    \n",
    "    def get_reward(self, player_sum):\n",
    "        if _check_bust(self.dealer.get_score()) or (player_sum > self.dealer.get_score()):\n",
    "            return 1\n",
    "        return 0 if player_sum == self.dealer.get_score() else -1\n",
    "    \n",
    "    def step(self, current_state, player_action):\n",
    "        if player_action == Action.STICK:\n",
    "            self.dealer.take_turns()\n",
    "            r = self.get_reward(current_state.player_sum)\n",
    "        else:\n",
    "            next_card = self.dealer.draw_card()\n",
    "            action = self.player.play_hand(next_card)\n",
    "            current_state.update_sum(self.player.get_sum())\n",
    "            if action != action.STICK:\n",
    "                r = self.get_reward(current_state.player_sum)\n",
    "            else:\n",
    "                r = -1\n",
    "        return current_state, r"
   ]
  }
 ],
 "metadata": {
  "kernelspec": {
   "display_name": "Python 3",
   "language": "python",
   "name": "python3"
  },
  "language_info": {
   "codemirror_mode": {
    "name": "ipython",
    "version": 3
   },
   "file_extension": ".py",
   "mimetype": "text/x-python",
   "name": "python",
   "nbconvert_exporter": "python",
   "pygments_lexer": "ipython3",
   "version": "3.8.5"
  }
 },
 "nbformat": 4,
 "nbformat_minor": 4
}
