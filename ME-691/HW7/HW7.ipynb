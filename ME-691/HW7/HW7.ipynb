{
 "cells": [
  {
   "cell_type": "markdown",
   "metadata": {},
   "source": [
    "# Easy21 Task #2 & 3\n",
    "\n",
    "Max Schrader"
   ]
  },
  {
   "cell_type": "code",
   "execution_count": 79,
   "metadata": {},
   "outputs": [],
   "source": [
    "from enum import Enum\n",
    "from random import uniform, randint, choice, random\n",
    "import plotly.graph_objects as go"
   ]
  },
  {
   "cell_type": "markdown",
   "metadata": {},
   "source": [
    "## Creating the Objects"
   ]
  },
  {
   "cell_type": "markdown",
   "metadata": {},
   "source": [
    "### Cards"
   ]
  },
  {
   "cell_type": "markdown",
   "metadata": {},
   "source": [
    "### The Player"
   ]
  },
  {
   "cell_type": "markdown",
   "metadata": {},
   "source": [
    "### The Dealer"
   ]
  },
  {
   "cell_type": "markdown",
   "metadata": {},
   "source": [
    "### The Observed State"
   ]
  },
  {
   "cell_type": "markdown",
   "metadata": {},
   "source": [
    "### The Game"
   ]
  },
  {
   "cell_type": "code",
   "execution_count": 259,
   "metadata": {},
   "outputs": [],
   "source": [
    "from copy import copy, deepcopy\n",
    "from random import random, choice, randint, uniform\n",
    "\n",
    "ACTIONS = {1: 'STICK', 0: 'HIT'}\n",
    "\n",
    "\n",
    "class Cards:\n",
    "    def __init__(self):\n",
    "        self.distribution_range = (1, 10)\n",
    "\n",
    "    def get_card(self, first=False):\n",
    "        return randint(*self.distribution_range) * 1 if (uniform(0, 1) < 2 / 3) or first \\\n",
    "            else -1 * randint(*self.distribution_range)\n",
    "\n",
    "\n",
    "class Player:\n",
    "    def __init__(self):\n",
    "        self._cards = []\n",
    "        self._sum = 0\n",
    "\n",
    "    def check_bust(self):\n",
    "        if self._sum < 0 or self._sum > 21:\n",
    "            return True\n",
    "        return False\n",
    "\n",
    "    def clear_cards(self):\n",
    "        self._cards = []\n",
    "        self._sum = 0\n",
    "\n",
    "    def add_card(self, card):\n",
    "        self._cards.append(card)\n",
    "        self._sum = sum(self._cards)\n",
    "\n",
    "    def get_sum(self):\n",
    "        return self._sum\n",
    "\n",
    "    def get_card(self, index):\n",
    "        return self._cards[index]\n",
    "\n",
    "\n",
    "class Dealer(Player):\n",
    "    STICK_THRESHOLD = 17\n",
    "\n",
    "    def __init__(self):\n",
    "        super(Dealer, self).__init__()\n",
    "\n",
    "    def play_strategy(self, card):\n",
    "        self.add_card(card)\n",
    "        if not self.check_bust():\n",
    "            if self.get_sum() < self.STICK_THRESHOLD:\n",
    "                return True\n",
    "        return False\n",
    "\n",
    "\n",
    "class State:\n",
    "    def __init__(self, player_sum, dealer_first):\n",
    "        self.dealer_first = dealer_first\n",
    "        self.player_sum = player_sum\n",
    "        self.terminal = False\n",
    "\n",
    "    def copy(self):\n",
    "        return copy(self)\n",
    "\n",
    "\n",
    "class Easy21:\n",
    "\n",
    "    def __init__(self, ):\n",
    "        self.dealer = Dealer()\n",
    "        self.player = Player()\n",
    "        self.cards = Cards()\n",
    "        self.states = [range(1, 11), range(1, 22)]\n",
    "        self.actions = ACTIONS\n",
    "        self.actions_short = list(range(len(self.actions.keys())))\n",
    "\n",
    "    def reset(self):\n",
    "        self.__init__()\n",
    "\n",
    "    def initialize_game(self):\n",
    "        self.dealer.clear_cards()\n",
    "        self.player.clear_cards()\n",
    "        self.dealer.add_card(self.cards.get_card(first=True))\n",
    "        self.player.add_card(self.cards.get_card(first=True))\n",
    "        s = State(self.player.get_sum(), self.dealer.get_card(0))\n",
    "        return s\n",
    "\n",
    "    def calc_reward(self):\n",
    "        if self.dealer.check_bust() or (self.player.get_sum() > self.dealer.get_sum()):\n",
    "            return 1\n",
    "        elif self.player.get_sum() == self.dealer.get_sum():\n",
    "            return 0\n",
    "        return -1\n",
    "\n",
    "    def step(self, action, state):\n",
    "        if action == 1:\n",
    "            while self.dealer.play_strategy(self.cards.get_card()):\n",
    "                pass\n",
    "            r = self.calc_reward()\n",
    "            state.terminal = True\n",
    "        else:\n",
    "            card = self.cards.get_card()\n",
    "            self.player.add_card(card)\n",
    "            if self.player.check_bust():\n",
    "                state.terminal = True\n",
    "                r = -1\n",
    "            else:\n",
    "                state.player_sum = self.player.get_sum()\n",
    "                r = 0\n",
    "        return state, r\n",
    "\n",
    "\n",
    "class MonteCarloAgent:\n",
    "\n",
    "    def __init__(self, gym: Easy21):\n",
    "        self.gym = gym()\n",
    "        self.Q = [[[0. for _ in range(len(self.gym.actions))] for _ in self.gym.states[0]] for _ in self.gym.states[1]]\n",
    "        self.N = deepcopy(self.Q)\n",
    "        self.N0 = 10000\n",
    "        self.discount_factor = 1\n",
    "\n",
    "    def calc_e(self, state: State) -> float:\n",
    "        return self.N0 / (self.N0 + sum(self.N[state.player_sum - 1][state.dealer_first - 1][:]) * 1.)\n",
    "\n",
    "    def get_best_action(self, state):\n",
    "        rewards = self.Q[state.player_sum - 1][state.dealer_first - 1]\n",
    "        max_reward = max(rewards)\n",
    "        return choice([self.gym.actions_short[i] for i, reward in enumerate(rewards) if reward >= max_reward])\n",
    "\n",
    "    def e_greedy(self, state):\n",
    "        e = self.calc_e(state)\n",
    "        if random() < e:\n",
    "            return choice(self.gym.actions_short)\n",
    "        else:\n",
    "            return self.get_best_action(state)\n",
    "\n",
    "    def update_q(self, history):\n",
    "        for i, (s_k, a_k, r_k) in enumerate(history):\n",
    "            p_i = s_k.player_sum - 1\n",
    "            d_i = s_k.dealer_first - 1\n",
    "            G_t = sum([r_j * (self.discount_factor ** j) for j, (_, _, r_j) in enumerate(history[i:])])\n",
    "            self.N[p_i][d_i][a_k] += 1\n",
    "            alpha = 1.0 / self.N[p_i][d_i][a_k]\n",
    "            self.Q[p_i][d_i][a_k] += alpha * (G_t - self.Q[p_i][d_i][a_k])\n",
    "\n",
    "    def _train(self, ):\n",
    "        self.gym.reset()\n",
    "        s_t = self.gym.initialize_game()\n",
    "        history = []\n",
    "        while not s_t.terminal:\n",
    "            a_t = self.e_greedy(s_t)\n",
    "            s_t_1, r_t = self.gym.step(a_t, s_t)\n",
    "            history.append([s_t, a_t, r_t])\n",
    "            s_t = s_t_1.copy()\n",
    "\n",
    "        self.update_q(history)\n",
    "\n",
    "    def run(self, iterations):\n",
    "        for _ in range(int(iterations)):\n",
    "            self._train()\n",
    "\n",
    "    def get_V_star(self, ):\n",
    "        player_sum = list(self.gym.states[1])\n",
    "        dealer_showing = list(self.gym.states[0])\n",
    "        V_star = [[max(actions) for actions in dealer] for dealer in self.Q]\n",
    "        return player_sum, dealer_showing, V_star\n"
   ]
  },
  {
   "cell_type": "code",
   "execution_count": null,
   "metadata": {},
   "outputs": [],
   "source": []
  },
  {
   "cell_type": "code",
   "execution_count": 260,
   "metadata": {},
   "outputs": [],
   "source": [
    "mc_agent = MonteCarloAgent(gym=Easy21, )"
   ]
  },
  {
   "cell_type": "code",
   "execution_count": 261,
   "metadata": {},
   "outputs": [],
   "source": [
    "mc_agent.run(iterations=int(5e5))"
   ]
  },
  {
   "cell_type": "code",
   "execution_count": 262,
   "metadata": {},
   "outputs": [
    {
     "data": {
      "application/vnd.plotly.v1+json": {
       "config": {
        "plotlyServerURL": "https://plot.ly"
       },
       "data": [
        {
         "type": "surface",
         "x": [
          1,
          2,
          3,
          4,
          5,
          6,
          7,
          8,
          9,
          10
         ],
         "y": [
          1,
          2,
          3,
          4,
          5,
          6,
          7,
          8,
          9,
          10,
          11,
          12,
          13,
          14,
          15,
          16,
          17,
          18,
          19,
          20,
          21
         ],
         "z": [
          [
           0.26009880848590516,
           0.20011321822813505,
           0.14878690441391407,
           0.0886220697541452,
           0.06825633383010427,
           0.018570624648283636,
           -0.06259013556388818,
           -0.19941944847605206,
           -0.27450980392156865,
           -0.2990224266820009
          ],
          [
           0.263218390804597,
           0.21098346875875632,
           0.1388068517424688,
           0.09997167941093174,
           0.07059824213212383,
           0.041289592760181,
           -0.0750348675034866,
           -0.17189249720044822,
           -0.25995987388936637,
           -0.3433352567801493
          ],
          [
           0.25942474169226526,
           0.25117695929105577,
           0.16666666666666627,
           0.10984540276647688,
           0.10515928954045665,
           0.02635228848821083,
           -0.08518024032042723,
           -0.15256094220761462,
           -0.27230590961761353,
           -0.3470075864006745
          ],
          [
           0.25524568393094316,
           0.21406979939543852,
           0.1372549019607841,
           0.10623306233062331,
           0.048966267682263316,
           0.04501084598698503,
           -0.05035161744022502,
           -0.18111964873765088,
           -0.28449931412894397,
           -0.33972602739726043
          ],
          [
           0.2553020134228191,
           0.17180616740088123,
           0.13764861294583863,
           0.0802997858672376,
           0.038288883020860844,
           0.024350205198358437,
           -0.10322405852072591,
           -0.16604970914859896,
           -0.21474019088016982,
           -0.34621578099838957
          ],
          [
           0.2584566596194512,
           0.21526315789473638,
           0.14560000000000006,
           0.1258593336858801,
           0.050629520492901134,
           0.023006955591225217,
           -0.05136436597110764,
           -0.19510926118626407,
           -0.26386381222594674,
           -0.35223959713755637
          ],
          [
           0.25109677419354953,
           0.19047619047619005,
           0.15814443858724292,
           0.10181168665475877,
           0.07919531448943212,
           0.029151483602290505,
           -0.09076641381114287,
           -0.1767728674203494,
           -0.2687778068568419,
           -0.3697929976999742
          ],
          [
           0.26291560102301814,
           0.18584521384928723,
           0.14655172413793105,
           0.07987866531850346,
           0.04012112036336108,
           -0.008714021653023497,
           -0.04974619289340101,
           -0.18047559449311623,
           -0.25162581290645347,
           -0.3702668360864043
          ],
          [
           0.2813593203398294,
           0.20369021607186202,
           0.13297737096364065,
           0.09254178099276611,
           0.08124373119358094,
           0.011011523687580044,
           -0.08035043804755959,
           -0.1710625470987188,
           -0.2494979919678715,
           -0.3366336633663368
          ],
          [
           0.23698862260953737,
           0.20279371414317846,
           0.14542279870291805,
           0.09422321929332578,
           0.06835066864784559,
           -0.00645494448747741,
           -0.06721669497694738,
           -0.17756482525366402,
           -0.23817567567567607,
           -0.3313768647591111
          ],
          [
           0.2810077519379844,
           0.16406249999999983,
           0.13744075829383903,
           0.032321253672869664,
           0.07509881422924895,
           0.011811023622047194,
           -0.08451472191930223,
           -0.1484098939929328,
           -0.2567148760330577,
           -0.31981032665964165
          ],
          [
           0.29847494553376835,
           0.17088607594936708,
           0.16961498439125894,
           0.12591050988553593,
           0.05629477993858758,
           0.0308641975308642,
           -0.10138740661686231,
           -0.20203045685279195,
           -0.24843423799582462,
           -0.3706467661691543
          ],
          [
           0.22080924855491318,
           0.2079905992949471,
           0.14421930870083438,
           0.1405714285714285,
           0.06112469437652813,
           0.076923076923077,
           -0.05064782096584214,
           -0.15350877192982482,
           -0.23349056603773577,
           -0.2886363636363635
          ],
          [
           0.24428399518652225,
           0.20554854981084486,
           0.13216957605985036,
           0.017173051519154565,
           0.06582278481012661,
           0.0024691358024691206,
           -0.12958435207823968,
           -0.13308913308913312,
           -0.25086705202312093,
           -0.29987760097919175
          ],
          [
           0.2872928176795578,
           0.1671232876712328,
           0.1768115942028987,
           0.13907284768211925,
           0.08891928864569075,
           -0.04660452729693746,
           -0.026798307475317328,
           -0.17705735660847877,
           -0.21945137157107253,
           -0.4198675496688742
          ],
          [
           0.3209459459459457,
           0.2273449920508745,
           0.1705685618729097,
           0.09145427286356819,
           0.10377358490566034,
           0.011686143572621112,
           -0.09657320872274133,
           -0.11884057971014488,
           -0.2823529411764704,
           -0.38181818181818195
          ],
          [
           0.35727109515260286,
           0.2730496453900709,
           0.22181818181818175,
           0.09885931558935365,
           0.14285714285714293,
           0.18,
           0.12476722532588452,
           0.018092105263157913,
           -0.14285714285714285,
           -0.18470149253731338
          ],
          [
           0.535046728971963,
           0.4931818181818182,
           0.4573304157549232,
           0.42307692307692263,
           0.3731019522776574,
           0.434180138568129,
           0.29637526652452006,
           0.3098591549295777,
           0.28599605522682453,
           0.14317673378076065
          ],
          [
           0.7820163487738414,
           0.6782841823056301,
           0.6501457725947524,
           0.5894495412844029,
           0.5591397849462373,
           0.5872641509433955,
           0.5201149425287356,
           0.5724815724815728,
           0.5820512820512825,
           0.37037037037037046
          ],
          [
           0.8091603053435115,
           0.8313725490196072,
           0.7980132450331132,
           0.7620689655172416,
           0.7549407114624503,
           0.7527675276752768,
           0.7600000000000001,
           0.781710914454277,
           0.7785467128027679,
           0.7185430463576158
          ],
          [
           0.5511695906432748,
           0.3937125748502993,
           0.39393939393939365,
           0.322674418604651,
           0.3506493506493508,
           0.28550074738415554,
           0.24213836477987427,
           0.17614424410540921,
           0.12618724559023078,
           0.06306306306306302
          ]
         ]
        }
       ],
       "layout": {
        "autosize": true,
        "scene": {
         "aspectmode": "auto",
         "aspectratio": {
          "x": 1,
          "y": 1,
          "z": 1
         },
         "camera": {
          "center": {
           "x": 0,
           "y": 0,
           "z": 0
          },
          "eye": {
           "x": 1.3126544148523671,
           "y": -1.4573158284062315,
           "z": 0.9168800158391766
          },
          "projection": {
           "type": "perspective"
          },
          "up": {
           "x": 0,
           "y": 0,
           "z": 1
          }
         }
        },
        "template": {
         "data": {
          "bar": [
           {
            "error_x": {
             "color": "#2a3f5f"
            },
            "error_y": {
             "color": "#2a3f5f"
            },
            "marker": {
             "line": {
              "color": "#E5ECF6",
              "width": 0.5
             }
            },
            "type": "bar"
           }
          ],
          "barpolar": [
           {
            "marker": {
             "line": {
              "color": "#E5ECF6",
              "width": 0.5
             }
            },
            "type": "barpolar"
           }
          ],
          "carpet": [
           {
            "aaxis": {
             "endlinecolor": "#2a3f5f",
             "gridcolor": "white",
             "linecolor": "white",
             "minorgridcolor": "white",
             "startlinecolor": "#2a3f5f"
            },
            "baxis": {
             "endlinecolor": "#2a3f5f",
             "gridcolor": "white",
             "linecolor": "white",
             "minorgridcolor": "white",
             "startlinecolor": "#2a3f5f"
            },
            "type": "carpet"
           }
          ],
          "choropleth": [
           {
            "colorbar": {
             "outlinewidth": 0,
             "ticks": ""
            },
            "type": "choropleth"
           }
          ],
          "contour": [
           {
            "colorbar": {
             "outlinewidth": 0,
             "ticks": ""
            },
            "colorscale": [
             [
              0,
              "#0d0887"
             ],
             [
              0.1111111111111111,
              "#46039f"
             ],
             [
              0.2222222222222222,
              "#7201a8"
             ],
             [
              0.3333333333333333,
              "#9c179e"
             ],
             [
              0.4444444444444444,
              "#bd3786"
             ],
             [
              0.5555555555555556,
              "#d8576b"
             ],
             [
              0.6666666666666666,
              "#ed7953"
             ],
             [
              0.7777777777777778,
              "#fb9f3a"
             ],
             [
              0.8888888888888888,
              "#fdca26"
             ],
             [
              1,
              "#f0f921"
             ]
            ],
            "type": "contour"
           }
          ],
          "contourcarpet": [
           {
            "colorbar": {
             "outlinewidth": 0,
             "ticks": ""
            },
            "type": "contourcarpet"
           }
          ],
          "heatmap": [
           {
            "colorbar": {
             "outlinewidth": 0,
             "ticks": ""
            },
            "colorscale": [
             [
              0,
              "#0d0887"
             ],
             [
              0.1111111111111111,
              "#46039f"
             ],
             [
              0.2222222222222222,
              "#7201a8"
             ],
             [
              0.3333333333333333,
              "#9c179e"
             ],
             [
              0.4444444444444444,
              "#bd3786"
             ],
             [
              0.5555555555555556,
              "#d8576b"
             ],
             [
              0.6666666666666666,
              "#ed7953"
             ],
             [
              0.7777777777777778,
              "#fb9f3a"
             ],
             [
              0.8888888888888888,
              "#fdca26"
             ],
             [
              1,
              "#f0f921"
             ]
            ],
            "type": "heatmap"
           }
          ],
          "heatmapgl": [
           {
            "colorbar": {
             "outlinewidth": 0,
             "ticks": ""
            },
            "colorscale": [
             [
              0,
              "#0d0887"
             ],
             [
              0.1111111111111111,
              "#46039f"
             ],
             [
              0.2222222222222222,
              "#7201a8"
             ],
             [
              0.3333333333333333,
              "#9c179e"
             ],
             [
              0.4444444444444444,
              "#bd3786"
             ],
             [
              0.5555555555555556,
              "#d8576b"
             ],
             [
              0.6666666666666666,
              "#ed7953"
             ],
             [
              0.7777777777777778,
              "#fb9f3a"
             ],
             [
              0.8888888888888888,
              "#fdca26"
             ],
             [
              1,
              "#f0f921"
             ]
            ],
            "type": "heatmapgl"
           }
          ],
          "histogram": [
           {
            "marker": {
             "colorbar": {
              "outlinewidth": 0,
              "ticks": ""
             }
            },
            "type": "histogram"
           }
          ],
          "histogram2d": [
           {
            "colorbar": {
             "outlinewidth": 0,
             "ticks": ""
            },
            "colorscale": [
             [
              0,
              "#0d0887"
             ],
             [
              0.1111111111111111,
              "#46039f"
             ],
             [
              0.2222222222222222,
              "#7201a8"
             ],
             [
              0.3333333333333333,
              "#9c179e"
             ],
             [
              0.4444444444444444,
              "#bd3786"
             ],
             [
              0.5555555555555556,
              "#d8576b"
             ],
             [
              0.6666666666666666,
              "#ed7953"
             ],
             [
              0.7777777777777778,
              "#fb9f3a"
             ],
             [
              0.8888888888888888,
              "#fdca26"
             ],
             [
              1,
              "#f0f921"
             ]
            ],
            "type": "histogram2d"
           }
          ],
          "histogram2dcontour": [
           {
            "colorbar": {
             "outlinewidth": 0,
             "ticks": ""
            },
            "colorscale": [
             [
              0,
              "#0d0887"
             ],
             [
              0.1111111111111111,
              "#46039f"
             ],
             [
              0.2222222222222222,
              "#7201a8"
             ],
             [
              0.3333333333333333,
              "#9c179e"
             ],
             [
              0.4444444444444444,
              "#bd3786"
             ],
             [
              0.5555555555555556,
              "#d8576b"
             ],
             [
              0.6666666666666666,
              "#ed7953"
             ],
             [
              0.7777777777777778,
              "#fb9f3a"
             ],
             [
              0.8888888888888888,
              "#fdca26"
             ],
             [
              1,
              "#f0f921"
             ]
            ],
            "type": "histogram2dcontour"
           }
          ],
          "mesh3d": [
           {
            "colorbar": {
             "outlinewidth": 0,
             "ticks": ""
            },
            "type": "mesh3d"
           }
          ],
          "parcoords": [
           {
            "line": {
             "colorbar": {
              "outlinewidth": 0,
              "ticks": ""
             }
            },
            "type": "parcoords"
           }
          ],
          "pie": [
           {
            "automargin": true,
            "type": "pie"
           }
          ],
          "scatter": [
           {
            "marker": {
             "colorbar": {
              "outlinewidth": 0,
              "ticks": ""
             }
            },
            "type": "scatter"
           }
          ],
          "scatter3d": [
           {
            "line": {
             "colorbar": {
              "outlinewidth": 0,
              "ticks": ""
             }
            },
            "marker": {
             "colorbar": {
              "outlinewidth": 0,
              "ticks": ""
             }
            },
            "type": "scatter3d"
           }
          ],
          "scattercarpet": [
           {
            "marker": {
             "colorbar": {
              "outlinewidth": 0,
              "ticks": ""
             }
            },
            "type": "scattercarpet"
           }
          ],
          "scattergeo": [
           {
            "marker": {
             "colorbar": {
              "outlinewidth": 0,
              "ticks": ""
             }
            },
            "type": "scattergeo"
           }
          ],
          "scattergl": [
           {
            "marker": {
             "colorbar": {
              "outlinewidth": 0,
              "ticks": ""
             }
            },
            "type": "scattergl"
           }
          ],
          "scattermapbox": [
           {
            "marker": {
             "colorbar": {
              "outlinewidth": 0,
              "ticks": ""
             }
            },
            "type": "scattermapbox"
           }
          ],
          "scatterpolar": [
           {
            "marker": {
             "colorbar": {
              "outlinewidth": 0,
              "ticks": ""
             }
            },
            "type": "scatterpolar"
           }
          ],
          "scatterpolargl": [
           {
            "marker": {
             "colorbar": {
              "outlinewidth": 0,
              "ticks": ""
             }
            },
            "type": "scatterpolargl"
           }
          ],
          "scatterternary": [
           {
            "marker": {
             "colorbar": {
              "outlinewidth": 0,
              "ticks": ""
             }
            },
            "type": "scatterternary"
           }
          ],
          "surface": [
           {
            "colorbar": {
             "outlinewidth": 0,
             "ticks": ""
            },
            "colorscale": [
             [
              0,
              "#0d0887"
             ],
             [
              0.1111111111111111,
              "#46039f"
             ],
             [
              0.2222222222222222,
              "#7201a8"
             ],
             [
              0.3333333333333333,
              "#9c179e"
             ],
             [
              0.4444444444444444,
              "#bd3786"
             ],
             [
              0.5555555555555556,
              "#d8576b"
             ],
             [
              0.6666666666666666,
              "#ed7953"
             ],
             [
              0.7777777777777778,
              "#fb9f3a"
             ],
             [
              0.8888888888888888,
              "#fdca26"
             ],
             [
              1,
              "#f0f921"
             ]
            ],
            "type": "surface"
           }
          ],
          "table": [
           {
            "cells": {
             "fill": {
              "color": "#EBF0F8"
             },
             "line": {
              "color": "white"
             }
            },
            "header": {
             "fill": {
              "color": "#C8D4E3"
             },
             "line": {
              "color": "white"
             }
            },
            "type": "table"
           }
          ]
         },
         "layout": {
          "annotationdefaults": {
           "arrowcolor": "#2a3f5f",
           "arrowhead": 0,
           "arrowwidth": 1
          },
          "coloraxis": {
           "colorbar": {
            "outlinewidth": 0,
            "ticks": ""
           }
          },
          "colorscale": {
           "diverging": [
            [
             0,
             "#8e0152"
            ],
            [
             0.1,
             "#c51b7d"
            ],
            [
             0.2,
             "#de77ae"
            ],
            [
             0.3,
             "#f1b6da"
            ],
            [
             0.4,
             "#fde0ef"
            ],
            [
             0.5,
             "#f7f7f7"
            ],
            [
             0.6,
             "#e6f5d0"
            ],
            [
             0.7,
             "#b8e186"
            ],
            [
             0.8,
             "#7fbc41"
            ],
            [
             0.9,
             "#4d9221"
            ],
            [
             1,
             "#276419"
            ]
           ],
           "sequential": [
            [
             0,
             "#0d0887"
            ],
            [
             0.1111111111111111,
             "#46039f"
            ],
            [
             0.2222222222222222,
             "#7201a8"
            ],
            [
             0.3333333333333333,
             "#9c179e"
            ],
            [
             0.4444444444444444,
             "#bd3786"
            ],
            [
             0.5555555555555556,
             "#d8576b"
            ],
            [
             0.6666666666666666,
             "#ed7953"
            ],
            [
             0.7777777777777778,
             "#fb9f3a"
            ],
            [
             0.8888888888888888,
             "#fdca26"
            ],
            [
             1,
             "#f0f921"
            ]
           ],
           "sequentialminus": [
            [
             0,
             "#0d0887"
            ],
            [
             0.1111111111111111,
             "#46039f"
            ],
            [
             0.2222222222222222,
             "#7201a8"
            ],
            [
             0.3333333333333333,
             "#9c179e"
            ],
            [
             0.4444444444444444,
             "#bd3786"
            ],
            [
             0.5555555555555556,
             "#d8576b"
            ],
            [
             0.6666666666666666,
             "#ed7953"
            ],
            [
             0.7777777777777778,
             "#fb9f3a"
            ],
            [
             0.8888888888888888,
             "#fdca26"
            ],
            [
             1,
             "#f0f921"
            ]
           ]
          },
          "colorway": [
           "#636efa",
           "#EF553B",
           "#00cc96",
           "#ab63fa",
           "#FFA15A",
           "#19d3f3",
           "#FF6692",
           "#B6E880",
           "#FF97FF",
           "#FECB52"
          ],
          "font": {
           "color": "#2a3f5f"
          },
          "geo": {
           "bgcolor": "white",
           "lakecolor": "white",
           "landcolor": "#E5ECF6",
           "showlakes": true,
           "showland": true,
           "subunitcolor": "white"
          },
          "hoverlabel": {
           "align": "left"
          },
          "hovermode": "closest",
          "mapbox": {
           "style": "light"
          },
          "paper_bgcolor": "white",
          "plot_bgcolor": "#E5ECF6",
          "polar": {
           "angularaxis": {
            "gridcolor": "white",
            "linecolor": "white",
            "ticks": ""
           },
           "bgcolor": "#E5ECF6",
           "radialaxis": {
            "gridcolor": "white",
            "linecolor": "white",
            "ticks": ""
           }
          },
          "scene": {
           "xaxis": {
            "backgroundcolor": "#E5ECF6",
            "gridcolor": "white",
            "gridwidth": 2,
            "linecolor": "white",
            "showbackground": true,
            "ticks": "",
            "zerolinecolor": "white"
           },
           "yaxis": {
            "backgroundcolor": "#E5ECF6",
            "gridcolor": "white",
            "gridwidth": 2,
            "linecolor": "white",
            "showbackground": true,
            "ticks": "",
            "zerolinecolor": "white"
           },
           "zaxis": {
            "backgroundcolor": "#E5ECF6",
            "gridcolor": "white",
            "gridwidth": 2,
            "linecolor": "white",
            "showbackground": true,
            "ticks": "",
            "zerolinecolor": "white"
           }
          },
          "shapedefaults": {
           "line": {
            "color": "#2a3f5f"
           }
          },
          "ternary": {
           "aaxis": {
            "gridcolor": "white",
            "linecolor": "white",
            "ticks": ""
           },
           "baxis": {
            "gridcolor": "white",
            "linecolor": "white",
            "ticks": ""
           },
           "bgcolor": "#E5ECF6",
           "caxis": {
            "gridcolor": "white",
            "linecolor": "white",
            "ticks": ""
           }
          },
          "title": {
           "x": 0.05
          },
          "xaxis": {
           "automargin": true,
           "gridcolor": "white",
           "linecolor": "white",
           "ticks": "",
           "title": {
            "standoff": 15
           },
           "zerolinecolor": "white",
           "zerolinewidth": 2
          },
          "yaxis": {
           "automargin": true,
           "gridcolor": "white",
           "linecolor": "white",
           "ticks": "",
           "title": {
            "standoff": 15
           },
           "zerolinecolor": "white",
           "zerolinewidth": 2
          }
         }
        }
       }
      },
      "image/png": "[encoded data removed]",
      "text/html": [
       "<div>                            <div id=\"9c20951d-5ae9-471d-94a5-4dd73e8d9bb5\" class=\"plotly-graph-div\" style=\"height:525px; width:100%;\"></div>            <script type=\"text/javascript\">                require([\"plotly\"], function(Plotly) {                    window.PLOTLYENV=window.PLOTLYENV || {};                                    if (document.getElementById(\"9c20951d-5ae9-471d-94a5-4dd73e8d9bb5\")) {                    Plotly.newPlot(                        \"9c20951d-5ae9-471d-94a5-4dd73e8d9bb5\",                        [{\"type\": \"surface\", \"x\": [1, 2, 3, 4, 5, 6, 7, 8, 9, 10], \"y\": [1, 2, 3, 4, 5, 6, 7, 8, 9, 10, 11, 12, 13, 14, 15, 16, 17, 18, 19, 20, 21], \"z\": [[0.26009880848590516, 0.20011321822813505, 0.14878690441391407, 0.0886220697541452, 0.06825633383010427, 0.018570624648283636, -0.06259013556388818, -0.19941944847605206, -0.27450980392156865, -0.2990224266820009], [0.263218390804597, 0.21098346875875632, 0.1388068517424688, 0.09997167941093174, 0.07059824213212383, 0.041289592760181, -0.0750348675034866, -0.17189249720044822, -0.25995987388936637, -0.3433352567801493], [0.25942474169226526, 0.25117695929105577, 0.16666666666666627, 0.10984540276647688, 0.10515928954045665, 0.02635228848821083, -0.08518024032042723, -0.15256094220761462, -0.27230590961761353, -0.3470075864006745], [0.25524568393094316, 0.21406979939543852, 0.1372549019607841, 0.10623306233062331, 0.048966267682263316, 0.04501084598698503, -0.05035161744022502, -0.18111964873765088, -0.28449931412894397, -0.33972602739726043], [0.2553020134228191, 0.17180616740088123, 0.13764861294583863, 0.0802997858672376, 0.038288883020860844, 0.024350205198358437, -0.10322405852072591, -0.16604970914859896, -0.21474019088016982, -0.34621578099838957], [0.2584566596194512, 0.21526315789473638, 0.14560000000000006, 0.1258593336858801, 0.050629520492901134, 0.023006955591225217, -0.05136436597110764, -0.19510926118626407, -0.26386381222594674, -0.35223959713755637], [0.25109677419354953, 0.19047619047619005, 0.15814443858724292, 0.10181168665475877, 0.07919531448943212, 0.029151483602290505, -0.09076641381114287, -0.1767728674203494, -0.2687778068568419, -0.3697929976999742], [0.26291560102301814, 0.18584521384928723, 0.14655172413793105, 0.07987866531850346, 0.04012112036336108, -0.008714021653023497, -0.04974619289340101, -0.18047559449311623, -0.25162581290645347, -0.3702668360864043], [0.2813593203398294, 0.20369021607186202, 0.13297737096364065, 0.09254178099276611, 0.08124373119358094, 0.011011523687580044, -0.08035043804755959, -0.1710625470987188, -0.2494979919678715, -0.3366336633663368], [0.23698862260953737, 0.20279371414317846, 0.14542279870291805, 0.09422321929332578, 0.06835066864784559, -0.00645494448747741, -0.06721669497694738, -0.17756482525366402, -0.23817567567567607, -0.3313768647591111], [0.2810077519379844, 0.16406249999999983, 0.13744075829383903, 0.032321253672869664, 0.07509881422924895, 0.011811023622047194, -0.08451472191930223, -0.1484098939929328, -0.2567148760330577, -0.31981032665964165], [0.29847494553376835, 0.17088607594936708, 0.16961498439125894, 0.12591050988553593, 0.05629477993858758, 0.0308641975308642, -0.10138740661686231, -0.20203045685279195, -0.24843423799582462, -0.3706467661691543], [0.22080924855491318, 0.2079905992949471, 0.14421930870083438, 0.1405714285714285, 0.06112469437652813, 0.076923076923077, -0.05064782096584214, -0.15350877192982482, -0.23349056603773577, -0.2886363636363635], [0.24428399518652225, 0.20554854981084486, 0.13216957605985036, 0.017173051519154565, 0.06582278481012661, 0.0024691358024691206, -0.12958435207823968, -0.13308913308913312, -0.25086705202312093, -0.29987760097919175], [0.2872928176795578, 0.1671232876712328, 0.1768115942028987, 0.13907284768211925, 0.08891928864569075, -0.04660452729693746, -0.026798307475317328, -0.17705735660847877, -0.21945137157107253, -0.4198675496688742], [0.3209459459459457, 0.2273449920508745, 0.1705685618729097, 0.09145427286356819, 0.10377358490566034, 0.011686143572621112, -0.09657320872274133, -0.11884057971014488, -0.2823529411764704, -0.38181818181818195], [0.35727109515260286, 0.2730496453900709, 0.22181818181818175, 0.09885931558935365, 0.14285714285714293, 0.18, 0.12476722532588452, 0.018092105263157913, -0.14285714285714285, -0.18470149253731338], [0.535046728971963, 0.4931818181818182, 0.4573304157549232, 0.42307692307692263, 0.3731019522776574, 0.434180138568129, 0.29637526652452006, 0.3098591549295777, 0.28599605522682453, 0.14317673378076065], [0.7820163487738414, 0.6782841823056301, 0.6501457725947524, 0.5894495412844029, 0.5591397849462373, 0.5872641509433955, 0.5201149425287356, 0.5724815724815728, 0.5820512820512825, 0.37037037037037046], [0.8091603053435115, 0.8313725490196072, 0.7980132450331132, 0.7620689655172416, 0.7549407114624503, 0.7527675276752768, 0.7600000000000001, 0.781710914454277, 0.7785467128027679, 0.7185430463576158], [0.5511695906432748, 0.3937125748502993, 0.39393939393939365, 0.322674418604651, 0.3506493506493508, 0.28550074738415554, 0.24213836477987427, 0.17614424410540921, 0.12618724559023078, 0.06306306306306302]]}],                        {\"template\": {\"data\": {\"bar\": [{\"error_x\": {\"color\": \"#2a3f5f\"}, \"error_y\": {\"color\": \"#2a3f5f\"}, \"marker\": {\"line\": {\"color\": \"#E5ECF6\", \"width\": 0.5}}, \"type\": \"bar\"}], \"barpolar\": [{\"marker\": {\"line\": {\"color\": \"#E5ECF6\", \"width\": 0.5}}, \"type\": \"barpolar\"}], \"carpet\": [{\"aaxis\": {\"endlinecolor\": \"#2a3f5f\", \"gridcolor\": \"white\", \"linecolor\": \"white\", \"minorgridcolor\": \"white\", \"startlinecolor\": \"#2a3f5f\"}, \"baxis\": {\"endlinecolor\": \"#2a3f5f\", \"gridcolor\": \"white\", \"linecolor\": \"white\", \"minorgridcolor\": \"white\", \"startlinecolor\": \"#2a3f5f\"}, \"type\": \"carpet\"}], \"choropleth\": [{\"colorbar\": {\"outlinewidth\": 0, \"ticks\": \"\"}, \"type\": \"choropleth\"}], \"contour\": [{\"colorbar\": {\"outlinewidth\": 0, \"ticks\": \"\"}, \"colorscale\": [[0.0, \"#0d0887\"], [0.1111111111111111, \"#46039f\"], [0.2222222222222222, \"#7201a8\"], [0.3333333333333333, \"#9c179e\"], [0.4444444444444444, \"#bd3786\"], [0.5555555555555556, \"#d8576b\"], [0.6666666666666666, \"#ed7953\"], [0.7777777777777778, \"#fb9f3a\"], [0.8888888888888888, \"#fdca26\"], [1.0, \"#f0f921\"]], \"type\": \"contour\"}], \"contourcarpet\": [{\"colorbar\": {\"outlinewidth\": 0, \"ticks\": \"\"}, \"type\": \"contourcarpet\"}], \"heatmap\": [{\"colorbar\": {\"outlinewidth\": 0, \"ticks\": \"\"}, \"colorscale\": [[0.0, \"#0d0887\"], [0.1111111111111111, \"#46039f\"], [0.2222222222222222, \"#7201a8\"], [0.3333333333333333, \"#9c179e\"], [0.4444444444444444, \"#bd3786\"], [0.5555555555555556, \"#d8576b\"], [0.6666666666666666, \"#ed7953\"], [0.7777777777777778, \"#fb9f3a\"], [0.8888888888888888, \"#fdca26\"], [1.0, \"#f0f921\"]], \"type\": \"heatmap\"}], \"heatmapgl\": [{\"colorbar\": {\"outlinewidth\": 0, \"ticks\": \"\"}, \"colorscale\": [[0.0, \"#0d0887\"], [0.1111111111111111, \"#46039f\"], [0.2222222222222222, \"#7201a8\"], [0.3333333333333333, \"#9c179e\"], [0.4444444444444444, \"#bd3786\"], [0.5555555555555556, \"#d8576b\"], [0.6666666666666666, \"#ed7953\"], [0.7777777777777778, \"#fb9f3a\"], [0.8888888888888888, \"#fdca26\"], [1.0, \"#f0f921\"]], \"type\": \"heatmapgl\"}], \"histogram\": [{\"marker\": {\"colorbar\": {\"outlinewidth\": 0, \"ticks\": \"\"}}, \"type\": \"histogram\"}], \"histogram2d\": [{\"colorbar\": {\"outlinewidth\": 0, \"ticks\": \"\"}, \"colorscale\": [[0.0, \"#0d0887\"], [0.1111111111111111, \"#46039f\"], [0.2222222222222222, \"#7201a8\"], [0.3333333333333333, \"#9c179e\"], [0.4444444444444444, \"#bd3786\"], [0.5555555555555556, \"#d8576b\"], [0.6666666666666666, \"#ed7953\"], [0.7777777777777778, \"#fb9f3a\"], [0.8888888888888888, \"#fdca26\"], [1.0, \"#f0f921\"]], \"type\": \"histogram2d\"}], \"histogram2dcontour\": [{\"colorbar\": {\"outlinewidth\": 0, \"ticks\": \"\"}, \"colorscale\": [[0.0, \"#0d0887\"], [0.1111111111111111, \"#46039f\"], [0.2222222222222222, \"#7201a8\"], [0.3333333333333333, \"#9c179e\"], [0.4444444444444444, \"#bd3786\"], [0.5555555555555556, \"#d8576b\"], [0.6666666666666666, \"#ed7953\"], [0.7777777777777778, \"#fb9f3a\"], [0.8888888888888888, \"#fdca26\"], [1.0, \"#f0f921\"]], \"type\": \"histogram2dcontour\"}], \"mesh3d\": [{\"colorbar\": {\"outlinewidth\": 0, \"ticks\": \"\"}, \"type\": \"mesh3d\"}], \"parcoords\": [{\"line\": {\"colorbar\": {\"outlinewidth\": 0, \"ticks\": \"\"}}, \"type\": \"parcoords\"}], \"pie\": [{\"automargin\": true, \"type\": \"pie\"}], \"scatter\": [{\"marker\": {\"colorbar\": {\"outlinewidth\": 0, \"ticks\": \"\"}}, \"type\": \"scatter\"}], \"scatter3d\": [{\"line\": {\"colorbar\": {\"outlinewidth\": 0, \"ticks\": \"\"}}, \"marker\": {\"colorbar\": {\"outlinewidth\": 0, \"ticks\": \"\"}}, \"type\": \"scatter3d\"}], \"scattercarpet\": [{\"marker\": {\"colorbar\": {\"outlinewidth\": 0, \"ticks\": \"\"}}, \"type\": \"scattercarpet\"}], \"scattergeo\": [{\"marker\": {\"colorbar\": {\"outlinewidth\": 0, \"ticks\": \"\"}}, \"type\": \"scattergeo\"}], \"scattergl\": [{\"marker\": {\"colorbar\": {\"outlinewidth\": 0, \"ticks\": \"\"}}, \"type\": \"scattergl\"}], \"scattermapbox\": [{\"marker\": {\"colorbar\": {\"outlinewidth\": 0, \"ticks\": \"\"}}, \"type\": \"scattermapbox\"}], \"scatterpolar\": [{\"marker\": {\"colorbar\": {\"outlinewidth\": 0, \"ticks\": \"\"}}, \"type\": \"scatterpolar\"}], \"scatterpolargl\": [{\"marker\": {\"colorbar\": {\"outlinewidth\": 0, \"ticks\": \"\"}}, \"type\": \"scatterpolargl\"}], \"scatterternary\": [{\"marker\": {\"colorbar\": {\"outlinewidth\": 0, \"ticks\": \"\"}}, \"type\": \"scatterternary\"}], \"surface\": [{\"colorbar\": {\"outlinewidth\": 0, \"ticks\": \"\"}, \"colorscale\": [[0.0, \"#0d0887\"], [0.1111111111111111, \"#46039f\"], [0.2222222222222222, \"#7201a8\"], [0.3333333333333333, \"#9c179e\"], [0.4444444444444444, \"#bd3786\"], [0.5555555555555556, \"#d8576b\"], [0.6666666666666666, \"#ed7953\"], [0.7777777777777778, \"#fb9f3a\"], [0.8888888888888888, \"#fdca26\"], [1.0, \"#f0f921\"]], \"type\": \"surface\"}], \"table\": [{\"cells\": {\"fill\": {\"color\": \"#EBF0F8\"}, \"line\": {\"color\": \"white\"}}, \"header\": {\"fill\": {\"color\": \"#C8D4E3\"}, \"line\": {\"color\": \"white\"}}, \"type\": \"table\"}]}, \"layout\": {\"annotationdefaults\": {\"arrowcolor\": \"#2a3f5f\", \"arrowhead\": 0, \"arrowwidth\": 1}, \"coloraxis\": {\"colorbar\": {\"outlinewidth\": 0, \"ticks\": \"\"}}, \"colorscale\": {\"diverging\": [[0, \"#8e0152\"], [0.1, \"#c51b7d\"], [0.2, \"#de77ae\"], [0.3, \"#f1b6da\"], [0.4, \"#fde0ef\"], [0.5, \"#f7f7f7\"], [0.6, \"#e6f5d0\"], [0.7, \"#b8e186\"], [0.8, \"#7fbc41\"], [0.9, \"#4d9221\"], [1, \"#276419\"]], \"sequential\": [[0.0, \"#0d0887\"], [0.1111111111111111, \"#46039f\"], [0.2222222222222222, \"#7201a8\"], [0.3333333333333333, \"#9c179e\"], [0.4444444444444444, \"#bd3786\"], [0.5555555555555556, \"#d8576b\"], [0.6666666666666666, \"#ed7953\"], [0.7777777777777778, \"#fb9f3a\"], [0.8888888888888888, \"#fdca26\"], [1.0, \"#f0f921\"]], \"sequentialminus\": [[0.0, \"#0d0887\"], [0.1111111111111111, \"#46039f\"], [0.2222222222222222, \"#7201a8\"], [0.3333333333333333, \"#9c179e\"], [0.4444444444444444, \"#bd3786\"], [0.5555555555555556, \"#d8576b\"], [0.6666666666666666, \"#ed7953\"], [0.7777777777777778, \"#fb9f3a\"], [0.8888888888888888, \"#fdca26\"], [1.0, \"#f0f921\"]]}, \"colorway\": [\"#636efa\", \"#EF553B\", \"#00cc96\", \"#ab63fa\", \"#FFA15A\", \"#19d3f3\", \"#FF6692\", \"#B6E880\", \"#FF97FF\", \"#FECB52\"], \"font\": {\"color\": \"#2a3f5f\"}, \"geo\": {\"bgcolor\": \"white\", \"lakecolor\": \"white\", \"landcolor\": \"#E5ECF6\", \"showlakes\": true, \"showland\": true, \"subunitcolor\": \"white\"}, \"hoverlabel\": {\"align\": \"left\"}, \"hovermode\": \"closest\", \"mapbox\": {\"style\": \"light\"}, \"paper_bgcolor\": \"white\", \"plot_bgcolor\": \"#E5ECF6\", \"polar\": {\"angularaxis\": {\"gridcolor\": \"white\", \"linecolor\": \"white\", \"ticks\": \"\"}, \"bgcolor\": \"#E5ECF6\", \"radialaxis\": {\"gridcolor\": \"white\", \"linecolor\": \"white\", \"ticks\": \"\"}}, \"scene\": {\"xaxis\": {\"backgroundcolor\": \"#E5ECF6\", \"gridcolor\": \"white\", \"gridwidth\": 2, \"linecolor\": \"white\", \"showbackground\": true, \"ticks\": \"\", \"zerolinecolor\": \"white\"}, \"yaxis\": {\"backgroundcolor\": \"#E5ECF6\", \"gridcolor\": \"white\", \"gridwidth\": 2, \"linecolor\": \"white\", \"showbackground\": true, \"ticks\": \"\", \"zerolinecolor\": \"white\"}, \"zaxis\": {\"backgroundcolor\": \"#E5ECF6\", \"gridcolor\": \"white\", \"gridwidth\": 2, \"linecolor\": \"white\", \"showbackground\": true, \"ticks\": \"\", \"zerolinecolor\": \"white\"}}, \"shapedefaults\": {\"line\": {\"color\": \"#2a3f5f\"}}, \"ternary\": {\"aaxis\": {\"gridcolor\": \"white\", \"linecolor\": \"white\", \"ticks\": \"\"}, \"baxis\": {\"gridcolor\": \"white\", \"linecolor\": \"white\", \"ticks\": \"\"}, \"bgcolor\": \"#E5ECF6\", \"caxis\": {\"gridcolor\": \"white\", \"linecolor\": \"white\", \"ticks\": \"\"}}, \"title\": {\"x\": 0.05}, \"xaxis\": {\"automargin\": true, \"gridcolor\": \"white\", \"linecolor\": \"white\", \"ticks\": \"\", \"title\": {\"standoff\": 15}, \"zerolinecolor\": \"white\", \"zerolinewidth\": 2}, \"yaxis\": {\"automargin\": true, \"gridcolor\": \"white\", \"linecolor\": \"white\", \"ticks\": \"\", \"title\": {\"standoff\": 15}, \"zerolinecolor\": \"white\", \"zerolinewidth\": 2}}}},                        {\"responsive\": true}                    ).then(function(){\n",
       "                            \n",
       "var gd = document.getElementById('9c20951d-5ae9-471d-94a5-4dd73e8d9bb5');\n",
       "var x = new MutationObserver(function (mutations, observer) {{\n",
       "        var display = window.getComputedStyle(gd).display;\n",
       "        if (!display || display === 'none') {{\n",
       "            console.log([gd, 'removed!']);\n",
       "            Plotly.purge(gd);\n",
       "            observer.disconnect();\n",
       "        }}\n",
       "}});\n",
       "\n",
       "// Listen for the removal of the full notebook cells\n",
       "var notebookContainer = gd.closest('#notebook-container');\n",
       "if (notebookContainer) {{\n",
       "    x.observe(notebookContainer, {childList: true});\n",
       "}}\n",
       "\n",
       "// Listen for the clearing of the current output cell\n",
       "var outputEl = gd.closest('.output');\n",
       "if (outputEl) {{\n",
       "    x.observe(outputEl, {childList: true});\n",
       "}}\n",
       "\n",
       "                        })                };                });            </script>        </div>"
      ]
     },
     "metadata": {},
     "output_type": "display_data"
    }
   ],
   "source": [
    "x, y, z = mc_agent.get_V_star()\n",
    "fig = go.Figure(data=[go.Surface(z=z, x=y, y=x)])\n",
    "fig.show()"
   ]
  },
  {
   "cell_type": "code",
   "execution_count": null,
   "metadata": {},
   "outputs": [],
   "source": []
  }
 ],
 "metadata": {
  "kernelspec": {
   "display_name": "Python 3",
   "language": "python",
   "name": "python3"
  },
  "language_info": {
   "codemirror_mode": {
    "name": "ipython",
    "version": 3
   },
   "file_extension": ".py",
   "mimetype": "text/x-python",
   "name": "python",
   "nbconvert_exporter": "python",
   "pygments_lexer": "ipython3",
   "version": "3.8.5"
  }
 },
 "nbformat": 4,
 "nbformat_minor": 4
}
