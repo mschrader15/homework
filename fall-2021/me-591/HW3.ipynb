{
 "cells": [
  {
   "cell_type": "markdown",
   "id": "4169a0b9-84a6-414f-a8e8-88879db2a6d2",
   "metadata": {},
   "source": [
    "# ME 591 HW 3\n",
    "\n",
    "Max Schrader\n",
    "\n",
    "9/6/21\n",
    "\n",
    "ME 591"
   ]
  },
  {
   "cell_type": "code",
   "execution_count": 1,
   "id": "d80ebe5e-6062-4d8e-a63e-c5c0feb82d66",
   "metadata": {},
   "outputs": [],
   "source": [
    "import os\n",
    "import math\n",
    "import pint"
   ]
  },
  {
   "cell_type": "code",
   "execution_count": 2,
   "id": "63721263-d204-4c36-a1de-640183a7468e",
   "metadata": {},
   "outputs": [],
   "source": [
    "def bordered(text):\n",
    "    lines = text.splitlines()\n",
    "    width = max(len(s) for s in lines)\n",
    "    res = ['┌' + '─' * width + '┐']\n",
    "    for s in lines:\n",
    "        res.append('│' + (s + ' ' * width)[:width] + '│')\n",
    "    res.append('└' + '─' * width + '┘')\n",
    "    return '\\n'.join(res)"
   ]
  },
  {
   "cell_type": "markdown",
   "id": "eaf9a3d0-d560-445c-bea8-7a8b38e80d54",
   "metadata": {},
   "source": [
    "## Problem 4-19"
   ]
  },
  {
   "cell_type": "code",
   "execution_count": 3,
   "id": "2e365cee-49da-4ffb-8703-b95523a89406",
   "metadata": {},
   "outputs": [],
   "source": [
    "ureg = pint.UnitRegistry(autoconvert_offset_to_baseunit = True)"
   ]
  },
  {
   "cell_type": "markdown",
   "id": "66c89899-6787-4386-9a06-e2697e167f1d",
   "metadata": {},
   "source": [
    "### Defining the Inputs"
   ]
  },
  {
   "cell_type": "code",
   "execution_count": 4,
   "id": "a54fe97c-3704-47a3-aa72-410b1ad6f534",
   "metadata": {},
   "outputs": [],
   "source": [
    "P_solar = 8 * ureg.month\n",
    "P_heater = 4 * ureg.month\n",
    "\n",
    "T_water_hot = 60 * ureg.degC\n",
    "T_water_cold = 20 * ureg.degC\n",
    "M_water = 6e3 * ureg.kilogram / ureg.month   # is this imperial tons or metric tons ? I am using metric tons bc everything else in the problem is metric\n",
    "cost = 1.35 / (ureg.therm)\n",
    "N_heater = 88 / 100\n",
    "c_p = 4.18 * (ureg.kJ / (ureg.kilogram * ureg.delta_celsius)) "
   ]
  },
  {
   "cell_type": "markdown",
   "id": "4ed4f0fb-dce4-483b-bd0c-70975e70b210",
   "metadata": {},
   "source": [
    "### Solving for $Q$"
   ]
  },
  {
   "cell_type": "code",
   "execution_count": 5,
   "id": "42a6c8a3-a647-440a-bc67-d7517dbef8d1",
   "metadata": {},
   "outputs": [
    {
     "data": {
      "text/html": [
       "1003200.0 kilojoule/month"
      ],
      "text/latex": [
       "$1003200.0\\ \\frac{\\mathrm{kilojoule}}{\\mathrm{month}}$"
      ],
      "text/plain": [
       "1003200.0 <Unit('kilojoule / month')>"
      ]
     },
     "execution_count": 5,
     "metadata": {},
     "output_type": "execute_result"
    }
   ],
   "source": [
    "Q = M_water * c_p * (T_water_hot - T_water_cold)\n",
    "Q"
   ]
  },
  {
   "cell_type": "markdown",
   "id": "cab55d31-181e-4e54-8040-53091f79abfd",
   "metadata": {},
   "source": [
    "### Electricity Savings"
   ]
  },
  {
   "cell_type": "code",
   "execution_count": 6,
   "id": "e8e7b17f-9134-4609-9f84-67198adbc9d1",
   "metadata": {},
   "outputs": [
    {
     "data": {
      "text/html": [
       "9120000.0 kilojoule"
      ],
      "text/latex": [
       "$9120000.0\\ \\mathrm{kilojoule}$"
      ],
      "text/plain": [
       "9120000.0 <Unit('kilojoule')>"
      ]
     },
     "execution_count": 6,
     "metadata": {},
     "output_type": "execute_result"
    }
   ],
   "source": [
    "e_savings = (Q / N_heater * P_solar).to('kJ')\n",
    "e_savings"
   ]
  },
  {
   "cell_type": "markdown",
   "id": "cd58fd95-aa2f-49e7-8db2-457a1a3d2ad2",
   "metadata": {},
   "source": [
    "### Cost Savings"
   ]
  },
  {
   "cell_type": "code",
   "execution_count": 7,
   "id": "3e630364-e664-417c-b3a3-8799fdec39c5",
   "metadata": {},
   "outputs": [
    {
     "name": "stdout",
     "output_type": "stream",
     "text": [
      "┌────────────────┐\n",
      "│Savings = $116.7│\n",
      "└────────────────┘\n"
     ]
    }
   ],
   "source": [
    "print(bordered(f\"Savings = ${round(float((e_savings * cost)), 2)}\"))"
   ]
  },
  {
   "cell_type": "markdown",
   "id": "f46c6b27-10a2-412c-a5d5-bdf32e68d658",
   "metadata": {},
   "source": [
    "## Problem 4-34 "
   ]
  },
  {
   "cell_type": "code",
   "execution_count": 8,
   "id": "3b6f93b7-367a-4eac-92d8-8ecb361b8a05",
   "metadata": {},
   "outputs": [],
   "source": [
    "ureg = pint.UnitRegistry(autoconvert_offset_to_baseunit = True)"
   ]
  },
  {
   "cell_type": "code",
   "execution_count": 9,
   "id": "07c8dac6-91c9-41da-acc9-5617281f68d3",
   "metadata": {},
   "outputs": [],
   "source": [
    "CR = 7\n",
    "N_ar = 0.88\n",
    "T_collector = 145 * ureg.degC\n",
    "T_air = 27 * ureg.degC\n",
    "\n",
    "collectors = {\n",
    "    'A': {\n",
    "        'U': 2.5 * (ureg.watt / (ureg.meter ** 2 * ureg.delta_degC)),\n",
    "        'G': 600 * (ureg.watt / (ureg.meter ** 2))\n",
    "    },\n",
    "    'B': {\n",
    "        'U': 0.63 * (ureg.watt / (ureg.meter ** 2 * ureg.delta_degC)) \n",
    "    }\n",
    "}\n"
   ]
  },
  {
   "cell_type": "markdown",
   "id": "55db3ca2-1cf6-41ae-89b6-ed3e0cad3cf3",
   "metadata": {},
   "source": [
    "### Collector Efficiency of A"
   ]
  },
  {
   "cell_type": "code",
   "execution_count": 10,
   "id": "62c46ff1-6a35-48bc-84d5-3306d55f2fff",
   "metadata": {},
   "outputs": [
    {
     "data": {
      "text/html": [
       "0.8097619047619048 dimensionless"
      ],
      "text/latex": [
       "$0.8097619047619048\\ dimensionless$"
      ],
      "text/plain": [
       "0.8097619047619048 <Unit('dimensionless')>"
      ]
     },
     "execution_count": 10,
     "metadata": {},
     "output_type": "execute_result"
    }
   ],
   "source": [
    "collectors['A']['N_c'] = N_ar - collectors['A']['U'] * (T_collector - T_air) / (CR * collectors['A']['G'])\n",
    "collectors['A']['N_c']"
   ]
  },
  {
   "cell_type": "markdown",
   "id": "57adf748-d5fa-4917-ae93-74a1750de1cb",
   "metadata": {},
   "source": [
    "### Finding Solar Irradation Rate of B"
   ]
  },
  {
   "cell_type": "code",
   "execution_count": 11,
   "id": "09610d11-f85b-4d70-a20c-b9d64a00233b",
   "metadata": {},
   "outputs": [
    {
     "name": "stdout",
     "output_type": "stream",
     "text": [
      "┌─────────────────────────────┐\n",
      "│G_B = 151.2 watt / meter ** 2│\n",
      "└─────────────────────────────┘\n"
     ]
    }
   ],
   "source": [
    "collectors['B']['N_c'] = collectors['A']['N_c']\n",
    "collectors['B']['G'] = ((collectors['B']['N_c'] - N_ar) / (-1 * collectors['B']['U']) / (T_collector - T_air)) ** (-1) / CR\n",
    "print(bordered(f\"G_B = {round(collectors['B']['G'], 2)}\"))"
   ]
  },
  {
   "cell_type": "markdown",
   "id": "94ad2294-2fb1-4026-b730-04fecbc3bbb7",
   "metadata": {},
   "source": [
    "### Collector Efficiency of A if Solar Irradiation Increases"
   ]
  },
  {
   "cell_type": "code",
   "execution_count": 12,
   "id": "c78dc375-b8e6-41f3-9753-1ffb88b3aa24",
   "metadata": {},
   "outputs": [
    {
     "name": "stdout",
     "output_type": "stream",
     "text": [
      "┌─────────────────────────┐\n",
      "│Efficiency Change = 2.34%│\n",
      "└─────────────────────────┘\n"
     ]
    }
   ],
   "source": [
    "collectors['A']['G'] = 900 * (ureg.watt / (ureg.meter ** 2))\n",
    "new_eff = N_ar - collectors['A']['U'] * (T_collector - T_air) / (CR * collectors['A']['G'])\n",
    "print(bordered(f\"Efficiency Change = {round((new_eff.magnitude - collectors['A']['N_c'].magnitude) * 100, 2)}%\"))"
   ]
  },
  {
   "cell_type": "markdown",
   "id": "929dc233-5a2a-4509-ac36-7225da268bdf",
   "metadata": {},
   "source": [
    "## Problem 4-45 "
   ]
  },
  {
   "cell_type": "markdown",
   "id": "e3a5a663-2999-4994-b39e-40cb477a9636",
   "metadata": {},
   "source": [
    "A solar-power-tower plant is considered for Houston, Texas. Heliostats with a total area of\n",
    "400,000 ft 2 are to be used to reflect solar radiation into a receiver. When the solar irradiation is\n",
    "250 Btu/h ⋅ ft 2 , steam is produced at 160 psia and 600°F at a rate of 15 lbm/s. This steam is expanded\n",
    "in a turbine to 2 psia pressure. The isentropic efficiency of the turbine is 88 percent. (a) Determine\n",
    "the power output, in kW and the thermal efficiency of the plant under these operating conditions.\n",
    "(b) How much electricity can be produced per year if the average thermal efficiency is 12 percent and\n",
    "the generator efficiency is 98 percent? Use the solar insolation value in Table 3-5 in Chap. 3. (c) The\n",
    "estimated cost of this plant is $17,000/kW and the plant is expected to operate 4500 h a year at the\n",
    "power output determined in part (a). If electricity generated is to be sold at a price of $0.11/kWh, how\n",
    "long will it take for this plant to pay for itself?"
   ]
  },
  {
   "cell_type": "code",
   "execution_count": 13,
   "id": "fe6cfddb-8fc2-40eb-9ceb-f584affce88f",
   "metadata": {},
   "outputs": [],
   "source": [
    "ureg = pint.UnitRegistry(autoconvert_offset_to_baseunit = True)"
   ]
  },
  {
   "cell_type": "code",
   "execution_count": 14,
   "id": "2ef192d3-7889-4849-8ca8-16a66833dcea",
   "metadata": {},
   "outputs": [],
   "source": [
    "A = (400_000 * ureg.ft ** 2).to(ureg.meters **2)\n",
    "G = (250 * (ureg.BTU / (ureg.hour * ureg.ft ** 2))).to(ureg.watt / (ureg.meter ** 2))\n",
    "P_steam_in = (160 * ureg.psi).to('MPa')\n",
    "T_steam = (600 * ureg.degF).to('degC')\n",
    "m_dot_steam = (15 * ureg.pound / ureg.second).to('kg/s')\n",
    "P_steam_out = (2 * ureg.psi).to('MPa')\n",
    "N_isentropic = .88"
   ]
  },
  {
   "cell_type": "code",
   "execution_count": 15,
   "id": "ec3f4d57-6cf4-4a53-a17f-98ec088687d3",
   "metadata": {},
   "outputs": [
    {
     "data": {
      "text/html": [
       "1103.1611669069382 kilopascal"
      ],
      "text/latex": [
       "$1103.1611669069382\\ \\mathrm{kilopascal}$"
      ],
      "text/plain": [
       "1103.1611669069382 <Unit('kilopascal')>"
      ]
     },
     "execution_count": 15,
     "metadata": {},
     "output_type": "execute_result"
    }
   ],
   "source": [
    "P_steam_in.to('kPa')"
   ]
  },
  {
   "cell_type": "code",
   "execution_count": 16,
   "id": "1c390d24-9be5-43ae-a98f-ac1ef21993e9",
   "metadata": {},
   "outputs": [
    {
     "data": {
      "text/html": [
       "13.789514586336725 kilopascal"
      ],
      "text/latex": [
       "$13.789514586336725\\ \\mathrm{kilopascal}$"
      ],
      "text/plain": [
       "13.789514586336725 <Unit('kilopascal')>"
      ]
     },
     "execution_count": 16,
     "metadata": {},
     "output_type": "execute_result"
    }
   ],
   "source": [
    "P_steam_out.to('kPa')"
   ]
  },
  {
   "cell_type": "code",
   "execution_count": 17,
   "id": "5607292a-e779-4463-ae18-b155e60d2dd5",
   "metadata": {},
   "outputs": [
    {
     "data": {
      "text/html": [
       "315.55555555555566 degree_Celsius"
      ],
      "text/latex": [
       "$315.55555555555566\\ \\mathrm{degree\\_Celsius}$"
      ],
      "text/plain": [
       "315.55555555555566 <Unit('degree_Celsius')>"
      ]
     },
     "execution_count": 17,
     "metadata": {},
     "output_type": "execute_result"
    }
   ],
   "source": [
    "T_steam"
   ]
  },
  {
   "cell_type": "markdown",
   "id": "04639e5c-896b-4c0e-8d4c-27b128710873",
   "metadata": {},
   "source": [
    "### Part A"
   ]
  },
  {
   "cell_type": "code",
   "execution_count": 18,
   "id": "df7ab9f2-3b23-4839-b239-c4737c156a80",
   "metadata": {},
   "outputs": [],
   "source": [
    "h1 = 3051.6 * ureg.kJ / ureg.kg  # (3051.6)\n",
    "s1 = 7.1246 * ureg.kJ / (ureg.kg * ureg.degK) # (7.1246)\n",
    "\n",
    "h2_s = 2590.7 * ureg.kJ / ureg.kg"
   ]
  },
  {
   "cell_type": "code",
   "execution_count": 19,
   "id": "ca91725e-67b8-444f-8493-83d49f1fbd46",
   "metadata": {},
   "outputs": [
    {
     "data": {
      "text/html": [
       "2646.008 kilojoule/kilogram"
      ],
      "text/latex": [
       "$2646.008\\ \\frac{\\mathrm{kilojoule}}{\\mathrm{kilogram}}$"
      ],
      "text/plain": [
       "2646.008 <Unit('kilojoule / kilogram')>"
      ]
     },
     "execution_count": 19,
     "metadata": {},
     "output_type": "execute_result"
    }
   ],
   "source": [
    "h2 = h1 - N_isentropic * (h1 - h2_s)\n",
    "h2"
   ]
  },
  {
   "cell_type": "code",
   "execution_count": 20,
   "id": "011e5b23-a4c1-4c0f-9cc9-92a576ad6a94",
   "metadata": {},
   "outputs": [
    {
     "name": "stdout",
     "output_type": "stream",
     "text": [
      "┌──────────────────────────────────────────┐\n",
      "│Power Output = 2759.6015479956013 kilowatt│\n",
      "└──────────────────────────────────────────┘\n"
     ]
    }
   ],
   "source": [
    "W_out = m_dot_steam * (h1 - h2)\n",
    "print(bordered(f\"Power Output = {W_out.to('kW')}\"))"
   ]
  },
  {
   "cell_type": "code",
   "execution_count": 21,
   "id": "9e2b83bf-7339-46b7-a96a-bcd8d0e309d8",
   "metadata": {},
   "outputs": [
    {
     "name": "stdout",
     "output_type": "stream",
     "text": [
      "┌──────────────────────────┐\n",
      "│Thermal Efficiency = 9.42%│\n",
      "└──────────────────────────┘\n"
     ]
    }
   ],
   "source": [
    "N_th = W_out.to('watt') / (G * A)\n",
    "print(bordered(f\"Thermal Efficiency = {round(N_th.magnitude * 100, 2)}%\"))"
   ]
  },
  {
   "cell_type": "markdown",
   "id": "3b898fa0-65c0-46d1-995a-dce051b39af6",
   "metadata": {},
   "source": [
    "### Part B"
   ]
  },
  {
   "cell_type": "code",
   "execution_count": 22,
   "id": "69f4e5b3-a16d-4829-b85d-e13b5a985eda",
   "metadata": {},
   "outputs": [],
   "source": [
    "N_th_average = 0.12\n",
    "G = 15.90 * ureg.megajoules / (ureg.m**2 * ureg.day)\n",
    "N_gen = 0.98"
   ]
  },
  {
   "cell_type": "code",
   "execution_count": 23,
   "id": "22074a64-878f-4d3d-a7e5-89228f2f91f4",
   "metadata": {},
   "outputs": [
    {
     "data": {
      "text/html": [
       "7188837.2352 kilowatt_hour"
      ],
      "text/latex": [
       "$7188837.2352\\ \\mathrm{kilowatt\\_hour}$"
      ],
      "text/plain": [
       "7188837.2352 <Unit('kilowatt_hour')>"
      ]
     },
     "execution_count": 23,
     "metadata": {},
     "output_type": "execute_result"
    }
   ],
   "source": [
    "W_out_B = N_th_average * A * G * (365 * ureg.day)\n",
    "W_out_B.to('kWh')"
   ]
  },
  {
   "cell_type": "code",
   "execution_count": 24,
   "id": "7be537b7-3ba2-44a5-990f-da2987852513",
   "metadata": {},
   "outputs": [
    {
     "name": "stdout",
     "output_type": "stream",
     "text": [
      "┌──────────────────────────────────────────────┐\n",
      "│Electric Energy = 7045060.49 kilowatt_hour kWh│\n",
      "└──────────────────────────────────────────────┘\n"
     ]
    }
   ],
   "source": [
    "W_elec = N_gen * W_out_B\n",
    "W_elec.to('kWh')\n",
    "print(bordered(f\"Electric Energy = {round(W_elec.to('kWh'), 2)} kWh\"))"
   ]
  },
  {
   "cell_type": "markdown",
   "id": "a61c8330-24f8-4d5b-b319-cff2860888c1",
   "metadata": {},
   "source": [
    "### Part C"
   ]
  },
  {
   "cell_type": "code",
   "execution_count": 25,
   "id": "ef5ab2ed-8c2c-4c40-afbb-0321811220e5",
   "metadata": {},
   "outputs": [
    {
     "name": "stdout",
     "output_type": "stream",
     "text": [
      "Cost = $46913226.315925226\n"
     ]
    }
   ],
   "source": [
    "cost = W_out.to('kW') * (17_000 / (1 * ureg.kilowatt)).to('1/kW')\n",
    "print(f\"Cost = ${cost.magnitude}\")"
   ]
  },
  {
   "cell_type": "code",
   "execution_count": 26,
   "id": "2bef49b1-a573-4d45-aef5-b55c9555b9ec",
   "metadata": {},
   "outputs": [
    {
     "name": "stdout",
     "output_type": "stream",
     "text": [
      "Revenue = $1366002.7662578227 per year\n"
     ]
    }
   ],
   "source": [
    "yearly_revenue = (W_out * (4500 * ureg.hour)).to('kWh') * (0.11 / (ureg.kilowatt * ureg.hour)).to('1/kWh') \n",
    "print(f\"Revenue = ${yearly_revenue.magnitude} per year\")"
   ]
  },
  {
   "cell_type": "code",
   "execution_count": 27,
   "id": "16f3a6a3-6659-4b03-a874-d86cd48f3e0c",
   "metadata": {},
   "outputs": [
    {
     "name": "stdout",
     "output_type": "stream",
     "text": [
      "┌─────────────────────────────┐\n",
      "│Time to pay off = 34.34 years│\n",
      "└─────────────────────────────┘\n"
     ]
    }
   ],
   "source": [
    "print(bordered(f\"Time to pay off = {round(cost.magnitude / yearly_revenue.magnitude, 2)} years\"))"
   ]
  }
 ],
 "metadata": {
  "kernelspec": {
   "display_name": "Python 3",
   "language": "python",
   "name": "python3"
  },
  "language_info": {
   "codemirror_mode": {
    "name": "ipython",
    "version": 3
   },
   "file_extension": ".py",
   "mimetype": "text/x-python",
   "name": "python",
   "nbconvert_exporter": "python",
   "pygments_lexer": "ipython3",
   "version": "3.9.5"
  }
 },
 "nbformat": 4,
 "nbformat_minor": 5
}
