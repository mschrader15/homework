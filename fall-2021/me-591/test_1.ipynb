{
 "cells": [
  {
   "cell_type": "markdown",
   "id": "d2854ec6-1dc3-4755-83a7-f2ebd310fb33",
   "metadata": {},
   "source": [
    "# Test 1"
   ]
  },
  {
   "cell_type": "code",
   "execution_count": 99,
   "id": "c7963082-1693-402a-8124-58959e047429",
   "metadata": {},
   "outputs": [],
   "source": [
    "import pint\n",
    "import math\n",
    "import numpy as np"
   ]
  },
  {
   "cell_type": "code",
   "execution_count": 100,
   "id": "a6ef56de-76b3-42a9-8f54-bfea299f1cea",
   "metadata": {},
   "outputs": [],
   "source": [
    "ureg = pint.UnitRegistry(autoconvert_offset_to_baseunit = True)"
   ]
  },
  {
   "cell_type": "code",
   "execution_count": 101,
   "id": "bfb79cbd-e963-4469-9e48-4dfe6ab3557e",
   "metadata": {},
   "outputs": [],
   "source": [
    "def print_msg_box(msg, indent=1, width=None, title=None):\n",
    "    \"\"\"Print message-box with optional title.\"\"\"\n",
    "    lines = msg.split('\\n')\n",
    "    space = \" \" * indent\n",
    "    if not width:\n",
    "        width = max(map(len, lines))\n",
    "    box = f'╔{\"═\" * (width + indent * 2)}╗\\n'  # upper_border\n",
    "    if title:\n",
    "        box += f'║{space}{title:<{width}}{space}║\\n'  # title\n",
    "        box += f'║{space}{\"-\" * len(title):<{width}}{space}║\\n'  # underscore\n",
    "    box += ''.join([f'║{space}{line:<{width}}{space}║\\n' for line in lines])\n",
    "    box += f'╚{\"═\" * (width + indent * 2)}╝'  # lower_border\n",
    "    print(box)"
   ]
  },
  {
   "cell_type": "markdown",
   "id": "ce6335a7-1d19-4cd9-b84a-9cb3611384ac",
   "metadata": {},
   "source": [
    "## Question 1: 1-23"
   ]
  },
  {
   "cell_type": "code",
   "execution_count": 102,
   "id": "9dcf2127-0fba-48c2-9547-4837b5d14bb8",
   "metadata": {},
   "outputs": [
    {
     "name": "stdout",
     "output_type": "stream",
     "text": [
      "╔══════════╗\n",
      "║ b. Hydro ║\n",
      "╚══════════╝\n"
     ]
    }
   ],
   "source": [
    "print_msg_box(f\"b. Hydro\")"
   ]
  },
  {
   "cell_type": "markdown",
   "id": "628f7fab-4733-4c19-872c-31e0fa9436af",
   "metadata": {},
   "source": [
    "## Question 2: 3-54"
   ]
  },
  {
   "cell_type": "code",
   "execution_count": 103,
   "id": "68a42bc0-8934-4d76-85c3-846c79aaafa7",
   "metadata": {},
   "outputs": [],
   "source": [
    "alpha = 0.92\n",
    "epsilon = 0.08\n",
    "G_solar = 860 * ureg.W / ureg.m ** 2\n",
    "h = 15 * ureg.W / (ureg.m ** 2 * ureg.degK)\n",
    "T_air = 20 * ureg.degC\n",
    "T_sky = 7 * ureg.degC\n",
    "q_dot_net = 0\n",
    "sigma = 5.67e-8 * ureg.W / (ureg.m ** 2 * ureg.K ** 4)"
   ]
  },
  {
   "cell_type": "markdown",
   "id": "af563f04-4692-4d85-b39f-da21f69f8b37",
   "metadata": {},
   "source": [
    "At equilibrium, $\\dot{q}_{in} = \\dot{q}_{out}$, then the equation becomes:\n",
    "\n",
    "$$\\alpha_s G_{solar} = \\epsilon \\sigma \\left ( T^{4} - T_{sky}^{4} \\right ) + h \\left ( T - T_{air} \\right)$$"
   ]
  },
  {
   "cell_type": "markdown",
   "id": "422f85e7-f150-4624-8917-9a4099d9c72d",
   "metadata": {},
   "source": [
    "solving for $T$:\n",
    "\n",
    "$$0 = \\epsilon \\sigma T^4 + hT - (\\alpha_s G_{solar} +  \\epsilon \\sigma T_{sky}^{4} + h T_{air})$$"
   ]
  },
  {
   "cell_type": "markdown",
   "id": "e34d2e13-d1fd-4f11-bc83-f051f3006629",
   "metadata": {},
   "source": [
    "Solving the equation for $T$"
   ]
  },
  {
   "cell_type": "code",
   "execution_count": 104,
   "id": "2c672317-fd3d-4c79-a1ab-93b25ca21b75",
   "metadata": {},
   "outputs": [],
   "source": [
    "T = np.roots([(epsilon * sigma).magnitude, 0, 0, \\\n",
    "              h.magnitude, -1 * \\\n",
    "              (alpha * G_solar + epsilon * sigma * T_sky ** 4 + h * T_air).magnitude])"
   ]
  },
  {
   "cell_type": "markdown",
   "id": "e6ae8beb-b719-442f-84d5-d0c30e9a5ae1",
   "metadata": {},
   "source": [
    "**Answer**"
   ]
  },
  {
   "cell_type": "code",
   "execution_count": 105,
   "id": "37d03aa8-86a7-49d7-ba46-2a53854c2fae",
   "metadata": {},
   "outputs": [
    {
     "name": "stdout",
     "output_type": "stream",
     "text": [
      "╔═══════════════════════════════════════╗\n",
      "║ T_equilibrium = 70.397 degree_Celsius ║\n",
      "╚═══════════════════════════════════════╝\n"
     ]
    }
   ],
   "source": [
    "print_msg_box(f\"T_equilibrium = {round((T[-1] * ureg.K).real.to('degC'), 3)}\")"
   ]
  },
  {
   "cell_type": "markdown",
   "id": "37b6d001-9914-4c6f-8c68-a7004fef073f",
   "metadata": {},
   "source": [
    "## Question 3: 4.37"
   ]
  },
  {
   "cell_type": "code",
   "execution_count": 106,
   "id": "4766ad0b-73f4-4565-aa01-e34e95f12609",
   "metadata": {},
   "outputs": [],
   "source": [
    "A = 300_000 * ureg.meter ** 2\n",
    "N = 0.18"
   ]
  },
  {
   "cell_type": "markdown",
   "id": "dafcf91a-d01a-429e-ac38-766affc96bec",
   "metadata": {},
   "source": [
    "### Miami"
   ]
  },
  {
   "cell_type": "code",
   "execution_count": 107,
   "id": "afc68e53-5cbb-4221-a696-f0e89dd42c8e",
   "metadata": {},
   "outputs": [],
   "source": [
    "G_solar = 17.380 * ureg.MJ / ureg.m ** 2"
   ]
  },
  {
   "cell_type": "code",
   "execution_count": 108,
   "id": "4db98559-5c75-4fc1-9228-7bc94fa0b618",
   "metadata": {},
   "outputs": [],
   "source": [
    "W_mia = N * A * G_solar * 365\n",
    "# W_mia.to('GWh')"
   ]
  },
  {
   "cell_type": "code",
   "execution_count": 109,
   "id": "ae81e5c4-7505-4d79-b280-cfd33ce9df62",
   "metadata": {},
   "outputs": [
    {
     "name": "stdout",
     "output_type": "stream",
     "text": [
      "╔════════════════════════════════════════════════════════╗\n",
      "║ MIA Electric Potential = 95.156 gigawatt_hour per year ║\n",
      "╚════════════════════════════════════════════════════════╝\n"
     ]
    }
   ],
   "source": [
    "print_msg_box(f\"MIA Electric Potential = {round(W_mia.to('GWh'), 3)} per year\")"
   ]
  },
  {
   "cell_type": "markdown",
   "id": "dcba9ccf-952c-4b35-80e6-fba4628aa110",
   "metadata": {},
   "source": [
    "### Atlanta"
   ]
  },
  {
   "cell_type": "code",
   "execution_count": 110,
   "id": "fde73ece-1ace-4a36-99f3-baf44429e607",
   "metadata": {},
   "outputs": [],
   "source": [
    "G_solar = 16.43 * ureg.MJ / ureg.m ** 2"
   ]
  },
  {
   "cell_type": "code",
   "execution_count": 111,
   "id": "eadb100e-7393-4710-8579-6cd695df41c5",
   "metadata": {},
   "outputs": [],
   "source": [
    "W_atl = N * A * G_solar * 365"
   ]
  },
  {
   "cell_type": "code",
   "execution_count": 112,
   "id": "54dfde03-44b3-4a80-a112-eb9195f93d30",
   "metadata": {},
   "outputs": [
    {
     "name": "stdout",
     "output_type": "stream",
     "text": [
      "╔════════════════════════════════════════════════════════╗\n",
      "║ ATL Electric Potential = 89.954 gigawatt_hour per year ║\n",
      "╚════════════════════════════════════════════════════════╝\n"
     ]
    }
   ],
   "source": [
    "print_msg_box(f\"ATL Electric Potential = {round(W_atl.to('GWh'), 3)} per year\")"
   ]
  },
  {
   "cell_type": "markdown",
   "id": "e569f497-c1d4-423b-bf80-9dfb57729bbe",
   "metadata": {
    "tags": []
   },
   "source": [
    "## Question 4: 5.28"
   ]
  },
  {
   "cell_type": "code",
   "execution_count": 113,
   "id": "50234210-ffaa-4809-81cf-88c65fdd3a86",
   "metadata": {},
   "outputs": [],
   "source": [
    "N = 40\n",
    "v_bar = 7.2 * ureg.mps\n",
    "D = 18 * ureg.meter\n",
    "N_eff = 0.33\n",
    "Opp_time = 6000 * ureg.hour / ureg.year\n",
    "elec_price = 0.075 / ureg.kWh\n",
    "Cost_T = 1_200_000\n",
    "d_air = 1.18 * ureg.kg / ureg.m ** 3 "
   ]
  },
  {
   "cell_type": "markdown",
   "id": "2ad49bb3-4b35-4204-b878-41a50e4596f2",
   "metadata": {},
   "source": [
    "## For a Single Turbine"
   ]
  },
  {
   "cell_type": "code",
   "execution_count": 114,
   "id": "9da2eb6d-3bb3-40ff-b013-37bfdc5b72ca",
   "metadata": {},
   "outputs": [
    {
     "data": {
      "text/html": [
       "56.038227822118905 kilowatt"
      ],
      "text/latex": [
       "$56.038227822118905\\ \\mathrm{kilowatt}$"
      ],
      "text/plain": [
       "56.038227822118905 <Unit('kilowatt')>"
      ]
     },
     "execution_count": 114,
     "metadata": {},
     "output_type": "execute_result"
    }
   ],
   "source": [
    "A = math.pi * D ** 2 / 4\n",
    "W_dot_available = 1 / 2 * d_air * A * v_bar ** 3\n",
    "W_dot_available = W_dot_available.to('kW')\n",
    "W_dot_available"
   ]
  },
  {
   "cell_type": "code",
   "execution_count": 115,
   "id": "5047cc9c-bd54-4652-9626-167d7bf6b344",
   "metadata": {},
   "outputs": [
    {
     "data": {
      "text/html": [
       "18.49261518129924 kilowatt"
      ],
      "text/latex": [
       "$18.49261518129924\\ \\mathrm{kilowatt}$"
      ],
      "text/plain": [
       "18.49261518129924 <Unit('kilowatt')>"
      ]
     },
     "execution_count": 115,
     "metadata": {},
     "output_type": "execute_result"
    }
   ],
   "source": [
    "W_dot_elec = N_eff * W_dot_available\n",
    "W_dot_elec"
   ]
  },
  {
   "cell_type": "code",
   "execution_count": 116,
   "id": "4d7ac0c4-fe67-44a7-80af-e49213531672",
   "metadata": {},
   "outputs": [
    {
     "data": {
      "text/html": [
       "110.95569108779544 megawatt_hour/year"
      ],
      "text/latex": [
       "$110.95569108779544\\ \\frac{\\mathrm{megawatt\\_hour}}{\\mathrm{year}}$"
      ],
      "text/plain": [
       "110.95569108779544 <Unit('megawatt_hour / year')>"
      ]
     },
     "execution_count": 116,
     "metadata": {},
     "output_type": "execute_result"
    }
   ],
   "source": [
    "W_year = W_dot_elec * Opp_time\n",
    "W_year.to('MWh/year')"
   ]
  },
  {
   "cell_type": "code",
   "execution_count": 117,
   "id": "9bb71cfe-0aef-49da-b22e-24a1de462604",
   "metadata": {},
   "outputs": [
    {
     "data": {
      "text/html": [
       "8321.676831584657 1/year"
      ],
      "text/latex": [
       "$8321.676831584657\\ \\frac{1}{\\mathrm{year}}$"
      ],
      "text/plain": [
       "8321.676831584657 <Unit('1 / year')>"
      ]
     },
     "execution_count": 117,
     "metadata": {},
     "output_type": "execute_result"
    }
   ],
   "source": [
    "rev_net = W_year * elec_price\n",
    "rev_net = rev_net.to('1/year')\n",
    "rev_net"
   ]
  },
  {
   "cell_type": "markdown",
   "id": "e9a78a4e-f657-449f-98f1-352b31347d20",
   "metadata": {},
   "source": [
    "### Multiplying by 40 Turbines"
   ]
  },
  {
   "cell_type": "code",
   "execution_count": 118,
   "id": "04cd492e-0367-419b-9829-12a2103c6308",
   "metadata": {},
   "outputs": [
    {
     "data": {
      "text/html": [
       "332867.07326338626 1/year"
      ],
      "text/latex": [
       "$332867.07326338626\\ \\frac{1}{\\mathrm{year}}$"
      ],
      "text/plain": [
       "332867.07326338626 <Unit('1 / year')>"
      ]
     },
     "execution_count": 118,
     "metadata": {},
     "output_type": "execute_result"
    }
   ],
   "source": [
    "ann_rev = rev_net * N\n",
    "ann_rev"
   ]
  },
  {
   "cell_type": "code",
   "execution_count": 119,
   "id": "cb3370ee-1ce5-4b21-bd8d-963db21a0a1c",
   "metadata": {},
   "outputs": [
    {
     "name": "stdout",
     "output_type": "stream",
     "text": [
      "╔══════════════════════════════╗\n",
      "║ Break-even Time = 3.605 year ║\n",
      "╚══════════════════════════════╝\n"
     ]
    }
   ],
   "source": [
    "break_even_time = Cost_T / ann_rev\n",
    "print_msg_box(f\"Break-even Time = {round(break_even_time, 3)}\")"
   ]
  }
 ],
 "metadata": {
  "kernelspec": {
   "display_name": "Python 3",
   "language": "python",
   "name": "python3"
  },
  "language_info": {
   "codemirror_mode": {
    "name": "ipython",
    "version": 3
   },
   "file_extension": ".py",
   "mimetype": "text/x-python",
   "name": "python",
   "nbconvert_exporter": "python",
   "pygments_lexer": "ipython3",
   "version": "3.9.5"
  }
 },
 "nbformat": 4,
 "nbformat_minor": 5
}
