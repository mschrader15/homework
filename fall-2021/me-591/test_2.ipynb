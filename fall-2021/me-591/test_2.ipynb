{
 "cells": [
  {
   "cell_type": "markdown",
   "id": "d2854ec6-1dc3-4755-83a7-f2ebd310fb33",
   "metadata": {},
   "source": [
    "# Test 2"
   ]
  },
  {
   "cell_type": "code",
   "execution_count": 1,
   "id": "c7963082-1693-402a-8124-58959e047429",
   "metadata": {},
   "outputs": [],
   "source": [
    "from hw_setup import *"
   ]
  },
  {
   "cell_type": "markdown",
   "id": "ef1c1982-e459-44ae-9184-05de6d508795",
   "metadata": {
    "tags": []
   },
   "source": [
    "## Question 1: 6-28"
   ]
  },
  {
   "cell_type": "markdown",
   "id": "f301152c-2515-4c71-bbd9-a71eaa26c715",
   "metadata": {
    "tags": []
   },
   "source": [
    "Suppose a utility company is selling electric power for .05/kWh at night and is willing to pay 0.12/kWh for power produced during the day. To take advantage of this opportunity, an entrepreneur is considering building a large reservoir 40 m above the lake level, pumping water from the lake to the reservoir at night using cheap power, and letting the water flow from the reservoir back to the lake during the day, producing power as the pump-motor operates as a turbine-generator during reverse flow. Preliminary analysis shows that a water flow rate of 2 m3\n",
    "/s can be used in either direction. The combined\n",
    "pump-motor and turbine-generator efficiencies are expected to be 75 percent each. Disregarding the\n",
    "frictional losses in piping and assuming the system operates for 10 h each in the pump and turbine modes\n",
    "during a typical day, determine the potential revenue this pump-turbine system can generate per year"
   ]
  },
  {
   "cell_type": "code",
   "execution_count": 2,
   "id": "9dcf2127-0fba-48c2-9547-4837b5d14bb8",
   "metadata": {},
   "outputs": [],
   "source": [
    "N_motor_pump = 0.75\n",
    "N_turbine_gen = 0.75\n",
    "\n",
    "p_water = 1 * ureg.kg / ureg.L\n",
    "\n",
    "h = 40 * ureg.meter\n",
    "V_dot = 2 * ureg.meter ** 3 / ureg.second\n",
    "\n",
    "H = 10 * ureg.hour\n",
    "\n",
    "P_night = 0.05 * 1 / ureg.kWh\n",
    "P_day = 0.12 * 1 / ureg.kWh"
   ]
  },
  {
   "cell_type": "markdown",
   "id": "dd6dc576-a03c-49bb-a17a-88c40a1db9f6",
   "metadata": {},
   "source": [
    "### Power "
   ]
  },
  {
   "cell_type": "code",
   "execution_count": 29,
   "id": "b8a919a7-582a-4f06-acbe-2726056c1bdd",
   "metadata": {},
   "outputs": [],
   "source": [
    "W_dot_gen = N_turbine_gen * p_water * V_dot * 1 * ureg.gravity * h"
   ]
  },
  {
   "cell_type": "code",
   "execution_count": 30,
   "id": "e0ce3a36-9ab1-45d7-8e27-534224e992d9",
   "metadata": {},
   "outputs": [
    {
     "data": {
      "text/html": [
       "588.3989999999999 kilowatt"
      ],
      "text/latex": [
       "$588.3989999999999\\ \\mathrm{kilowatt}$"
      ],
      "text/plain": [
       "588.3989999999999 <Unit('kilowatt')>"
      ]
     },
     "execution_count": 30,
     "metadata": {},
     "output_type": "execute_result"
    }
   ],
   "source": [
    "W_dot_gen = W_dot_gen.to('kW')\n",
    "W_dot_gen"
   ]
  },
  {
   "cell_type": "code",
   "execution_count": 33,
   "id": "63206baa-f4ad-46a4-bf2f-3cd491c9b0de",
   "metadata": {},
   "outputs": [
    {
     "data": {
      "text/html": [
       "1046.0426666666665 kilowatt"
      ],
      "text/latex": [
       "$1046.0426666666665\\ \\mathrm{kilowatt}$"
      ],
      "text/plain": [
       "1046.0426666666665 <Unit('kilowatt')>"
      ]
     },
     "execution_count": 33,
     "metadata": {},
     "output_type": "execute_result"
    }
   ],
   "source": [
    "W_dot_pump = p_water * V_dot * 1 * ureg.gravity * h / N_motor_pump\n",
    "W_dot_pump.to('kW')"
   ]
  },
  {
   "cell_type": "markdown",
   "id": "eccb09d7-a89c-46f7-a19b-1b8e805f86e6",
   "metadata": {},
   "source": [
    "### P & L per day"
   ]
  },
  {
   "cell_type": "code",
   "execution_count": 35,
   "id": "de02e139-f68c-4869-aafd-9271f9c97f04",
   "metadata": {},
   "outputs": [
    {
     "data": {
      "text/html": [
       "706.0787999999999 dimensionless"
      ],
      "text/latex": [
       "$706.0787999999999\\ dimensionless$"
      ],
      "text/plain": [
       "706.0787999999999 <Unit('dimensionless')>"
      ]
     },
     "execution_count": 35,
     "metadata": {},
     "output_type": "execute_result"
    }
   ],
   "source": [
    "rev = (H * W_dot_gen * P_day).to('dimensionless')\n",
    "rev"
   ]
  },
  {
   "cell_type": "code",
   "execution_count": 36,
   "id": "e4e93425-490d-46f1-b057-4a653ee33844",
   "metadata": {},
   "outputs": [
    {
     "data": {
      "text/html": [
       "523.0213333333332 dimensionless"
      ],
      "text/latex": [
       "$523.0213333333332\\ dimensionless$"
      ],
      "text/plain": [
       "523.0213333333332 <Unit('dimensionless')>"
      ]
     },
     "execution_count": 36,
     "metadata": {},
     "output_type": "execute_result"
    }
   ],
   "source": [
    "loss = (H * W_dot_pump * P_night).to('dimensionless')\n",
    "loss"
   ]
  },
  {
   "cell_type": "code",
   "execution_count": 37,
   "id": "363f6290-977b-449c-b1a4-d69ab84a6eb7",
   "metadata": {},
   "outputs": [
    {
     "data": {
      "text/html": [
       "183.05746666666664 dimensionless"
      ],
      "text/latex": [
       "$183.05746666666664\\ dimensionless$"
      ],
      "text/plain": [
       "183.05746666666664 <Unit('dimensionless')>"
      ]
     },
     "execution_count": 37,
     "metadata": {},
     "output_type": "execute_result"
    }
   ],
   "source": [
    "profit = rev - loss\n",
    "profit"
   ]
  },
  {
   "cell_type": "markdown",
   "id": "71e2ee76-1271-4ed4-b548-9fa247ecd4aa",
   "metadata": {},
   "source": [
    "### Potential Revenue"
   ]
  },
  {
   "cell_type": "code",
   "execution_count": 38,
   "id": "9435a922-734f-4298-bc8d-57e9a77b5f28",
   "metadata": {},
   "outputs": [
    {
     "name": "stdout",
     "output_type": "stream",
     "text": [
      "╔═══════════════════════════════╗\n",
      "║ Potential Profit = $66815.975 ║\n",
      "╚═══════════════════════════════╝\n"
     ]
    }
   ],
   "source": [
    "print_msg_box(f\"Potential Profit = ${round(profit.magnitude * 365, 3)}\")"
   ]
  },
  {
   "cell_type": "markdown",
   "id": "628f7fab-4733-4c19-872c-31e0fa9436af",
   "metadata": {
    "tags": []
   },
   "source": [
    "## Question 2: 7-74"
   ]
  },
  {
   "cell_type": "markdown",
   "id": "fb035cb5-fb7f-4912-bbec-735f84a2a3a1",
   "metadata": {},
   "source": [
    "Now, it is proposed that the liquid water coming out of the separator\n",
    "be routed through another flash chamber maintained at 150 kPa, and the steam produced be directed\n",
    "to a lower stage of the same turbine (Fig. P7-74). Both streams of steam leave the turbine at the same\n",
    "state of 10 kPa and 90 percent quality. Determine (a) the temperature of steam at the outlet of the\n",
    "second flash chamber, (b) the power produced by the lower stage of the turbine, and (c) the thermal\n",
    "efficiency of the plant."
   ]
  },
  {
   "cell_type": "markdown",
   "id": "7e5aabc9-8661-4aca-9152-b75478565e79",
   "metadata": {},
   "source": [
    "#### From 7-73"
   ]
  },
  {
   "cell_type": "code",
   "execution_count": 9,
   "id": "4564714a-15dd-4fd0-9fea-3a0432b16f4a",
   "metadata": {},
   "outputs": [],
   "source": [
    "m_dot = 230 * ureg.kg / ureg.s\n",
    "\n",
    "T_1 = 230 * ureg.degC\n",
    "x_1 = 0\n",
    "P_1 = 2797.1 * ureg.kPa\n",
    "h_1 = 990.14 * ureg.kJ / ureg.kg\n",
    "\n",
    "P_2 = 500 * ureg.kPa\n",
    "h_2 = h_1\n",
    "h_f = 640.09 * ureg.kJ / ureg.kg\n",
    "h_fg = 2108.0 * ureg.kJ / ureg.kg\n",
    "T_2 = 151.83 * ureg.degC\n",
    "\n",
    "P_6 = 500 * ureg.kPa\n",
    "x_6 = 0\n",
    "h_6 = 640.1 * ureg.kJ / ureg.kg\n",
    "\n",
    "P_3 = 500 * ureg.kPa\n",
    "x_3 = 1\n",
    "h_3 = 2748.1 * ureg.kJ / ureg.kg\n",
    "s_3 = 6.8207 * ureg.kJ / (ureg.kg * ureg.degK)\n",
    "\n",
    "P_4 = 10 * ureg.kPa\n",
    "x_4 = 1 - 10 / 100\n",
    "h_4s = 2160.2 * ureg.kJ / ureg.kg"
   ]
  },
  {
   "cell_type": "code",
   "execution_count": 10,
   "id": "6ef229ab-ecbb-4ee3-a3df-417062ea179a",
   "metadata": {},
   "outputs": [
    {
     "data": {
      "text/html": [
       "38.193311195445915 kilogram/second"
      ],
      "text/latex": [
       "$38.193311195445915\\ \\frac{\\mathrm{kilogram}}{\\mathrm{second}}$"
      ],
      "text/plain": [
       "38.193311195445915 <Unit('kilogram / second')>"
      ]
     },
     "execution_count": 10,
     "metadata": {},
     "output_type": "execute_result"
    }
   ],
   "source": [
    "x_2 = (h_2 - h_f) / h_fg\n",
    "m_dot_steam = m_dot * x_2\n",
    "m_dot_steam"
   ]
  },
  {
   "cell_type": "code",
   "execution_count": 11,
   "id": "a2bcc977-6611-42ed-8144-b7c0af4bd96d",
   "metadata": {},
   "outputs": [
    {
     "data": {
      "text/html": [
       "2344.7 kilojoule/kilogram"
      ],
      "text/latex": [
       "$2344.7\\ \\frac{\\mathrm{kilojoule}}{\\mathrm{kilogram}}$"
      ],
      "text/plain": [
       "2344.7 <Unit('kilojoule / kilogram')>"
      ]
     },
     "execution_count": 11,
     "metadata": {},
     "output_type": "execute_result"
    }
   ],
   "source": [
    "h_4 = (191.81 * ureg.kJ / ureg.kg) + x_4 * (2392.1 * ureg.kJ / ureg.kg)\n",
    "h_4"
   ]
  },
  {
   "cell_type": "code",
   "execution_count": 12,
   "id": "7ff1f350-d511-4697-9adc-ed94b333e966",
   "metadata": {},
   "outputs": [
    {
     "data": {
      "text/html": [
       "15407.181736242886 kilowatt"
      ],
      "text/latex": [
       "$15407.181736242886\\ \\mathrm{kilowatt}$"
      ],
      "text/plain": [
       "15407.181736242886 <Unit('kilowatt')>"
      ]
     },
     "execution_count": 12,
     "metadata": {},
     "output_type": "execute_result"
    }
   ],
   "source": [
    "W_dot = (m_dot_steam * (h_3 - h_4)).to('kW')\n",
    "W_dot"
   ]
  },
  {
   "cell_type": "markdown",
   "id": "bea2493a-1c86-46d3-bcd7-98bb9034d31e",
   "metadata": {},
   "source": [
    "#### New Properties"
   ]
  },
  {
   "cell_type": "code",
   "execution_count": 13,
   "id": "edc5e841-6614-4837-9747-47c955f337b5",
   "metadata": {},
   "outputs": [],
   "source": [
    "P_7 = 150 * ureg.kPa\n",
    "h_7 = h_6"
   ]
  },
  {
   "cell_type": "code",
   "execution_count": 14,
   "id": "7d972839-2f9f-4b88-aa0e-a0f30213e19a",
   "metadata": {},
   "outputs": [],
   "source": [
    "T_8 = 111.35 * ureg.degC\n",
    "h_9 = 467.13 * ureg.kJ / ureg.kg\n",
    "h_8 = 2693.1 * ureg.kJ / ureg.kg"
   ]
  },
  {
   "cell_type": "code",
   "execution_count": 15,
   "id": "d4bb8324-dc48-4749-99bf-0691fbcd8611",
   "metadata": {},
   "outputs": [],
   "source": [
    "m_dot_7 = m_dot * (1 - x_2)"
   ]
  },
  {
   "cell_type": "code",
   "execution_count": 16,
   "id": "a00c0915-6fd2-410e-8a93-c73e5c6de624",
   "metadata": {},
   "outputs": [
    {
     "data": {
      "text/html": [
       "191.80668880455408 kilogram/second"
      ],
      "text/latex": [
       "$191.80668880455408\\ \\frac{\\mathrm{kilogram}}{\\mathrm{second}}$"
      ],
      "text/plain": [
       "191.80668880455408 <Unit('kilogram / second')>"
      ]
     },
     "execution_count": 16,
     "metadata": {},
     "output_type": "execute_result"
    }
   ],
   "source": [
    "m_dot_7"
   ]
  },
  {
   "cell_type": "markdown",
   "id": "e3913843-da49-4e5e-b040-7eeb6c5a228d",
   "metadata": {},
   "source": [
    "### A) The temperature of steam at the outlet of the second flash chamber"
   ]
  },
  {
   "cell_type": "code",
   "execution_count": 17,
   "id": "e5014fe8-2aec-4394-aa09-c585ce917dd5",
   "metadata": {},
   "outputs": [
    {
     "name": "stdout",
     "output_type": "stream",
     "text": [
      "╔═══════════════════════════════════════════╗\n",
      "║ Steam Temperature = 111.35 degree_Celsius ║\n",
      "╚═══════════════════════════════════════════╝\n"
     ]
    }
   ],
   "source": [
    "print_msg_box(f\"Steam Temperature = {round(T_8, 3)}\")"
   ]
  },
  {
   "cell_type": "markdown",
   "id": "12450f20-68ff-4311-8dd2-c2effd3a7521",
   "metadata": {
    "tags": []
   },
   "source": [
    "### B) The power produced by the lower stage of the turbine"
   ]
  },
  {
   "cell_type": "code",
   "execution_count": 18,
   "id": "ff8a8da7-db82-4bc2-bc1c-405c18fc9433",
   "metadata": {},
   "outputs": [],
   "source": [
    "x_7 = (h_7 - h_9) / (2226 * ureg.kJ / ureg.kg)"
   ]
  },
  {
   "cell_type": "code",
   "execution_count": 19,
   "id": "5164147e-7985-4f9b-89d9-26ee34cab1fb",
   "metadata": {},
   "outputs": [
    {
     "data": {
      "text/html": [
       "14.904224152077147 kilogram/second"
      ],
      "text/latex": [
       "$14.904224152077147\\ \\frac{\\mathrm{kilogram}}{\\mathrm{second}}$"
      ],
      "text/plain": [
       "14.904224152077147 <Unit('kilogram / second')>"
      ]
     },
     "execution_count": 19,
     "metadata": {},
     "output_type": "execute_result"
    }
   ],
   "source": [
    "m_dot_8 = x_7 * m_dot_7\n",
    "m_dot_8"
   ]
  },
  {
   "cell_type": "code",
   "execution_count": 20,
   "id": "0e0a4cdc-b2f2-47f4-bbbb-cd2b3683f8b3",
   "metadata": {},
   "outputs": [
    {
     "name": "stdout",
     "output_type": "stream",
     "text": [
      "╔═══════════════════════════════════════╗\n",
      "║ Lower Stage Power = 5192.632 kilowatt ║\n",
      "╚═══════════════════════════════════════╝\n"
     ]
    }
   ],
   "source": [
    "W_dot_add = m_dot_8 * (h_8 - h_4)\n",
    "print_msg_box(f\"Lower Stage Power = {round(W_dot_add, 3).to('kW')}\")"
   ]
  },
  {
   "cell_type": "markdown",
   "id": "22af5f7b-8d9a-4975-bb9b-9ba7dfa9e06d",
   "metadata": {},
   "source": [
    "### C) the thermal efficiency of the plant"
   ]
  },
  {
   "cell_type": "code",
   "execution_count": 21,
   "id": "652ac658-09bf-4984-9b4f-5a589ce8a286",
   "metadata": {},
   "outputs": [],
   "source": [
    "h_0 = 104.83 * ureg.kJ / ureg.kg"
   ]
  },
  {
   "cell_type": "code",
   "execution_count": 22,
   "id": "93dd2f38-7835-4ac7-82da-5a8c6a84c8ed",
   "metadata": {},
   "outputs": [
    {
     "name": "stdout",
     "output_type": "stream",
     "text": [
      "╔══════════════════════════════╗\n",
      "║ Thermal Efficiency = 10.117% ║\n",
      "╚══════════════════════════════╝\n"
     ]
    }
   ],
   "source": [
    "N_th = (W_dot + W_dot_add) / (m_dot * (h_1 - h_0))\n",
    "print_msg_box(f\"Thermal Efficiency = {round(N_th.magnitude * 100, 3)}%\")"
   ]
  },
  {
   "cell_type": "markdown",
   "id": "37b6d001-9914-4c6f-8c68-a7004fef073f",
   "metadata": {},
   "source": [
    "## Question 3: 10.27"
   ]
  },
  {
   "cell_type": "markdown",
   "id": "946286a2-e691-4a96-bf5c-cc30f1169c0c",
   "metadata": {},
   "source": [
    "A hydrogen-air fuel cell stack consumes hydrogen at a rate of 0.005 kg/s while generating\n",
    "electricity at a rate of 475 kW. (a) Determine the rate of water produced. (b) Determine the first-law\n",
    "efficiency and second-law efficiency of this fuel cell if the water in the products is liquid."
   ]
  },
  {
   "cell_type": "code",
   "execution_count": 23,
   "id": "dd9bd612-53ed-4f4c-8d18-b6964a37a1db",
   "metadata": {},
   "outputs": [],
   "source": [
    "m_dot_h2 = 0.005 * ureg.kg / ureg.sec\n",
    "W_dot = 475 * ureg.kW"
   ]
  },
  {
   "cell_type": "markdown",
   "id": "256efe3d-1dba-40d9-8f80-4e1d800d3484",
   "metadata": {},
   "source": [
    "### A) Determine the rate of water produced"
   ]
  },
  {
   "cell_type": "code",
   "execution_count": 24,
   "id": "2e387e0f-7e01-4a83-af89-3afd15e886eb",
   "metadata": {},
   "outputs": [],
   "source": [
    "m_dot_h2O = m_dot_h2 * ((18.015 * ureg.kg) / (2.016 * ureg.kg))"
   ]
  },
  {
   "cell_type": "code",
   "execution_count": 25,
   "id": "b3ceec3e-3883-4e67-b42f-5d7482381861",
   "metadata": {},
   "outputs": [
    {
     "name": "stdout",
     "output_type": "stream",
     "text": [
      "╔═════════════════════════════════════════╗\n",
      "║ Rate of Water = 0.045 kilogram / second ║\n",
      "╚═════════════════════════════════════════╝\n"
     ]
    }
   ],
   "source": [
    "print_msg_box(f\"Rate of Water = {round(m_dot_h2O, 3)}\") "
   ]
  },
  {
   "cell_type": "markdown",
   "id": "01ab2bd1-b5f4-4541-83ab-62bd118ac380",
   "metadata": {},
   "source": [
    "### B) Determine the first-law efficiency and second-law efficiency of this fuel cell if the water in the products is liquid. "
   ]
  },
  {
   "cell_type": "code",
   "execution_count": 26,
   "id": "e373e177-4a84-407d-9300-b25872a374c8",
   "metadata": {},
   "outputs": [],
   "source": [
    "# From page 295\n",
    "delta_g = 116_690 * ureg.kJ / ureg.kg"
   ]
  },
  {
   "cell_type": "code",
   "execution_count": 27,
   "id": "449a8765-c1df-40fe-a993-938be64ca5d3",
   "metadata": {},
   "outputs": [
    {
     "name": "stdout",
     "output_type": "stream",
     "text": [
      "╔═══════════════════════════════╗\n",
      "║ First Law Efficiency = 79.17% ║\n",
      "╚═══════════════════════════════╝\n"
     ]
    }
   ],
   "source": [
    "N_fuel_cell = (W_dot / (m_dot_h2 * 120_000 * ureg.kJ / ureg.kg)).to('dimensionless').magnitude\n",
    "print_msg_box(f\"First Law Efficiency = {round(N_fuel_cell * 100, 2)}%\")"
   ]
  },
  {
   "cell_type": "code",
   "execution_count": 28,
   "id": "62ec3b2e-63bd-4a32-83cd-78f1351c7aa9",
   "metadata": {},
   "outputs": [
    {
     "name": "stdout",
     "output_type": "stream",
     "text": [
      "╔════════════════════════════════╗\n",
      "║ Second Law Efficiency = 81.41% ║\n",
      "╚════════════════════════════════╝\n"
     ]
    }
   ],
   "source": [
    "N_fuel_cell_II = (W_dot / (m_dot_h2 * delta_g)).to('dimensionless').magnitude\n",
    "print_msg_box(f\"Second Law Efficiency = {round(N_fuel_cell_II * 100, 2)}%\")"
   ]
  }
 ],
 "metadata": {
  "kernelspec": {
   "display_name": "Python 3",
   "language": "python",
   "name": "python3"
  },
  "language_info": {
   "codemirror_mode": {
    "name": "ipython",
    "version": 3
   },
   "file_extension": ".py",
   "mimetype": "text/x-python",
   "name": "python",
   "nbconvert_exporter": "python",
   "pygments_lexer": "ipython3",
   "version": "3.9.5"
  }
 },
 "nbformat": 4,
 "nbformat_minor": 5
}
