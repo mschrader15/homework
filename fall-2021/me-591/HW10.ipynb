{
 "cells": [
  {
   "cell_type": "markdown",
   "id": "2e0af09c",
   "metadata": {},
   "source": [
    "# HW 10\n",
    "\n",
    "Max Schrader\n",
    "\n",
    "Please provide answers to the following questions at the end of chapter 8 of your textbook:\n",
    "\n",
    "1. 9-11\n",
    "\n",
    "2. 9-25\n"
   ]
  },
  {
   "cell_type": "code",
   "execution_count": 3,
   "id": "0d65e86a",
   "metadata": {},
   "outputs": [],
   "source": [
    "from hw_setup import *"
   ]
  },
  {
   "cell_type": "markdown",
   "id": "5b425057",
   "metadata": {},
   "source": [
    "## 9-11\n",
    "\n",
    "An open-system OTEC power plant operates with a surface water temperature of 27°C and a deep water temperature of 13°C. The evaporator is maintained at a saturation pressure of 3.17 kPa and a saturation temperature of 25°C and condenser pressure and temperature at saturation con- dition are 1.706 kPa and 15°C, respectively. The mass flow rate of warm surface water entering the evaporator is 1000 kg/s and the turbine has an isentropic efficiency of 80 percent. Determine (a) the mass flow rate of steam at the turbine inlet, (b) the volume flow rates of steam at the turbine inlet and outlet, (c) the turbine power output and the thermal efficiency of the cycle, and (d) the mass flow rate of cold deep water. Neglect pumping power and other internal or auxiliary power consumptions in the plant."
   ]
  },
  {
   "cell_type": "code",
   "execution_count": 7,
   "id": "fd5ee341-2427-4aaa-8e89-e41e55c91ca7",
   "metadata": {},
   "outputs": [],
   "source": [
    "T_1 = 27 * ureg.degC\n",
    "x_1 = 0\n",
    "m_dot = 1000 * ureg.kg / ureg.sec\n",
    "\n",
    "P_2 = 3.17 * ureg.kPa\n",
    "T_2 = 25 * ureg.degC\n",
    "\n",
    "P_5 = 1.706 * ureg.kPa\n",
    "T_5 = 15 * ureg.degC"
   ]
  },
  {
   "cell_type": "markdown",
   "id": "d1b57a4b-8141-4426-b82f-53b1f1186cb1",
   "metadata": {},
   "source": [
    "### Properties at the Evaporator"
   ]
  },
  {
   "cell_type": "code",
   "execution_count": 50,
   "id": "007d1605-333f-4670-a954-730789656ca0",
   "metadata": {},
   "outputs": [
    {
     "data": {
      "text/html": [
       "113.194 kilojoule/kilogram"
      ],
      "text/latex": [
       "$113.194\\ \\frac{\\mathrm{kilojoule}}{\\mathrm{kilogram}}$"
      ],
      "text/plain": [
       "113.194 <Unit('kilojoule / kilogram')>"
      ]
     },
     "execution_count": 50,
     "metadata": {},
     "output_type": "execute_result"
    }
   ],
   "source": [
    "h_1 = (125.74 - 104.83) / (30 - 25) * (27 - 25) + 104.83\n",
    "h_1 = h_1 * ureg.kJ / ureg.kg\n",
    "h_1"
   ]
  },
  {
   "cell_type": "code",
   "execution_count": 52,
   "id": "5a15a11d-9dc3-470f-9e19-816af13a9eac",
   "metadata": {},
   "outputs": [],
   "source": [
    "h_2 = h_1"
   ]
  },
  {
   "cell_type": "code",
   "execution_count": 53,
   "id": "e81b0ca8-1c6e-4e8f-ad1e-7b7458df9b84",
   "metadata": {},
   "outputs": [],
   "source": [
    "T_2 = 25 * ureg.degC\n",
    "h_4 = 104.83 * ureg.kJ / ureg.kg\n",
    "h_3 = 2546.5 * ureg.kJ / ureg.kg"
   ]
  },
  {
   "cell_type": "code",
   "execution_count": 54,
   "id": "353f934a-82eb-43a7-bdc2-258c5cfe5d3d",
   "metadata": {},
   "outputs": [],
   "source": [
    "s_3 = 8.5567 * ureg.kg / (ureg.kJ * ureg.degK)\n",
    "v_3 = 43.340 * ureg.meter ** 3 / ureg.kg"
   ]
  },
  {
   "cell_type": "code",
   "execution_count": 55,
   "id": "4d4f4282-f92b-488e-a077-1fdf7c1975f7",
   "metadata": {},
   "outputs": [
    {
     "data": {
      "text/html": [
       "0.0034255243337551772 dimensionless"
      ],
      "text/latex": [
       "$0.0034255243337551772\\ dimensionless$"
      ],
      "text/plain": [
       "0.0034255243337551772 <Unit('dimensionless')>"
      ]
     },
     "execution_count": 55,
     "metadata": {},
     "output_type": "execute_result"
    }
   ],
   "source": [
    "x_2 = (h_2 - h_4) / (h_3 - h_4)\n",
    "x_2"
   ]
  },
  {
   "cell_type": "markdown",
   "id": "a4735006-5002-459f-853b-89b2245971e7",
   "metadata": {},
   "source": [
    "### a) Mass Flow Rate of Steam at Turbine Inlet"
   ]
  },
  {
   "cell_type": "code",
   "execution_count": 56,
   "id": "9c3fc584-1a3e-4a7d-a71d-d1cac1382543",
   "metadata": {},
   "outputs": [
    {
     "name": "stdout",
     "output_type": "stream",
     "text": [
      "╔═════════════════════════════════════════════════╗\n",
      "║ Mass Flow Rate of Steam: 3.43 kilogram / second ║\n",
      "╚═════════════════════════════════════════════════╝\n"
     ]
    }
   ],
   "source": [
    "m_dot_3 = x_2 * m_dot\n",
    "m_dot_3\n",
    "print_msg_box(f\"Mass Flow Rate of Steam: {round(m_dot_3, 2)}\")"
   ]
  },
  {
   "cell_type": "markdown",
   "id": "a8bd1c32-f746-4371-a1e8-8837fd2efc54",
   "metadata": {},
   "source": [
    "### b) the volume flow rates of steam at the turbine inlet and outlet"
   ]
  },
  {
   "cell_type": "code",
   "execution_count": 57,
   "id": "1eab5d40-06b6-4aa6-ab64-80e861ad27f6",
   "metadata": {},
   "outputs": [
    {
     "name": "stdout",
     "output_type": "stream",
     "text": [
      "╔══════════════════════════════════════════════════════════╗\n",
      "║ Volume flow rate of steam in: 148.46 meter ** 3 / second ║\n",
      "╚══════════════════════════════════════════════════════════╝\n"
     ]
    }
   ],
   "source": [
    "V_3 = m_dot_3 * v_3\n",
    "print_msg_box(f\"Volume flow rate of steam in: {round(V_3, 2)}\")"
   ]
  },
  {
   "cell_type": "code",
   "execution_count": 58,
   "id": "708ab8a9-d92b-4d0c-8f96-5bd1a695310f",
   "metadata": {},
   "outputs": [],
   "source": [
    "x_5s = 1 - (8.7803 - s_3.magnitude) / 8.5559 \n",
    "h_5s = (x_5s * 2465.4 + 62.982) * ureg.kJ / ureg.kg"
   ]
  },
  {
   "cell_type": "code",
   "execution_count": 59,
   "id": "3d98c943-18e6-441d-8717-969ba5f61925",
   "metadata": {},
   "outputs": [
    {
     "data": {
      "text/html": [
       "2480.4609639009336 kilojoule/kilogram"
      ],
      "text/latex": [
       "$2480.4609639009336\\ \\frac{\\mathrm{kilojoule}}{\\mathrm{kilogram}}$"
      ],
      "text/plain": [
       "2480.4609639009336 <Unit('kilojoule / kilogram')>"
      ]
     },
     "execution_count": 59,
     "metadata": {},
     "output_type": "execute_result"
    }
   ],
   "source": [
    "h_5 = (.8 * (h_3 -  h_5s) - h_3) * -1\n",
    "h_5"
   ]
  },
  {
   "cell_type": "code",
   "execution_count": 60,
   "id": "18a7b675-a3f5-4f8a-974f-e60e919e0f50",
   "metadata": {},
   "outputs": [
    {
     "name": "stdout",
     "output_type": "stream",
     "text": [
      "╔══════════════════════════════════════════════════════════╗\n",
      "║ Volume flow rate of steam out: 266.8 meter ** 3 / second ║\n",
      "╚══════════════════════════════════════════════════════════╝\n"
     ]
    }
   ],
   "source": [
    "v_5 = 77.885 * ureg.meter ** 3 / ureg.kg\n",
    "V_5 = m_dot_3 * v_5\n",
    "print_msg_box(f\"Volume flow rate of steam out: {round(V_5, 2)}\")"
   ]
  },
  {
   "cell_type": "markdown",
   "id": "cb84cc1b-9eae-44d5-b451-2a63cf3cfd44",
   "metadata": {},
   "source": [
    "### c) the turbine power output and the thermal efficiency of the cycle"
   ]
  },
  {
   "cell_type": "code",
   "execution_count": 62,
   "id": "1af985f6-bab5-4643-9a85-1d26feabdc5f",
   "metadata": {},
   "outputs": [
    {
     "name": "stdout",
     "output_type": "stream",
     "text": [
      "╔════════════════════════════════╗\n",
      "║ Power Output = 226.22 kilowatt ║\n",
      "╚════════════════════════════════╝\n"
     ]
    }
   ],
   "source": [
    "W_dot_out = m_dot_3 * (h_3 - h_5)\n",
    "print_msg_box(f\"Power Output = {round(W_dot_out.to('kW'), 2)}\")"
   ]
  },
  {
   "cell_type": "code",
   "execution_count": 63,
   "id": "64848956-6e41-4c8c-a565-732974eb5bb2",
   "metadata": {},
   "outputs": [],
   "source": [
    "Q_in = m_dot * h_1 - m_dot_3 * h_4"
   ]
  },
  {
   "cell_type": "code",
   "execution_count": 64,
   "id": "2948b98f-459f-4616-ac85-80dc1c41f092",
   "metadata": {},
   "outputs": [
    {
     "data": {
      "text/html": [
       "0.002004861266822587 dimensionless"
      ],
      "text/latex": [
       "$0.002004861266822587\\ dimensionless$"
      ],
      "text/plain": [
       "0.002004861266822587 <Unit('dimensionless')>"
      ]
     },
     "execution_count": 64,
     "metadata": {},
     "output_type": "execute_result"
    }
   ],
   "source": [
    "n_th = W_dot_out / Q_in\n",
    "n_th"
   ]
  },
  {
   "cell_type": "code",
   "execution_count": 66,
   "id": "6bb892cd-546d-4b86-8e1e-d92c05211923",
   "metadata": {},
   "outputs": [
    {
     "name": "stdout",
     "output_type": "stream",
     "text": [
      "╔═══════════════════════════╗\n",
      "║ Thermal Efficiency = 0.2% ║\n",
      "╚═══════════════════════════╝\n"
     ]
    }
   ],
   "source": [
    "print_msg_box(f\"Thermal Efficiency = {round((n_th * 100).magnitude, 2)}%\")"
   ]
  },
  {
   "cell_type": "markdown",
   "id": "dbc61468-56bf-43c5-89b8-99cd64ce1233",
   "metadata": {},
   "source": [
    "### d) The mass flow rate of cold deep water"
   ]
  },
  {
   "cell_type": "code",
   "execution_count": 73,
   "id": "fe882218-3276-4dc8-a4b3-1448a2daa539",
   "metadata": {},
   "outputs": [],
   "source": [
    "h_6 = 52 * ureg.kJ / ureg.kg\n",
    "h_7 = 62.980 * ureg.kJ / ureg.kg"
   ]
  },
  {
   "cell_type": "code",
   "execution_count": 76,
   "id": "cb0ea5ba-e08c-45c0-b843-107b3117479b",
   "metadata": {},
   "outputs": [
    {
     "name": "stdout",
     "output_type": "stream",
     "text": [
      "╔═════════════════════════════════════════════════════════════════╗\n",
      "║ Mass Flow Rate Cold Water = 754.2021737916732 kilogram / second ║\n",
      "╚═════════════════════════════════════════════════════════════════╝\n"
     ]
    }
   ],
   "source": [
    "print_msg_box(f\"Mass Flow Rate Cold Water = {(m_dot_3 * h_5 - (m_dot_3 * h_7)) / (h_7 - h_6)}\")"
   ]
  },
  {
   "cell_type": "markdown",
   "id": "47033033",
   "metadata": {},
   "source": [
    "## 9-25"
   ]
  },
  {
   "cell_type": "code",
   "execution_count": 6,
   "id": "190718cf",
   "metadata": {},
   "outputs": [],
   "source": [
    "m_msw = 10e3 * ureg.kg\n",
    "T_in = 20 * ureg.degC\n",
    "HV_msw = 18_000 * ureg.kJ / ureg.kg\n",
    "N_boiler = 0.75\n",
    "P_steam = 100 * ureg.kPa\n",
    "N_t = 0.85\n",
    "N_gen = 0.95\n",
    "p = 0.11 / ureg.kWh"
   ]
  },
  {
   "cell_type": "markdown",
   "id": "4f8d2197",
   "metadata": {},
   "source": [
    "### State 1 (Boiler Inlet)"
   ]
  },
  {
   "cell_type": "code",
   "execution_count": 7,
   "id": "0d5d257d",
   "metadata": {},
   "outputs": [],
   "source": [
    "X = 0\n",
    "P_1 = 2.3392 * ureg.kPa\n",
    "h_1 = 83.915 * ureg.kJ / ureg.kg"
   ]
  },
  {
   "cell_type": "markdown",
   "id": "b35da94c",
   "metadata": {},
   "source": [
    "### State 2 (Boiler Exit)"
   ]
  },
  {
   "cell_type": "code",
   "execution_count": 8,
   "id": "d09445da",
   "metadata": {},
   "outputs": [],
   "source": [
    "T_2 = 200 * ureg.degC\n",
    "h_2 = 2792.0 * ureg.kJ / ureg.kg\n",
    "s_2 = 6.4302 * ureg.kJ / (ureg.kg * ureg.degK)\n",
    "X = 1 "
   ]
  },
  {
   "cell_type": "markdown",
   "id": "c4c3cbc7",
   "metadata": {},
   "source": [
    "### State 3 (Turbine Exit)"
   ]
  },
  {
   "cell_type": "code",
   "execution_count": 9,
   "id": "da82d2ad",
   "metadata": {},
   "outputs": [
    {
     "data": {
      "text/html": [
       "2328.8150025594023 kilojoule/kilogram"
      ],
      "text/latex": [
       "$2328.8150025594023\\ \\frac{\\mathrm{kilojoule}}{\\mathrm{kilogram}}$"
      ],
      "text/plain": [
       "2328.8150025594023 <Unit('kilojoule / kilogram')>"
      ]
     },
     "execution_count": 9,
     "metadata": {},
     "output_type": "execute_result"
    }
   ],
   "source": [
    "P_3 = P_steam\n",
    "s_3 = s_2\n",
    "h_3s = ((s_3.magnitude - 1.3028) / (7.3589 - 1.3028) * (2675.0 - 417.51) + 417.51) * ureg.kJ / ureg.kg\n",
    "h_3s"
   ]
  },
  {
   "cell_type": "code",
   "execution_count": 10,
   "id": "35e73a01",
   "metadata": {},
   "outputs": [
    {
     "data": {
      "text/html": [
       "2398.292752175492 kilojoule/kilogram"
      ],
      "text/latex": [
       "$2398.292752175492\\ \\frac{\\mathrm{kilojoule}}{\\mathrm{kilogram}}$"
      ],
      "text/plain": [
       "2398.292752175492 <Unit('kilojoule / kilogram')>"
      ]
     },
     "execution_count": 10,
     "metadata": {},
     "output_type": "execute_result"
    }
   ],
   "source": [
    "h_3 = (N_t * (h_2 - h_3s) - h_2) * -1\n",
    "h_3"
   ]
  },
  {
   "cell_type": "code",
   "execution_count": 11,
   "id": "6af39069",
   "metadata": {},
   "outputs": [
    {
     "data": {
      "text/html": [
       "49850.72477414852 kilogram"
      ],
      "text/latex": [
       "$49850.72477414852\\ \\mathrm{kilogram}$"
      ],
      "text/plain": [
       "49850.72477414852 <Unit('kilogram')>"
      ]
     },
     "execution_count": 11,
     "metadata": {},
     "output_type": "execute_result"
    }
   ],
   "source": [
    "m_steam = N_boiler * (m_msw * HV_msw) / (h_2 - h_1)\n",
    "m_steam"
   ]
  },
  {
   "cell_type": "markdown",
   "id": "f69d7536",
   "metadata": {},
   "source": [
    "### Turbine Work"
   ]
  },
  {
   "cell_type": "code",
   "execution_count": 12,
   "id": "1e4c335b",
   "metadata": {},
   "outputs": [
    {
     "data": {
      "text/html": [
       "5451.831014690844 kilowatt_hour"
      ],
      "text/latex": [
       "$5451.831014690844\\ \\mathrm{kilowatt\\_hour}$"
      ],
      "text/plain": [
       "5451.831014690844 <Unit('kilowatt_hour')>"
      ]
     },
     "execution_count": 12,
     "metadata": {},
     "output_type": "execute_result"
    }
   ],
   "source": [
    "W_turbine = m_steam * (h_2 - h_3)\n",
    "W_turbine.to('kWh')"
   ]
  },
  {
   "cell_type": "markdown",
   "id": "9cf2c5fc",
   "metadata": {},
   "source": [
    "### Amount of Electricity"
   ]
  },
  {
   "cell_type": "code",
   "execution_count": 13,
   "id": "b54bf11c",
   "metadata": {},
   "outputs": [
    {
     "name": "stdout",
     "output_type": "stream",
     "text": [
      "╔══════════════════════════════════════════╗\n",
      "║ Power Generated = 5179.239 kilowatt_hour ║\n",
      "╚══════════════════════════════════════════╝\n"
     ]
    }
   ],
   "source": [
    "W_electric = N_gen * W_turbine\n",
    "print_msg_box(f\"Power Generated = {round(W_electric.to('kWh'), 3)}\")"
   ]
  },
  {
   "cell_type": "markdown",
   "id": "c231ef93",
   "metadata": {},
   "source": [
    "### Revenue"
   ]
  },
  {
   "cell_type": "code",
   "execution_count": 14,
   "id": "f8d63b43",
   "metadata": {},
   "outputs": [
    {
     "name": "stdout",
     "output_type": "stream",
     "text": [
      "╔════════════════════╗\n",
      "║ Revenue = $569.716 ║\n",
      "╚════════════════════╝\n"
     ]
    }
   ],
   "source": [
    "P = W_electric * p\n",
    "print_msg_box(f\"Revenue = ${round(P.to('dimensionless').magnitude, 3)}\")"
   ]
  }
 ],
 "metadata": {
  "kernelspec": {
   "display_name": "homework",
   "language": "python",
   "name": "homework"
  },
  "language_info": {
   "codemirror_mode": {
    "name": "ipython",
    "version": 3
   },
   "file_extension": ".py",
   "mimetype": "text/x-python",
   "name": "python",
   "nbconvert_exporter": "python",
   "pygments_lexer": "ipython3",
   "version": "3.8.9"
  }
 },
 "nbformat": 4,
 "nbformat_minor": 5
}
