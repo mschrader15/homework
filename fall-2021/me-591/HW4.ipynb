{
 "cells": [
  {
   "cell_type": "markdown",
   "id": "4169a0b9-84a6-414f-a8e8-88879db2a6d2",
   "metadata": {},
   "source": [
    "# ME 591 HW 4\n",
    "\n",
    "Max Schrader\n",
    "\n",
    "9/11/21\n",
    "\n",
    "ME 591"
   ]
  },
  {
   "cell_type": "code",
   "execution_count": 2,
   "id": "d80ebe5e-6062-4d8e-a63e-c5c0feb82d66",
   "metadata": {},
   "outputs": [],
   "source": [
    "import os\n",
    "import math\n",
    "import pint"
   ]
  },
  {
   "cell_type": "code",
   "execution_count": 3,
   "id": "63721263-d204-4c36-a1de-640183a7468e",
   "metadata": {},
   "outputs": [],
   "source": [
    "def bordered(text):\n",
    "    lines = text.splitlines()\n",
    "    width = max(len(s) for s in lines)\n",
    "    res = ['┌' + '─' * width + '┐']\n",
    "    for s in lines:\n",
    "        res.append('│' + (s + ' ' * width)[:width] + '│')\n",
    "    res.append('└' + '─' * width + '┘')\n",
    "    return '\\n'.join(res)"
   ]
  },
  {
   "cell_type": "markdown",
   "id": "eaf9a3d0-d560-445c-bea8-7a8b38e80d54",
   "metadata": {},
   "source": [
    "## Problem 5-14"
   ]
  },
  {
   "cell_type": "code",
   "execution_count": 4,
   "id": "2e365cee-49da-4ffb-8703-b95523a89406",
   "metadata": {},
   "outputs": [],
   "source": [
    "ureg = pint.UnitRegistry(autoconvert_offset_to_baseunit = True)"
   ]
  },
  {
   "cell_type": "markdown",
   "id": "66c89899-6787-4386-9a06-e2697e167f1d",
   "metadata": {},
   "source": [
    "### Defining the Inputs"
   ]
  },
  {
   "cell_type": "code",
   "execution_count": 27,
   "id": "a54fe97c-3704-47a3-aa72-410b1ad6f534",
   "metadata": {},
   "outputs": [],
   "source": [
    "V_wind = 7 * ureg.meter_per_second\n",
    "D_blade = 25 * ureg.meter\n",
    "p_air = 1.15 * (ureg.kg / ureg.meter ** 3) "
   ]
  },
  {
   "cell_type": "markdown",
   "id": "df859a1a-5557-409a-8738-3f7bf3c3dfc6",
   "metadata": {},
   "source": [
    "### Area"
   ]
  },
  {
   "cell_type": "code",
   "execution_count": 28,
   "id": "16108358-18ca-480d-acd1-5cb87b9563aa",
   "metadata": {},
   "outputs": [
    {
     "data": {
      "text/html": [
       "490.8738521234052 meter<sup>2</sup>"
      ],
      "text/latex": [
       "$490.8738521234052\\ \\mathrm{meter}^{2}$"
      ],
      "text/plain": [
       "490.8738521234052 <Unit('meter ** 2')>"
      ]
     },
     "execution_count": 28,
     "metadata": {},
     "output_type": "execute_result"
    }
   ],
   "source": [
    "A = math.pi * D_blade ** 2 / 4 \n",
    "A"
   ]
  },
  {
   "cell_type": "markdown",
   "id": "26839485-fb5e-42d9-ba56-4ea863216da5",
   "metadata": {},
   "source": [
    "### Mass Flow"
   ]
  },
  {
   "cell_type": "code",
   "execution_count": 29,
   "id": "ff0f50c9-d604-4823-a416-35de351d1d97",
   "metadata": {},
   "outputs": [
    {
     "data": {
      "text/html": [
       "3951.5345095934117 kilogram/second"
      ],
      "text/latex": [
       "$3951.5345095934117\\ \\frac{\\mathrm{kilogram}}{\\mathrm{second}}$"
      ],
      "text/plain": [
       "3951.5345095934117 <Unit('kilogram / second')>"
      ]
     },
     "execution_count": 29,
     "metadata": {},
     "output_type": "execute_result"
    }
   ],
   "source": [
    "m_dot = p_air * A * V_wind\n",
    "m_dot.to('kg/s')"
   ]
  },
  {
   "cell_type": "markdown",
   "id": "097abcc5-a015-48cd-9b88-e64a0430360c",
   "metadata": {},
   "source": [
    "### Wind Potential"
   ]
  },
  {
   "cell_type": "code",
   "execution_count": 30,
   "id": "10b65661-ce47-4717-b1cc-44973702396c",
   "metadata": {},
   "outputs": [
    {
     "data": {
      "text/html": [
       "96.81259548503859 kilowatt"
      ],
      "text/latex": [
       "$96.81259548503859\\ \\mathrm{kilowatt}$"
      ],
      "text/plain": [
       "96.81259548503859 <Unit('kilowatt')>"
      ]
     },
     "execution_count": 30,
     "metadata": {},
     "output_type": "execute_result"
    }
   ],
   "source": [
    "W_dot = 1/2 * m_dot * V_wind ** 2"
   ]
  },
  {
   "cell_type": "code",
   "execution_count": 90,
   "id": "278c8333-0cb7-4edb-930b-e884d0b8c598",
   "metadata": {},
   "outputs": [
    {
     "name": "stdout",
     "output_type": "stream",
     "text": [
      "┌────────────────────────────────┐\n",
      "│W_dot_available = 96.81 kilowatt│\n",
      "└────────────────────────────────┘\n",
      "┌────────┐\n",
      "│Answer E│\n",
      "└────────┘\n"
     ]
    }
   ],
   "source": [
    "print(bordered(f\"W_dot_available = {round(W_dot.to('kW'), 2)}\"))\n",
    "print(bordered(\"Answer E\"))"
   ]
  },
  {
   "cell_type": "markdown",
   "id": "f46c6b27-10a2-412c-a5d5-bdf32e68d658",
   "metadata": {},
   "source": [
    "## Problem 5-18 "
   ]
  },
  {
   "cell_type": "markdown",
   "id": "93c4b661-3362-4f7b-9c04-7e2a95bc93d6",
   "metadata": {},
   "source": [
    "Consider two locations (location A and B) with average WPD (wind power density) of\n",
    "500 W/m 2 for location A and 250 W/m 2 for location B. If two wind turbines with the same character-\n",
    "istics are to be installed to both sites, what is the ratio of power generated from location A and location\n",
    "B? Also, determine the ratio of average wind velocities in location A and B."
   ]
  },
  {
   "cell_type": "code",
   "execution_count": 32,
   "id": "3b6f93b7-367a-4eac-92d8-8ecb361b8a05",
   "metadata": {},
   "outputs": [],
   "source": [
    "ureg = pint.UnitRegistry(autoconvert_offset_to_baseunit = True)"
   ]
  },
  {
   "cell_type": "code",
   "execution_count": 47,
   "id": "07c8dac6-91c9-41da-acc9-5617281f68d3",
   "metadata": {},
   "outputs": [],
   "source": [
    "WPD_A = 500 * ureg.watt / ureg.meter ** 2\n",
    "WPD_B = 250 * ureg.watt / ureg.meter ** 2\n",
    "\n",
    "p_air = 1.18 * (ureg.kg / ureg.meter ** 3)"
   ]
  },
  {
   "cell_type": "markdown",
   "id": "6af91d6e-7d0e-4ca1-a2a4-20cfeb73c63a",
   "metadata": {},
   "source": [
    "### Wind Power Ratio"
   ]
  },
  {
   "cell_type": "code",
   "execution_count": 89,
   "id": "62403aba-edf9-4b8d-947f-1f63f179b9f8",
   "metadata": {},
   "outputs": [
    {
     "name": "stdout",
     "output_type": "stream",
     "text": [
      "┌─────────────────────────────────────────────────────┐\n",
      "│Ratio of Power Generated (A vs B) = 2.0 dimensionless│\n",
      "└─────────────────────────────────────────────────────┘\n"
     ]
    }
   ],
   "source": [
    "print(bordered(f\"Ratio of Power Generated (A vs B) = {WPD_A / WPD_B}\", ))"
   ]
  },
  {
   "cell_type": "markdown",
   "id": "0261e170-8eca-45e8-ae32-516a802924cc",
   "metadata": {},
   "source": [
    "### Wind Velocities"
   ]
  },
  {
   "cell_type": "code",
   "execution_count": 49,
   "id": "fdebbdd7-bc05-454a-b88f-69cd499239f0",
   "metadata": {},
   "outputs": [
    {
     "data": {
      "text/html": [
       "9.463228590756357 meter_per_second"
      ],
      "text/latex": [
       "$9.463228590756357\\ \\mathrm{meter\\_per\\_second}$"
      ],
      "text/plain": [
       "9.463228590756357 <Unit('meter_per_second')>"
      ]
     },
     "execution_count": 49,
     "metadata": {},
     "output_type": "execute_result"
    }
   ],
   "source": [
    "V_a = ((WPD_A * 2) / p_air) ** (1/3) \n",
    "V_a.to(\"mps\")"
   ]
  },
  {
   "cell_type": "code",
   "execution_count": 50,
   "id": "ccb3ac4b-a5ce-4e48-9783-ba96c7cbda08",
   "metadata": {},
   "outputs": [
    {
     "data": {
      "text/html": [
       "7.510969509991091 meter_per_second"
      ],
      "text/latex": [
       "$7.510969509991091\\ \\mathrm{meter\\_per\\_second}$"
      ],
      "text/plain": [
       "7.510969509991091 <Unit('meter_per_second')>"
      ]
     },
     "execution_count": 50,
     "metadata": {},
     "output_type": "execute_result"
    }
   ],
   "source": [
    "V_b = ((WPD_B * 2) / p_air) ** (1/3) \n",
    "V_b.to(\"mps\")"
   ]
  },
  {
   "cell_type": "code",
   "execution_count": 88,
   "id": "eae3aca3-0e9e-4cfc-be77-98254f9d27a0",
   "metadata": {},
   "outputs": [
    {
     "name": "stdout",
     "output_type": "stream",
     "text": [
      "┌──────────────────────────────────────────────────────────────────┐\n",
      "│Ratio of Wind Velocity (A vs B) = 1.2599210498948732 dimensionless│\n",
      "└──────────────────────────────────────────────────────────────────┘\n"
     ]
    }
   ],
   "source": [
    "print(bordered(f\"Ratio of Wind Velocity (A vs B) = {V_a / V_b}\", ))"
   ]
  },
  {
   "cell_type": "markdown",
   "id": "55db3ca2-1cf6-41ae-89b6-ed3e0cad3cf3",
   "metadata": {},
   "source": [
    "## Problem 5-27"
   ]
  },
  {
   "cell_type": "markdown",
   "id": "e3a5a663-2999-4994-b39e-40cb477a9636",
   "metadata": {},
   "source": [
    "The electric power produced from a wind turbine is measured to be 50 kW when the wind\n",
    "velocity is 5.5 m/s. What is the wind turbine efficiency if the gearbox/generator efficiency is 90 per-\n",
    "cent? The ambient conditions during the time of measurements are 7°C and 100 kPa and the blade\n",
    "span area is 1500 m 2 ."
   ]
  },
  {
   "cell_type": "code",
   "execution_count": 13,
   "id": "fe6cfddb-8fc2-40eb-9ceb-f584affce88f",
   "metadata": {},
   "outputs": [],
   "source": [
    "ureg = pint.UnitRegistry(autoconvert_offset_to_baseunit = True)"
   ]
  },
  {
   "cell_type": "code",
   "execution_count": 71,
   "id": "c3ce93b2-7351-47b7-ac6c-babf989126ff",
   "metadata": {},
   "outputs": [],
   "source": [
    "N_gearbox = 0.9\n",
    "V_wind = 5.5 * ureg.mps\n",
    "W_elec = 50 * ureg.kW\n",
    "T_air = 7 * ureg.degC\n",
    "P_air = 100 * (1e3 * ureg.pascal)\n",
    "A = 1500 * (ureg.meter) ** 2"
   ]
  },
  {
   "cell_type": "code",
   "execution_count": 72,
   "id": "da101c0c-5309-4179-9f23-1fe0f22fccf2",
   "metadata": {},
   "outputs": [
    {
     "data": {
      "text/html": [
       "1.2437339130791683 kilogram/meter<sup>3</sup>"
      ],
      "text/latex": [
       "$1.2437339130791683\\ \\frac{\\mathrm{kilogram}}{\\mathrm{meter}^{3}}$"
      ],
      "text/plain": [
       "1.2437339130791683 <Unit('kilogram / meter ** 3')>"
      ]
     },
     "execution_count": 72,
     "metadata": {},
     "output_type": "execute_result"
    }
   ],
   "source": [
    "R = 287 * ureg.joule / (ureg.kg * ureg.kelvin)\n",
    "p_air = P_air / (R * T_air)\n",
    "p_air = p_air.to('kg/m^3')\n",
    "p_air"
   ]
  },
  {
   "cell_type": "code",
   "execution_count": 73,
   "id": "d54f06ab-2f4d-4a64-81b9-d4c3452a159c",
   "metadata": {},
   "outputs": [
    {
     "data": {
      "text/html": [
       "55.55555555555556 kilowatt"
      ],
      "text/latex": [
       "$55.55555555555556\\ \\mathrm{kilowatt}$"
      ],
      "text/plain": [
       "55.55555555555556 <Unit('kilowatt')>"
      ]
     },
     "execution_count": 73,
     "metadata": {},
     "output_type": "execute_result"
    }
   ],
   "source": [
    "W_dot_shaft = W_elec / N_gearbox\n",
    "W_dot_shaft"
   ]
  },
  {
   "cell_type": "code",
   "execution_count": 74,
   "id": "7c1134ff-cc6e-431f-acf3-3e5f06a9d7c2",
   "metadata": {},
   "outputs": [
    {
     "data": {
      "text/html": [
       "0.357973342237805 dimensionless"
      ],
      "text/latex": [
       "$0.357973342237805\\ dimensionless$"
      ],
      "text/plain": [
       "0.357973342237805 <Unit('dimensionless')>"
      ]
     },
     "execution_count": 74,
     "metadata": {},
     "output_type": "execute_result"
    }
   ],
   "source": [
    "N_wt = W_dot_shaft / (1 / 2 * p_air * A * V_wind ** 3)\n",
    "N_wt = N_wt.to('dimensionless')\n",
    "N_wt"
   ]
  },
  {
   "cell_type": "code",
   "execution_count": 86,
   "id": "509c666a-93f0-4467-afd5-260db5bf1136",
   "metadata": {},
   "outputs": [
    {
     "name": "stdout",
     "output_type": "stream",
     "text": [
      "┌───────────────────────────────┐\n",
      "│Wind Turbine Efficiency = 35.8%│\n",
      "└───────────────────────────────┘\n"
     ]
    }
   ],
   "source": [
    "print(bordered(f\"Wind Turbine Efficiency = {round(N_wt.magnitude * 100, 2)}%\"))"
   ]
  },
  {
   "cell_type": "markdown",
   "id": "8540807a-26ec-4a66-ad26-4b75c2c5a504",
   "metadata": {},
   "source": [
    "## Problem 5-45"
   ]
  },
  {
   "cell_type": "markdown",
   "id": "eddbacbb-4a22-4031-b4b8-f2ec0f438569",
   "metadata": {},
   "source": [
    "The optimum spacing between the rows of the turbines with a blade diameter D is"
   ]
  },
  {
   "cell_type": "code",
   "execution_count": 85,
   "id": "b1822fba-39bb-4427-90b6-77c68fb6a7bb",
   "metadata": {},
   "outputs": [
    {
     "name": "stdout",
     "output_type": "stream",
     "text": [
      "┌───────────────────────────────────┐\n",
      "│The optimum spacing is (D): 5D - 9D│\n",
      "└───────────────────────────────────┘\n"
     ]
    }
   ],
   "source": [
    "print(bordered(f\"The optimum spacing is (D): 5D - 9D\"))"
   ]
  }
 ],
 "metadata": {
  "kernelspec": {
   "display_name": "Python 3",
   "language": "python",
   "name": "python3"
  },
  "language_info": {
   "codemirror_mode": {
    "name": "ipython",
    "version": 3
   },
   "file_extension": ".py",
   "mimetype": "text/x-python",
   "name": "python",
   "nbconvert_exporter": "python",
   "pygments_lexer": "ipython3",
   "version": "3.9.5"
  }
 },
 "nbformat": 4,
 "nbformat_minor": 5
}
