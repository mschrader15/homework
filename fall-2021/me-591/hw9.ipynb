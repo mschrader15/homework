{
 "cells": [
  {
   "cell_type": "markdown",
   "id": "2e0af09c",
   "metadata": {},
   "source": [
    "# HW 9\n",
    "\n",
    "Max Schrader\n",
    "\n",
    "Please provide answers to the following questions at the end of chapter 8 of your textbook:\n",
    "\n",
    "1. 8-29\n",
    "\n",
    "2. 8-50\n"
   ]
  },
  {
   "cell_type": "code",
   "execution_count": 1,
   "id": "0d65e86a",
   "metadata": {},
   "outputs": [],
   "source": [
    "from hw_setup import *"
   ]
  },
  {
   "cell_type": "markdown",
   "id": "5b425057",
   "metadata": {},
   "source": [
    "## 8-29"
   ]
  },
  {
   "cell_type": "code",
   "execution_count": 2,
   "id": "09172692",
   "metadata": {},
   "outputs": [],
   "source": [
    "LHV_e = 26_810 * ureg.kJ / ureg.kg\n",
    "LHV_m = 19_920 * ureg.kJ / ureg.kg"
   ]
  },
  {
   "cell_type": "code",
   "execution_count": 3,
   "id": "34abb186",
   "metadata": {},
   "outputs": [],
   "source": [
    "AF_e = 9.0  # from the textbook\n",
    "AF_m = 6.47  "
   ]
  },
  {
   "cell_type": "code",
   "execution_count": 4,
   "id": "22b4c133",
   "metadata": {},
   "outputs": [],
   "source": [
    "W_dot_e = LHV_e / AF_e\n",
    "W_dot_m = LHV_m / AF_m"
   ]
  },
  {
   "cell_type": "code",
   "execution_count": 5,
   "id": "4a5c299c",
   "metadata": {},
   "outputs": [
    {
     "name": "stdout",
     "output_type": "stream",
     "text": [
      "╔═════════════════════════════════════════════╗\n",
      "║ Ratio of Power (Ethanol / Methanol) = 0.968 ║\n",
      "╚═════════════════════════════════════════════╝\n"
     ]
    }
   ],
   "source": [
    "print_msg_box(f\"Ratio of Power (Ethanol / Methanol) = {round((W_dot_e / W_dot_m).magnitude, 3)}\")"
   ]
  },
  {
   "cell_type": "markdown",
   "id": "47033033",
   "metadata": {},
   "source": [
    "## 8-50"
   ]
  },
  {
   "cell_type": "code",
   "execution_count": 6,
   "id": "190718cf",
   "metadata": {},
   "outputs": [],
   "source": [
    "m_msw = 10e3 * ureg.kg\n",
    "T_in = 20 * ureg.degC\n",
    "HV_msw = 18_000 * ureg.kJ / ureg.kg\n",
    "N_boiler = 0.75\n",
    "P_steam = 100 * ureg.kPa\n",
    "N_t = 0.85\n",
    "N_gen = 0.95\n",
    "p = 0.11 / ureg.kWh"
   ]
  },
  {
   "cell_type": "markdown",
   "id": "4f8d2197",
   "metadata": {},
   "source": [
    "### State 1 (Boiler Inlet)"
   ]
  },
  {
   "cell_type": "code",
   "execution_count": 7,
   "id": "0d5d257d",
   "metadata": {},
   "outputs": [],
   "source": [
    "X = 0\n",
    "P_1 = 2.3392 * ureg.kPa\n",
    "h_1 = 83.915 * ureg.kJ / ureg.kg"
   ]
  },
  {
   "cell_type": "markdown",
   "id": "b35da94c",
   "metadata": {},
   "source": [
    "### State 2 (Boiler Exit)"
   ]
  },
  {
   "cell_type": "code",
   "execution_count": 8,
   "id": "d09445da",
   "metadata": {},
   "outputs": [],
   "source": [
    "T_2 = 200 * ureg.degC\n",
    "h_2 = 2792.0 * ureg.kJ / ureg.kg\n",
    "s_2 = 6.4302 * ureg.kJ / (ureg.kg * ureg.degK)\n",
    "X = 1 "
   ]
  },
  {
   "cell_type": "markdown",
   "id": "c4c3cbc7",
   "metadata": {},
   "source": [
    "### State 3 (Turbine Exit)"
   ]
  },
  {
   "cell_type": "code",
   "execution_count": 9,
   "id": "da82d2ad",
   "metadata": {},
   "outputs": [
    {
     "data": {
      "text/html": [
       "2328.8150025594023 kilojoule/kilogram"
      ],
      "text/latex": [
       "$2328.8150025594023\\ \\frac{\\mathrm{kilojoule}}{\\mathrm{kilogram}}$"
      ],
      "text/plain": [
       "2328.8150025594023 <Unit('kilojoule / kilogram')>"
      ]
     },
     "execution_count": 9,
     "metadata": {},
     "output_type": "execute_result"
    }
   ],
   "source": [
    "P_3 = P_steam\n",
    "s_3 = s_2\n",
    "h_3s = ((s_3.magnitude - 1.3028) / (7.3589 - 1.3028) * (2675.0 - 417.51) + 417.51) * ureg.kJ / ureg.kg\n",
    "h_3s"
   ]
  },
  {
   "cell_type": "code",
   "execution_count": 10,
   "id": "35e73a01",
   "metadata": {},
   "outputs": [
    {
     "data": {
      "text/html": [
       "2398.292752175492 kilojoule/kilogram"
      ],
      "text/latex": [
       "$2398.292752175492\\ \\frac{\\mathrm{kilojoule}}{\\mathrm{kilogram}}$"
      ],
      "text/plain": [
       "2398.292752175492 <Unit('kilojoule / kilogram')>"
      ]
     },
     "execution_count": 10,
     "metadata": {},
     "output_type": "execute_result"
    }
   ],
   "source": [
    "h_3 = (N_t * (h_2 - h_3s) - h_2) * -1\n",
    "h_3"
   ]
  },
  {
   "cell_type": "code",
   "execution_count": 11,
   "id": "6af39069",
   "metadata": {},
   "outputs": [
    {
     "data": {
      "text/html": [
       "49850.72477414852 kilogram"
      ],
      "text/latex": [
       "$49850.72477414852\\ \\mathrm{kilogram}$"
      ],
      "text/plain": [
       "49850.72477414852 <Unit('kilogram')>"
      ]
     },
     "execution_count": 11,
     "metadata": {},
     "output_type": "execute_result"
    }
   ],
   "source": [
    "m_steam = N_boiler * (m_msw * HV_msw) / (h_2 - h_1)\n",
    "m_steam"
   ]
  },
  {
   "cell_type": "markdown",
   "id": "f69d7536",
   "metadata": {},
   "source": [
    "### Turbine Work"
   ]
  },
  {
   "cell_type": "code",
   "execution_count": 12,
   "id": "1e4c335b",
   "metadata": {},
   "outputs": [
    {
     "data": {
      "text/html": [
       "5451.831014690844 kilowatt_hour"
      ],
      "text/latex": [
       "$5451.831014690844\\ \\mathrm{kilowatt\\_hour}$"
      ],
      "text/plain": [
       "5451.831014690844 <Unit('kilowatt_hour')>"
      ]
     },
     "execution_count": 12,
     "metadata": {},
     "output_type": "execute_result"
    }
   ],
   "source": [
    "W_turbine = m_steam * (h_2 - h_3)\n",
    "W_turbine.to('kWh')"
   ]
  },
  {
   "cell_type": "markdown",
   "id": "9cf2c5fc",
   "metadata": {},
   "source": [
    "### Amount of Electricity"
   ]
  },
  {
   "cell_type": "code",
   "execution_count": 13,
   "id": "b54bf11c",
   "metadata": {},
   "outputs": [
    {
     "name": "stdout",
     "output_type": "stream",
     "text": [
      "╔══════════════════════════════════════════╗\n",
      "║ Power Generated = 5179.239 kilowatt_hour ║\n",
      "╚══════════════════════════════════════════╝\n"
     ]
    }
   ],
   "source": [
    "W_electric = N_gen * W_turbine\n",
    "print_msg_box(f\"Power Generated = {round(W_electric.to('kWh'), 3)}\")"
   ]
  },
  {
   "cell_type": "markdown",
   "id": "c231ef93",
   "metadata": {},
   "source": [
    "### Revenue"
   ]
  },
  {
   "cell_type": "code",
   "execution_count": 14,
   "id": "f8d63b43",
   "metadata": {},
   "outputs": [
    {
     "name": "stdout",
     "output_type": "stream",
     "text": [
      "╔════════════════════╗\n",
      "║ Revenue = $569.716 ║\n",
      "╚════════════════════╝\n"
     ]
    }
   ],
   "source": [
    "P = W_electric * p\n",
    "print_msg_box(f\"Revenue = ${round(P.to('dimensionless').magnitude, 3)}\")"
   ]
  }
 ],
 "metadata": {
  "kernelspec": {
   "display_name": "Python 3",
   "language": "python",
   "name": "python3"
  },
  "language_info": {
   "codemirror_mode": {
    "name": "ipython",
    "version": 3
   },
   "file_extension": ".py",
   "mimetype": "text/x-python",
   "name": "python",
   "nbconvert_exporter": "python",
   "pygments_lexer": "ipython3",
   "version": "3.6.8"
  }
 },
 "nbformat": 4,
 "nbformat_minor": 5
}
