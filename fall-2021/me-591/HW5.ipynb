{
 "cells": [
  {
   "cell_type": "markdown",
   "id": "05593b4c-23c3-4c78-8396-2e22c9e0bf8f",
   "metadata": {},
   "source": [
    "# HW5\n",
    "\n",
    "Max Schrader\n",
    "\n",
    "9/18"
   ]
  },
  {
   "cell_type": "code",
   "execution_count": 1,
   "id": "55302497-9035-4aec-bf46-361b8ea7e1b0",
   "metadata": {},
   "outputs": [],
   "source": [
    "from hw_setup import *"
   ]
  },
  {
   "cell_type": "markdown",
   "id": "0ed8fb91-6dfb-4c4e-8b71-8078ebf9373f",
   "metadata": {
    "heading_collapsed": "true",
    "tags": []
   },
   "source": [
    "## Question 1: 6-27 "
   ]
  },
  {
   "cell_type": "code",
   "execution_count": 2,
   "id": "d9e2ef4d-c032-46dc-ac4a-1ac98deff596",
   "metadata": {},
   "outputs": [],
   "source": [
    "H_delta = 480 * ureg.ft\n",
    "v_dot = 1075 * ureg.gal / ureg.s\n",
    "N_t = .89\n",
    "N_g = .98\n",
    "H_loss = 13 * ureg.ft\n",
    "d_water = 1000 * ureg.kg / ureg.m ** 3\n",
    "g = 1 * ureg.gravity"
   ]
  },
  {
   "cell_type": "markdown",
   "id": "6a7ddf40-cc80-4230-ac62-5a6e531adc6c",
   "metadata": {},
   "source": [
    "### Determine the overall efficiency of this hydroelectric plant"
   ]
  },
  {
   "cell_type": "code",
   "execution_count": 3,
   "id": "cddc681a-78f4-4209-b671-0204d13b8f05",
   "metadata": {},
   "outputs": [
    {
     "data": {
      "text/html": [
       "5838.462157340413 kilowatt"
      ],
      "text/latex": [
       "$5838.462157340413\\ \\mathrm{kilowatt}$"
      ],
      "text/plain": [
       "5838.462157340413 <Unit('kilowatt')>"
      ]
     },
     "execution_count": 3,
     "metadata": {},
     "output_type": "execute_result"
    }
   ],
   "source": [
    "W_dot_max = v_dot * d_water * g * H_delta\n",
    "W_dot_max.to('kW')"
   ]
  },
  {
   "cell_type": "code",
   "execution_count": 4,
   "id": "588de20d-a898-41a7-9d19-9874734b6800",
   "metadata": {},
   "outputs": [
    {
     "data": {
      "text/html": [
       "158.12501676130285 kilowatt"
      ],
      "text/latex": [
       "$158.12501676130285\\ \\mathrm{kilowatt}$"
      ],
      "text/plain": [
       "158.12501676130285 <Unit('kilowatt')>"
      ]
     },
     "execution_count": 4,
     "metadata": {},
     "output_type": "execute_result"
    }
   ],
   "source": [
    "E_dot_lost = v_dot * d_water * g * H_loss\n",
    "E_dot_lost.to('kW')"
   ]
  },
  {
   "cell_type": "code",
   "execution_count": 5,
   "id": "4c905a80-b133-4f28-a28e-fc712d2eb028",
   "metadata": {},
   "outputs": [
    {
     "data": {
      "text/html": [
       "0.9729166666666667 dimensionless"
      ],
      "text/latex": [
       "$0.9729166666666667\\ dimensionless$"
      ],
      "text/plain": [
       "0.9729166666666667 <Unit('dimensionless')>"
      ]
     },
     "execution_count": 5,
     "metadata": {},
     "output_type": "execute_result"
    }
   ],
   "source": [
    "N_piping = (1 - E_dot_lost / W_dot_max)\n",
    "N_piping"
   ]
  },
  {
   "cell_type": "code",
   "execution_count": 6,
   "id": "2a5d341e-2d7d-4f5e-a819-d785e3f004e0",
   "metadata": {},
   "outputs": [
    {
     "name": "stdout",
     "output_type": "stream",
     "text": [
      "╔═════════════════════════════╗\n",
      "║ Overall Efficiency = 84.86% ║\n",
      "╚═════════════════════════════╝\n"
     ]
    }
   ],
   "source": [
    "N_overall = N_t * N_g * N_piping\n",
    "print_msg_box(f\"Overall Efficiency = {round(N_overall.magnitude * 100, 2)}%\")"
   ]
  },
  {
   "cell_type": "markdown",
   "id": "730c3ab1-3782-4c5b-8526-f7e4a7b8e2e7",
   "metadata": {},
   "source": [
    "### Determine the electric power produced"
   ]
  },
  {
   "cell_type": "code",
   "execution_count": 7,
   "id": "cd2738ac-bcd3-4979-b465-25cecb3fa87b",
   "metadata": {},
   "outputs": [
    {
     "name": "stdout",
     "output_type": "stream",
     "text": [
      "╔═══════════════════════════════════╗\n",
      "║ Power Produced = 4954.39 kilowatt ║\n",
      "╚═══════════════════════════════════╝\n"
     ]
    }
   ],
   "source": [
    "W_dot_produced = N_overall * W_dot_max\n",
    "print_msg_box(f\"Power Produced = {round(W_dot_produced.to('kW'), 2)}\")"
   ]
  },
  {
   "cell_type": "markdown",
   "id": "4c8c7d81-af45-4128-a1ba-b4dfb531fd9f",
   "metadata": {},
   "source": [
    "### Determine the turbine shaft power"
   ]
  },
  {
   "cell_type": "code",
   "execution_count": 8,
   "id": "95d392c0-bfa8-42be-88fd-cc63e10911f1",
   "metadata": {},
   "outputs": [
    {
     "name": "stdout",
     "output_type": "stream",
     "text": [
      "╔═══════════════════════════════╗\n",
      "║ Shaft Power = 5055.5 kilowatt ║\n",
      "╚═══════════════════════════════╝\n"
     ]
    }
   ],
   "source": [
    "W_dot_shaft = N_t * (W_dot_max - E_dot_lost)\n",
    "print_msg_box(f\"Shaft Power = {round(W_dot_shaft.to('kW'), 2)}\")"
   ]
  },
  {
   "cell_type": "markdown",
   "id": "d2767848-b40e-4897-b03f-c48c91364b05",
   "metadata": {
    "heading_collapsed": "true",
    "tags": []
   },
   "source": [
    "## Question 2: 6-35"
   ]
  },
  {
   "cell_type": "code",
   "execution_count": 9,
   "id": "abe02513-61a4-4fcd-a019-32a4183e1f4f",
   "metadata": {},
   "outputs": [],
   "source": [
    "r = 1.7 * ureg.m\n",
    "d_nozzle = 9.97 * ureg.cm\n",
    "v_jet = 90 * ureg.mps\n",
    "bucket_angle = 165 * ureg.degree\n",
    "P_out = 2100 * ureg.kW"
   ]
  },
  {
   "cell_type": "markdown",
   "id": "420c7dad-d15e-4160-a1bc-014d1a27c411",
   "metadata": {},
   "source": [
    "### Determine the volume flow rate through the turbine"
   ]
  },
  {
   "cell_type": "code",
   "execution_count": 10,
   "id": "78866e5f-0590-4562-9be4-2d5cca914201",
   "metadata": {},
   "outputs": [
    {
     "name": "stdout",
     "output_type": "stream",
     "text": [
      "╔══════════════════════════════════════════════╗\n",
      "║ Volume flow rate = 0.703 meter ** 3 / second ║\n",
      "╚══════════════════════════════════════════════╝\n"
     ]
    }
   ],
   "source": [
    "V_dot = v_jet * math.pi * d_nozzle ** 2/ 4\n",
    "print_msg_box(f\"Volume flow rate = {round(V_dot.to('m^3/s'), 3)}\")"
   ]
  },
  {
   "cell_type": "markdown",
   "id": "24571edf-f493-4084-9fe3-08eebc4f4c3b",
   "metadata": {},
   "source": [
    "### Determine the rotational speed of the wheel (in rpm) for maximum power."
   ]
  },
  {
   "cell_type": "code",
   "execution_count": 11,
   "id": "b70963fa-d833-400b-9173-310151b5ad89",
   "metadata": {},
   "outputs": [
    {
     "name": "stdout",
     "output_type": "stream",
     "text": [
      "╔════════════════════════════════════════════════════════════╗\n",
      "║ Wheel speed for max power = 252.775 revolutions_per_minute ║\n",
      "╚════════════════════════════════════════════════════════════╝\n"
     ]
    }
   ],
   "source": [
    "w_wheel = v_jet / (2 * r)\n",
    "print_msg_box(f\"Wheel speed for max power = {round(w_wheel.to('rpm'), 3)}\")"
   ]
  },
  {
   "cell_type": "markdown",
   "id": "7e00f768-004d-4893-aa7e-7e9c0a80e07d",
   "metadata": {},
   "source": [
    "### Determine the efficiency of the turbine if the shaft power output is 2100 kW"
   ]
  },
  {
   "cell_type": "code",
   "execution_count": 12,
   "id": "8f058cbb-e5bd-4272-b11e-09ee78c20ef8",
   "metadata": {},
   "outputs": [],
   "source": [
    "W_dot_max = d_water * r * w_wheel * V_dot * \\\n",
    "(v_jet - r * w_wheel)*(1 - math.cos(bucket_angle.to('radians').magnitude))\n",
    "W_dot_max = W_dot_max.to('kW')"
   ]
  },
  {
   "cell_type": "code",
   "execution_count": 13,
   "id": "6dcc4273-cc66-48c9-a497-3d791e372c5d",
   "metadata": {},
   "outputs": [
    {
     "name": "stdout",
     "output_type": "stream",
     "text": [
      "╔══════════════════════════════╗\n",
      "║ Turbine Effeciency = 75.077% ║\n",
      "╚══════════════════════════════╝\n"
     ]
    }
   ],
   "source": [
    "eff = 2100 * ureg.kW / W_dot_max\n",
    "print_msg_box(f\"Turbine Effeciency = {round(eff.magnitude * 100, 3)}%\")"
   ]
  },
  {
   "cell_type": "markdown",
   "id": "efb2db2a-42d6-4af6-a0f1-2aea54753ab0",
   "metadata": {
    "heading_collapsed": "true",
    "tags": []
   },
   "source": [
    "## Question 3: 6-39"
   ]
  },
  {
   "cell_type": "markdown",
   "id": "0d7cd4aa-dccf-4fe6-8bd4-62e0499a7a14",
   "metadata": {},
   "source": [
    "Calculate the turbine specific speed of the turbine in Prob. 6-35. Provide answers in both\n",
    "dimensionless form and in customary U.S. units. Is it in the normal range for an impulse turbine?\n",
    "Use the following values for this turbine: w = 26.47 rad/s, bhp = 2100 kW, H = 322 m, n = 253 rpm"
   ]
  },
  {
   "cell_type": "code",
   "execution_count": 14,
   "id": "18410dec-74be-4efb-bd62-ea32b123db22",
   "metadata": {},
   "outputs": [],
   "source": [
    "w = 26.47 * ureg.radian / ureg.s\n",
    "bhp = 2100 * ureg.kW\n",
    "H = 322 * ureg.m\n",
    "N = 253 * ureg.rpm\n",
    "\n",
    "# w = 17.28 * ureg.radian / ureg.s\n",
    "# bhp = 1.775e8 * ureg.W\n",
    "# H = 90.5 * ureg.m\n",
    "# N = 165 * ureg.rpm"
   ]
  },
  {
   "cell_type": "code",
   "execution_count": 15,
   "id": "fa3ad0fe-bf85-454b-9878-19182a3eb859",
   "metadata": {},
   "outputs": [
    {
     "name": "stdout",
     "output_type": "stream",
     "text": [
      "╔════════════════════════════════════════╗\n",
      "║ N_st = 0.051 dimensionless             ║\n",
      "║ This is a normal impulse turbine range ║\n",
      "╚════════════════════════════════════════╝\n"
     ]
    }
   ],
   "source": [
    "N_st = (w * bhp ** (1/2)) / (d_water ** (1/2) * (g * H) ** (5/4))\n",
    "N_st.to('dimensionless')\n",
    "print_msg_box(f\"N_st = {round(N_st.to('dimensionless'), 3)} \\nThis is a normal impulse turbine range\")\n",
    "# print_msg_box(f\"This is a normal impulse turbine range\")"
   ]
  },
  {
   "cell_type": "code",
   "execution_count": 16,
   "id": "0998ce84-bd40-4333-80a5-0bb01065c262",
   "metadata": {},
   "outputs": [
    {
     "name": "stdout",
     "output_type": "stream",
     "text": [
      "╔═══════════════════════════════════════════════════════════════════════════╗\n",
      "║ N_st_US = 2.229 horsepower ** 0.5 * revolutions_per_minute / foot ** 1.25 ║\n",
      "╚═══════════════════════════════════════════════════════════════════════════╝\n"
     ]
    }
   ],
   "source": [
    "N_st_US = (N * (bhp.to('hp')) ** (1/2)) / (H.to('ft')) ** (5/4)\n",
    "print_msg_box(f\"N_st_US = {round(N_st_US, 3)}\")"
   ]
  }
 ],
 "metadata": {
  "kernelspec": {
   "display_name": "Python 3 (ipykernel)",
   "language": "python",
   "name": "python3"
  },
  "language_info": {
   "codemirror_mode": {
    "name": "ipython",
    "version": 3
   },
   "file_extension": ".py",
   "mimetype": "text/x-python",
   "name": "python",
   "nbconvert_exporter": "python",
   "pygments_lexer": "ipython3",
   "version": "3.9.7"
  }
 },
 "nbformat": 4,
 "nbformat_minor": 5
}
