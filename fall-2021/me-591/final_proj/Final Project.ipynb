{
 "cells": [
  {
   "cell_type": "markdown",
   "id": "cdf3a3a0-0994-49db-b0fe-dcac122fcc1c",
   "metadata": {},
   "source": [
    "# Feasibility and Impact of Converting UA's Surface Parking to Solar Power\n",
    "## Final Project for ME-591\n",
    "\n",
    "Max Schrader"
   ]
  },
  {
   "cell_type": "markdown",
   "id": "40e90936-ff00-483d-8763-8bdd76ee90fc",
   "metadata": {},
   "source": [
    "## Solar Potential Calculation "
   ]
  },
  {
   "cell_type": "markdown",
   "id": "a9a99b5d-c2af-4daa-9e9d-dc92fc2087b3",
   "metadata": {},
   "source": [
    "### Decide on a Brand"
   ]
  },
  {
   "cell_type": "markdown",
   "id": "5f21c630-9804-4ddf-8e63-f20dbd9be634",
   "metadata": {},
   "source": [
    "Once I decide on a brand, I need to determine the solar efficiency of the panels. \n",
    "\n",
    "I should also calculate the installation price and determine if there are federal credits available\n",
    "\n",
    "I reached out to sunpower, should give me ballpark on installation price and which panels they would recommend\n",
    "\n",
    "Also they should tell me the optimal facing"
   ]
  },
  {
   "cell_type": "markdown",
   "id": "41af635c-84aa-468a-a86d-c9845a6412b5",
   "metadata": {},
   "source": [
    "### Determine the installed capabilities"
   ]
  },
  {
   "cell_type": "markdown",
   "id": "05b6a24b-ab92-4018-a79f-d16f564ee148",
   "metadata": {},
   "source": [
    "### Simplistic, from the book"
   ]
  },
  {
   "cell_type": "code",
   "execution_count": 32,
   "id": "39734366-bc47-4abb-a97a-2e42424c494d",
   "metadata": {},
   "outputs": [],
   "source": [
    "import pint\n",
    "import math\n",
    "import numpy as np\n",
    "import pandas as pd\n",
    "import pint_pandas\n",
    "import atlite\n",
    "import logging\n",
    "import geopandas as gpd\n",
    "import plotly.graph_objects as go\n",
    "import plotly.io as pio\n",
    "\n",
    "pio.templates.default = \"ggplot2\"\n",
    "pio.renderers.default = \"plotly_mimetype\"\n",
    "logging.basicConfig(level=logging.INFO)\n",
    "ureg = pint.UnitRegistry(autoconvert_offset_to_baseunit = True)\n",
    "pint_pandas.PintType.ureg = ureg"
   ]
  },
  {
   "cell_type": "markdown",
   "id": "922994f6-d9f3-43c9-9621-e7701cc5e01f",
   "metadata": {},
   "source": [
    "#### Average Daily Solar Radiation on a Horizontal Surface in Selected Cities in the United States\n",
    "\n",
    "Given in $\\frac{MJ}{m^2 \\cdot day}$"
   ]
  },
  {
   "cell_type": "code",
   "execution_count": 2,
   "id": "9d6295e9-5b2b-4c11-954c-7922c565e573",
   "metadata": {},
   "outputs": [],
   "source": [
    "G_solar = list(map(lambda x: x * ureg.MJ / (ureg.m ** 2 * ureg.day), [9.20, 11.92, 13.67, 19.65, 21.58, 22.37, 21.24, 20.21, 17.15, 14.42, 10.22, 8.40]))\n",
    "G_solar = {i + 1: {'G': g, 'D': (30 if i % 2 else 31) * ureg.day} for i, g in enumerate(G_solar)}\n",
    "# Manually Correcting Feb. Days\n",
    "G_solar[2]['D'] = 28 * ureg.day"
   ]
  },
  {
   "cell_type": "code",
   "execution_count": 3,
   "id": "04101310-68bc-4783-b1f6-673201170e6e",
   "metadata": {},
   "outputs": [
    {
     "data": {
      "text/plain": [
       "{1: {'G': 9.2 <Unit('megajoule / day / meter ** 2')>, 'D': 31 <Unit('day')>},\n",
       " 2: {'G': 11.92 <Unit('megajoule / day / meter ** 2')>, 'D': 28 <Unit('day')>},\n",
       " 3: {'G': 13.67 <Unit('megajoule / day / meter ** 2')>, 'D': 31 <Unit('day')>},\n",
       " 4: {'G': 19.65 <Unit('megajoule / day / meter ** 2')>, 'D': 30 <Unit('day')>},\n",
       " 5: {'G': 21.58 <Unit('megajoule / day / meter ** 2')>, 'D': 31 <Unit('day')>},\n",
       " 6: {'G': 22.37 <Unit('megajoule / day / meter ** 2')>, 'D': 30 <Unit('day')>},\n",
       " 7: {'G': 21.24 <Unit('megajoule / day / meter ** 2')>, 'D': 31 <Unit('day')>},\n",
       " 8: {'G': 20.21 <Unit('megajoule / day / meter ** 2')>, 'D': 30 <Unit('day')>},\n",
       " 9: {'G': 17.15 <Unit('megajoule / day / meter ** 2')>, 'D': 31 <Unit('day')>},\n",
       " 10: {'G': 14.42 <Unit('megajoule / day / meter ** 2')>,\n",
       "  'D': 30 <Unit('day')>},\n",
       " 11: {'G': 10.22 <Unit('megajoule / day / meter ** 2')>,\n",
       "  'D': 31 <Unit('day')>},\n",
       " 12: {'G': 8.4 <Unit('megajoule / day / meter ** 2')>, 'D': 30 <Unit('day')>}}"
      ]
     },
     "execution_count": 3,
     "metadata": {},
     "output_type": "execute_result"
    }
   ],
   "source": [
    "G_solar"
   ]
  },
  {
   "cell_type": "markdown",
   "id": "4ff51118-f9ce-4e5d-9184-ef023b3b577b",
   "metadata": {},
   "source": [
    "#### Calculating the Surface Area Available   \n",
    "\n",
    "Using Google Maps, I calculated the surface area of all the considered parking lots"
   ]
  },
  {
   "cell_type": "code",
   "execution_count": 4,
   "id": "2676466b-0e68-4c21-9ca7-4f97949e2876",
   "metadata": {},
   "outputs": [
    {
     "data": {
      "text/html": [
       "<div>\n",
       "<style scoped>\n",
       "    .dataframe tbody tr th:only-of-type {\n",
       "        vertical-align: middle;\n",
       "    }\n",
       "\n",
       "    .dataframe tbody tr th {\n",
       "        vertical-align: top;\n",
       "    }\n",
       "\n",
       "    .dataframe thead th {\n",
       "        text-align: right;\n",
       "    }\n",
       "</style>\n",
       "<table border=\"1\" class=\"dataframe\">\n",
       "  <thead>\n",
       "    <tr style=\"text-align: right;\">\n",
       "      <th></th>\n",
       "      <th>Lot</th>\n",
       "      <th>Area (ft)</th>\n",
       "      <th>Parking Group</th>\n",
       "      <th>Parking Spots</th>\n",
       "      <th>Lat</th>\n",
       "      <th>Lon</th>\n",
       "    </tr>\n",
       "  </thead>\n",
       "  <tbody>\n",
       "    <tr>\n",
       "      <th>0</th>\n",
       "      <td>NE of NE Commuter</td>\n",
       "      <td>234753.94</td>\n",
       "      <td>NE Commuter</td>\n",
       "      <td>NaN</td>\n",
       "      <td>33.214818</td>\n",
       "      <td>-87.532654</td>\n",
       "    </tr>\n",
       "    <tr>\n",
       "      <th>1</th>\n",
       "      <td>Cent. of NE Commuter</td>\n",
       "      <td>206558.77</td>\n",
       "      <td>NE Commuter</td>\n",
       "      <td>NaN</td>\n",
       "      <td>33.214818</td>\n",
       "      <td>-87.532654</td>\n",
       "    </tr>\n",
       "    <tr>\n",
       "      <th>2</th>\n",
       "      <td>S of NE Commuter</td>\n",
       "      <td>112735.93</td>\n",
       "      <td>NE Commuter</td>\n",
       "      <td>NaN</td>\n",
       "      <td>33.213234</td>\n",
       "      <td>-87.533540</td>\n",
       "    </tr>\n",
       "    <tr>\n",
       "      <th>3</th>\n",
       "      <td>Frat of NE Commuter</td>\n",
       "      <td>283463.92</td>\n",
       "      <td>NE Commuter</td>\n",
       "      <td>NaN</td>\n",
       "      <td>33.209185</td>\n",
       "      <td>-87.533937</td>\n",
       "    </tr>\n",
       "    <tr>\n",
       "      <th>4</th>\n",
       "      <td>Cyber Hall Parking</td>\n",
       "      <td>97977.49</td>\n",
       "      <td>Faculty</td>\n",
       "      <td>NaN</td>\n",
       "      <td>33.220687</td>\n",
       "      <td>-87.537042</td>\n",
       "    </tr>\n",
       "  </tbody>\n",
       "</table>\n",
       "</div>"
      ],
      "text/plain": [
       "                    Lot  Area (ft) Parking Group  Parking Spots        Lat  \\\n",
       "0     NE of NE Commuter  234753.94   NE Commuter            NaN  33.214818   \n",
       "1  Cent. of NE Commuter  206558.77   NE Commuter            NaN  33.214818   \n",
       "2      S of NE Commuter  112735.93   NE Commuter            NaN  33.213234   \n",
       "3   Frat of NE Commuter  283463.92   NE Commuter            NaN  33.209185   \n",
       "4    Cyber Hall Parking   97977.49       Faculty            NaN  33.220687   \n",
       "\n",
       "         Lon  \n",
       "0 -87.532654  \n",
       "1 -87.532654  \n",
       "2 -87.533540  \n",
       "3 -87.533937  \n",
       "4 -87.537042  "
      ]
     },
     "execution_count": 4,
     "metadata": {},
     "output_type": "execute_result"
    }
   ],
   "source": [
    "parking_lots = pd.read_csv(\"ParkingLotArea.csv\")\n",
    "parking_lots.head()"
   ]
  },
  {
   "cell_type": "code",
   "execution_count": 5,
   "id": "8da8a9d1-594d-498b-b76e-ab5780f76991",
   "metadata": {},
   "outputs": [],
   "source": [
    "parking_lots['Area (ft)'] = parking_lots['Area (ft)'].astype(\"pint[ft^2]\")"
   ]
  },
  {
   "cell_type": "markdown",
   "id": "43daf1f4-2f8d-4c72-9041-a604fced3aab",
   "metadata": {},
   "source": [
    "#### Calculating the Theoretical Energy per Day"
   ]
  },
  {
   "cell_type": "code",
   "execution_count": 6,
   "id": "f84dce7e-751c-4ba1-970f-23268fba969c",
   "metadata": {},
   "outputs": [],
   "source": [
    "N_pv = 0.19 # the efficiency of SunPower P-series "
   ]
  },
  {
   "cell_type": "code",
   "execution_count": 7,
   "id": "62bf5a46-c2b2-4ca4-adcd-ddb4d58c19da",
   "metadata": {},
   "outputs": [],
   "source": [
    "for month, inner_dict in G_solar.items():\n",
    "    parking_lots[f'P_{month}'] = (parking_lots['Area (ft)']* N_pv * inner_dict['G']).pint.to(\"MJ / day\")"
   ]
  },
  {
   "cell_type": "markdown",
   "id": "a095425e-7d46-4971-a7c7-a77ac54912cf",
   "metadata": {},
   "source": [
    "##### Average Daily per Lot and Total"
   ]
  },
  {
   "cell_type": "code",
   "execution_count": 8,
   "id": "0483e510-2234-4d73-9806-0a55fda52198",
   "metadata": {},
   "outputs": [
    {
     "name": "stderr",
     "output_type": "stream",
     "text": [
      "/Users/max/Development/homework/venv/lib/python3.8/site-packages/pint_pandas/pint_array.py:194: RuntimeWarning: pint-pandas does not support magnitudes of <class 'numpy.int64'>. Converting magnitudes to float.\n",
      "  warnings.warn(\n"
     ]
    }
   ],
   "source": [
    "parking_lots['P_avg'] = 0 \n",
    "parking_lots['P_avg'] = parking_lots['P_avg'].astype('pint[MJ / day]') \n",
    "\n",
    "for month, inner_dict in G_solar.items():\n",
    "    parking_lots['P_avg'] += parking_lots[f'P_{month}'] * inner_dict['D'] / (365 * ureg.day)"
   ]
  },
  {
   "cell_type": "code",
   "execution_count": 9,
   "id": "38e73550-fe34-40d2-b4a5-cb396ee74ec5",
   "metadata": {},
   "outputs": [],
   "source": [
    "parking_lots['P_total'] = (parking_lots['P_avg'] * 365 * ureg.day)"
   ]
  },
  {
   "cell_type": "markdown",
   "id": "f614e3b3-680b-4c63-81d6-c273746a2246",
   "metadata": {},
   "source": [
    "#### Calculating the installed capacity, using the area and Sun Power's Datasheet\n",
    "\n",
    "https://us.sunpower.com/sites/default/files/media-library/data-sheets/ds-sunpower-p17-355-1500v-commercial-solar-panels.pdf\n",
    "\n",
    "The installed capacity is for use below, and thus is not the actually capacity. It is the upper limit of what is possible"
   ]
  },
  {
   "cell_type": "code",
   "execution_count": 10,
   "id": "72a79c71-74ea-4589-a9ad-abaa60296e4e",
   "metadata": {},
   "outputs": [],
   "source": [
    "P_pv = 355 * ureg.watt\n",
    "A_pv = 81.4 * 39.3 * ureg.inch ** 2\n",
    "N_ac_dc = .9\n",
    "N_area = 0.95  # estimating that not all surface area will be covered by panels due to geometry constraints etc."
   ]
  },
  {
   "cell_type": "markdown",
   "id": "ff76063c-7094-441b-ab54-abecff2211d3",
   "metadata": {},
   "source": [
    "##### Determining the number of SunPower P17 Panels that can fit on each surface\n",
    "\n",
    "Used https://pvwatts.nrel.gov/pvwatts.php as a check and it confirms the estimate"
   ]
  },
  {
   "cell_type": "code",
   "execution_count": 11,
   "id": "c00d2cb1-fdd5-4937-a380-044be79751cd",
   "metadata": {},
   "outputs": [
    {
     "name": "stderr",
     "output_type": "stream",
     "text": [
      "/Users/max/Development/homework/venv/lib/python3.8/site-packages/pint_pandas/pint_array.py:648: UnitStrippedWarning: The unit of the quantity is stripped when downcasting to ndarray.\n",
      "  return np.array(qtys, dtype=\"object\", copy=copy)\n"
     ]
    },
    {
     "data": {
      "text/plain": [
       "0    10038\n",
       "1     8833\n",
       "2     4820\n",
       "3    12121\n",
       "4     4189\n",
       "5     4910\n",
       "6     5730\n",
       "7     7924\n",
       "8     9089\n",
       "9     5600\n",
       "Name: # of Panels, dtype: object"
      ]
     },
     "execution_count": 11,
     "metadata": {},
     "output_type": "execute_result"
    }
   ],
   "source": [
    "parking_lots['# of Panels'] = (parking_lots['Area (ft)'] / A_pv * N_area).pint.to('dimensionless')\n",
    "parking_lots['# of Panels'] = np.floor(parking_lots['# of Panels'])\n",
    "parking_lots['# of Panels']"
   ]
  },
  {
   "cell_type": "code",
   "execution_count": 12,
   "id": "327346bf-1b42-425a-a7a3-78cc3655c3f2",
   "metadata": {},
   "outputs": [
    {
     "name": "stderr",
     "output_type": "stream",
     "text": [
      "/Users/max/Development/homework/venv/lib/python3.8/site-packages/pandas/core/construction.py:564: UnitStrippedWarning: The unit of the quantity is stripped when downcasting to ndarray.\n",
      "  data = np.asarray(data)\n"
     ]
    },
    {
     "data": {
      "text/plain": [
       "0              3.207141\n",
       "1    2.8221434999999997\n",
       "2               1.53999\n",
       "3    3.8726594999999997\n",
       "4             1.3383855\n",
       "5    1.5687449999999998\n",
       "6              1.830735\n",
       "7    2.5317179999999997\n",
       "8             2.9039355\n",
       "9                1.7892\n",
       "Name: PV Capacity, dtype: pint[megawatt]"
      ]
     },
     "execution_count": 12,
     "metadata": {},
     "output_type": "execute_result"
    }
   ],
   "source": [
    "parking_lots['PV Capacity'] = parking_lots['# of Panels'] * P_pv * N_ac_dc\n",
    "parking_lots['PV Capacity'] = parking_lots['PV Capacity'].astype('pint[W]')\n",
    "parking_lots['PV Capacity'] = parking_lots['PV Capacity'].pint.to('MW')\n",
    "parking_lots['PV Capacity']"
   ]
  },
  {
   "cell_type": "code",
   "execution_count": 13,
   "id": "9efd12b5-80e5-49e1-8f94-1e8e015ae7f5",
   "metadata": {},
   "outputs": [
    {
     "data": {
      "text/html": [
       "23.404653 megawatt"
      ],
      "text/latex": [
       "$23.404653\\ \\mathrm{megawatt}$"
      ],
      "text/plain": [
       "23.404653 <Unit('megawatt')>"
      ]
     },
     "execution_count": 13,
     "metadata": {},
     "output_type": "execute_result"
    }
   ],
   "source": [
    "parking_lots['PV Capacity'].sum()"
   ]
  },
  {
   "cell_type": "markdown",
   "id": "f185f18b-2c92-44fd-9d52-9ec23abbac6f",
   "metadata": {
    "tags": []
   },
   "source": [
    "## Complicated Capacity Estimate"
   ]
  },
  {
   "cell_type": "code",
   "execution_count": 14,
   "id": "575dbd1f-5e22-4e96-be1b-f50a6b4620da",
   "metadata": {},
   "outputs": [],
   "source": [
    "bl = 32.988320041698074, -87.79145924201974\n",
    "tr = 33.473235950702524, -87.32768306322347"
   ]
  },
  {
   "cell_type": "markdown",
   "id": "fe5810cf-f2fd-4eac-9305-5956b7543064",
   "metadata": {},
   "source": [
    "#### Using the ERA5 Dataset"
   ]
  },
  {
   "cell_type": "code",
   "execution_count": 17,
   "id": "0d91ebd2-7382-42bc-b470-76d0eb8b3861",
   "metadata": {},
   "outputs": [
    {
     "name": "stderr",
     "output_type": "stream",
     "text": [
      "INFO:atlite.cutout:Building new cutout Alabama.nc\n"
     ]
    }
   ],
   "source": [
    "cutout = atlite.Cutout(path=\"Alabama.nc\",\n",
    "                       module=\"era5\",\n",
    "                       x=slice(bl[1], tr[1]),\n",
    "                       y=slice(bl[0], tr[0]),\n",
    "                       time=\"2015\"  # \"2018-12\")\n",
    "                       )"
   ]
  },
  {
   "cell_type": "code",
   "execution_count": 18,
   "id": "4cfa6b49-0738-4155-ad94-31327464c8fe",
   "metadata": {},
   "outputs": [
    {
     "name": "stderr",
     "output_type": "stream",
     "text": [
      "INFO:atlite.data:Storing temporary files in /var/folders/96/_9h8bqbx4gqcmb4td8q57q8w0000gn/T/tmpevy89s_d\n",
      "INFO:atlite.data:Calculating and writing with module era5:\n",
      "INFO:atlite.datasets.era5:Requesting data for feature wind...\n",
      "INFO:atlite.datasets.era5:Requesting data for feature temperature...\n",
      "INFO:atlite.datasets.era5:Requesting data for feature height...\n",
      "INFO:atlite.datasets.era5:CDS: Downloading variables\n",
      "\t * geopotential (2015)\n",
      "\n",
      "INFO:atlite.datasets.era5:CDS: Downloading variables                                                                                                                                                                                                                         \n",
      "\t * 2m_temperature (2015)\n",
      "\t * soil_temperature_level_4 (2015)\n",
      "\n",
      "INFO:atlite.datasets.era5:Requesting data for feature runoff...\n",
      "INFO:atlite.datasets.era5:CDS: Downloading variables                                                                                                                                                                                                                         \n",
      "\t * 100m_u_component_of_wind (2015)\n",
      "\t * 100m_v_component_of_wind (2015)\n",
      "\t * forecast_surface_roughness (2015)\n",
      "\n",
      "INFO:atlite.datasets.era5:Requesting data for feature influx...\n",
      "INFO:atlite.datasets.era5:CDS: Downloading variables                                                                                                                                                                                                                         \n",
      "\t * runoff (2015)\n",
      "\n",
      "INFO:atlite.datasets.era5:CDS: Downloading variables                                                                                                                                                                                                                         \n",
      "\t * surface_net_solar_radiation (2015)\n",
      "\t * surface_solar_radiation_downwards (2015)\n",
      "\t * toa_incident_solar_radiation (2015)\n",
      "\t * total_sky_direct_solar_radiation_at_surface (2015)\n",
      "\n",
      "                                                                                                                                                                                                                                                                             \r"
     ]
    },
    {
     "name": "stdout",
     "output_type": "stream",
     "text": [
      "[########################################] | 100% Completed |  1.4s\n"
     ]
    },
    {
     "data": {
      "text/plain": [
       "<Cutout \"Alabama\">\n",
       " x = -87.75 ⟷ -87.50, dx = 0.25\n",
       " y = 33.00 ⟷ 33.25, dy = 0.25\n",
       " time = 2015-01-01 ⟷ 2015-12-31, dt = H\n",
       " module = era5\n",
       " prepared_features = ['height', 'wind', 'influx', 'temperature', 'runoff']"
      ]
     },
     "execution_count": 18,
     "metadata": {},
     "output_type": "execute_result"
    }
   ],
   "source": [
    "cutout.prepare()"
   ]
  },
  {
   "cell_type": "code",
   "execution_count": 19,
   "id": "62afa1b9-f07d-4938-ac08-2ffc72b30cfd",
   "metadata": {},
   "outputs": [
    {
     "name": "stderr",
     "output_type": "stream",
     "text": [
      "WARNING:atlite.cutout:The order of elements returned by `grid_coordinates` changed. Check the output of your workflow for correctness.\n",
      "WARNING:atlite.cutout:The order of elements returned by `grid_coordinates` changed. Check the output of your workflow for correctness.\n"
     ]
    }
   ],
   "source": [
    "cells = gpd.GeoDataFrame({'geometry': cutout.grid_cells,\n",
    "                          'lon': cutout.grid_coordinates()[:,0],\n",
    "                          'lat': cutout.grid_coordinates()[:,1]})"
   ]
  },
  {
   "cell_type": "code",
   "execution_count": 20,
   "id": "64d5a491-4b21-4c45-a8f8-f68b2c27b689",
   "metadata": {},
   "outputs": [],
   "source": [
    "nearest_cell = cutout.data.sel({'x': parking_lots.Lon.values,\n",
    "                                'y': parking_lots.Lat.values},\n",
    "                               'nearest').coords"
   ]
  },
  {
   "cell_type": "code",
   "execution_count": 21,
   "id": "518ac2e9-2c7f-4abd-a399-8a03ca99287e",
   "metadata": {},
   "outputs": [],
   "source": [
    "# Map capacities to closest cell coordinate\n",
    "parking_lots['lon'] = nearest_cell.get('lon').values\n",
    "parking_lots['lat'] = nearest_cell.get('lat').values"
   ]
  },
  {
   "cell_type": "code",
   "execution_count": 22,
   "id": "d7210921-1df4-43c3-8c0d-c9800277abf4",
   "metadata": {},
   "outputs": [],
   "source": [
    "parking_lots['PV Capacity'] = parking_lots['PV Capacity'].pint.magnitude"
   ]
  },
  {
   "cell_type": "code",
   "execution_count": 23,
   "id": "663ce9b9-6a6a-4b66-a16d-4aaf9afebc7c",
   "metadata": {},
   "outputs": [],
   "source": [
    "new_data = parking_lots.merge(cells, how='inner')\n",
    "\n",
    "# Sum capacities for each grid cell (lat, lon)\n",
    "# then: restore lat lon as coumns\n",
    "# then: rename and reindex to match cutout coordinates\n",
    "new_data = new_data.groupby(['lon','lat']).sum()\n",
    "\n",
    "layout = new_data.reset_index().rename(columns={'lat':'y','lon':'x'})\\\n",
    "                    .set_index(['y','x'])['PV Capacity']\\\n",
    "                    .to_xarray().reindex_like(cutout.data)\n",
    "\n",
    "layout = layout.fillna(.0).rename('Installed Capacity [MW]')"
   ]
  },
  {
   "cell_type": "code",
   "execution_count": 24,
   "id": "d5e15e41-0eff-40e3-84b0-bd4358633f71",
   "metadata": {},
   "outputs": [
    {
     "name": "stderr",
     "output_type": "stream",
     "text": [
      "INFO:atlite.convert:Convert and aggregate 'pv'.\n"
     ]
    }
   ],
   "source": [
    "pv = cutout.pv(panel=\"CSi\", orientation='latitude_optimal', layout=layout)"
   ]
  },
  {
   "cell_type": "code",
   "execution_count": null,
   "id": "81d26f4a-2946-4c4a-93c2-f71b3d636998",
   "metadata": {},
   "outputs": [],
   "source": [
    "# pv.squeeze()"
   ]
  },
  {
   "cell_type": "code",
   "execution_count": 28,
   "id": "9f804b66-079e-4ab0-ba5c-fccd343d3f6e",
   "metadata": {},
   "outputs": [
    {
     "data": {
      "text/plain": [
       "DatetimeIndex(['2015-01-01 00:00:00', '2015-01-01 01:00:00',\n",
       "               '2015-01-01 02:00:00', '2015-01-01 03:00:00',\n",
       "               '2015-01-01 04:00:00', '2015-01-01 05:00:00',\n",
       "               '2015-01-01 06:00:00', '2015-01-01 07:00:00',\n",
       "               '2015-01-01 08:00:00', '2015-01-01 09:00:00',\n",
       "               ...\n",
       "               '2015-12-31 14:00:00', '2015-12-31 15:00:00',\n",
       "               '2015-12-31 16:00:00', '2015-12-31 17:00:00',\n",
       "               '2015-12-31 18:00:00', '2015-12-31 19:00:00',\n",
       "               '2015-12-31 20:00:00', '2015-12-31 21:00:00',\n",
       "               '2015-12-31 22:00:00', '2015-12-31 23:00:00'],\n",
       "              dtype='datetime64[ns]', name='time', length=8760, freq=None)"
      ]
     },
     "execution_count": 28,
     "metadata": {},
     "output_type": "execute_result"
    }
   ],
   "source": [
    "pv.squeeze().to_series().index"
   ]
  },
  {
   "cell_type": "markdown",
   "id": "ca2a2d38-6724-4f21-a080-05ac7a2ea194",
   "metadata": {},
   "source": [
    "### Plotting Solar"
   ]
  },
  {
   "cell_type": "markdown",
   "id": "c151a984-2a50-4e41-bf00-07f28f6fcaa6",
   "metadata": {},
   "source": [
    "#### Average Weekly Power"
   ]
  },
  {
   "cell_type": "code",
   "execution_count": 38,
   "id": "61a1a260-6e8a-4baf-8648-9883dd7316f7",
   "metadata": {},
   "outputs": [
    {
     "data": {
      "application/vnd.plotly.v1+json": {
       "config": {
        "plotlyServerURL": "https://plot.ly"
       },
       "data": [
        {
         "type": "scatter",
         "x": [
          "2015-01-04T00:00:00",
          "2015-01-11T00:00:00",
          "2015-01-18T00:00:00",
          "2015-01-25T00:00:00",
          "2015-02-01T00:00:00",
          "2015-02-08T00:00:00",
          "2015-02-15T00:00:00",
          "2015-02-22T00:00:00",
          "2015-03-01T00:00:00",
          "2015-03-08T00:00:00",
          "2015-03-15T00:00:00",
          "2015-03-22T00:00:00",
          "2015-03-29T00:00:00",
          "2015-04-05T00:00:00",
          "2015-04-12T00:00:00",
          "2015-04-19T00:00:00",
          "2015-04-26T00:00:00",
          "2015-05-03T00:00:00",
          "2015-05-10T00:00:00",
          "2015-05-17T00:00:00",
          "2015-05-24T00:00:00",
          "2015-05-31T00:00:00",
          "2015-06-07T00:00:00",
          "2015-06-14T00:00:00",
          "2015-06-21T00:00:00",
          "2015-06-28T00:00:00",
          "2015-07-05T00:00:00",
          "2015-07-12T00:00:00",
          "2015-07-19T00:00:00",
          "2015-07-26T00:00:00",
          "2015-08-02T00:00:00",
          "2015-08-09T00:00:00",
          "2015-08-16T00:00:00",
          "2015-08-23T00:00:00",
          "2015-08-30T00:00:00",
          "2015-09-06T00:00:00",
          "2015-09-13T00:00:00",
          "2015-09-20T00:00:00",
          "2015-09-27T00:00:00",
          "2015-10-04T00:00:00",
          "2015-10-11T00:00:00",
          "2015-10-18T00:00:00",
          "2015-10-25T00:00:00",
          "2015-11-01T00:00:00",
          "2015-11-08T00:00:00",
          "2015-11-15T00:00:00",
          "2015-11-22T00:00:00",
          "2015-11-29T00:00:00",
          "2015-12-06T00:00:00",
          "2015-12-13T00:00:00",
          "2015-12-20T00:00:00",
          "2015-12-27T00:00:00",
          "2016-01-03T00:00:00"
         ],
         "y": [
          1.045569582605862,
          3.6383064012607056,
          2.433382573898113,
          3.513969884724384,
          4.159555939958177,
          4.099916459849384,
          4.628207779172241,
          2.789558311852511,
          3.3231899978039596,
          3.0143202496238715,
          1.8928762645869668,
          3.4704150602174884,
          3.602499074411828,
          4.056751446652751,
          3.2435587860441264,
          2.2059759254843105,
          4.584185649202882,
          5.164918175873229,
          4.931491921412055,
          4.2600070094659825,
          4.969447789781911,
          3.7889832338628326,
          4.939774162110099,
          4.607594082915715,
          5.069950332267519,
          4.726012742255516,
          3.487893017470055,
          5.099312365730395,
          4.895363014200571,
          4.6191031421265185,
          5.019204531441272,
          4.791104589345595,
          4.729168830208242,
          3.36037632471294,
          4.936517667578241,
          4.623920125915547,
          4.728545244981297,
          4.33858020652391,
          3.262349891736786,
          1.8692455544750972,
          3.552440588952648,
          5.2197878452284865,
          3.6380004072734726,
          1.7772739837259983,
          1.5260137224429715,
          3.381608673181068,
          3.257410197417963,
          3.054991189713403,
          2.6293627354852527,
          2.752345662779226,
          3.5730711115300937,
          0.972209047632035,
          1.900630878082459
         ]
        }
       ],
       "layout": {
        "autosize": true,
        "margin": {
         "b": 20,
         "l": 20,
         "r": 20,
         "t": 20
        },
        "template": {
         "data": {
          "bar": [
           {
            "error_x": {
             "color": "rgb(51,51,51)"
            },
            "error_y": {
             "color": "rgb(51,51,51)"
            },
            "marker": {
             "line": {
              "color": "rgb(237,237,237)",
              "width": 0.5
             },
             "pattern": {
              "fillmode": "overlay",
              "size": 10,
              "solidity": 0.2
             }
            },
            "type": "bar"
           }
          ],
          "barpolar": [
           {
            "marker": {
             "line": {
              "color": "rgb(237,237,237)",
              "width": 0.5
             },
             "pattern": {
              "fillmode": "overlay",
              "size": 10,
              "solidity": 0.2
             }
            },
            "type": "barpolar"
           }
          ],
          "carpet": [
           {
            "aaxis": {
             "endlinecolor": "rgb(51,51,51)",
             "gridcolor": "white",
             "linecolor": "white",
             "minorgridcolor": "white",
             "startlinecolor": "rgb(51,51,51)"
            },
            "baxis": {
             "endlinecolor": "rgb(51,51,51)",
             "gridcolor": "white",
             "linecolor": "white",
             "minorgridcolor": "white",
             "startlinecolor": "rgb(51,51,51)"
            },
            "type": "carpet"
           }
          ],
          "choropleth": [
           {
            "colorbar": {
             "outlinewidth": 0,
             "tickcolor": "rgb(237,237,237)",
             "ticklen": 6,
             "ticks": "inside"
            },
            "type": "choropleth"
           }
          ],
          "contour": [
           {
            "colorbar": {
             "outlinewidth": 0,
             "tickcolor": "rgb(237,237,237)",
             "ticklen": 6,
             "ticks": "inside"
            },
            "colorscale": [
             [
              0,
              "rgb(20,44,66)"
             ],
             [
              1,
              "rgb(90,179,244)"
             ]
            ],
            "type": "contour"
           }
          ],
          "contourcarpet": [
           {
            "colorbar": {
             "outlinewidth": 0,
             "tickcolor": "rgb(237,237,237)",
             "ticklen": 6,
             "ticks": "inside"
            },
            "type": "contourcarpet"
           }
          ],
          "heatmap": [
           {
            "colorbar": {
             "outlinewidth": 0,
             "tickcolor": "rgb(237,237,237)",
             "ticklen": 6,
             "ticks": "inside"
            },
            "colorscale": [
             [
              0,
              "rgb(20,44,66)"
             ],
             [
              1,
              "rgb(90,179,244)"
             ]
            ],
            "type": "heatmap"
           }
          ],
          "heatmapgl": [
           {
            "colorbar": {
             "outlinewidth": 0,
             "tickcolor": "rgb(237,237,237)",
             "ticklen": 6,
             "ticks": "inside"
            },
            "colorscale": [
             [
              0,
              "rgb(20,44,66)"
             ],
             [
              1,
              "rgb(90,179,244)"
             ]
            ],
            "type": "heatmapgl"
           }
          ],
          "histogram": [
           {
            "marker": {
             "pattern": {
              "fillmode": "overlay",
              "size": 10,
              "solidity": 0.2
             }
            },
            "type": "histogram"
           }
          ],
          "histogram2d": [
           {
            "colorbar": {
             "outlinewidth": 0,
             "tickcolor": "rgb(237,237,237)",
             "ticklen": 6,
             "ticks": "inside"
            },
            "colorscale": [
             [
              0,
              "rgb(20,44,66)"
             ],
             [
              1,
              "rgb(90,179,244)"
             ]
            ],
            "type": "histogram2d"
           }
          ],
          "histogram2dcontour": [
           {
            "colorbar": {
             "outlinewidth": 0,
             "tickcolor": "rgb(237,237,237)",
             "ticklen": 6,
             "ticks": "inside"
            },
            "colorscale": [
             [
              0,
              "rgb(20,44,66)"
             ],
             [
              1,
              "rgb(90,179,244)"
             ]
            ],
            "type": "histogram2dcontour"
           }
          ],
          "mesh3d": [
           {
            "colorbar": {
             "outlinewidth": 0,
             "tickcolor": "rgb(237,237,237)",
             "ticklen": 6,
             "ticks": "inside"
            },
            "type": "mesh3d"
           }
          ],
          "parcoords": [
           {
            "line": {
             "colorbar": {
              "outlinewidth": 0,
              "tickcolor": "rgb(237,237,237)",
              "ticklen": 6,
              "ticks": "inside"
             }
            },
            "type": "parcoords"
           }
          ],
          "pie": [
           {
            "automargin": true,
            "type": "pie"
           }
          ],
          "scatter": [
           {
            "marker": {
             "colorbar": {
              "outlinewidth": 0,
              "tickcolor": "rgb(237,237,237)",
              "ticklen": 6,
              "ticks": "inside"
             }
            },
            "type": "scatter"
           }
          ],
          "scatter3d": [
           {
            "line": {
             "colorbar": {
              "outlinewidth": 0,
              "tickcolor": "rgb(237,237,237)",
              "ticklen": 6,
              "ticks": "inside"
             }
            },
            "marker": {
             "colorbar": {
              "outlinewidth": 0,
              "tickcolor": "rgb(237,237,237)",
              "ticklen": 6,
              "ticks": "inside"
             }
            },
            "type": "scatter3d"
           }
          ],
          "scattercarpet": [
           {
            "marker": {
             "colorbar": {
              "outlinewidth": 0,
              "tickcolor": "rgb(237,237,237)",
              "ticklen": 6,
              "ticks": "inside"
             }
            },
            "type": "scattercarpet"
           }
          ],
          "scattergeo": [
           {
            "marker": {
             "colorbar": {
              "outlinewidth": 0,
              "tickcolor": "rgb(237,237,237)",
              "ticklen": 6,
              "ticks": "inside"
             }
            },
            "type": "scattergeo"
           }
          ],
          "scattergl": [
           {
            "marker": {
             "colorbar": {
              "outlinewidth": 0,
              "tickcolor": "rgb(237,237,237)",
              "ticklen": 6,
              "ticks": "inside"
             }
            },
            "type": "scattergl"
           }
          ],
          "scattermapbox": [
           {
            "marker": {
             "colorbar": {
              "outlinewidth": 0,
              "tickcolor": "rgb(237,237,237)",
              "ticklen": 6,
              "ticks": "inside"
             }
            },
            "type": "scattermapbox"
           }
          ],
          "scatterpolar": [
           {
            "marker": {
             "colorbar": {
              "outlinewidth": 0,
              "tickcolor": "rgb(237,237,237)",
              "ticklen": 6,
              "ticks": "inside"
             }
            },
            "type": "scatterpolar"
           }
          ],
          "scatterpolargl": [
           {
            "marker": {
             "colorbar": {
              "outlinewidth": 0,
              "tickcolor": "rgb(237,237,237)",
              "ticklen": 6,
              "ticks": "inside"
             }
            },
            "type": "scatterpolargl"
           }
          ],
          "scatterternary": [
           {
            "marker": {
             "colorbar": {
              "outlinewidth": 0,
              "tickcolor": "rgb(237,237,237)",
              "ticklen": 6,
              "ticks": "inside"
             }
            },
            "type": "scatterternary"
           }
          ],
          "surface": [
           {
            "colorbar": {
             "outlinewidth": 0,
             "tickcolor": "rgb(237,237,237)",
             "ticklen": 6,
             "ticks": "inside"
            },
            "colorscale": [
             [
              0,
              "rgb(20,44,66)"
             ],
             [
              1,
              "rgb(90,179,244)"
             ]
            ],
            "type": "surface"
           }
          ],
          "table": [
           {
            "cells": {
             "fill": {
              "color": "rgb(237,237,237)"
             },
             "line": {
              "color": "white"
             }
            },
            "header": {
             "fill": {
              "color": "rgb(217,217,217)"
             },
             "line": {
              "color": "white"
             }
            },
            "type": "table"
           }
          ]
         },
         "layout": {
          "annotationdefaults": {
           "arrowhead": 0,
           "arrowwidth": 1
          },
          "autotypenumbers": "strict",
          "coloraxis": {
           "colorbar": {
            "outlinewidth": 0,
            "tickcolor": "rgb(237,237,237)",
            "ticklen": 6,
            "ticks": "inside"
           }
          },
          "colorscale": {
           "sequential": [
            [
             0,
             "rgb(20,44,66)"
            ],
            [
             1,
             "rgb(90,179,244)"
            ]
           ],
           "sequentialminus": [
            [
             0,
             "rgb(20,44,66)"
            ],
            [
             1,
             "rgb(90,179,244)"
            ]
           ]
          },
          "colorway": [
           "#F8766D",
           "#A3A500",
           "#00BF7D",
           "#00B0F6",
           "#E76BF3"
          ],
          "font": {
           "color": "rgb(51,51,51)"
          },
          "geo": {
           "bgcolor": "white",
           "lakecolor": "white",
           "landcolor": "rgb(237,237,237)",
           "showlakes": true,
           "showland": true,
           "subunitcolor": "white"
          },
          "hoverlabel": {
           "align": "left"
          },
          "hovermode": "closest",
          "paper_bgcolor": "white",
          "plot_bgcolor": "rgb(237,237,237)",
          "polar": {
           "angularaxis": {
            "gridcolor": "white",
            "linecolor": "white",
            "showgrid": true,
            "tickcolor": "rgb(51,51,51)",
            "ticks": "outside"
           },
           "bgcolor": "rgb(237,237,237)",
           "radialaxis": {
            "gridcolor": "white",
            "linecolor": "white",
            "showgrid": true,
            "tickcolor": "rgb(51,51,51)",
            "ticks": "outside"
           }
          },
          "scene": {
           "xaxis": {
            "backgroundcolor": "rgb(237,237,237)",
            "gridcolor": "white",
            "gridwidth": 2,
            "linecolor": "white",
            "showbackground": true,
            "showgrid": true,
            "tickcolor": "rgb(51,51,51)",
            "ticks": "outside",
            "zerolinecolor": "white"
           },
           "yaxis": {
            "backgroundcolor": "rgb(237,237,237)",
            "gridcolor": "white",
            "gridwidth": 2,
            "linecolor": "white",
            "showbackground": true,
            "showgrid": true,
            "tickcolor": "rgb(51,51,51)",
            "ticks": "outside",
            "zerolinecolor": "white"
           },
           "zaxis": {
            "backgroundcolor": "rgb(237,237,237)",
            "gridcolor": "white",
            "gridwidth": 2,
            "linecolor": "white",
            "showbackground": true,
            "showgrid": true,
            "tickcolor": "rgb(51,51,51)",
            "ticks": "outside",
            "zerolinecolor": "white"
           }
          },
          "shapedefaults": {
           "fillcolor": "black",
           "line": {
            "width": 0
           },
           "opacity": 0.3
          },
          "ternary": {
           "aaxis": {
            "gridcolor": "white",
            "linecolor": "white",
            "showgrid": true,
            "tickcolor": "rgb(51,51,51)",
            "ticks": "outside"
           },
           "baxis": {
            "gridcolor": "white",
            "linecolor": "white",
            "showgrid": true,
            "tickcolor": "rgb(51,51,51)",
            "ticks": "outside"
           },
           "bgcolor": "rgb(237,237,237)",
           "caxis": {
            "gridcolor": "white",
            "linecolor": "white",
            "showgrid": true,
            "tickcolor": "rgb(51,51,51)",
            "ticks": "outside"
           }
          },
          "xaxis": {
           "automargin": true,
           "gridcolor": "white",
           "linecolor": "white",
           "showgrid": true,
           "tickcolor": "rgb(51,51,51)",
           "ticks": "outside",
           "title": {
            "standoff": 15
           },
           "zerolinecolor": "white"
          },
          "yaxis": {
           "automargin": true,
           "gridcolor": "white",
           "linecolor": "white",
           "showgrid": true,
           "tickcolor": "rgb(51,51,51)",
           "ticks": "outside",
           "title": {
            "standoff": 15
           },
           "zerolinecolor": "white"
          }
         }
        },
        "xaxis": {
         "autorange": true,
         "range": [
          "2015-01-04",
          "2016-01-03"
         ],
         "type": "date",
         "zeroline": true,
         "zerolinecolor": "#969696"
        },
        "yaxis": {
         "autorange": true,
         "range": [
          0.7362324477655654,
          5.455764445094956
         ],
         "title": {
          "text": "Average Solar Power [MW]"
         },
         "type": "linear",
         "zeroline": true,
         "zerolinecolor": "#969696"
        }
       }
      },
      "image/png": "[encoded data removed]"
     },
     "metadata": {},
     "output_type": "display_data"
    }
   ],
   "source": [
    "fig = go.Figure()\n",
    "weekly = pv.squeeze().to_series().resample('1W').mean()\n",
    "fig.add_trace(go.Scatter(x=weekly.index, y=weekly.values))\n",
    "fig.update_layout(\n",
    "    margin=dict(l=20, r=20, b=20, t=20),\n",
    "    # height=600, width=600,\n",
    "    # yaxis=dict(scaleanchor=\"x\", scaleratio=1),\n",
    "    xaxis_zeroline=True,\n",
    "    yaxis_zeroline=True,\n",
    "    xaxis_zerolinecolor='#969696',\n",
    "    yaxis_zerolinecolor='#969696',\n",
    "    yaxis_title=\"Average Solar Power [MW]\",\n",
    "    # xaxis_title=\"Time [s]\"\n",
    "    # xaxis_range=[-25, 25],\n",
    "    # yaxis_range=[-25, 25],\n",
    ")"
   ]
  },
  {
   "cell_type": "markdown",
   "id": "eb6da311-c212-4ab9-aa0e-dce4bfe49841",
   "metadata": {},
   "source": [
    "### Daily in May"
   ]
  },
  {
   "cell_type": "code",
   "execution_count": 40,
   "id": "fca069f7-5723-4936-b09b-ede37348ae5e",
   "metadata": {},
   "outputs": [],
   "source": [
    "atlite_solar_power = pv.squeeze().to_series()"
   ]
  },
  {
   "cell_type": "code",
   "execution_count": 43,
   "id": "97b45a30-c558-4ab0-a498-535b747cf673",
   "metadata": {},
   "outputs": [
    {
     "data": {
      "application/vnd.plotly.v1+json": {
       "config": {
        "plotlyServerURL": "https://plot.ly"
       },
       "data": [
        {
         "type": "scatter",
         "x": [
          "2015-05-01T00:00:00",
          "2015-05-01T01:00:00",
          "2015-05-01T02:00:00",
          "2015-05-01T03:00:00",
          "2015-05-01T04:00:00",
          "2015-05-01T05:00:00",
          "2015-05-01T06:00:00",
          "2015-05-01T07:00:00",
          "2015-05-01T08:00:00",
          "2015-05-01T09:00:00",
          "2015-05-01T10:00:00",
          "2015-05-01T11:00:00",
          "2015-05-01T12:00:00",
          "2015-05-01T13:00:00",
          "2015-05-01T14:00:00",
          "2015-05-01T15:00:00",
          "2015-05-01T16:00:00",
          "2015-05-01T17:00:00",
          "2015-05-01T18:00:00",
          "2015-05-01T19:00:00",
          "2015-05-01T20:00:00",
          "2015-05-01T21:00:00",
          "2015-05-01T22:00:00",
          "2015-05-01T23:00:00",
          "2015-05-02T00:00:00",
          "2015-05-02T01:00:00",
          "2015-05-02T02:00:00",
          "2015-05-02T03:00:00",
          "2015-05-02T04:00:00",
          "2015-05-02T05:00:00",
          "2015-05-02T06:00:00",
          "2015-05-02T07:00:00",
          "2015-05-02T08:00:00",
          "2015-05-02T09:00:00",
          "2015-05-02T10:00:00",
          "2015-05-02T11:00:00",
          "2015-05-02T12:00:00",
          "2015-05-02T13:00:00",
          "2015-05-02T14:00:00",
          "2015-05-02T15:00:00",
          "2015-05-02T16:00:00",
          "2015-05-02T17:00:00",
          "2015-05-02T18:00:00",
          "2015-05-02T19:00:00",
          "2015-05-02T20:00:00",
          "2015-05-02T21:00:00",
          "2015-05-02T22:00:00",
          "2015-05-02T23:00:00",
          "2015-05-03T00:00:00",
          "2015-05-03T01:00:00",
          "2015-05-03T02:00:00",
          "2015-05-03T03:00:00",
          "2015-05-03T04:00:00",
          "2015-05-03T05:00:00",
          "2015-05-03T06:00:00",
          "2015-05-03T07:00:00",
          "2015-05-03T08:00:00",
          "2015-05-03T09:00:00",
          "2015-05-03T10:00:00",
          "2015-05-03T11:00:00",
          "2015-05-03T12:00:00",
          "2015-05-03T13:00:00",
          "2015-05-03T14:00:00",
          "2015-05-03T15:00:00",
          "2015-05-03T16:00:00",
          "2015-05-03T17:00:00",
          "2015-05-03T18:00:00",
          "2015-05-03T19:00:00",
          "2015-05-03T20:00:00",
          "2015-05-03T21:00:00",
          "2015-05-03T22:00:00",
          "2015-05-03T23:00:00",
          "2015-05-04T00:00:00",
          "2015-05-04T01:00:00",
          "2015-05-04T02:00:00",
          "2015-05-04T03:00:00",
          "2015-05-04T04:00:00",
          "2015-05-04T05:00:00",
          "2015-05-04T06:00:00",
          "2015-05-04T07:00:00",
          "2015-05-04T08:00:00",
          "2015-05-04T09:00:00",
          "2015-05-04T10:00:00",
          "2015-05-04T11:00:00",
          "2015-05-04T12:00:00",
          "2015-05-04T13:00:00",
          "2015-05-04T14:00:00",
          "2015-05-04T15:00:00",
          "2015-05-04T16:00:00",
          "2015-05-04T17:00:00",
          "2015-05-04T18:00:00",
          "2015-05-04T19:00:00",
          "2015-05-04T20:00:00",
          "2015-05-04T21:00:00",
          "2015-05-04T22:00:00",
          "2015-05-04T23:00:00",
          "2015-05-05T00:00:00",
          "2015-05-05T01:00:00",
          "2015-05-05T02:00:00",
          "2015-05-05T03:00:00",
          "2015-05-05T04:00:00",
          "2015-05-05T05:00:00",
          "2015-05-05T06:00:00",
          "2015-05-05T07:00:00",
          "2015-05-05T08:00:00",
          "2015-05-05T09:00:00",
          "2015-05-05T10:00:00",
          "2015-05-05T11:00:00",
          "2015-05-05T12:00:00",
          "2015-05-05T13:00:00",
          "2015-05-05T14:00:00",
          "2015-05-05T15:00:00",
          "2015-05-05T16:00:00",
          "2015-05-05T17:00:00",
          "2015-05-05T18:00:00",
          "2015-05-05T19:00:00",
          "2015-05-05T20:00:00",
          "2015-05-05T21:00:00",
          "2015-05-05T22:00:00",
          "2015-05-05T23:00:00",
          "2015-05-06T00:00:00",
          "2015-05-06T01:00:00",
          "2015-05-06T02:00:00",
          "2015-05-06T03:00:00",
          "2015-05-06T04:00:00",
          "2015-05-06T05:00:00",
          "2015-05-06T06:00:00",
          "2015-05-06T07:00:00",
          "2015-05-06T08:00:00",
          "2015-05-06T09:00:00",
          "2015-05-06T10:00:00",
          "2015-05-06T11:00:00",
          "2015-05-06T12:00:00",
          "2015-05-06T13:00:00",
          "2015-05-06T14:00:00",
          "2015-05-06T15:00:00",
          "2015-05-06T16:00:00",
          "2015-05-06T17:00:00",
          "2015-05-06T18:00:00",
          "2015-05-06T19:00:00",
          "2015-05-06T20:00:00",
          "2015-05-06T21:00:00",
          "2015-05-06T22:00:00",
          "2015-05-06T23:00:00",
          "2015-05-07T00:00:00",
          "2015-05-07T01:00:00",
          "2015-05-07T02:00:00",
          "2015-05-07T03:00:00",
          "2015-05-07T04:00:00",
          "2015-05-07T05:00:00",
          "2015-05-07T06:00:00",
          "2015-05-07T07:00:00",
          "2015-05-07T08:00:00",
          "2015-05-07T09:00:00",
          "2015-05-07T10:00:00",
          "2015-05-07T11:00:00",
          "2015-05-07T12:00:00",
          "2015-05-07T13:00:00",
          "2015-05-07T14:00:00",
          "2015-05-07T15:00:00",
          "2015-05-07T16:00:00",
          "2015-05-07T17:00:00",
          "2015-05-07T18:00:00",
          "2015-05-07T19:00:00",
          "2015-05-07T20:00:00",
          "2015-05-07T21:00:00",
          "2015-05-07T22:00:00",
          "2015-05-07T23:00:00",
          "2015-05-08T00:00:00",
          "2015-05-08T01:00:00",
          "2015-05-08T02:00:00",
          "2015-05-08T03:00:00",
          "2015-05-08T04:00:00",
          "2015-05-08T05:00:00",
          "2015-05-08T06:00:00",
          "2015-05-08T07:00:00",
          "2015-05-08T08:00:00",
          "2015-05-08T09:00:00",
          "2015-05-08T10:00:00",
          "2015-05-08T11:00:00",
          "2015-05-08T12:00:00",
          "2015-05-08T13:00:00",
          "2015-05-08T14:00:00",
          "2015-05-08T15:00:00",
          "2015-05-08T16:00:00",
          "2015-05-08T17:00:00",
          "2015-05-08T18:00:00",
          "2015-05-08T19:00:00",
          "2015-05-08T20:00:00",
          "2015-05-08T21:00:00",
          "2015-05-08T22:00:00",
          "2015-05-08T23:00:00",
          "2015-05-09T00:00:00",
          "2015-05-09T01:00:00",
          "2015-05-09T02:00:00",
          "2015-05-09T03:00:00",
          "2015-05-09T04:00:00",
          "2015-05-09T05:00:00",
          "2015-05-09T06:00:00",
          "2015-05-09T07:00:00",
          "2015-05-09T08:00:00",
          "2015-05-09T09:00:00",
          "2015-05-09T10:00:00",
          "2015-05-09T11:00:00",
          "2015-05-09T12:00:00",
          "2015-05-09T13:00:00",
          "2015-05-09T14:00:00",
          "2015-05-09T15:00:00",
          "2015-05-09T16:00:00",
          "2015-05-09T17:00:00",
          "2015-05-09T18:00:00",
          "2015-05-09T19:00:00",
          "2015-05-09T20:00:00",
          "2015-05-09T21:00:00",
          "2015-05-09T22:00:00",
          "2015-05-09T23:00:00",
          "2015-05-10T00:00:00",
          "2015-05-10T01:00:00",
          "2015-05-10T02:00:00",
          "2015-05-10T03:00:00",
          "2015-05-10T04:00:00",
          "2015-05-10T05:00:00",
          "2015-05-10T06:00:00",
          "2015-05-10T07:00:00",
          "2015-05-10T08:00:00",
          "2015-05-10T09:00:00",
          "2015-05-10T10:00:00",
          "2015-05-10T11:00:00",
          "2015-05-10T12:00:00",
          "2015-05-10T13:00:00",
          "2015-05-10T14:00:00",
          "2015-05-10T15:00:00",
          "2015-05-10T16:00:00",
          "2015-05-10T17:00:00",
          "2015-05-10T18:00:00",
          "2015-05-10T19:00:00",
          "2015-05-10T20:00:00",
          "2015-05-10T21:00:00",
          "2015-05-10T22:00:00",
          "2015-05-10T23:00:00",
          "2015-05-11T00:00:00",
          "2015-05-11T01:00:00",
          "2015-05-11T02:00:00",
          "2015-05-11T03:00:00",
          "2015-05-11T04:00:00",
          "2015-05-11T05:00:00",
          "2015-05-11T06:00:00",
          "2015-05-11T07:00:00",
          "2015-05-11T08:00:00",
          "2015-05-11T09:00:00",
          "2015-05-11T10:00:00",
          "2015-05-11T11:00:00",
          "2015-05-11T12:00:00",
          "2015-05-11T13:00:00",
          "2015-05-11T14:00:00",
          "2015-05-11T15:00:00",
          "2015-05-11T16:00:00",
          "2015-05-11T17:00:00",
          "2015-05-11T18:00:00",
          "2015-05-11T19:00:00",
          "2015-05-11T20:00:00",
          "2015-05-11T21:00:00",
          "2015-05-11T22:00:00",
          "2015-05-11T23:00:00",
          "2015-05-12T00:00:00",
          "2015-05-12T01:00:00",
          "2015-05-12T02:00:00",
          "2015-05-12T03:00:00",
          "2015-05-12T04:00:00",
          "2015-05-12T05:00:00",
          "2015-05-12T06:00:00",
          "2015-05-12T07:00:00",
          "2015-05-12T08:00:00",
          "2015-05-12T09:00:00",
          "2015-05-12T10:00:00",
          "2015-05-12T11:00:00",
          "2015-05-12T12:00:00",
          "2015-05-12T13:00:00",
          "2015-05-12T14:00:00",
          "2015-05-12T15:00:00",
          "2015-05-12T16:00:00",
          "2015-05-12T17:00:00",
          "2015-05-12T18:00:00",
          "2015-05-12T19:00:00",
          "2015-05-12T20:00:00",
          "2015-05-12T21:00:00",
          "2015-05-12T22:00:00",
          "2015-05-12T23:00:00",
          "2015-05-13T00:00:00",
          "2015-05-13T01:00:00",
          "2015-05-13T02:00:00",
          "2015-05-13T03:00:00",
          "2015-05-13T04:00:00",
          "2015-05-13T05:00:00",
          "2015-05-13T06:00:00",
          "2015-05-13T07:00:00",
          "2015-05-13T08:00:00",
          "2015-05-13T09:00:00",
          "2015-05-13T10:00:00",
          "2015-05-13T11:00:00",
          "2015-05-13T12:00:00",
          "2015-05-13T13:00:00",
          "2015-05-13T14:00:00",
          "2015-05-13T15:00:00",
          "2015-05-13T16:00:00",
          "2015-05-13T17:00:00",
          "2015-05-13T18:00:00",
          "2015-05-13T19:00:00",
          "2015-05-13T20:00:00",
          "2015-05-13T21:00:00",
          "2015-05-13T22:00:00",
          "2015-05-13T23:00:00",
          "2015-05-14T00:00:00",
          "2015-05-14T01:00:00",
          "2015-05-14T02:00:00",
          "2015-05-14T03:00:00",
          "2015-05-14T04:00:00",
          "2015-05-14T05:00:00",
          "2015-05-14T06:00:00",
          "2015-05-14T07:00:00",
          "2015-05-14T08:00:00",
          "2015-05-14T09:00:00",
          "2015-05-14T10:00:00",
          "2015-05-14T11:00:00",
          "2015-05-14T12:00:00",
          "2015-05-14T13:00:00",
          "2015-05-14T14:00:00",
          "2015-05-14T15:00:00",
          "2015-05-14T16:00:00",
          "2015-05-14T17:00:00",
          "2015-05-14T18:00:00",
          "2015-05-14T19:00:00",
          "2015-05-14T20:00:00",
          "2015-05-14T21:00:00",
          "2015-05-14T22:00:00",
          "2015-05-14T23:00:00",
          "2015-05-15T00:00:00",
          "2015-05-15T01:00:00",
          "2015-05-15T02:00:00",
          "2015-05-15T03:00:00",
          "2015-05-15T04:00:00",
          "2015-05-15T05:00:00",
          "2015-05-15T06:00:00",
          "2015-05-15T07:00:00",
          "2015-05-15T08:00:00",
          "2015-05-15T09:00:00",
          "2015-05-15T10:00:00",
          "2015-05-15T11:00:00",
          "2015-05-15T12:00:00",
          "2015-05-15T13:00:00",
          "2015-05-15T14:00:00",
          "2015-05-15T15:00:00",
          "2015-05-15T16:00:00",
          "2015-05-15T17:00:00",
          "2015-05-15T18:00:00",
          "2015-05-15T19:00:00",
          "2015-05-15T20:00:00",
          "2015-05-15T21:00:00",
          "2015-05-15T22:00:00",
          "2015-05-15T23:00:00",
          "2015-05-16T00:00:00",
          "2015-05-16T01:00:00",
          "2015-05-16T02:00:00",
          "2015-05-16T03:00:00",
          "2015-05-16T04:00:00",
          "2015-05-16T05:00:00",
          "2015-05-16T06:00:00",
          "2015-05-16T07:00:00",
          "2015-05-16T08:00:00",
          "2015-05-16T09:00:00",
          "2015-05-16T10:00:00",
          "2015-05-16T11:00:00",
          "2015-05-16T12:00:00",
          "2015-05-16T13:00:00",
          "2015-05-16T14:00:00",
          "2015-05-16T15:00:00",
          "2015-05-16T16:00:00",
          "2015-05-16T17:00:00",
          "2015-05-16T18:00:00",
          "2015-05-16T19:00:00",
          "2015-05-16T20:00:00",
          "2015-05-16T21:00:00",
          "2015-05-16T22:00:00",
          "2015-05-16T23:00:00",
          "2015-05-17T00:00:00",
          "2015-05-17T01:00:00",
          "2015-05-17T02:00:00",
          "2015-05-17T03:00:00",
          "2015-05-17T04:00:00",
          "2015-05-17T05:00:00",
          "2015-05-17T06:00:00",
          "2015-05-17T07:00:00",
          "2015-05-17T08:00:00",
          "2015-05-17T09:00:00",
          "2015-05-17T10:00:00",
          "2015-05-17T11:00:00",
          "2015-05-17T12:00:00",
          "2015-05-17T13:00:00",
          "2015-05-17T14:00:00",
          "2015-05-17T15:00:00",
          "2015-05-17T16:00:00",
          "2015-05-17T17:00:00",
          "2015-05-17T18:00:00",
          "2015-05-17T19:00:00",
          "2015-05-17T20:00:00",
          "2015-05-17T21:00:00",
          "2015-05-17T22:00:00",
          "2015-05-17T23:00:00",
          "2015-05-18T00:00:00",
          "2015-05-18T01:00:00",
          "2015-05-18T02:00:00",
          "2015-05-18T03:00:00",
          "2015-05-18T04:00:00",
          "2015-05-18T05:00:00",
          "2015-05-18T06:00:00",
          "2015-05-18T07:00:00",
          "2015-05-18T08:00:00",
          "2015-05-18T09:00:00",
          "2015-05-18T10:00:00",
          "2015-05-18T11:00:00",
          "2015-05-18T12:00:00",
          "2015-05-18T13:00:00",
          "2015-05-18T14:00:00",
          "2015-05-18T15:00:00",
          "2015-05-18T16:00:00",
          "2015-05-18T17:00:00",
          "2015-05-18T18:00:00",
          "2015-05-18T19:00:00",
          "2015-05-18T20:00:00",
          "2015-05-18T21:00:00",
          "2015-05-18T22:00:00",
          "2015-05-18T23:00:00",
          "2015-05-19T00:00:00",
          "2015-05-19T01:00:00",
          "2015-05-19T02:00:00",
          "2015-05-19T03:00:00",
          "2015-05-19T04:00:00",
          "2015-05-19T05:00:00",
          "2015-05-19T06:00:00",
          "2015-05-19T07:00:00",
          "2015-05-19T08:00:00",
          "2015-05-19T09:00:00",
          "2015-05-19T10:00:00",
          "2015-05-19T11:00:00",
          "2015-05-19T12:00:00",
          "2015-05-19T13:00:00",
          "2015-05-19T14:00:00",
          "2015-05-19T15:00:00",
          "2015-05-19T16:00:00",
          "2015-05-19T17:00:00",
          "2015-05-19T18:00:00",
          "2015-05-19T19:00:00",
          "2015-05-19T20:00:00",
          "2015-05-19T21:00:00",
          "2015-05-19T22:00:00",
          "2015-05-19T23:00:00",
          "2015-05-20T00:00:00",
          "2015-05-20T01:00:00",
          "2015-05-20T02:00:00",
          "2015-05-20T03:00:00",
          "2015-05-20T04:00:00",
          "2015-05-20T05:00:00",
          "2015-05-20T06:00:00",
          "2015-05-20T07:00:00",
          "2015-05-20T08:00:00",
          "2015-05-20T09:00:00",
          "2015-05-20T10:00:00",
          "2015-05-20T11:00:00",
          "2015-05-20T12:00:00",
          "2015-05-20T13:00:00",
          "2015-05-20T14:00:00",
          "2015-05-20T15:00:00",
          "2015-05-20T16:00:00",
          "2015-05-20T17:00:00",
          "2015-05-20T18:00:00",
          "2015-05-20T19:00:00",
          "2015-05-20T20:00:00",
          "2015-05-20T21:00:00",
          "2015-05-20T22:00:00",
          "2015-05-20T23:00:00",
          "2015-05-21T00:00:00",
          "2015-05-21T01:00:00",
          "2015-05-21T02:00:00",
          "2015-05-21T03:00:00",
          "2015-05-21T04:00:00",
          "2015-05-21T05:00:00",
          "2015-05-21T06:00:00",
          "2015-05-21T07:00:00",
          "2015-05-21T08:00:00",
          "2015-05-21T09:00:00",
          "2015-05-21T10:00:00",
          "2015-05-21T11:00:00",
          "2015-05-21T12:00:00",
          "2015-05-21T13:00:00",
          "2015-05-21T14:00:00",
          "2015-05-21T15:00:00",
          "2015-05-21T16:00:00",
          "2015-05-21T17:00:00",
          "2015-05-21T18:00:00",
          "2015-05-21T19:00:00",
          "2015-05-21T20:00:00",
          "2015-05-21T21:00:00",
          "2015-05-21T22:00:00",
          "2015-05-21T23:00:00",
          "2015-05-22T00:00:00",
          "2015-05-22T01:00:00",
          "2015-05-22T02:00:00",
          "2015-05-22T03:00:00",
          "2015-05-22T04:00:00",
          "2015-05-22T05:00:00",
          "2015-05-22T06:00:00",
          "2015-05-22T07:00:00",
          "2015-05-22T08:00:00",
          "2015-05-22T09:00:00",
          "2015-05-22T10:00:00",
          "2015-05-22T11:00:00",
          "2015-05-22T12:00:00",
          "2015-05-22T13:00:00",
          "2015-05-22T14:00:00",
          "2015-05-22T15:00:00",
          "2015-05-22T16:00:00",
          "2015-05-22T17:00:00",
          "2015-05-22T18:00:00",
          "2015-05-22T19:00:00",
          "2015-05-22T20:00:00",
          "2015-05-22T21:00:00",
          "2015-05-22T22:00:00",
          "2015-05-22T23:00:00",
          "2015-05-23T00:00:00",
          "2015-05-23T01:00:00",
          "2015-05-23T02:00:00",
          "2015-05-23T03:00:00",
          "2015-05-23T04:00:00",
          "2015-05-23T05:00:00",
          "2015-05-23T06:00:00",
          "2015-05-23T07:00:00",
          "2015-05-23T08:00:00",
          "2015-05-23T09:00:00",
          "2015-05-23T10:00:00",
          "2015-05-23T11:00:00",
          "2015-05-23T12:00:00",
          "2015-05-23T13:00:00",
          "2015-05-23T14:00:00",
          "2015-05-23T15:00:00",
          "2015-05-23T16:00:00",
          "2015-05-23T17:00:00",
          "2015-05-23T18:00:00",
          "2015-05-23T19:00:00",
          "2015-05-23T20:00:00",
          "2015-05-23T21:00:00",
          "2015-05-23T22:00:00",
          "2015-05-23T23:00:00",
          "2015-05-24T00:00:00",
          "2015-05-24T01:00:00",
          "2015-05-24T02:00:00",
          "2015-05-24T03:00:00",
          "2015-05-24T04:00:00",
          "2015-05-24T05:00:00",
          "2015-05-24T06:00:00",
          "2015-05-24T07:00:00",
          "2015-05-24T08:00:00",
          "2015-05-24T09:00:00",
          "2015-05-24T10:00:00",
          "2015-05-24T11:00:00",
          "2015-05-24T12:00:00",
          "2015-05-24T13:00:00",
          "2015-05-24T14:00:00",
          "2015-05-24T15:00:00",
          "2015-05-24T16:00:00",
          "2015-05-24T17:00:00",
          "2015-05-24T18:00:00",
          "2015-05-24T19:00:00",
          "2015-05-24T20:00:00",
          "2015-05-24T21:00:00",
          "2015-05-24T22:00:00",
          "2015-05-24T23:00:00",
          "2015-05-25T00:00:00",
          "2015-05-25T01:00:00",
          "2015-05-25T02:00:00",
          "2015-05-25T03:00:00",
          "2015-05-25T04:00:00",
          "2015-05-25T05:00:00",
          "2015-05-25T06:00:00",
          "2015-05-25T07:00:00",
          "2015-05-25T08:00:00",
          "2015-05-25T09:00:00",
          "2015-05-25T10:00:00",
          "2015-05-25T11:00:00",
          "2015-05-25T12:00:00",
          "2015-05-25T13:00:00",
          "2015-05-25T14:00:00",
          "2015-05-25T15:00:00",
          "2015-05-25T16:00:00",
          "2015-05-25T17:00:00",
          "2015-05-25T18:00:00",
          "2015-05-25T19:00:00",
          "2015-05-25T20:00:00",
          "2015-05-25T21:00:00",
          "2015-05-25T22:00:00",
          "2015-05-25T23:00:00",
          "2015-05-26T00:00:00",
          "2015-05-26T01:00:00",
          "2015-05-26T02:00:00",
          "2015-05-26T03:00:00",
          "2015-05-26T04:00:00",
          "2015-05-26T05:00:00",
          "2015-05-26T06:00:00",
          "2015-05-26T07:00:00",
          "2015-05-26T08:00:00",
          "2015-05-26T09:00:00",
          "2015-05-26T10:00:00",
          "2015-05-26T11:00:00",
          "2015-05-26T12:00:00",
          "2015-05-26T13:00:00",
          "2015-05-26T14:00:00",
          "2015-05-26T15:00:00",
          "2015-05-26T16:00:00",
          "2015-05-26T17:00:00",
          "2015-05-26T18:00:00",
          "2015-05-26T19:00:00",
          "2015-05-26T20:00:00",
          "2015-05-26T21:00:00",
          "2015-05-26T22:00:00",
          "2015-05-26T23:00:00",
          "2015-05-27T00:00:00",
          "2015-05-27T01:00:00",
          "2015-05-27T02:00:00",
          "2015-05-27T03:00:00",
          "2015-05-27T04:00:00",
          "2015-05-27T05:00:00",
          "2015-05-27T06:00:00",
          "2015-05-27T07:00:00",
          "2015-05-27T08:00:00",
          "2015-05-27T09:00:00",
          "2015-05-27T10:00:00",
          "2015-05-27T11:00:00",
          "2015-05-27T12:00:00",
          "2015-05-27T13:00:00",
          "2015-05-27T14:00:00",
          "2015-05-27T15:00:00",
          "2015-05-27T16:00:00",
          "2015-05-27T17:00:00",
          "2015-05-27T18:00:00",
          "2015-05-27T19:00:00",
          "2015-05-27T20:00:00",
          "2015-05-27T21:00:00",
          "2015-05-27T22:00:00",
          "2015-05-27T23:00:00",
          "2015-05-28T00:00:00",
          "2015-05-28T01:00:00",
          "2015-05-28T02:00:00",
          "2015-05-28T03:00:00",
          "2015-05-28T04:00:00",
          "2015-05-28T05:00:00",
          "2015-05-28T06:00:00",
          "2015-05-28T07:00:00",
          "2015-05-28T08:00:00",
          "2015-05-28T09:00:00",
          "2015-05-28T10:00:00",
          "2015-05-28T11:00:00",
          "2015-05-28T12:00:00",
          "2015-05-28T13:00:00",
          "2015-05-28T14:00:00",
          "2015-05-28T15:00:00",
          "2015-05-28T16:00:00",
          "2015-05-28T17:00:00",
          "2015-05-28T18:00:00",
          "2015-05-28T19:00:00",
          "2015-05-28T20:00:00",
          "2015-05-28T21:00:00",
          "2015-05-28T22:00:00",
          "2015-05-28T23:00:00",
          "2015-05-29T00:00:00",
          "2015-05-29T01:00:00",
          "2015-05-29T02:00:00",
          "2015-05-29T03:00:00",
          "2015-05-29T04:00:00",
          "2015-05-29T05:00:00",
          "2015-05-29T06:00:00",
          "2015-05-29T07:00:00",
          "2015-05-29T08:00:00",
          "2015-05-29T09:00:00",
          "2015-05-29T10:00:00",
          "2015-05-29T11:00:00",
          "2015-05-29T12:00:00",
          "2015-05-29T13:00:00",
          "2015-05-29T14:00:00",
          "2015-05-29T15:00:00",
          "2015-05-29T16:00:00",
          "2015-05-29T17:00:00",
          "2015-05-29T18:00:00",
          "2015-05-29T19:00:00",
          "2015-05-29T20:00:00",
          "2015-05-29T21:00:00",
          "2015-05-29T22:00:00",
          "2015-05-29T23:00:00",
          "2015-05-30T00:00:00",
          "2015-05-30T01:00:00",
          "2015-05-30T02:00:00",
          "2015-05-30T03:00:00",
          "2015-05-30T04:00:00",
          "2015-05-30T05:00:00",
          "2015-05-30T06:00:00",
          "2015-05-30T07:00:00",
          "2015-05-30T08:00:00",
          "2015-05-30T09:00:00",
          "2015-05-30T10:00:00",
          "2015-05-30T11:00:00",
          "2015-05-30T12:00:00",
          "2015-05-30T13:00:00",
          "2015-05-30T14:00:00",
          "2015-05-30T15:00:00",
          "2015-05-30T16:00:00",
          "2015-05-30T17:00:00",
          "2015-05-30T18:00:00",
          "2015-05-30T19:00:00",
          "2015-05-30T20:00:00",
          "2015-05-30T21:00:00",
          "2015-05-30T22:00:00",
          "2015-05-30T23:00:00",
          "2015-05-31T00:00:00",
          "2015-05-31T01:00:00",
          "2015-05-31T02:00:00",
          "2015-05-31T03:00:00",
          "2015-05-31T04:00:00",
          "2015-05-31T05:00:00",
          "2015-05-31T06:00:00",
          "2015-05-31T07:00:00",
          "2015-05-31T08:00:00",
          "2015-05-31T09:00:00",
          "2015-05-31T10:00:00",
          "2015-05-31T11:00:00",
          "2015-05-31T12:00:00",
          "2015-05-31T13:00:00",
          "2015-05-31T14:00:00",
          "2015-05-31T15:00:00",
          "2015-05-31T16:00:00",
          "2015-05-31T17:00:00",
          "2015-05-31T18:00:00",
          "2015-05-31T19:00:00",
          "2015-05-31T20:00:00",
          "2015-05-31T21:00:00",
          "2015-05-31T22:00:00",
          "2015-05-31T23:00:00"
         ],
         "y": [
          6.987039083426362,
          0,
          0,
          0,
          0,
          0,
          0,
          0,
          0,
          0,
          0,
          0,
          0.23672458833186164,
          1.3121734116576873,
          5.241071034860218,
          9.594886600226154,
          13.505956568235977,
          16.461597674751914,
          18.362821935358614,
          19.19501099444845,
          18.955497933866425,
          17.672080858511737,
          15.348995783613173,
          11.842498722175826,
          8.110022629248208,
          0,
          0,
          0,
          0,
          0,
          0,
          0,
          0,
          0,
          0,
          0,
          0.24530357158226626,
          1.3308466383443287,
          5.163547989787243,
          9.385126200346244,
          13.177862320167636,
          16.035953899808355,
          17.915294504870115,
          18.733890877233858,
          18.534989386945593,
          17.236826198510936,
          14.964673720262516,
          11.446264909544974,
          7.738908986092008,
          0,
          0,
          0,
          0,
          0,
          0,
          0,
          0,
          0,
          0,
          0,
          0.2466071211698261,
          1.287039505527472,
          5.047485470954769,
          9.181326789276065,
          12.886738341229796,
          15.687541381793611,
          17.528004420998087,
          17.67281605116303,
          15.470991804648822,
          13.913471386341394,
          13.151747408121961,
          8.94855656974504,
          7.114821340131241,
          0,
          0,
          0,
          0,
          0,
          0,
          0,
          0,
          0,
          0,
          0,
          0.25584383018688645,
          1.3396647263964856,
          5.004871457238333,
          9.054033785251656,
          12.693466201542622,
          15.274107727473027,
          15.474191541254955,
          11.769397999990215,
          10.10144784491283,
          9.26901273052952,
          6.480642541043586,
          5.399235386709936,
          5.410956543807603,
          0,
          0,
          0,
          0,
          0,
          0,
          0,
          0,
          0,
          0,
          0,
          0.25480013400606044,
          1.3544330110111065,
          5.030560476507025,
          9.067543519893569,
          12.639409295968504,
          15.38924198047688,
          16.82242293341418,
          12.823548448947534,
          11.130004499286098,
          6.805881645771658,
          7.7532314735242105,
          6.533014792676626,
          4.097404885975878,
          0,
          0,
          0,
          0,
          0,
          0,
          0,
          0,
          0,
          0,
          0,
          0.27556135212016936,
          1.3856829348616289,
          5.058257780570297,
          9.095219093931883,
          12.695417570133753,
          15.47688946079985,
          14.300201455327837,
          11.089560417572661,
          8.840728717042158,
          7.961513698249966,
          4.048184876145181,
          2.7664477834834615,
          2.8842028678226543,
          0,
          0,
          0,
          0,
          0,
          0,
          0,
          0,
          0,
          0,
          0,
          0.25490418914027735,
          1.3621605242934085,
          4.616186328550274,
          8.525978741486682,
          12.292650973136922,
          14.985793320439123,
          15.21708427903028,
          13.215312106777136,
          13.325068978033885,
          12.751265644712742,
          12.827403771212515,
          10.424153782712622,
          7.080004544625424,
          0,
          0,
          0,
          0,
          0,
          0,
          0,
          0,
          0,
          0,
          0,
          0.30571392855884816,
          1.4373403237156592,
          4.967592593669037,
          8.996023551098789,
          12.52597313419955,
          15.243041470101064,
          16.568828381604156,
          16.597288504887107,
          15.712556417895339,
          14.248599843814777,
          11.594654195195451,
          10.030132813308095,
          6.096381497179841,
          0,
          0,
          0,
          0,
          0,
          0,
          0,
          0,
          0,
          0,
          0,
          0.5248209814075098,
          2.182463787144765,
          5.050152804212384,
          8.841998455226152,
          12.408677265131995,
          15.094400037526515,
          15.698643729985873,
          12.816090460258584,
          15.342341496951255,
          9.985634796324169,
          8.092700120813467,
          6.003326847370951,
          4.027603098974772,
          0,
          0,
          0,
          0,
          0,
          0,
          0,
          0,
          0,
          0,
          0,
          0.3350976065964562,
          1.444412365285223,
          4.9136271076796945,
          8.778093340098915,
          12.270469450561391,
          14.929128723119618,
          16.71903466423281,
          16.97400362939712,
          16.134944080379295,
          14.902011294583536,
          13.224951186528433,
          10.372862866065727,
          6.7371590934470085,
          0,
          0,
          0,
          0,
          0,
          0,
          0,
          0,
          0,
          0,
          0,
          0.5328084384652643,
          2.3005315846878887,
          5.164912223158199,
          8.489574971831004,
          11.311011607451626,
          13.855505594630152,
          15.110410761335897,
          16.569611615466087,
          13.995434137068248,
          11.730273561387769,
          7.938664712968772,
          7.486098503592806,
          3.5328645169912543,
          0,
          0,
          0,
          0,
          0,
          0,
          0,
          0,
          0,
          0,
          0,
          0.13076113544936419,
          0.9976699759816808,
          3.178770851392468,
          5.993342746300176,
          6.01208210053113,
          9.49957101788153,
          7.984092759494378,
          7.3875568469442,
          6.500639632662568,
          7.784255103706552,
          6.210284543696876,
          3.3266355071746805,
          1.8148967171556358,
          0,
          0,
          0,
          0,
          0,
          0,
          0,
          0,
          0,
          0,
          0,
          0.3526605495063921,
          1.5037363891972468,
          5.231966632071604,
          9.30924085524945,
          12.903246548943352,
          15.711376332042583,
          17.53493799075349,
          18.650499089903533,
          18.37460284170573,
          16.962485887140712,
          14.319669749126264,
          10.096823708058967,
          5.326933708598978,
          0,
          0,
          0,
          0,
          0,
          0,
          0,
          0,
          0,
          0,
          0,
          0.5332556224643957,
          2.580499063451059,
          5.361288057760715,
          8.439068550529774,
          10.914215411974203,
          14.231508165737791,
          14.92502167420583,
          11.811760428483023,
          6.2866260210011635,
          6.054312506789868,
          3.5863369448036964,
          2.4258349266007353,
          1.0701803333352715,
          0,
          0,
          0,
          0,
          0,
          0,
          0,
          0,
          0,
          0,
          0,
          0.5439383673180952,
          2.005889342574726,
          4.831325164567415,
          7.443889568550752,
          11.539731514074141,
          13.946906915292706,
          15.095871009005737,
          13.994228044079364,
          14.660716023788751,
          12.811723457128707,
          10.10406695762424,
          3.569405129064113,
          1.2624101253119864,
          0,
          0,
          0,
          0,
          0,
          0,
          0,
          0,
          0,
          0,
          0,
          0.22615457778330414,
          1.0545621591110461,
          2.57158698732701,
          3.3843297239145036,
          9.010095294755084,
          12.05864819149073,
          14.802451749645426,
          8.496119490008876,
          11.196312272582487,
          7.9945847024325145,
          5.026248714851566,
          3.045143818292679,
          1.891743448151443,
          0,
          0,
          0,
          0,
          0,
          0,
          0,
          0,
          0,
          0,
          0,
          0.3196682272824754,
          1.6257025495259634,
          4.473746342104532,
          6.730459911587883,
          10.079215330898016,
          11.646343980936372,
          13.581632208734048,
          10.54325097011799,
          11.601265721132348,
          11.615346624011934,
          8.371549996545658,
          6.451404728391428,
          2.971695511766304,
          0,
          0,
          0,
          0,
          0,
          0,
          0,
          0,
          0,
          0,
          0,
          0.4397266899909733,
          1.8710161695372889,
          4.657396847016789,
          7.296695423289939,
          10.075749177362814,
          12.109636769124032,
          9.002416418298042,
          16.6799733910263,
          15.216366134640968,
          11.877695102291272,
          9.439766513429273,
          6.8159791217242365,
          2.7886468554835213,
          0,
          0,
          0,
          0,
          0,
          0,
          0,
          0,
          0,
          0,
          0,
          0.3703663600489431,
          1.678923564560324,
          5.0090132584675,
          8.364625583917903,
          11.642878769105828,
          12.526437320894216,
          13.272837160269166,
          15.567047517688655,
          12.312487954835582,
          13.850409206266082,
          10.34603738824702,
          7.374346065502675,
          4.311014060105978,
          0,
          0,
          0,
          0,
          0,
          0,
          0,
          0,
          0,
          0,
          0,
          0.40255059008358474,
          1.5802573247089204,
          5.097702871603865,
          8.89043871315129,
          12.103176869613375,
          14.13206262882452,
          15.9986847405977,
          14.577169017309622,
          14.858034696729437,
          11.85663698564756,
          9.54169421755696,
          7.0057670931144065,
          3.097073604390703,
          0,
          0,
          0,
          0,
          0,
          0,
          0,
          0,
          0,
          0,
          0,
          0.43839934995524094,
          1.6649396232551645,
          5.056019505128211,
          8.524117941387056,
          7.9186568725306605,
          10.978401436724555,
          7.057402912956581,
          9.811525921481206,
          6.035967911700061,
          12.098786433937342,
          6.253235842719345,
          3.4324236703196966,
          4.4734384988128015,
          0,
          0,
          0,
          0,
          0,
          0,
          0,
          0,
          0,
          0,
          0,
          0.5134003049600833,
          1.818771705075701,
          5.673037631916358,
          9.807430380267624,
          13.443679401033773,
          16.2346950477279,
          17.916348358927863,
          18.788414503642972,
          18.55727037308119,
          17.330040237893165,
          15.030957692162753,
          11.678736902334984,
          7.642468452798902,
          0,
          0,
          0,
          0,
          0,
          0,
          0,
          0,
          0,
          0,
          0,
          0.44365325071265116,
          1.7605264139830492,
          5.106889490850661,
          8.888724383117822,
          12.368088307574707,
          15.14741592366134,
          16.725884792080286,
          17.49246544649258,
          17.288606296283714,
          16.07752984938615,
          13.638696972798769,
          10.094868928807568,
          5.673038178731113,
          0,
          0,
          0,
          0,
          0,
          0,
          0,
          0,
          0,
          0,
          0,
          0.6788683545897276,
          2.060237079816242,
          5.211845886564241,
          8.857450075362424,
          11.686723309824432,
          12.843724167973567,
          13.716977258503164,
          9.053008505394398,
          11.419722835026,
          13.697736236478477,
          12.278168228887097,
          7.467377909506012,
          2.4089374613292285,
          0,
          0,
          0,
          0,
          0,
          0,
          0,
          0,
          0,
          0,
          0,
          0.39390396156548774,
          1.4824883272722198,
          3.1272150185406806,
          4.300413674493192,
          4.076892342337831,
          4.673772816830686,
          6.181607744490994,
          9.267106952614053,
          4.434499970359471,
          2.0012276089106242,
          3.7828441110276283,
          3.467805800532958,
          1.3899275897154777,
          0,
          0,
          0,
          0,
          0,
          0,
          0,
          0,
          0,
          0,
          0,
          0.349526702236855,
          1.5323855119053786,
          3.873601775478313,
          4.041867288098779,
          6.750831681642689,
          5.72637380671658,
          5.742475826357383,
          8.880204804936268,
          8.616832732804541,
          7.405229613417961,
          7.8289788821375,
          6.731922776172866,
          4.319252039250701,
          0,
          0,
          0,
          0,
          0,
          0,
          0,
          0,
          0,
          0,
          0,
          0.22825913337692058,
          1.2197990497039284,
          2.573302000310656,
          4.700023092826862,
          8.595382614805592,
          9.187219685210106,
          12.604033587908944,
          13.307527591669817,
          11.026818899128362,
          5.894393940460252,
          2.3970257866182143,
          0.4307964413725065,
          0.05600245671282733,
          0,
          0,
          0,
          0,
          0,
          0,
          0,
          0,
          0,
          0,
          0,
          0.5404214205598745,
          1.7498259282405293,
          4.300520585067092,
          6.588280039585448,
          9.163474618399158,
          9.08935588286576,
          11.757689925945241,
          12.099767206206392,
          13.097299647169532,
          11.490098272567261,
          10.843931356533531,
          7.511581390420732,
          2.703205364144526,
          0,
          0,
          0,
          0,
          0,
          0,
          0,
          0,
          0,
          0,
          0,
          0.34308594466948406,
          1.9106306387934247,
          4.102145225612559,
          6.926543046898727,
          9.808410039624572,
          12.879497592315811,
          15.62867426449154,
          15.284694559806475,
          14.647527145213585,
          12.46299729990306,
          11.944257439264744,
          8.09046727295068,
          3.188411350424228,
          0,
          0,
          0,
          0,
          0,
          0,
          0,
          0,
          0,
          0,
          0,
          0.39618527664713976,
          1.6854818075548486,
          4.737276482599475,
          8.177540112011803,
          11.143314124951734,
          11.90186091313739,
          12.32053227335322,
          14.543983371474658,
          13.157048518822902,
          13.243686692032428,
          12.36890650839881,
          9.88369979392047,
          6.093937607099329,
          0,
          0,
          0,
          0,
          0,
          0,
          0,
          0,
          0,
          0,
          0,
          0.5415037730819398,
          1.9450262540673067,
          4.932402233712283,
          6.680110389868324,
          9.526752690815096,
          11.747211278592626,
          14.678818651915856,
          15.416531244938529,
          12.197099696039523,
          9.88921387601566,
          9.705585188500356,
          6.4739699704488975
         ]
        }
       ],
       "layout": {
        "autosize": true,
        "margin": {
         "b": 20,
         "l": 20,
         "r": 20,
         "t": 20
        },
        "template": {
         "data": {
          "bar": [
           {
            "error_x": {
             "color": "rgb(51,51,51)"
            },
            "error_y": {
             "color": "rgb(51,51,51)"
            },
            "marker": {
             "line": {
              "color": "rgb(237,237,237)",
              "width": 0.5
             },
             "pattern": {
              "fillmode": "overlay",
              "size": 10,
              "solidity": 0.2
             }
            },
            "type": "bar"
           }
          ],
          "barpolar": [
           {
            "marker": {
             "line": {
              "color": "rgb(237,237,237)",
              "width": 0.5
             },
             "pattern": {
              "fillmode": "overlay",
              "size": 10,
              "solidity": 0.2
             }
            },
            "type": "barpolar"
           }
          ],
          "carpet": [
           {
            "aaxis": {
             "endlinecolor": "rgb(51,51,51)",
             "gridcolor": "white",
             "linecolor": "white",
             "minorgridcolor": "white",
             "startlinecolor": "rgb(51,51,51)"
            },
            "baxis": {
             "endlinecolor": "rgb(51,51,51)",
             "gridcolor": "white",
             "linecolor": "white",
             "minorgridcolor": "white",
             "startlinecolor": "rgb(51,51,51)"
            },
            "type": "carpet"
           }
          ],
          "choropleth": [
           {
            "colorbar": {
             "outlinewidth": 0,
             "tickcolor": "rgb(237,237,237)",
             "ticklen": 6,
             "ticks": "inside"
            },
            "type": "choropleth"
           }
          ],
          "contour": [
           {
            "colorbar": {
             "outlinewidth": 0,
             "tickcolor": "rgb(237,237,237)",
             "ticklen": 6,
             "ticks": "inside"
            },
            "colorscale": [
             [
              0,
              "rgb(20,44,66)"
             ],
             [
              1,
              "rgb(90,179,244)"
             ]
            ],
            "type": "contour"
           }
          ],
          "contourcarpet": [
           {
            "colorbar": {
             "outlinewidth": 0,
             "tickcolor": "rgb(237,237,237)",
             "ticklen": 6,
             "ticks": "inside"
            },
            "type": "contourcarpet"
           }
          ],
          "heatmap": [
           {
            "colorbar": {
             "outlinewidth": 0,
             "tickcolor": "rgb(237,237,237)",
             "ticklen": 6,
             "ticks": "inside"
            },
            "colorscale": [
             [
              0,
              "rgb(20,44,66)"
             ],
             [
              1,
              "rgb(90,179,244)"
             ]
            ],
            "type": "heatmap"
           }
          ],
          "heatmapgl": [
           {
            "colorbar": {
             "outlinewidth": 0,
             "tickcolor": "rgb(237,237,237)",
             "ticklen": 6,
             "ticks": "inside"
            },
            "colorscale": [
             [
              0,
              "rgb(20,44,66)"
             ],
             [
              1,
              "rgb(90,179,244)"
             ]
            ],
            "type": "heatmapgl"
           }
          ],
          "histogram": [
           {
            "marker": {
             "pattern": {
              "fillmode": "overlay",
              "size": 10,
              "solidity": 0.2
             }
            },
            "type": "histogram"
           }
          ],
          "histogram2d": [
           {
            "colorbar": {
             "outlinewidth": 0,
             "tickcolor": "rgb(237,237,237)",
             "ticklen": 6,
             "ticks": "inside"
            },
            "colorscale": [
             [
              0,
              "rgb(20,44,66)"
             ],
             [
              1,
              "rgb(90,179,244)"
             ]
            ],
            "type": "histogram2d"
           }
          ],
          "histogram2dcontour": [
           {
            "colorbar": {
             "outlinewidth": 0,
             "tickcolor": "rgb(237,237,237)",
             "ticklen": 6,
             "ticks": "inside"
            },
            "colorscale": [
             [
              0,
              "rgb(20,44,66)"
             ],
             [
              1,
              "rgb(90,179,244)"
             ]
            ],
            "type": "histogram2dcontour"
           }
          ],
          "mesh3d": [
           {
            "colorbar": {
             "outlinewidth": 0,
             "tickcolor": "rgb(237,237,237)",
             "ticklen": 6,
             "ticks": "inside"
            },
            "type": "mesh3d"
           }
          ],
          "parcoords": [
           {
            "line": {
             "colorbar": {
              "outlinewidth": 0,
              "tickcolor": "rgb(237,237,237)",
              "ticklen": 6,
              "ticks": "inside"
             }
            },
            "type": "parcoords"
           }
          ],
          "pie": [
           {
            "automargin": true,
            "type": "pie"
           }
          ],
          "scatter": [
           {
            "marker": {
             "colorbar": {
              "outlinewidth": 0,
              "tickcolor": "rgb(237,237,237)",
              "ticklen": 6,
              "ticks": "inside"
             }
            },
            "type": "scatter"
           }
          ],
          "scatter3d": [
           {
            "line": {
             "colorbar": {
              "outlinewidth": 0,
              "tickcolor": "rgb(237,237,237)",
              "ticklen": 6,
              "ticks": "inside"
             }
            },
            "marker": {
             "colorbar": {
              "outlinewidth": 0,
              "tickcolor": "rgb(237,237,237)",
              "ticklen": 6,
              "ticks": "inside"
             }
            },
            "type": "scatter3d"
           }
          ],
          "scattercarpet": [
           {
            "marker": {
             "colorbar": {
              "outlinewidth": 0,
              "tickcolor": "rgb(237,237,237)",
              "ticklen": 6,
              "ticks": "inside"
             }
            },
            "type": "scattercarpet"
           }
          ],
          "scattergeo": [
           {
            "marker": {
             "colorbar": {
              "outlinewidth": 0,
              "tickcolor": "rgb(237,237,237)",
              "ticklen": 6,
              "ticks": "inside"
             }
            },
            "type": "scattergeo"
           }
          ],
          "scattergl": [
           {
            "marker": {
             "colorbar": {
              "outlinewidth": 0,
              "tickcolor": "rgb(237,237,237)",
              "ticklen": 6,
              "ticks": "inside"
             }
            },
            "type": "scattergl"
           }
          ],
          "scattermapbox": [
           {
            "marker": {
             "colorbar": {
              "outlinewidth": 0,
              "tickcolor": "rgb(237,237,237)",
              "ticklen": 6,
              "ticks": "inside"
             }
            },
            "type": "scattermapbox"
           }
          ],
          "scatterpolar": [
           {
            "marker": {
             "colorbar": {
              "outlinewidth": 0,
              "tickcolor": "rgb(237,237,237)",
              "ticklen": 6,
              "ticks": "inside"
             }
            },
            "type": "scatterpolar"
           }
          ],
          "scatterpolargl": [
           {
            "marker": {
             "colorbar": {
              "outlinewidth": 0,
              "tickcolor": "rgb(237,237,237)",
              "ticklen": 6,
              "ticks": "inside"
             }
            },
            "type": "scatterpolargl"
           }
          ],
          "scatterternary": [
           {
            "marker": {
             "colorbar": {
              "outlinewidth": 0,
              "tickcolor": "rgb(237,237,237)",
              "ticklen": 6,
              "ticks": "inside"
             }
            },
            "type": "scatterternary"
           }
          ],
          "surface": [
           {
            "colorbar": {
             "outlinewidth": 0,
             "tickcolor": "rgb(237,237,237)",
             "ticklen": 6,
             "ticks": "inside"
            },
            "colorscale": [
             [
              0,
              "rgb(20,44,66)"
             ],
             [
              1,
              "rgb(90,179,244)"
             ]
            ],
            "type": "surface"
           }
          ],
          "table": [
           {
            "cells": {
             "fill": {
              "color": "rgb(237,237,237)"
             },
             "line": {
              "color": "white"
             }
            },
            "header": {
             "fill": {
              "color": "rgb(217,217,217)"
             },
             "line": {
              "color": "white"
             }
            },
            "type": "table"
           }
          ]
         },
         "layout": {
          "annotationdefaults": {
           "arrowhead": 0,
           "arrowwidth": 1
          },
          "autotypenumbers": "strict",
          "coloraxis": {
           "colorbar": {
            "outlinewidth": 0,
            "tickcolor": "rgb(237,237,237)",
            "ticklen": 6,
            "ticks": "inside"
           }
          },
          "colorscale": {
           "sequential": [
            [
             0,
             "rgb(20,44,66)"
            ],
            [
             1,
             "rgb(90,179,244)"
            ]
           ],
           "sequentialminus": [
            [
             0,
             "rgb(20,44,66)"
            ],
            [
             1,
             "rgb(90,179,244)"
            ]
           ]
          },
          "colorway": [
           "#F8766D",
           "#A3A500",
           "#00BF7D",
           "#00B0F6",
           "#E76BF3"
          ],
          "font": {
           "color": "rgb(51,51,51)"
          },
          "geo": {
           "bgcolor": "white",
           "lakecolor": "white",
           "landcolor": "rgb(237,237,237)",
           "showlakes": true,
           "showland": true,
           "subunitcolor": "white"
          },
          "hoverlabel": {
           "align": "left"
          },
          "hovermode": "closest",
          "paper_bgcolor": "white",
          "plot_bgcolor": "rgb(237,237,237)",
          "polar": {
           "angularaxis": {
            "gridcolor": "white",
            "linecolor": "white",
            "showgrid": true,
            "tickcolor": "rgb(51,51,51)",
            "ticks": "outside"
           },
           "bgcolor": "rgb(237,237,237)",
           "radialaxis": {
            "gridcolor": "white",
            "linecolor": "white",
            "showgrid": true,
            "tickcolor": "rgb(51,51,51)",
            "ticks": "outside"
           }
          },
          "scene": {
           "xaxis": {
            "backgroundcolor": "rgb(237,237,237)",
            "gridcolor": "white",
            "gridwidth": 2,
            "linecolor": "white",
            "showbackground": true,
            "showgrid": true,
            "tickcolor": "rgb(51,51,51)",
            "ticks": "outside",
            "zerolinecolor": "white"
           },
           "yaxis": {
            "backgroundcolor": "rgb(237,237,237)",
            "gridcolor": "white",
            "gridwidth": 2,
            "linecolor": "white",
            "showbackground": true,
            "showgrid": true,
            "tickcolor": "rgb(51,51,51)",
            "ticks": "outside",
            "zerolinecolor": "white"
           },
           "zaxis": {
            "backgroundcolor": "rgb(237,237,237)",
            "gridcolor": "white",
            "gridwidth": 2,
            "linecolor": "white",
            "showbackground": true,
            "showgrid": true,
            "tickcolor": "rgb(51,51,51)",
            "ticks": "outside",
            "zerolinecolor": "white"
           }
          },
          "shapedefaults": {
           "fillcolor": "black",
           "line": {
            "width": 0
           },
           "opacity": 0.3
          },
          "ternary": {
           "aaxis": {
            "gridcolor": "white",
            "linecolor": "white",
            "showgrid": true,
            "tickcolor": "rgb(51,51,51)",
            "ticks": "outside"
           },
           "baxis": {
            "gridcolor": "white",
            "linecolor": "white",
            "showgrid": true,
            "tickcolor": "rgb(51,51,51)",
            "ticks": "outside"
           },
           "bgcolor": "rgb(237,237,237)",
           "caxis": {
            "gridcolor": "white",
            "linecolor": "white",
            "showgrid": true,
            "tickcolor": "rgb(51,51,51)",
            "ticks": "outside"
           }
          },
          "xaxis": {
           "automargin": true,
           "gridcolor": "white",
           "linecolor": "white",
           "showgrid": true,
           "tickcolor": "rgb(51,51,51)",
           "ticks": "outside",
           "title": {
            "standoff": 15
           },
           "zerolinecolor": "white"
          },
          "yaxis": {
           "automargin": true,
           "gridcolor": "white",
           "linecolor": "white",
           "showgrid": true,
           "tickcolor": "rgb(51,51,51)",
           "ticks": "outside",
           "title": {
            "standoff": 15
           },
           "zerolinecolor": "white"
          }
         }
        },
        "xaxis": {
         "autorange": false,
         "range": [
          "2015-05-07 08:49:12.4957",
          "2015-05-08 08:28:42.5473"
         ],
         "type": "date",
         "zeroline": true,
         "zerolinecolor": "#969696"
        },
        "yaxis": {
         "autorange": false,
         "range": [
          -0.7590624222613661,
          16.79193142682923
         ],
         "title": {
          "text": "Average Solar Power [MW]"
         },
         "type": "linear",
         "zeroline": true,
         "zerolinecolor": "#969696"
        }
       }
      },
      "image/png": "[encoded data removed]"
     },
     "metadata": {},
     "output_type": "display_data"
    }
   ],
   "source": [
    "\n",
    "fig = go.Figure()\n",
    "fig.add_trace(go.Scatter(x=atlite_solar_power.loc[atlite_solar_power.index.month == 5].index, y=atlite_solar_power.loc[atlite_solar_power.index.month == 5].values))\n",
    "fig.update_layout(\n",
    "    margin=dict(l=20, r=20, b=20, t=20),\n",
    "    # height=600, width=600,\n",
    "    # yaxis=dict(scaleanchor=\"x\", scaleratio=1),\n",
    "    xaxis_zeroline=True,\n",
    "    yaxis_zeroline=True,\n",
    "    xaxis_zerolinecolor='#969696',\n",
    "    yaxis_zerolinecolor='#969696',\n",
    "    yaxis_title=\"Average Solar Power [MW]\",\n",
    "    # xaxis_title=\"Time [s]\"\n",
    "    # xaxis_range=[-25, 25],\n",
    "    # yaxis_range=[-25, 25],\n",
    ")"
   ]
  },
  {
   "cell_type": "markdown",
   "id": "06ae6063-d92c-4087-8094-94c0e1bc56e1",
   "metadata": {},
   "source": [
    "### Hydro Battery Calculations"
   ]
  },
  {
   "cell_type": "markdown",
   "id": "a9bdaa56-e539-44ab-bd2e-9e8b3b33f71f",
   "metadata": {},
   "source": [
    "Flow: https://water.weather.gov/ahps2/hydrograph.php?wfo=bmx&gage=toda1\n"
   ]
  },
  {
   "cell_type": "code",
   "execution_count": 44,
   "id": "784e276b-89c3-49a9-acf5-0ef6a1c5f544",
   "metadata": {},
   "outputs": [],
   "source": [
    "pres_elevation = 213 * ureg.ft\n",
    "river_elevation = 123 * ureg.ft\n",
    "river_flow = 2 * 1000 * ureg.ft * 3 / ureg.second  # given in kcfs"
   ]
  },
  {
   "cell_type": "markdown",
   "id": "5b3754f2-4e2c-4a78-8e35-33a88dedb50b",
   "metadata": {},
   "source": [
    "#### Necessary Power\n",
    "\n",
    "Assuming that the turbine is 90 percent efficient, that the generator in 96% efficient, and that the headloss is ~2% of the total dh \n"
   ]
  },
  {
   "cell_type": "code",
   "execution_count": 60,
   "id": "a9007fcf-f7f4-4643-9b0c-a2d5094e8c91",
   "metadata": {},
   "outputs": [],
   "source": [
    "density_water = 1000 * ureg.kg / ureg.m ** 3\n",
    "\n",
    "P_desired = 5 * ureg.MW\n",
    "E_desired = P_desired * 10 * 3600 * ureg.second\n",
    "\n",
    "N_gen = 0.96\n",
    "N_turbine = 0.9\n",
    "\n",
    "HL = (pres_elevation - river_elevation) * (0.02)\n"
   ]
  },
  {
   "cell_type": "markdown",
   "id": "e994f070-0fd2-4ea4-b9eb-129621f0a32d",
   "metadata": {},
   "source": [
    "#### Determine the necessary flow rate"
   ]
  },
  {
   "cell_type": "code",
   "execution_count": 61,
   "id": "38072ad9-f105-4070-b62c-224a61980cdc",
   "metadata": {},
   "outputs": [
    {
     "data": {
      "text/html": [
       "5.787037037037037 megawatt"
      ],
      "text/latex": [
       "$5.787037037037037\\ \\mathrm{megawatt}$"
      ],
      "text/plain": [
       "5.787037037037037 <Unit('megawatt')>"
      ]
     },
     "execution_count": 61,
     "metadata": {},
     "output_type": "execute_result"
    }
   ],
   "source": [
    "P_water = P_desired / N_gen / N_turbine\n",
    "P_water"
   ]
  },
  {
   "cell_type": "code",
   "execution_count": 64,
   "id": "aa56e955-1708-4bad-be0c-4ccb91e091a2",
   "metadata": {},
   "outputs": [
    {
     "data": {
      "text/html": [
       "775.1881951148223 foot<sup>3</sup>/second"
      ],
      "text/latex": [
       "$775.1881951148223\\ \\frac{\\mathrm{foot}^{3}}{\\mathrm{second}}$"
      ],
      "text/plain": [
       "775.1881951148223 <Unit('foot ** 3 / second')>"
      ]
     },
     "execution_count": 64,
     "metadata": {},
     "output_type": "execute_result"
    }
   ],
   "source": [
    "m_water = (P_water / ((pres_elevation - river_elevation - HL) * ureg.gravity * density_water)).to('ft^3 / s')\n",
    "m_water"
   ]
  },
  {
   "cell_type": "markdown",
   "id": "b1fc18c9-0247-47a5-9221-0950b9be37d3",
   "metadata": {},
   "source": [
    "#### Necessary Storage Volume"
   ]
  },
  {
   "cell_type": "code",
   "execution_count": 66,
   "id": "19dbab38-b4e7-4aa4-8e61-41d581491528",
   "metadata": {},
   "outputs": [
    {
     "data": {
      "text/html": [
       "421.49738745782565 foot<sup>1.5</sup>"
      ],
      "text/latex": [
       "$421.49738745782565\\ \\mathrm{foot}^{1.5}$"
      ],
      "text/plain": [
       "421.49738745782565 <Unit('foot ** 1.5')>"
      ]
     },
     "execution_count": 66,
     "metadata": {},
     "output_type": "execute_result"
    }
   ],
   "source": [
    "((E_desired / P_desired) * m_water / 50 / np.pi)**(1/2)"
   ]
  },
  {
   "cell_type": "markdown",
   "id": "4a8316c6-aa48-4563-a9c0-8f9f5d287bdb",
   "metadata": {},
   "source": [
    "#### Computing the installed cost\n",
    "\n",
    "https://www.irena.org/costs/Power-Generation-Costs/Hydropower"
   ]
  },
  {
   "cell_type": "code",
   "execution_count": 93,
   "id": "1ba96759-7dfd-4ae6-9e9b-1a92ee59d599",
   "metadata": {},
   "outputs": [
    {
     "data": {
      "text/html": [
       "22500000.0 dimensionless"
      ],
      "text/latex": [
       "$22500000.0\\ dimensionless$"
      ],
      "text/plain": [
       "22500000.0 <Unit('dimensionless')>"
      ]
     },
     "execution_count": 93,
     "metadata": {},
     "output_type": "execute_result"
    }
   ],
   "source": [
    "C_p = 4500 / ureg.kW\n",
    "cost_hydro = P_desired * C_p\n",
    "cost_hydro = cost_hydro.to('dimensionless')\n",
    "cost_hydro"
   ]
  },
  {
   "cell_type": "markdown",
   "id": "16172d28-1b03-4d8c-964f-bdee79c07719",
   "metadata": {},
   "source": [
    "## Total Cost Analysis\n",
    "\n",
    "For comparision https://buildingbama.ua.edu/projects/new-tutwiler-residence-hall/ costs $144,900,659.00"
   ]
  },
  {
   "cell_type": "markdown",
   "id": "b2393e7e-d1cd-42f3-8145-b28e4b94486d",
   "metadata": {},
   "source": [
    "### Solar\n",
    "\n",
    "https://www.eia.gov/todayinenergy/detail.php?id=36813"
   ]
  },
  {
   "cell_type": "code",
   "execution_count": 74,
   "id": "034b294f-794d-4108-b0b7-162756094e5b",
   "metadata": {},
   "outputs": [
    {
     "data": {
      "text/plain": [
       "23.404653"
      ]
     },
     "execution_count": 74,
     "metadata": {},
     "output_type": "execute_result"
    }
   ],
   "source": [
    "parking_lots['PV Capacity'].sum()"
   ]
  },
  {
   "cell_type": "code",
   "execution_count": 94,
   "id": "2d2ca81d-c7bb-419e-8d3e-eedd33e39ab1",
   "metadata": {},
   "outputs": [
    {
     "data": {
      "text/html": [
       "68364991.413 dimensionless"
      ],
      "text/latex": [
       "$68364991.413\\ dimensionless$"
      ],
      "text/plain": [
       "68364991.413 <Unit('dimensionless')>"
      ]
     },
     "execution_count": 94,
     "metadata": {},
     "output_type": "execute_result"
    }
   ],
   "source": [
    "C_solar = 2921 / ureg.kW\n",
    "cost_solar = parking_lots['PV Capacity'].sum() * ureg.MW * C_solar\n",
    "cost_solar = cost_solar.to('dimensionless')\n",
    "cost_solar"
   ]
  },
  {
   "cell_type": "markdown",
   "id": "263e9142-3541-49fa-88f6-980fcc2ffee8",
   "metadata": {},
   "source": [
    "### Cost of Electricity"
   ]
  },
  {
   "cell_type": "code",
   "execution_count": 86,
   "id": "20686fb2-78e0-4cda-b2f6-8bb1274af796",
   "metadata": {},
   "outputs": [],
   "source": [
    "c_p_kwh = 13.53 / 100 / ureg.kWh   # 13.53 cents per kWh per https://www.chooseenergy.com/electricity-rates-by-state/\n",
    "# c_resale_kwh = "
   ]
  },
  {
   "cell_type": "markdown",
   "id": "6785da63-449e-4c5b-9437-23573a0269ab",
   "metadata": {},
   "source": [
    "### For the sake of simplicity, lets say that UA simply consumes the area under the solar curve"
   ]
  },
  {
   "cell_type": "code",
   "execution_count": 87,
   "id": "1ba813d8-a9af-4656-8710-12ebd67aa6fa",
   "metadata": {},
   "outputs": [],
   "source": [
    "yearly_elec = np.trapz(pv.squeeze().to_series().values, dx=3600) * ureg.MW * ureg.second"
   ]
  },
  {
   "cell_type": "code",
   "execution_count": 88,
   "id": "09aa24c1-73ac-4153-9201-bd3b0ca21587",
   "metadata": {},
   "outputs": [
    {
     "data": {
      "text/html": [
       "4407278.904662651 dimensionless"
      ],
      "text/latex": [
       "$4407278.904662651\\ dimensionless$"
      ],
      "text/plain": [
       "4407278.904662651 <Unit('dimensionless')>"
      ]
     },
     "execution_count": 88,
     "metadata": {},
     "output_type": "execute_result"
    }
   ],
   "source": [
    "yearly_elec.to('kWh') * c_p_kwh"
   ]
  },
  {
   "cell_type": "markdown",
   "id": "01003a61-9440-4e88-b507-c9c48e2a9775",
   "metadata": {},
   "source": [
    "## Cost Benefit Analysis"
   ]
  },
  {
   "cell_type": "code",
   "execution_count": 95,
   "id": "701a5148-c78c-4714-b72e-d7d2712bc789",
   "metadata": {},
   "outputs": [
    {
     "data": {
      "text/html": [
       "90864991.413 dimensionless"
      ],
      "text/latex": [
       "$90864991.413\\ dimensionless$"
      ],
      "text/plain": [
       "90864991.413 <Unit('dimensionless')>"
      ]
     },
     "execution_count": 95,
     "metadata": {},
     "output_type": "execute_result"
    }
   ],
   "source": [
    "cost_solar + cost_hydro"
   ]
  },
  {
   "cell_type": "markdown",
   "id": "d6660cd6-298d-40da-9644-ecdeb44c8daf",
   "metadata": {},
   "source": [
    "### Payback Period"
   ]
  }
 ],
 "metadata": {
  "kernelspec": {
   "display_name": "homework",
   "language": "python",
   "name": "homework"
  },
  "language_info": {
   "codemirror_mode": {
    "name": "ipython",
    "version": 3
   },
   "file_extension": ".py",
   "mimetype": "text/x-python",
   "name": "python",
   "nbconvert_exporter": "python",
   "pygments_lexer": "ipython3",
   "version": "3.8.9"
  }
 },
 "nbformat": 4,
 "nbformat_minor": 5
}
