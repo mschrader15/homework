{
 "cells": [
  {
   "cell_type": "markdown",
   "id": "40ea64b2-0033-4e5b-a1ea-b92c6e73042f",
   "metadata": {},
   "source": [
    "# Final Exam\n",
    "\n",
    "ME-591\n",
    "\n",
    "Max Schrader"
   ]
  },
  {
   "cell_type": "code",
   "execution_count": 1,
   "id": "0dec5966-34b8-4314-931b-98b95f200950",
   "metadata": {},
   "outputs": [],
   "source": [
    "from hw_setup import *"
   ]
  },
  {
   "cell_type": "markdown",
   "id": "47e60755-e55d-4920-ac8b-930900f8fb44",
   "metadata": {
    "jp-MarkdownHeadingCollapsed": true,
    "tags": []
   },
   "source": [
    "# 8-51"
   ]
  },
  {
   "cell_type": "markdown",
   "id": "64156655-5962-40df-8ab3-90eb347d144b",
   "metadata": {},
   "source": [
    "A 75-percent-efficient steam boiler is used to generate saturated water vapor at 800 kPa at a rate of 10 kg/s. Water enters the boiler at the same pressure as a saturated liquid. Municipal solid waste (MSW) is burned in the boiler, and the heating value of MSW is 21,000 kJ/kg. The generated steam is run through an ideal turbine-generator unit to generate electricity. The pressure at turbine outlet is 75 kPa. Determine the rate of MSW consumption and the power generated in the generator."
   ]
  },
  {
   "cell_type": "code",
   "execution_count": 2,
   "id": "d13c3b12-b3a1-428e-a9dc-0001ec8eae68",
   "metadata": {},
   "outputs": [],
   "source": [
    "# m_msw = 10e3 * ureg.kg\n",
    "m_dot_steam = 10 * ureg.kg / ureg.s\n",
    "HV_MSW = 21_000 * ureg.kJ / ureg.kg\n",
    "P_t_out = 75 * ureg.kPa\n",
    "P_b_out = 800 * ureg.kPa\n",
    "N_boiler = 0.75\n",
    "N_T_gen = 1\n",
    "\n",
    "# T_in = 20 * ureg.degC\n",
    "# HV_msw = 18_000 * ureg.kJ / ureg.kg"
   ]
  },
  {
   "cell_type": "markdown",
   "id": "72cc1771-296f-42df-8c8e-10c4e558edcd",
   "metadata": {},
   "source": [
    "## Finding $h_2$ & $h_{3,s}$ "
   ]
  },
  {
   "cell_type": "code",
   "execution_count": 3,
   "id": "af388e71-4d5c-44f5-ba8c-de37704261de",
   "metadata": {},
   "outputs": [],
   "source": [
    "# X1 = 0 (given)\n",
    "P_1 = P_b_out  #  800 kPa (given)\n",
    "h_1 = 720.87 * ureg.kJ / ureg.kg"
   ]
  },
  {
   "cell_type": "code",
   "execution_count": 4,
   "id": "9b520b89-3411-40a1-8a1a-5e1a98d49566",
   "metadata": {},
   "outputs": [],
   "source": [
    "P_2 = P_b_out\n",
    "X_2 = 1\n",
    "h_2 = 2768.3 * ureg.kJ / ureg.kg\n",
    "s_2 = 6.6616 * ureg.kJ / ureg.kg"
   ]
  },
  {
   "cell_type": "code",
   "execution_count": 5,
   "id": "41501418-a9c3-43c8-9182-e69a4f63881d",
   "metadata": {},
   "outputs": [
    {
     "data": {
      "text/html": [
       "2372.5919341300096 kilojoule/kilogram"
      ],
      "text/latex": [
       "$2372.5919341300096\\ \\frac{\\mathrm{kilojoule}}{\\mathrm{kilogram}}$"
      ],
      "text/plain": [
       "2372.5919341300096 <Unit('kilojoule / kilogram')>"
      ]
     },
     "execution_count": 5,
     "metadata": {},
     "output_type": "execute_result"
    }
   ],
   "source": [
    "P_3 = P_t_out\n",
    "s_3 = s_2\n",
    "h_3s = ((s_3.magnitude - 1.2132) / (7.4558 - 1.2132) * (2662.4 - 384.44) + 384.44) * ureg.kJ / ureg.kg\n",
    "h_3s"
   ]
  },
  {
   "cell_type": "markdown",
   "id": "f67e1452-9811-40f2-8b43-7ae4116df1e5",
   "metadata": {},
   "source": [
    "## Finding $\\dot{m}_{MSW}$"
   ]
  },
  {
   "cell_type": "markdown",
   "id": "4f6691e3-26b8-434e-b6fb-14c92e526a20",
   "metadata": {},
   "source": [
    "$$\\eta_{boiler} = \\frac{\\dot{m}_{steam} (h_2 - h_1)}{\\dot{m}_{MSW} H_{MSW}}$$\n",
    "\n",
    "$$\\dot{m}_{MSW} = \\frac{\\dot{m}_{steam} (h_2 - h_1)}{\\eta_{boiler} H_{MSW}}$$"
   ]
  },
  {
   "cell_type": "code",
   "execution_count": 6,
   "id": "54e1352e-e783-4382-bb72-67eb9de9d503",
   "metadata": {},
   "outputs": [],
   "source": [
    "m_dot_msw = (m_dot_steam * (h_2 - h_1)) / (N_boiler * HV_MSW)"
   ]
  },
  {
   "cell_type": "code",
   "execution_count": 7,
   "id": "a81894ee-3ced-4342-aec7-a6ffc4a2c6f7",
   "metadata": {},
   "outputs": [
    {
     "name": "stdout",
     "output_type": "stream",
     "text": [
      "+-------------------------------------------------+\n",
      "| Rate of MSW Consumption = 1.3 kilogram / second |\n",
      "+-------------------------------------------------+\n"
     ]
    }
   ],
   "source": [
    "print_msg_box(f\"Rate of MSW Consumption = {round(m_dot_msw, 3)}\")"
   ]
  },
  {
   "cell_type": "markdown",
   "id": "dd162920-d1a3-4184-bb39-ecb059710c3b",
   "metadata": {},
   "source": [
    "## Power Generated"
   ]
  },
  {
   "cell_type": "code",
   "execution_count": 8,
   "id": "a2206bca-72e0-4d6c-bca1-585c3fa82d31",
   "metadata": {},
   "outputs": [
    {
     "data": {
      "text/html": [
       "2372.5919341300096 kilojoule/kilogram"
      ],
      "text/latex": [
       "$2372.5919341300096\\ \\frac{\\mathrm{kilojoule}}{\\mathrm{kilogram}}$"
      ],
      "text/plain": [
       "2372.5919341300096 <Unit('kilojoule / kilogram')>"
      ]
     },
     "execution_count": 8,
     "metadata": {},
     "output_type": "execute_result"
    }
   ],
   "source": [
    "h_3 = (N_T_gen * (h_2 - h_3s) - h_2) * -1\n",
    "h_3  # same as h_3s since N_T = 1"
   ]
  },
  {
   "cell_type": "code",
   "execution_count": 9,
   "id": "29172161-4c01-48d2-9439-dfb231c452d3",
   "metadata": {},
   "outputs": [],
   "source": [
    "W_turbine = m_dot_steam * (h_2 - h_3)"
   ]
  },
  {
   "cell_type": "code",
   "execution_count": 10,
   "id": "ba15c7e8-9a46-45d0-8558-a6da69ca5e53",
   "metadata": {},
   "outputs": [
    {
     "name": "stdout",
     "output_type": "stream",
     "text": [
      "+-------------------------------------+\n",
      "| Power Generated = 3957.081 kilowatt |\n",
      "+-------------------------------------+\n"
     ]
    }
   ],
   "source": [
    "print_msg_box(f\"Power Generated = {round(W_turbine.to('kW'), 3)}\")"
   ]
  },
  {
   "cell_type": "markdown",
   "id": "96fda642-90b6-43e1-9769-8af70194b0ab",
   "metadata": {},
   "source": [
    "# 9-12"
   ]
  },
  {
   "cell_type": "markdown",
   "id": "2dca19be-0376-498d-8bb6-06dfc4a3a047",
   "metadata": {},
   "source": [
    "An OTEC power plant operates on an open cycle with a surface water temperature of 30°C and a deep water temperature of 6°C. The evaporator is maintained at a saturation pressure of 3 kPa and condenser pressure is 1.5 kPa. The turbine is isentropic and produces 200 kW of power. Determine (a) the mass flow rate warm surface water, (b) the thermal efficiency of the cycle, and (c) the mass flow rate of cold deep water. Neglect pumping power and other internal or auxiliary power consumptions in the plant."
   ]
  },
  {
   "cell_type": "code",
   "execution_count": 11,
   "id": "9528a0e0-a5f8-405e-bf84-a2f34abf3eae",
   "metadata": {},
   "outputs": [],
   "source": [
    "T_1 = 30 * ureg.degC\n",
    "x_1 = 0\n",
    "# m_dot = 1000 * ureg.kg / ureg.sec\n",
    "\n",
    "P_2 = 3 * ureg.kPa\n",
    "# T_2 = 25 * ureg.degC\n",
    "\n",
    "P_5 = 1.5 * ureg.kPa\n",
    "# T_5 = 15 * ureg.degC\n",
    "\n",
    "W_dot_turbine = 200 * ureg.kW\n",
    "N_turbine = 1"
   ]
  },
  {
   "cell_type": "markdown",
   "id": "45f66bb8-037b-45c3-81ff-2fd2531f6223",
   "metadata": {},
   "source": [
    "## The Mass Flow Rate of Warm Surface Water"
   ]
  },
  {
   "cell_type": "code",
   "execution_count": 12,
   "id": "b4d4dac0-6a73-4584-a916-ae1b5eb75be5",
   "metadata": {},
   "outputs": [],
   "source": [
    "h_1 = 125.74 * ureg.kJ / ureg.kg\n",
    "\n",
    "# 2\n",
    "h_2 = h_1\n",
    "T_2 = 24.08 * ureg.degC\n",
    "\n",
    "# 3\n",
    "h_3 = 2544.8 * ureg.kJ / ureg.kg\n",
    "s_3 = 8.5765 * ureg.kg / (ureg.kJ * ureg.degK)\n",
    "v_3 = 45.654 * ureg.meter ** 3 / ureg.kg\n",
    "\n",
    "# 4\n",
    "h_4 = 100.98 * ureg.kJ / ureg.kg\n"
   ]
  },
  {
   "cell_type": "code",
   "execution_count": 13,
   "id": "78c5c80c-e2c0-4cae-8efd-65c997a2e95a",
   "metadata": {},
   "outputs": [
    {
     "data": {
      "text/html": [
       "0.010131679092568189 dimensionless"
      ],
      "text/latex": [
       "$0.010131679092568189\\ dimensionless$"
      ],
      "text/plain": [
       "0.010131679092568189 <Unit('dimensionless')>"
      ]
     },
     "execution_count": 13,
     "metadata": {},
     "output_type": "execute_result"
    }
   ],
   "source": [
    "x_2 = (h_2 - h_4) / (h_3 - h_4)\n",
    "x_2"
   ]
  },
  {
   "cell_type": "markdown",
   "id": "48ead712-3edb-4c6e-b769-51c56f24870b",
   "metadata": {},
   "source": [
    "### Mass Flow Steam from Turbine"
   ]
  },
  {
   "cell_type": "code",
   "execution_count": 14,
   "id": "ece5b0d9-aed2-4ef9-9618-e536a296cf18",
   "metadata": {},
   "outputs": [
    {
     "data": {
      "text/plain": [
       "0.9716211623428117"
      ]
     },
     "execution_count": 14,
     "metadata": {},
     "output_type": "execute_result"
    }
   ],
   "source": [
    "s_5_s = s_3\n",
    "T_5_s = 13.02 * ureg.degC\n",
    "x_5_s = 1 - (8.8270 - s_3.magnitude) / 8.8270\n",
    "x_5_s"
   ]
  },
  {
   "cell_type": "code",
   "execution_count": 15,
   "id": "db0f6c18-86d4-4c45-83de-ed1bac774f67",
   "metadata": {},
   "outputs": [
    {
     "data": {
      "text/html": [
       "2454.6894331029794 kilojoule/kilogram"
      ],
      "text/latex": [
       "$2454.6894331029794\\ \\frac{\\mathrm{kilojoule}}{\\mathrm{kilogram}}$"
      ],
      "text/plain": [
       "2454.6894331029794 <Unit('kilojoule / kilogram')>"
      ]
     },
     "execution_count": 15,
     "metadata": {},
     "output_type": "execute_result"
    }
   ],
   "source": [
    "h_5s = (x_5_s * 2470.1 + 54.688) * ureg.kJ / ureg.kg\n",
    "h_5s"
   ]
  },
  {
   "cell_type": "code",
   "execution_count": 16,
   "id": "358fc6b0-47a6-4fad-b0c5-15edbe6ca182",
   "metadata": {},
   "outputs": [
    {
     "data": {
      "text/html": [
       "2454.6894331029794 kilojoule/kilogram"
      ],
      "text/latex": [
       "$2454.6894331029794\\ \\frac{\\mathrm{kilojoule}}{\\mathrm{kilogram}}$"
      ],
      "text/plain": [
       "2454.6894331029794 <Unit('kilojoule / kilogram')>"
      ]
     },
     "execution_count": 16,
     "metadata": {},
     "output_type": "execute_result"
    }
   ],
   "source": [
    "h_5 = (N_turbine * (h_3 -  h_5s) - h_3) * -1\n",
    "h_5"
   ]
  },
  {
   "cell_type": "code",
   "execution_count": 17,
   "id": "f4fac20d-440a-4f85-8e09-bdccdf2b474e",
   "metadata": {},
   "outputs": [
    {
     "data": {
      "text/html": [
       "85.46868492432309 meter<sup>3</sup>/kilogram"
      ],
      "text/latex": [
       "$85.46868492432309\\ \\frac{\\mathrm{meter}^{3}}{\\mathrm{kilogram}}$"
      ],
      "text/plain": [
       "85.46868492432309 <Unit('meter ** 3 / kilogram')>"
      ]
     },
     "execution_count": 17,
     "metadata": {},
     "output_type": "execute_result"
    }
   ],
   "source": [
    "v_5 = (x_5_s * 87.964 + 0.001001) * ureg.meter ** 3 / ureg.kg\n",
    "# V_5 = m_dot_3 * v_5\n",
    "v_5"
   ]
  },
  {
   "cell_type": "code",
   "execution_count": 18,
   "id": "8ffc141e-7aed-4844-95c3-a199a57ec53e",
   "metadata": {},
   "outputs": [
    {
     "data": {
      "text/html": [
       "2.219495525186983 kilogram/second"
      ],
      "text/latex": [
       "$2.219495525186983\\ \\frac{\\mathrm{kilogram}}{\\mathrm{second}}$"
      ],
      "text/plain": [
       "2.219495525186983 <Unit('kilogram / second')>"
      ]
     },
     "execution_count": 18,
     "metadata": {},
     "output_type": "execute_result"
    }
   ],
   "source": [
    "m_dot_3 = W_dot_turbine / (h_3 - h_5)\n",
    "m_dot_3.to('kg/s')"
   ]
  },
  {
   "cell_type": "markdown",
   "id": "65720939-09a5-44ad-b186-91e53de6566c",
   "metadata": {},
   "source": [
    "### Warm Surface Water"
   ]
  },
  {
   "cell_type": "code",
   "execution_count": 19,
   "id": "f3135443-b047-4615-892e-a3561a87013b",
   "metadata": {},
   "outputs": [
    {
     "name": "stdout",
     "output_type": "stream",
     "text": [
      "+-----------------------------------------------------------+\n",
      "| Mass Flow Rate of Surface Water: 219.06 kilogram / second |\n",
      "+-----------------------------------------------------------+\n"
     ]
    }
   ],
   "source": [
    "m_dot_water = m_dot_3 / x_2\n",
    "print_msg_box(f\"Mass Flow Rate of Surface Water: {round(m_dot_water.to('kg/s'), 2)}\")"
   ]
  },
  {
   "cell_type": "markdown",
   "id": "cb28436c-cae2-41f7-9232-734d8aeab215",
   "metadata": {},
   "source": [
    "## Thermal Efficiency of the Cycle"
   ]
  },
  {
   "cell_type": "code",
   "execution_count": 20,
   "id": "503dbae7-aa04-4d10-9630-8ab76e7d156d",
   "metadata": {},
   "outputs": [],
   "source": [
    "Q_in = m_dot_water * h_1 - m_dot_3 * h_4"
   ]
  },
  {
   "cell_type": "code",
   "execution_count": 21,
   "id": "e95d06ca-2222-49c0-a7ed-86c947e8ae19",
   "metadata": {},
   "outputs": [
    {
     "name": "stdout",
     "output_type": "stream",
     "text": [
      "+----------------------------+\n",
      "| Thermal Efficiency = 0.73% |\n",
      "+----------------------------+\n"
     ]
    }
   ],
   "source": [
    "n_th = W_dot_turbine / Q_in\n",
    "print_msg_box(f\"Thermal Efficiency = {round((n_th * 100).magnitude, 2)}%\")"
   ]
  },
  {
   "cell_type": "markdown",
   "id": "efa77686-d5ac-41ab-9966-cc3c670cd119",
   "metadata": {},
   "source": [
    "## The mass flow rate of cold deep water"
   ]
  },
  {
   "cell_type": "code",
   "execution_count": 22,
   "id": "b1a8c933-f2bb-40db-95d1-d934efd0e143",
   "metadata": {},
   "outputs": [],
   "source": [
    "h_6 = ((42.022 - 21.020) / (10 - 5) * (6 - 5) + 21.020) * ureg.kJ / ureg.kg\n",
    "h_7 = 54.688 * ureg.kJ / ureg.kg"
   ]
  },
  {
   "cell_type": "code",
   "execution_count": 23,
   "id": "b1046beb-a288-43b6-ad41-6eff3c249830",
   "metadata": {},
   "outputs": [
    {
     "data": {
      "text/html": [
       "25.220399999999998 kilojoule/kilogram"
      ],
      "text/latex": [
       "$25.220399999999998\\ \\frac{\\mathrm{kilojoule}}{\\mathrm{kilogram}}$"
      ],
      "text/plain": [
       "25.220399999999998 <Unit('kilojoule / kilogram')>"
      ]
     },
     "execution_count": 23,
     "metadata": {},
     "output_type": "execute_result"
    }
   ],
   "source": [
    "h_6"
   ]
  },
  {
   "cell_type": "code",
   "execution_count": 24,
   "id": "bacc7230-c754-42a7-b383-7d70cafa7bd9",
   "metadata": {},
   "outputs": [
    {
     "name": "stdout",
     "output_type": "stream",
     "text": [
      "+------------------------------------------------------------------+\n",
      "| Mass Flow Rate Cold Water = 180.76777346015314 kilogram / second |\n",
      "+------------------------------------------------------------------+\n"
     ]
    }
   ],
   "source": [
    "print_msg_box(f\"Mass Flow Rate Cold Water = {((m_dot_3 * h_5 - (m_dot_3 * h_7)) / (h_7 - h_6)).to('kg/s')}\")"
   ]
  },
  {
   "cell_type": "markdown",
   "id": "bd6e3d9f-e05f-4962-9cb0-ed8fcb969aff",
   "metadata": {},
   "source": [
    "# 11-38"
   ]
  },
  {
   "cell_type": "markdown",
   "id": "50749158-d494-40d1-ad92-875b0fd4eb50",
   "metadata": {},
   "source": [
    "A food manufacturing plant decides to add another type of cookies to its production line. The plant spends 220,000 for the purchase and installation of the equipment. Other estimated costs on an annual basis include the followings:\n",
    "\n",
    "1. Operating and maintenance cost = 7000 \n",
    "2. Electricity cost = 48,000 \n",
    "3. Natural gas cost = 37,000\n",
    "3. Raw material cost = 260,000 \n",
    "4. Staff cost = 240,000\n",
    "\n",
    "The lifetime of the equipment is estimated to be 12 years after which it will have a salvage value of 22,000. The plant is to produce 250,000 kg of cookies per year. Taking the interest rate to be 6 percent, determine the unit product cost."
   ]
  },
  {
   "cell_type": "code",
   "execution_count": 25,
   "id": "fc89ce43-7cca-4ea8-8eed-98d513d9e1e9",
   "metadata": {},
   "outputs": [],
   "source": [
    "i = 0.06\n",
    "n = 12\n",
    "costs = [0] * 6 \n",
    "N_cookies = 250_000"
   ]
  },
  {
   "cell_type": "code",
   "execution_count": 26,
   "id": "e75c4a77-8348-45e1-8d33-c6b12eb68f65",
   "metadata": {},
   "outputs": [
    {
     "data": {
      "text/plain": [
       "26240.946463745982"
      ]
     },
     "execution_count": 26,
     "metadata": {},
     "output_type": "execute_result"
    }
   ],
   "source": [
    "costs[0] = 220_000 * (i / (1 - (1 + i) ** (-n)))\n",
    "costs[0]"
   ]
  },
  {
   "cell_type": "code",
   "execution_count": 27,
   "id": "b9470e3d-2e1d-4b00-8b46-e3f0a48b3507",
   "metadata": {},
   "outputs": [],
   "source": [
    "costs[1] = 7000\n",
    "costs[2] = 48_000\n",
    "costs[3] = 37_000\n",
    "costs[4] = 260_000\n",
    "costs[5] = 240_000"
   ]
  },
  {
   "cell_type": "markdown",
   "id": "f9749e58-415a-45c2-b757-100d203164eb",
   "metadata": {},
   "source": [
    "### Without Salvage Value\n",
    "\n",
    "In Example 11-5 in the book, the salvage value is not taken into account"
   ]
  },
  {
   "cell_type": "code",
   "execution_count": 28,
   "id": "e35c3278-db2d-4e58-b0ce-b0a5e45eb437",
   "metadata": {},
   "outputs": [
    {
     "data": {
      "text/plain": [
       "-618240.946463746"
      ]
     },
     "execution_count": 28,
     "metadata": {},
     "output_type": "execute_result"
    }
   ],
   "source": [
    "levelized_annual_value = -1 * sum(costs)\n",
    "levelized_annual_value"
   ]
  },
  {
   "cell_type": "code",
   "execution_count": 29,
   "id": "fa7c25e3-1edb-46fd-9b83-9345c0bdbb81",
   "metadata": {},
   "outputs": [],
   "source": [
    "UPC = levelized_annual_value / N_cookies"
   ]
  },
  {
   "cell_type": "code",
   "execution_count": 30,
   "id": "fb4660ac-976f-4043-8fde-713f17f7d391",
   "metadata": {},
   "outputs": [
    {
     "name": "stdout",
     "output_type": "stream",
     "text": [
      "+--------------------------------+\n",
      "| Unit product cost = 2.473 $/kg |\n",
      "+--------------------------------+\n"
     ]
    }
   ],
   "source": [
    "print_msg_box(f\"Unit product cost = {round(UPC * -1, 4)} $/kg\")"
   ]
  },
  {
   "cell_type": "markdown",
   "id": "52a95ccf-296c-4e00-b162-7c827a977eeb",
   "metadata": {},
   "source": [
    "### With Salvage Value"
   ]
  },
  {
   "cell_type": "code",
   "execution_count": 31,
   "id": "338a1713-daa9-4e33-8102-6684679a4f64",
   "metadata": {},
   "outputs": [
    {
     "data": {
      "text/plain": [
       "10933.325998694014"
      ]
     },
     "execution_count": 31,
     "metadata": {},
     "output_type": "execute_result"
    }
   ],
   "source": [
    "P_salvage = 22_000 / ((1 + i)**(n))\n",
    "P_salvage"
   ]
  },
  {
   "cell_type": "code",
   "execution_count": 32,
   "id": "fb5397fc-9a86-4a34-a7f5-7b690a6471ee",
   "metadata": {},
   "outputs": [],
   "source": [
    "U_salvage = P_salvage * (i / (1 - (1 + i) ** (-n)))\n",
    "costs.append(-1 * U_salvage)"
   ]
  },
  {
   "cell_type": "code",
   "execution_count": 33,
   "id": "256fa23e-1809-4b0e-87a8-7fd037b7562f",
   "metadata": {},
   "outputs": [
    {
     "data": {
      "text/plain": [
       "-616936.8518173714"
      ]
     },
     "execution_count": 33,
     "metadata": {},
     "output_type": "execute_result"
    }
   ],
   "source": [
    "levelized_annual_value = -1 * sum(costs)\n",
    "levelized_annual_value"
   ]
  },
  {
   "cell_type": "code",
   "execution_count": 34,
   "id": "9f3ef7d7-99df-46e8-946d-e400c83d7338",
   "metadata": {},
   "outputs": [],
   "source": [
    "UPC = levelized_annual_value / N_cookies"
   ]
  },
  {
   "cell_type": "code",
   "execution_count": 35,
   "id": "123f1563-98c7-4cf5-8f01-d5001183e0ff",
   "metadata": {},
   "outputs": [
    {
     "name": "stdout",
     "output_type": "stream",
     "text": [
      "+---------------------------------+\n",
      "| Unit product cost = 2.4677 $/kg |\n",
      "+---------------------------------+\n"
     ]
    }
   ],
   "source": [
    "print_msg_box(f\"Unit product cost = {round(UPC * -1, 4)} $/kg\")"
   ]
  },
  {
   "cell_type": "markdown",
   "id": "e811c09d-6104-45fe-8d79-818fc93d0fc6",
   "metadata": {},
   "source": [
    "# 11-54"
   ]
  },
  {
   "cell_type": "markdown",
   "id": "ddd0345b-bc62-49c1-8e7e-27f9b08d5af7",
   "metadata": {},
   "source": [
    "In order to generate her own electricity, a home owner decides to install a photovoltaic panel on the roof of her house. The panel costs 8000 and it does not require any operating and maintenance expenses. It is estimated that the panel will save 110 per month from the electricity bill. Taking the interest rate to be 9 percent, determine the discounted and simple payback periods. What would your answers be if the interest rate was zero percent?"
   ]
  },
  {
   "cell_type": "code",
   "execution_count": 36,
   "id": "1d5f80df-3c55-4bcf-adb0-dbda4d7d1858",
   "metadata": {},
   "outputs": [],
   "source": [
    "i = 0.09\n",
    "U = 110 * 12\n",
    "C = 8000"
   ]
  },
  {
   "cell_type": "markdown",
   "id": "ca9fca32-ab18-4bb6-87fc-6dd96165aeb8",
   "metadata": {},
   "source": [
    "## Simple Payback Period"
   ]
  },
  {
   "cell_type": "code",
   "execution_count": 37,
   "id": "017237a5-ad2e-4c4d-b257-669583ccb059",
   "metadata": {},
   "outputs": [
    {
     "name": "stdout",
     "output_type": "stream",
     "text": [
      "+----------------------------------+\n",
      "| Simple Payback Period = 6.06 yrs |\n",
      "+----------------------------------+\n"
     ]
    }
   ],
   "source": [
    "n_spb = C / U\n",
    "print_msg_box(f\"Simple Payback Period = {round(n_spb, 2)} yrs\")"
   ]
  },
  {
   "cell_type": "markdown",
   "id": "c118aec2-eb73-4d9d-a7ac-324fa2003dc2",
   "metadata": {},
   "source": [
    "## Discounted Payback Period"
   ]
  },
  {
   "cell_type": "code",
   "execution_count": 38,
   "id": "f295295c-f2db-4e37-83c1-3f213aeb6717",
   "metadata": {},
   "outputs": [
    {
     "name": "stdout",
     "output_type": "stream",
     "text": [
      "+--------------------------------------+\n",
      "| Discounted Payback Period = 9.15 yrs |\n",
      "+--------------------------------------+\n"
     ]
    }
   ],
   "source": [
    "n_dpb = np.log((1 - (C/U) * i) ** (-1)) / np.log(1 + i)\n",
    "print_msg_box(f\"Discounted Payback Period = {round(n_dpb, 2)} yrs\")"
   ]
  },
  {
   "cell_type": "markdown",
   "id": "b732ac74-c8c0-4444-94ab-31422b290915",
   "metadata": {},
   "source": [
    "## When Interest Rate is 0 %"
   ]
  },
  {
   "cell_type": "code",
   "execution_count": 39,
   "id": "a563ac2f-2d4f-422f-b416-be3c8dc9c544",
   "metadata": {},
   "outputs": [],
   "source": [
    "i = 0.000001"
   ]
  },
  {
   "cell_type": "code",
   "execution_count": 40,
   "id": "25cccdb0-590a-4187-95dd-127adbe9f719",
   "metadata": {},
   "outputs": [
    {
     "name": "stdout",
     "output_type": "stream",
     "text": [
      "+----------------------------------+\n",
      "| Simple Payback Period = 6.06 yrs |\n",
      "+----------------------------------+\n"
     ]
    }
   ],
   "source": [
    "n_spb = C / U\n",
    "print_msg_box(f\"Simple Payback Period = {round(n_spb, 2)} yrs\")"
   ]
  },
  {
   "cell_type": "code",
   "execution_count": 41,
   "id": "d302c7c4-0939-484d-baa4-91bb31af10b7",
   "metadata": {},
   "outputs": [
    {
     "name": "stdout",
     "output_type": "stream",
     "text": [
      "+--------------------------------------+\n",
      "| Discounted Payback Period = 6.06 yrs |\n",
      "+--------------------------------------+\n"
     ]
    }
   ],
   "source": [
    "n_dpb = np.log((1 - (C/U) * i) ** (-1)) / np.log(1 + i)\n",
    "print_msg_box(f\"Discounted Payback Period = {round(n_dpb, 2)} yrs\")"
   ]
  },
  {
   "cell_type": "markdown",
   "id": "838e60e8-1d0d-4520-ad61-c16dade47e02",
   "metadata": {},
   "source": [
    "The Simple Payback Period and Discounted Payback period converge as the interest rate -> 0"
   ]
  }
 ],
 "metadata": {
  "kernelspec": {
   "display_name": "homework",
   "language": "python",
   "name": "homework"
  },
  "language_info": {
   "codemirror_mode": {
    "name": "ipython",
    "version": 3
   },
   "file_extension": ".py",
   "mimetype": "text/x-python",
   "name": "python",
   "nbconvert_exporter": "python",
   "pygments_lexer": "ipython3",
   "version": "3.8.9"
  }
 },
 "nbformat": 4,
 "nbformat_minor": 5
}
