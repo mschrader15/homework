{
 "cells": [
  {
   "cell_type": "markdown",
   "id": "05593b4c-23c3-4c78-8396-2e22c9e0bf8f",
   "metadata": {},
   "source": [
    "# HW7\n",
    "\n",
    "Max Schrader\n",
    "\n",
    "10/05"
   ]
  },
  {
   "cell_type": "code",
   "execution_count": 1,
   "id": "55302497-9035-4aec-bf46-361b8ea7e1b0",
   "metadata": {},
   "outputs": [],
   "source": [
    "from hw_setup import *"
   ]
  },
  {
   "cell_type": "markdown",
   "id": "0ed8fb91-6dfb-4c4e-8b71-8078ebf9373f",
   "metadata": {
    "tags": []
   },
   "source": [
    "## Question 1: 10-7"
   ]
  },
  {
   "cell_type": "code",
   "execution_count": 2,
   "id": "9ed34d18-354c-4691-ab75-566b84a3fb62",
   "metadata": {},
   "outputs": [],
   "source": [
    "m_H2 = 2.016 * ureg.kg / ureg.kmol\n",
    "m_CH4 = 16.043 * ureg.kg / ureg.kmol"
   ]
  },
  {
   "cell_type": "markdown",
   "id": "fa0f3c6b-f828-4ed7-ab45-ca52a3623af4",
   "metadata": {
    "tags": []
   },
   "source": [
    "### How much Hydrogen can be produced from 100kg natural gas "
   ]
  },
  {
   "cell_type": "code",
   "execution_count": 3,
   "id": "f7b7d60b-6902-4e5a-af45-e182752c502b",
   "metadata": {},
   "outputs": [],
   "source": [
    "m_H2 = 100 * ureg.kg * (3 * ureg.kmol * m_H2) / (1 * ureg.kmol * m_CH4)"
   ]
  },
  {
   "cell_type": "code",
   "execution_count": 4,
   "id": "bdfb3adf-f6b5-45df-bbac-e57fac6eeaeb",
   "metadata": {},
   "outputs": [
    {
     "name": "stdout",
     "output_type": "stream",
     "text": [
      "╔═══════════════════════════════╗\n",
      "║ Hydrogen Mass = 37.7 kilogram ║\n",
      "╚═══════════════════════════════╝\n"
     ]
    }
   ],
   "source": [
    "print_msg_box(f\"Hydrogen Mass = {round(m_H2, 2)}\")"
   ]
  },
  {
   "cell_type": "markdown",
   "id": "52f407bd-00d0-46d6-ab91-17b4fe75c7cc",
   "metadata": {
    "tags": []
   },
   "source": [
    "### Finding Energy Consumption"
   ]
  },
  {
   "cell_type": "code",
   "execution_count": 5,
   "id": "58d7626b-1473-4060-9158-e657b0fa4ace",
   "metadata": {},
   "outputs": [
    {
     "name": "stdout",
     "output_type": "stream",
     "text": [
      "╔══════════════════════════════════════════════╗\n",
      "║ Energy Input Required = 857.12 kilowatt_hour ║\n",
      "╚══════════════════════════════════════════════╝\n"
     ]
    }
   ],
   "source": [
    "e = 81850 * ureg.kJ / ureg.kg\n",
    "\n",
    "E = e * m_H2\n",
    "\n",
    "print_msg_box(f\"Energy Input Required = {round(E.to('kWh'), 2)}\")"
   ]
  },
  {
   "cell_type": "markdown",
   "id": "d2767848-b40e-4897-b03f-c48c91364b05",
   "metadata": {
    "tags": []
   },
   "source": [
    "## Question 2: 10-9"
   ]
  },
  {
   "cell_type": "markdown",
   "id": "7136ead7-ebe9-4f50-b47d-5dcab9a84817",
   "metadata": {
    "tags": []
   },
   "source": [
    "### How much Hydrogen can be produced from 100lbm water"
   ]
  },
  {
   "cell_type": "code",
   "execution_count": 6,
   "id": "abe02513-61a4-4fcd-a019-32a4183e1f4f",
   "metadata": {},
   "outputs": [
    {
     "name": "stdout",
     "output_type": "stream",
     "text": [
      "╔═════════════════════════════╗\n",
      "║ Hydrogen Mass = 11.19 pound ║\n",
      "╚═════════════════════════════╝\n"
     ]
    }
   ],
   "source": [
    "m_H2_total = 100 * ureg.lb * (2.016 / 18.015) \n",
    "print_msg_box(f\"Hydrogen Mass = {round(m_H2_total, 2)}\")"
   ]
  },
  {
   "cell_type": "markdown",
   "id": "397eb37c-b840-4ccc-85b4-d73d552556ee",
   "metadata": {
    "tags": []
   },
   "source": [
    "### How much energy is consumed during this process, in kWh, if the process is ideal"
   ]
  },
  {
   "cell_type": "code",
   "execution_count": 7,
   "id": "853ebc87-b5eb-44bf-baea-b32d7c26f033",
   "metadata": {},
   "outputs": [
    {
     "name": "stdout",
     "output_type": "stream",
     "text": [
      "╔════════════════════════════════════════╗\n",
      "║ Energy Required = 165.89 kilowatt_hour ║\n",
      "╚════════════════════════════════════════╝\n"
     ]
    }
   ],
   "source": [
    "e = 117_650 * ureg.kJ / ureg.kg\n",
    "E = e * m_H2_total\n",
    "print_msg_box(f\"Energy Required = {round(E.to('kWh'), 2)}\")"
   ]
  },
  {
   "cell_type": "markdown",
   "id": "f47a2fa8-235b-4cc3-9167-472a1c54f393",
   "metadata": {},
   "source": [
    "## Question 3: 10-26"
   ]
  },
  {
   "cell_type": "code",
   "execution_count": 8,
   "id": "27b5d9fa-a21f-4d56-b189-cb134f53bf12",
   "metadata": {},
   "outputs": [],
   "source": [
    "m_dot = 0.2 * ureg.lb / ureg.hour\n",
    "W_dot = 2.5 * ureg.kW"
   ]
  },
  {
   "cell_type": "markdown",
   "id": "975ce4d2-6419-46e8-a9f1-eced74f67ba1",
   "metadata": {},
   "source": [
    "### Determine the rate of water produced"
   ]
  },
  {
   "cell_type": "code",
   "execution_count": 9,
   "id": "1ad3ab9d-038e-469d-af8e-d81fe0f73e12",
   "metadata": {},
   "outputs": [],
   "source": [
    "m_dot_h2O = m_dot * ((18.015 * ureg.kg) / (2.016 * ureg.kg))"
   ]
  },
  {
   "cell_type": "code",
   "execution_count": 10,
   "id": "09982f84-a729-4052-ada3-335ccd0fc140",
   "metadata": {},
   "outputs": [
    {
     "name": "stdout",
     "output_type": "stream",
     "text": [
      "╔════════════════════════════════════════════╗\n",
      "║ Rate of Water Produced = 1.79 pound / hour ║\n",
      "╚════════════════════════════════════════════╝\n"
     ]
    }
   ],
   "source": [
    "print_msg_box(f\"Rate of Water Produced = {round(m_dot_h2O.to('lb/hr'), 2)}\")"
   ]
  },
  {
   "cell_type": "markdown",
   "id": "73d1f9d6-e666-4b7b-a4c6-1fa940f12a6f",
   "metadata": {},
   "source": [
    "### Determine the first-law efficiency and second-law efficiency of this fuel cell if the water in the products is liquid."
   ]
  },
  {
   "cell_type": "code",
   "execution_count": 11,
   "id": "54cdb16d-3a54-44c8-8515-8ddc2de0d7bb",
   "metadata": {},
   "outputs": [
    {
     "name": "stdout",
     "output_type": "stream",
     "text": [
      "╔═══════════════════════════════╗\n",
      "║ First Law Efficiency = 82.67% ║\n",
      "╚═══════════════════════════════╝\n"
     ]
    }
   ],
   "source": [
    "N_fuel_cell = (W_dot / (m_dot * 120_000 * ureg.kJ / ureg.kg)).to('dimensionless').magnitude\n",
    "print_msg_box(f\"First Law Efficiency = {round(N_fuel_cell * 100, 2)}%\")"
   ]
  },
  {
   "cell_type": "code",
   "execution_count": 12,
   "id": "9e980783-f2af-4903-9dc9-98bd976568cd",
   "metadata": {},
   "outputs": [
    {
     "name": "stdout",
     "output_type": "stream",
     "text": [
      "╔════════════════════════════════╗\n",
      "║ Second Law Efficiency = 87.49% ║\n",
      "╚════════════════════════════════╝\n"
     ]
    }
   ],
   "source": [
    "N_fuel_cell_II = (W_dot / (m_dot * 113_390 * ureg.kJ / ureg.kg)).to('dimensionless').magnitude\n",
    "print_msg_box(f\"Second Law Efficiency = {round(N_fuel_cell_II * 100, 2)}%\")"
   ]
  }
 ],
 "metadata": {
  "kernelspec": {
   "display_name": "Python 3",
   "language": "python",
   "name": "python3"
  },
  "language_info": {
   "codemirror_mode": {
    "name": "ipython",
    "version": 3
   },
   "file_extension": ".py",
   "mimetype": "text/x-python",
   "name": "python",
   "nbconvert_exporter": "python",
   "pygments_lexer": "ipython3",
   "version": "3.9.5"
  }
 },
 "nbformat": 4,
 "nbformat_minor": 5
}
