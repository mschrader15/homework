{
 "cells": [
  {
   "cell_type": "markdown",
   "id": "feca037b-0e67-4215-b8b2-303151ec9988",
   "metadata": {},
   "source": [
    "# ME 591 HW 2\n",
    "\n",
    "Max Schrader\n",
    "\n",
    "8/30/21\n",
    "\n",
    "ME 591"
   ]
  },
  {
   "cell_type": "code",
   "execution_count": 1,
   "id": "f02cea93-0632-40a5-b792-f461a42d8e31",
   "metadata": {},
   "outputs": [],
   "source": [
    "import os\n",
    "import math\n",
    "import pint"
   ]
  },
  {
   "cell_type": "code",
   "execution_count": 2,
   "id": "724b9725-77e5-49d3-9ceb-9f83a8ee58ef",
   "metadata": {},
   "outputs": [],
   "source": [
    "ureg = pint.UnitRegistry()"
   ]
  },
  {
   "cell_type": "markdown",
   "id": "27791db8-c4d2-4acd-8db4-bd0eb953ed59",
   "metadata": {},
   "source": [
    "## 3 - 53"
   ]
  },
  {
   "cell_type": "markdown",
   "id": "dc9c0fe9-6112-4396-9ca6-345b3ec93371",
   "metadata": {},
   "source": [
    "### Constants"
   ]
  },
  {
   "cell_type": "code",
   "execution_count": 3,
   "id": "ca595dbf-d6d5-43cf-af2f-7a36d8751376",
   "metadata": {},
   "outputs": [],
   "source": [
    "alpha = 0.92\n",
    "epsilon = 0.08\n",
    "sigma = 5.67e-8 * ureg.watt / (ureg.meter ** 2 * ureg.K ** 4)\n",
    "\n",
    "solar_radiation = 860 * ureg.watt / (ureg.meter ** 2) # W / m^2\n",
    "\n",
    "T_air = ureg.Quantity(20, ureg.degC)\n",
    "T_sky = ureg.Quantity(7, ureg.degC)\n",
    "T_absorber = ureg.Quantity(60, ureg.degC)\n",
    "\n",
    "heat_transfer_coeff = 15 * ureg.watt / (ureg.meter ** 2 * ureg.K)"
   ]
  },
  {
   "cell_type": "markdown",
   "id": "085fc4c9-3378-4439-aff4-8de3f68ae265",
   "metadata": {},
   "source": [
    "### Equation"
   ]
  },
  {
   "cell_type": "markdown",
   "id": "461fc341-c8ba-4350-8d59-a18ece7d2900",
   "metadata": {},
   "source": [
    "$$\\dot{q}_{net} = \\dot{q}_{gain} - \\dot{q}_{loss}$$\n",
    "$$\\dot{q}_{net} = \\alpha_s G_{solar} - \\left [\\epsilon \\sigma \\left ( T_{s}^4 - T_{sky}^4 \\right ) + h \\left (T_{s} - T_{air} \\right ) \\right ]$$"
   ]
  },
  {
   "cell_type": "code",
   "execution_count": 4,
   "id": "ce33c8ba-00b8-45cb-aad6-dde2d51700f3",
   "metadata": {},
   "outputs": [],
   "source": [
    "q_net = alpha * solar_radiation - (epsilon * sigma * (T_absorber.to(ureg.K)**4 - T_sky.to(ureg.K)**4) + heat_transfer_coeff * (T_absorber - T_air))"
   ]
  },
  {
   "cell_type": "markdown",
   "id": "4d940a86-059c-45ee-b5bd-7f253f2367cc",
   "metadata": {},
   "source": [
    "### Answer"
   ]
  },
  {
   "cell_type": "code",
   "execution_count": 5,
   "id": "76bcc675-9bc6-4ba5-8f4d-dc5ae29bab71",
   "metadata": {},
   "outputs": [
    {
     "name": "stdout",
     "output_type": "stream",
     "text": [
      "net rate of solar energy delivered:  163.26 watt / meter ** 2\n"
     ]
    }
   ],
   "source": [
    "print(\"net rate of solar energy delivered: \", round(q_net, 2))"
   ]
  },
  {
   "cell_type": "markdown",
   "id": "1ff6400b-1605-490d-9429-cf6c2ff81404",
   "metadata": {},
   "source": [
    "## 3 - 66"
   ]
  },
  {
   "cell_type": "markdown",
   "id": "cecec662-31d5-4ffa-a82a-450efbb0d57d",
   "metadata": {},
   "source": [
    "### Constants"
   ]
  },
  {
   "cell_type": "code",
   "execution_count": 6,
   "id": "ba0b76c3-4d24-436b-bd14-99717c380fce",
   "metadata": {},
   "outputs": [],
   "source": [
    "solar_radiation = ureg.megajoule / ureg.meter"
   ]
  },
  {
   "cell_type": "code",
   "execution_count": 7,
   "id": "d10571ec-74f4-4081-95c3-1a8fc195847d",
   "metadata": {},
   "outputs": [],
   "source": [
    "nyc = {key: val * solar_radiation for key, val in {'Nov': 7.57, 'Dec': 5.79, 'Jan': 6.53, 'Feb': 9.88, 'Mar': 13.85, 'Jun': 22.03, 'Jul': 21.69, 'Aug': 19.42}.items()}\n",
    "tuscon = {key: val * solar_radiation for key, val in {'Dec': 11.24, 'Jan': 12.38, 'Feb': 15.90, 'May': 28.39, 'Jun': 29.30, 'Jul': 25.44, 'Aug': 24.08, 'Sep': 21.58}.items()}"
   ]
  },
  {
   "cell_type": "code",
   "execution_count": 8,
   "id": "6b1e2cc1-ed25-4bf3-9548-7b00bf30f650",
   "metadata": {},
   "outputs": [],
   "source": [
    "summer_tuscon = ['May', 'Jun', 'Jul', 'Aug', 'Sep']\n",
    "summer_nyc = ['Jun', 'Jul', 'Aug']\n",
    "\n",
    "winter_tuscon = ['Dec', 'Jan', 'Feb']\n",
    "winter_nyc = ['Nov', 'Dec', 'Jan', 'Feb', 'Mar']"
   ]
  },
  {
   "cell_type": "markdown",
   "id": "8ef5599b-2da0-4029-b592-63c2286e37f0",
   "metadata": {},
   "source": [
    "### Answer"
   ]
  },
  {
   "cell_type": "code",
   "execution_count": 9,
   "id": "ef3a42cd-9c3f-49d1-97be-4e82a425b404",
   "metadata": {},
   "outputs": [
    {
     "name": "stdout",
     "output_type": "stream",
     "text": [
      "---Average Winter Solar Energy---\n",
      "\tTuscon\t|  13.17 megajoule / meter\n",
      "\tNYC\t|  8.72 megajoule / meter\n"
     ]
    }
   ],
   "source": [
    "print(\"---Average Winter Solar Energy---\")\n",
    "print(\"\\tTuscon\\t| \", round(sum(tuscon[month] for month in winter_tuscon) / len(winter_tuscon), 2))\n",
    "print(\"\\tNYC\\t| \", round(sum(nyc[month] for month in winter_nyc) / len(winter_nyc), 2))"
   ]
  },
  {
   "cell_type": "code",
   "execution_count": 10,
   "id": "b11c276f-8839-4337-ae10-67eacac80029",
   "metadata": {},
   "outputs": [
    {
     "name": "stdout",
     "output_type": "stream",
     "text": [
      "---Average Summer Solar Energy---\n",
      "\tTuscon\t|  25.76 megajoule / meter\n",
      "\tNYC\t|  21.05 megajoule / meter\n"
     ]
    }
   ],
   "source": [
    "print(\"---Average Summer Solar Energy---\")\n",
    "print(\"\\tTuscon\\t| \", round(sum(tuscon[month] for month in summer_tuscon) / len(summer_tuscon), 2))\n",
    "print(\"\\tNYC\\t| \", round(sum(nyc[month] for month in summer_nyc) / len(summer_nyc), 2))"
   ]
  },
  {
   "cell_type": "code",
   "execution_count": 11,
   "id": "7e03a4b9-f1f8-450b-8253-39adadff24ae",
   "metadata": {},
   "outputs": [
    {
     "name": "stdout",
     "output_type": "stream",
     "text": [
      "---Summer vs Winter---\n",
      "\tTuscon\t|  1.96 dimensionless\n",
      "\tNYC\t|  2.41 dimensionless\n"
     ]
    }
   ],
   "source": [
    "print(\"---Summer vs Winter---\")\n",
    "print(\"\\tTuscon\\t| \", round((sum(tuscon[month] for month in summer_tuscon) / len(summer_tuscon)) / (sum(tuscon[month] for month in winter_tuscon) / len(winter_tuscon)), 2))\n",
    "print(\"\\tNYC\\t| \", round((sum(nyc[month] for month in summer_nyc) / len(summer_nyc)) / (sum(nyc[month] for month in winter_nyc) / len(winter_nyc)), 2))"
   ]
  }
 ],
 "metadata": {
  "kernelspec": {
   "display_name": "Python 3 (ipykernel)",
   "language": "python",
   "name": "python3"
  },
  "language_info": {
   "codemirror_mode": {
    "name": "ipython",
    "version": 3
   },
   "file_extension": ".py",
   "mimetype": "text/x-python",
   "name": "python",
   "nbconvert_exporter": "python",
   "pygments_lexer": "ipython3",
   "version": "3.9.7"
  }
 },
 "nbformat": 4,
 "nbformat_minor": 5
}
