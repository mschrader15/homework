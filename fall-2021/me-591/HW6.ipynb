{
 "cells": [
  {
   "cell_type": "markdown",
   "id": "05593b4c-23c3-4c78-8396-2e22c9e0bf8f",
   "metadata": {},
   "source": [
    "# HW5\n",
    "\n",
    "Max Schrader\n",
    "\n",
    "10/01"
   ]
  },
  {
   "cell_type": "code",
   "execution_count": 1,
   "id": "55302497-9035-4aec-bf46-361b8ea7e1b0",
   "metadata": {},
   "outputs": [],
   "source": [
    "from hw_setup import *"
   ]
  },
  {
   "cell_type": "markdown",
   "id": "0ed8fb91-6dfb-4c4e-8b71-8078ebf9373f",
   "metadata": {
    "tags": []
   },
   "source": [
    "## Question 1: 7-25 "
   ]
  },
  {
   "cell_type": "code",
   "execution_count": 2,
   "id": "9ed34d18-354c-4691-ab75-566b84a3fb62",
   "metadata": {},
   "outputs": [],
   "source": [
    "Q_dot_design = 10 * ureg.kW\n",
    "T_in = 23 * ureg.degC\n",
    "N = 97 / 100\n",
    "\n",
    "DD = 6351 * ureg.day * ureg.delta_degF\n",
    "\n",
    "T_w_avg = 3.22 * ureg.degC"
   ]
  },
  {
   "cell_type": "markdown",
   "id": "fa0f3c6b-f828-4ed7-ab45-ca52a3623af4",
   "metadata": {},
   "source": [
    "### Finding K"
   ]
  },
  {
   "cell_type": "code",
   "execution_count": 3,
   "id": "f7b7d60b-6902-4e5a-af45-e182752c502b",
   "metadata": {},
   "outputs": [
    {
     "data": {
      "text/html": [
       "0.5055611729019212 kilowatt/kelvin"
      ],
      "text/latex": [
       "$0.5055611729019212\\ \\frac{\\mathrm{kilowatt}}{\\mathrm{kelvin}}$"
      ],
      "text/plain": [
       "0.5055611729019212 <Unit('kilowatt / kelvin')>"
      ]
     },
     "execution_count": 3,
     "metadata": {},
     "output_type": "execute_result"
    }
   ],
   "source": [
    "K = Q_dot_design / (T_in - T_w_avg).to('degC')\n",
    "K"
   ]
  },
  {
   "cell_type": "markdown",
   "id": "52f407bd-00d0-46d6-ab91-17b4fe75c7cc",
   "metadata": {},
   "source": [
    "### Finding Energy Consumption"
   ]
  },
  {
   "cell_type": "code",
   "execution_count": 4,
   "id": "58d7626b-1473-4060-9158-e657b0fa4ace",
   "metadata": {},
   "outputs": [
    {
     "name": "stdout",
     "output_type": "stream",
     "text": [
      "╔════════════════════════════════════════════════════════════╗\n",
      "║ Annual Geothermal Energy Consumption = 158885.89 megajoule ║\n",
      "╚════════════════════════════════════════════════════════════╝\n"
     ]
    }
   ],
   "source": [
    "E = (K / N * DD).to('MJ')\n",
    "print_msg_box(f\"Annual Geothermal Energy Consumption = {round(E, 2)}\")"
   ]
  },
  {
   "cell_type": "markdown",
   "id": "d2767848-b40e-4897-b03f-c48c91364b05",
   "metadata": {
    "tags": []
   },
   "source": [
    "## Question 2: 7-73"
   ]
  },
  {
   "cell_type": "code",
   "execution_count": 5,
   "id": "abe02513-61a4-4fcd-a019-32a4183e1f4f",
   "metadata": {},
   "outputs": [],
   "source": [
    "m_dot = 230 * ureg.kg / ureg.s\n",
    "\n",
    "T_1 = 230 * ureg.degC\n",
    "x_1 = 0\n",
    "\n",
    "P_2 = 500 * ureg.kPa\n",
    "\n",
    "P_6 = 500 * ureg.kPa\n",
    "x_6 = 0\n",
    "\n",
    "P_3 = 500 * ureg.kPa\n",
    "x_3 = 1\n",
    "\n",
    "P_4 = 10 * ureg.kPa\n",
    "x_4 = 1 - 10 / 100"
   ]
  },
  {
   "cell_type": "markdown",
   "id": "397eb37c-b840-4ccc-85b4-d73d552556ee",
   "metadata": {},
   "source": [
    "### Finding the Properties"
   ]
  },
  {
   "cell_type": "code",
   "execution_count": 6,
   "id": "853ebc87-b5eb-44bf-baea-b32d7c26f033",
   "metadata": {},
   "outputs": [],
   "source": [
    "h_1 = 990.14 * ureg.kJ / ureg.kg\n",
    "\n",
    "h_2 = h_1\n",
    "h_f = 640.09 * ureg.kJ / ureg.kg\n",
    "h_fg = 2108.0 * ureg.kJ / ureg.kg\n",
    "\n",
    "T_2 = 151.83 * ureg.degC\n",
    "\n",
    "h_6 = 640.1 * ureg.kJ / ureg.kg \n",
    "\n",
    "h_3 = 2748.1 * ureg.kJ / ureg.kg\n",
    "s_3 = 6.8207 * ureg.kJ / (ureg.kg * ureg.degK)\n",
    "\n",
    "h_4s = 2160.2 * ureg.kJ / ureg.kg\n",
    "# h_4fg =  *  * ureg.kJ / ureg.kg"
   ]
  },
  {
   "cell_type": "markdown",
   "id": "88fcd838-ef38-47aa-b81a-080fb5b04a38",
   "metadata": {},
   "source": [
    "### The Mass Flow Rate of Steam"
   ]
  },
  {
   "cell_type": "code",
   "execution_count": 7,
   "id": "a989ae6e-f40e-4456-b246-eccaef937c12",
   "metadata": {},
   "outputs": [
    {
     "name": "stdout",
     "output_type": "stream",
     "text": [
      "╔═══════════════════════════════════════════╗\n",
      "║ Mass Flow Steam = 38.19 kilogram / second ║\n",
      "╚═══════════════════════════════════════════╝\n"
     ]
    }
   ],
   "source": [
    "x_2 = (h_2 - h_f) / h_fg\n",
    "m_dot_steam = m_dot * x_2\n",
    "print_msg_box(f\"Mass Flow Steam = {round(m_dot_steam, 2)}\")"
   ]
  },
  {
   "cell_type": "markdown",
   "id": "d4158edb-5a79-47b2-9277-0fb72c019c1f",
   "metadata": {},
   "source": [
    "### The isentropic efficiency of the turbine"
   ]
  },
  {
   "cell_type": "code",
   "execution_count": 8,
   "id": "0e537aed-a839-49fc-932c-d1152fe49a41",
   "metadata": {},
   "outputs": [
    {
     "data": {
      "text/html": [
       "2344.7 kilojoule/kilogram"
      ],
      "text/latex": [
       "$2344.7\\ \\frac{\\mathrm{kilojoule}}{\\mathrm{kilogram}}$"
      ],
      "text/plain": [
       "2344.7 <Unit('kilojoule / kilogram')>"
      ]
     },
     "execution_count": 8,
     "metadata": {},
     "output_type": "execute_result"
    }
   ],
   "source": [
    "h_4 = (191.81 * ureg.kJ / ureg.kg) + x_4 * (2392.1 * ureg.kJ / ureg.kg)\n",
    "h_4"
   ]
  },
  {
   "cell_type": "code",
   "execution_count": 9,
   "id": "4fdaa53a-a46d-42e5-b1c2-9d0b5896d1f2",
   "metadata": {},
   "outputs": [
    {
     "name": "stdout",
     "output_type": "stream",
     "text": [
      "╔═════════════════════════════════════════════╗\n",
      "║ Turbing Isentropic Eff = 0.69 dimensionless ║\n",
      "╚═════════════════════════════════════════════╝\n"
     ]
    }
   ],
   "source": [
    "n_turb = (h_3 - h_4) / (h_3 - h_4s)\n",
    "print_msg_box(f\"Turbing Isentropic Eff = {round(n_turb, 2)}\")"
   ]
  },
  {
   "cell_type": "markdown",
   "id": "420c7dad-d15e-4160-a1bc-014d1a27c411",
   "metadata": {},
   "source": [
    "### Determine the Power Output of the Turbine"
   ]
  },
  {
   "cell_type": "code",
   "execution_count": 10,
   "id": "78866e5f-0590-4562-9be4-2d5cca914201",
   "metadata": {},
   "outputs": [
    {
     "name": "stdout",
     "output_type": "stream",
     "text": [
      "╔══════════════════════════════════════════╗\n",
      "║ Turbine Shaft Power = 15407.182 kilowatt ║\n",
      "╚══════════════════════════════════════════╝\n"
     ]
    }
   ],
   "source": [
    "W = m_dot_steam * (h_3 - h_4) \n",
    "print_msg_box(f\"Turbine Shaft Power = {round(W.to('kW'), 3)}\")"
   ]
  },
  {
   "cell_type": "markdown",
   "id": "24571edf-f493-4084-9fe3-08eebc4f4c3b",
   "metadata": {},
   "source": [
    "### Thermal Efficiency of the Plant"
   ]
  },
  {
   "cell_type": "code",
   "execution_count": 11,
   "id": "b70963fa-d833-400b-9173-310151b5ad89",
   "metadata": {},
   "outputs": [
    {
     "name": "stdout",
     "output_type": "stream",
     "text": [
      "╔═════════════════════════════╗\n",
      "║ Thermal Effeciency = 7.567% ║\n",
      "╚═════════════════════════════╝\n"
     ]
    }
   ],
   "source": [
    "h_0 = 104.83 * ureg.kJ / ureg.kg\n",
    "E_dot_in = m_dot * (h_1 - h_0)\n",
    "print_msg_box(f\"Thermal Effeciency = {round((W / E_dot_in * 100).magnitude, 3)}%\")"
   ]
  }
 ],
 "metadata": {
  "kernelspec": {
   "display_name": "Python 3",
   "language": "python",
   "name": "python3"
  },
  "language_info": {
   "codemirror_mode": {
    "name": "ipython",
    "version": 3
   },
   "file_extension": ".py",
   "mimetype": "text/x-python",
   "name": "python",
   "nbconvert_exporter": "python",
   "pygments_lexer": "ipython3",
   "version": "3.9.5"
  }
 },
 "nbformat": 4,
 "nbformat_minor": 5
}
